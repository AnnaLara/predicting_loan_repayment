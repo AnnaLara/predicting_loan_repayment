{
 "cells": [
  {
   "cell_type": "markdown",
   "metadata": {},
   "source": [
    "<a name=\"TOC\"></a>\n",
    "## Table of contents\n",
    "\n",
    "### <a href=\"#EDA\">1. EDA</a>\n",
    "\n",
    " - <a href=\"#MCC\">Multicollinearity and correlations</a>\n",
    " - <a href=\"#data_dist\">Check data distribuitions</a>\n",
    "\n",
    "### <a href=\"#prep\">2. Preprocessing</a>\n",
    "\n",
    " - <a href=\"#TTS\">Train test split</a>\n",
    " - <a href=\"#OHE\">One-hot-encoding</a>\n",
    " - <a href=\"#scaling\">Scaling</a>\n",
    " - <a href=\"#list_mod\">Craete lists to add models and reports</a>\n",
    " \n",
    "###  <a href=\"#apl_models\">3. Applying different models</a>\n",
    "\n",
    " - <a href=\"#baseline\">Baseline: guessing majority class</a>\n",
    " - <a href=\"#lr_all\">LR on all features</a>\n",
    " - <a href=\"#sm\">Compare with StatsModels</a>\n",
    " - <a href=\"#lr_limited\">LR with the coefficients that have p-values < 0.05</a>\n",
    " - <a href=\"#rf1\">Random Forests</a>\n",
    " - <a href=\"#xgb1\">XGBoost</a>\n",
    " - <a href=\"#gb1\">Gradient Boosting</a>\n",
    " \n",
    "### <a href=\"#c_imb_rej\">4. Correcting class imbalance with rejected dataset</a>\n",
    "\n",
    " - <a href=\"#rf2\">Random Forests</a>\n",
    " - <a href=\"#lr_rej\">LR</a> \n",
    " - <a href=\"#gb2\">Gradient Boosting</a>\n",
    " - <a href=\"#xgb2\">XGBoost</a>\n",
    " \n",
    "### <a href=\"#c_imb_res\">5. Correcting class imbalance through resampling</a>\n",
    "\n",
    " - <a href=\"#rf3\">Random Forests</a>\n",
    " - <a href=\"#gb3\">Gradient Boosting</a>\n",
    " - <a href=\"#xgb3\">XGBoost</a>\n",
    " - <a href=\"#lr_res\">LR</a> \n",
    " \n",
    "### <a href=\"#comparison\">6. Models comparison</a>\n",
    " \n",
    "### <a href=\"#explore\">7. Further exploration of the selected Logistic Regression model (lr4)</a>\n",
    " \n",
    " - <a href=\"#metrics\">Cross-validated log loss and AUC</a>\n",
    " - <a href=\"#thres_val\">Threshold variation</a>\n",
    " - <a href=\"#roc_vis\">ROC-AUC visualization</a>\n",
    " - <a href=\"#coef\">Model coefficients</a>\n",
    "  \n",
    "### <a href=\"#pred\">8. Making predictions with lr4 model</a>\n",
    " \n",
    "### <a href=\"#check_calib\">9. Checking lr4 model's calibation</a>\n",
    " - <a href=\"#calib\">Check model's calibration of training and testing set</a>\n",
    " - <a href=\"#cv_calib\">Cross-validate calibration</a>\n",
    " - <a href=\"#plot_calib\">Plot cross-validated calibration</a>"
   ]
  },
  {
   "cell_type": "code",
   "execution_count": 141,
   "metadata": {},
   "outputs": [
    {
     "name": "stdout",
     "output_type": "stream",
     "text": [
      "The autoreload extension is already loaded. To reload it, use:\n",
      "  %reload_ext autoreload\n"
     ]
    }
   ],
   "source": [
    "import pandas as pd\n",
    "import matplotlib.pyplot as plt\n",
    "from pandas.plotting import scatter_matrix\n",
    "import numpy as np\n",
    "from sklearn.model_selection import train_test_split\n",
    "from sklearn.metrics import classification_report\n",
    "from sklearn.model_selection import cross_val_score, KFold\n",
    "from sklearn.metrics import confusion_matrix\n",
    "from sklearn.svm import SVC\n",
    "from sklearn.tree import DecisionTreeClassifier\n",
    "from sklearn.pipeline import make_pipeline, FeatureUnion, Pipeline\n",
    "from sklearn.preprocessing import OneHotEncoder, Imputer, StandardScaler\n",
    "import random\n",
    "import seaborn as sns\n",
    "from sklearn_pandas.pipeline import Pipeline\n",
    "from sklearn_pandas import DataFrameMapper\n",
    "from sklearn.preprocessing import FunctionTransformer\n",
    "from sklearn.linear_model import LogisticRegression\n",
    "import statsmodels.api as sm\n",
    "from functions import (ohe, logireg, gb, xgb, rf, predict_probability_and_class, check_calibration,\n",
    "                       keep_states_drop, preprocess, scale_columns, parse_reports, get_df_coef,\n",
    "                      cv_calibration, guess_maj_class_cv_auc)\n",
    "from sklearn.metrics import (roc_curve, auc, precision_recall_curve, make_scorer, \n",
    "recall_score, accuracy_score, precision_score, confusion_matrix)\n",
    "\n",
    "from sklearn.ensemble import GradientBoostingClassifier, RandomForestClassifier\n",
    "from xgboost import XGBClassifier\n",
    "from sklearn.utils import resample\n",
    "import pickle\n",
    "import scikitplot as skplt\n",
    "from plr.predict import predict_p\n",
    "\n",
    "%matplotlib inline\n",
    "%load_ext autoreload\n",
    "%autoreload 2"
   ]
  },
  {
   "cell_type": "code",
   "execution_count": 142,
   "metadata": {},
   "outputs": [],
   "source": [
    "#had to install xgboost\n",
    "#!pip install xgboost"
   ]
  },
  {
   "cell_type": "markdown",
   "metadata": {},
   "source": [
    "### Load data"
   ]
  },
  {
   "cell_type": "code",
   "execution_count": 143,
   "metadata": {},
   "outputs": [],
   "source": [
    "df_approved = pd.read_csv('data/approved_loan_data.csv', index_col=False)\n",
    "df_rejected = pd.read_csv('data/rejected_loan_data.csv', index_col=False)"
   ]
  },
  {
   "cell_type": "markdown",
   "metadata": {},
   "source": [
    "<div style=\"float:left\"><a href=\"#TOC\">Table of contents</a></div>\n",
    "<a name=\"EDA\"></a>\n",
    "\n",
    "# 1. EDA"
   ]
  },
  {
   "cell_type": "code",
   "execution_count": 144,
   "metadata": {},
   "outputs": [
    {
     "data": {
      "text/plain": [
       "4145"
      ]
     },
     "execution_count": 144,
     "metadata": {},
     "output_type": "execute_result"
    }
   ],
   "source": [
    "len(df_approved)"
   ]
  },
  {
   "cell_type": "code",
   "execution_count": 145,
   "metadata": {},
   "outputs": [
    {
     "data": {
      "text/plain": [
       "2927"
      ]
     },
     "execution_count": 145,
     "metadata": {},
     "output_type": "execute_result"
    }
   ],
   "source": [
    "len(df_rejected)"
   ]
  },
  {
   "cell_type": "code",
   "execution_count": 146,
   "metadata": {
    "scrolled": true
   },
   "outputs": [
    {
     "data": {
      "text/plain": [
       "1    3317\n",
       "0     828\n",
       "Name: status, dtype: int64"
      ]
     },
     "execution_count": 146,
     "metadata": {},
     "output_type": "execute_result"
    }
   ],
   "source": [
    "#How many loans were returned?\n",
    "\n",
    "df_approved['status'].value_counts()"
   ]
  },
  {
   "cell_type": "markdown",
   "metadata": {},
   "source": [
    "### 75% of application from the approved set were paid pack"
   ]
  },
  {
   "cell_type": "code",
   "execution_count": 147,
   "metadata": {
    "scrolled": true
   },
   "outputs": [
    {
     "data": {
      "text/plain": [
       "array([ True,  True,  True,  True,  True,  True,  True,  True,  True,\n",
       "        True,  True,  True,  True,  True,  True,  True,  True,  True,\n",
       "        True,  True,  True,  True,  True,  True,  True,  True,  True,\n",
       "        True,  True,  True,  True,  True,  True,  True,  True,  True,\n",
       "        True,  True])"
      ]
     },
     "execution_count": 147,
     "metadata": {},
     "output_type": "execute_result"
    }
   ],
   "source": [
    "#Are the 2 dataframes's columns similar?\n",
    "\n",
    "df_rejected.columns == df_approved.columns"
   ]
  },
  {
   "cell_type": "code",
   "execution_count": 148,
   "metadata": {},
   "outputs": [
    {
     "data": {
      "text/plain": [
       "Index(['Unnamed: 0', 'monthly_income', 'gig_economy_weekly_income',\n",
       "       'atm_check_deposits_weekly_income', 'direct_deposit_weekly_income',\n",
       "       'government_aid_weekly_income', 'frequency_heuristic_weekly_income',\n",
       "       'large_deposits_weekly_income', 'income_length', 'payrolls_per_month',\n",
       "       'income_sources', 'days_since_most_recent_payroll',\n",
       "       'days_until_next_payroll', 'bank_balance', 'overdraft_transactions',\n",
       "       'nsf_transactions', 'return_transactions', 'reverse_transactions',\n",
       "       'length_of_transaction_history', 'mortgage', 'auto_loan',\n",
       "       'student_loan', 'traditional_single_payment', 'installment_loan',\n",
       "       'predatory_installment_loan', 'title_loan', 'pay_advances',\n",
       "       'total_loan_payments', 'no_of_other_active_loans',\n",
       "       'traditional_single_payment_mean', 'traditional_single_payment_trend',\n",
       "       'loan_amount', 'loan_requested', 'loan_borrowed_inc',\n",
       "       'loan_outstanding_inc', 'state', 'loan_id', 'status'],\n",
       "      dtype='object')"
      ]
     },
     "execution_count": 148,
     "metadata": {},
     "output_type": "execute_result"
    }
   ],
   "source": [
    "#What are the columns in the dataframes?\n",
    "df_approved.columns"
   ]
  },
  {
   "cell_type": "code",
   "execution_count": 149,
   "metadata": {},
   "outputs": [
    {
     "data": {
      "text/plain": [
       "(4145, 38)"
      ]
     },
     "execution_count": 149,
     "metadata": {},
     "output_type": "execute_result"
    }
   ],
   "source": [
    "df_approved.shape"
   ]
  },
  {
   "cell_type": "code",
   "execution_count": 150,
   "metadata": {
    "scrolled": true
   },
   "outputs": [
    {
     "name": "stdout",
     "output_type": "stream",
     "text": [
      "<class 'pandas.core.frame.DataFrame'>\n",
      "RangeIndex: 4145 entries, 0 to 4144\n",
      "Data columns (total 38 columns):\n",
      "Unnamed: 0                           4145 non-null int64\n",
      "monthly_income                       4145 non-null float64\n",
      "gig_economy_weekly_income            4145 non-null float64\n",
      "atm_check_deposits_weekly_income     4145 non-null float64\n",
      "direct_deposit_weekly_income         4145 non-null float64\n",
      "government_aid_weekly_income         4145 non-null float64\n",
      "frequency_heuristic_weekly_income    4145 non-null float64\n",
      "large_deposits_weekly_income         4145 non-null float64\n",
      "income_length                        4145 non-null int64\n",
      "payrolls_per_month                   4145 non-null float64\n",
      "income_sources                       4145 non-null int64\n",
      "days_since_most_recent_payroll       4145 non-null int64\n",
      "days_until_next_payroll              4145 non-null int64\n",
      "bank_balance                         4145 non-null float64\n",
      "overdraft_transactions               4145 non-null int64\n",
      "nsf_transactions                     4145 non-null int64\n",
      "return_transactions                  4145 non-null int64\n",
      "reverse_transactions                 4145 non-null int64\n",
      "length_of_transaction_history        4145 non-null int64\n",
      "mortgage                             4145 non-null float64\n",
      "auto_loan                            4145 non-null float64\n",
      "student_loan                         4145 non-null float64\n",
      "traditional_single_payment           4145 non-null float64\n",
      "installment_loan                     4145 non-null float64\n",
      "predatory_installment_loan           4145 non-null float64\n",
      "title_loan                           4145 non-null float64\n",
      "pay_advances                         4145 non-null float64\n",
      "total_loan_payments                  4145 non-null float64\n",
      "no_of_other_active_loans             4145 non-null int64\n",
      "traditional_single_payment_mean      4145 non-null float64\n",
      "traditional_single_payment_trend     4145 non-null float64\n",
      "loan_amount                          4145 non-null float64\n",
      "loan_requested                       4145 non-null float64\n",
      "loan_borrowed_inc                    4145 non-null float64\n",
      "loan_outstanding_inc                 4145 non-null float64\n",
      "state                                4145 non-null object\n",
      "loan_id                              4145 non-null object\n",
      "status                               4145 non-null int64\n",
      "dtypes: float64(24), int64(12), object(2)\n",
      "memory usage: 1.2+ MB\n"
     ]
    }
   ],
   "source": [
    "df_approved.info()"
   ]
  },
  {
   "cell_type": "markdown",
   "metadata": {},
   "source": [
    "There are no null values and all essential data is numeric, which helps a lot with the analysis process."
   ]
  },
  {
   "cell_type": "code",
   "execution_count": 151,
   "metadata": {},
   "outputs": [
    {
     "name": "stdout",
     "output_type": "stream",
     "text": [
      "<class 'pandas.core.frame.DataFrame'>\n",
      "RangeIndex: 2927 entries, 0 to 2926\n",
      "Data columns (total 38 columns):\n",
      "Unnamed: 0                           2927 non-null int64\n",
      "monthly_income                       2927 non-null float64\n",
      "gig_economy_weekly_income            2927 non-null float64\n",
      "atm_check_deposits_weekly_income     2927 non-null float64\n",
      "direct_deposit_weekly_income         2927 non-null float64\n",
      "government_aid_weekly_income         2927 non-null float64\n",
      "frequency_heuristic_weekly_income    2927 non-null float64\n",
      "large_deposits_weekly_income         2927 non-null float64\n",
      "income_length                        2927 non-null int64\n",
      "payrolls_per_month                   2927 non-null float64\n",
      "income_sources                       2927 non-null int64\n",
      "days_since_most_recent_payroll       2927 non-null int64\n",
      "days_until_next_payroll              2927 non-null int64\n",
      "bank_balance                         2927 non-null float64\n",
      "overdraft_transactions               2927 non-null int64\n",
      "nsf_transactions                     2927 non-null int64\n",
      "return_transactions                  2927 non-null int64\n",
      "reverse_transactions                 2927 non-null int64\n",
      "length_of_transaction_history        2927 non-null int64\n",
      "mortgage                             2927 non-null float64\n",
      "auto_loan                            2927 non-null float64\n",
      "student_loan                         2927 non-null float64\n",
      "traditional_single_payment           2927 non-null float64\n",
      "installment_loan                     2927 non-null float64\n",
      "predatory_installment_loan           2927 non-null float64\n",
      "title_loan                           2927 non-null float64\n",
      "pay_advances                         2927 non-null float64\n",
      "total_loan_payments                  2927 non-null float64\n",
      "no_of_other_active_loans             2927 non-null int64\n",
      "traditional_single_payment_mean      2927 non-null float64\n",
      "traditional_single_payment_trend     2927 non-null float64\n",
      "loan_amount                          2927 non-null float64\n",
      "loan_requested                       2927 non-null float64\n",
      "loan_borrowed_inc                    2927 non-null float64\n",
      "loan_outstanding_inc                 2927 non-null float64\n",
      "state                                2835 non-null object\n",
      "loan_id                              2927 non-null object\n",
      "status                               2927 non-null int64\n",
      "dtypes: float64(24), int64(12), object(2)\n",
      "memory usage: 869.0+ KB\n"
     ]
    }
   ],
   "source": [
    "df_rejected.info()"
   ]
  },
  {
   "cell_type": "markdown",
   "metadata": {},
   "source": [
    "There are null values only in 'state' column. Essential data is numeric"
   ]
  },
  {
   "cell_type": "markdown",
   "metadata": {},
   "source": [
    "I decided to drop states that do not apperar in approved datasets and rejected dataset together. The idea is to be able to test the rejected dataset on the model created with approved application. I will also drop rows in rejected application where state is not specified."
   ]
  },
  {
   "cell_type": "markdown",
   "metadata": {},
   "source": [
    "<div style=\"float:left\"><a href=\"#TOC\">Table of contents</a></div>\n",
    "<a name=\"MCC\"></a>\n",
    "\n",
    "### Multicollinearity and correlations"
   ]
  },
  {
   "cell_type": "code",
   "execution_count": 152,
   "metadata": {},
   "outputs": [
    {
     "data": {
      "image/png": "[encoded data removed]",
      "text/plain": [
       "<Figure size 1152x1152 with 2 Axes>"
      ]
     },
     "metadata": {},
     "output_type": "display_data"
    }
   ],
   "source": [
    "sns.set(rc={'figure.figsize':(16,16)})\n",
    "sns.heatmap(df_approved.corr(), center=0);"
   ]
  },
  {
   "cell_type": "markdown",
   "metadata": {},
   "source": [
    "It is clear that there is some data that reflects event after granting the loan ('loan_amount', 'loan_borrowed', etc.).\n",
    "\n",
    "There is also hight correlations between length of income and length of transaction history, which asre clearly connected."
   ]
  },
  {
   "cell_type": "code",
   "execution_count": 153,
   "metadata": {},
   "outputs": [
    {
     "data": {
      "text/plain": [
       "6"
      ]
     },
     "execution_count": 153,
     "metadata": {},
     "output_type": "execute_result"
    }
   ],
   "source": [
    "#search where correlation is greater than 0.7\n",
    "correlations = df_approved.corr().applymap(lambda x: 'yes' if (abs(x) > 0.7) else x)\n",
    "dfs = []\n",
    "for name in correlations.columns:\n",
    "    if len(correlations.loc[correlations[name]=='yes']) > 1:\n",
    "        dfs.append(correlations.loc[correlations[name]=='yes'])\n",
    "len(dfs)  #6      \n",
    "# I checked all dfs to see where are the correlations\n",
    "# dfs[5].T"
   ]
  },
  {
   "cell_type": "markdown",
   "metadata": {},
   "source": [
    "Apart from obvious correlation between features that describe loan after it was granted, the high correlation between `income_length` and `length_of_transaction_history` was confirmed."
   ]
  },
  {
   "cell_type": "markdown",
   "metadata": {},
   "source": [
    "<div style=\"float:left\"><a href=\"#TOC\">Table of contents</a></div>\n",
    "<a name=\"data_dist\"></a>\n",
    "\n",
    "### Check data distributions"
   ]
  },
  {
   "cell_type": "code",
   "execution_count": 154,
   "metadata": {},
   "outputs": [],
   "source": [
    "#Cannot print out the result for the reasons of confidentiality\n",
    "\n",
    "#df_approved.hist();"
   ]
  },
  {
   "cell_type": "markdown",
   "metadata": {},
   "source": [
    "Distribution is a bit confusing because of the scale of many variables. Some seem to have only 0 values, but it is not the case, as small values are not seen in the histograms."
   ]
  },
  {
   "cell_type": "markdown",
   "metadata": {},
   "source": [
    "<div style=\"float:left\"><a href=\"#TOC\">Table of contents</a></div>\n",
    "<a name=\"prep\"></a>\n",
    "\n",
    "# 2. Preprocessing\n",
    "\n",
    "1. Drop `Unnamed: 0`, `loan_id` columns\n",
    "2. Drop columns asocciated with granting the loan: `loan_amount`, `loan_borrowed_inc`, `loan_outstanding_inc`\n",
    "3. Drop `length_of_transaction_history` because of correlation with `income_length`\n",
    "2. Leave only states: 'LA', 'NH', 'NJ', 'ND'"
   ]
  },
  {
   "cell_type": "code",
   "execution_count": 155,
   "metadata": {},
   "outputs": [],
   "source": [
    "df_approved = preprocess(df_approved)\n",
    "df_rejected = preprocess(df_rejected)"
   ]
  },
  {
   "cell_type": "markdown",
   "metadata": {},
   "source": [
    "<div style=\"float:left\"><a href=\"#TOC\">Table of contents</a></div>\n",
    "<a name=\"TTS\"></a>\n",
    "\n",
    "### Train test split\n",
    "I will work mainly with approved loans dataset"
   ]
  },
  {
   "cell_type": "code",
   "execution_count": 156,
   "metadata": {},
   "outputs": [],
   "source": [
    "random.seed(113)\n",
    "y = df_approved['status']\n",
    "X = df_approved.drop(['status'], axis=1)\n",
    "\n",
    "#to maintain time order of the appointment date, shuffle is set to False\n",
    "X_train, X_test, y_train, y_test = train_test_split(X, y, test_size=0.2, random_state=113)"
   ]
  },
  {
   "cell_type": "markdown",
   "metadata": {},
   "source": [
    "<div style=\"float:left\"><a href=\"#TOC\">Table of contents</a></div>\n",
    "<a name=\"OHE\"></a>\n",
    "\n",
    "### One-hot-encoding"
   ]
  },
  {
   "cell_type": "code",
   "execution_count": 157,
   "metadata": {},
   "outputs": [],
   "source": [
    "X_train = ohe(X_train, 'state')"
   ]
  },
  {
   "cell_type": "code",
   "execution_count": 158,
   "metadata": {},
   "outputs": [],
   "source": [
    "X_test = ohe(X_test, 'state')"
   ]
  },
  {
   "cell_type": "code",
   "execution_count": null,
   "metadata": {},
   "outputs": [],
   "source": [
    "#reset indexes of y-values too (Xs were reset during ohe)\n",
    "y_train = y_train.reset_index(drop=True)\n",
    "y_test = y_test.reset_index(drop=True)"
   ]
  },
  {
   "cell_type": "code",
   "execution_count": null,
   "metadata": {},
   "outputs": [],
   "source": [
    "#rejected dataset one-hot-encoding\n",
    "df_rejected = ohe(df_rejected, 'state')"
   ]
  },
  {
   "cell_type": "markdown",
   "metadata": {},
   "source": [
    "<div style=\"float:left\"><a href=\"#TOC\">Table of contents</a></div>\n",
    "<a name=\"scaling\"></a>\n",
    "\n",
    "### Scaling"
   ]
  },
  {
   "cell_type": "markdown",
   "metadata": {},
   "source": [
    "Without scaling I could not get consistent coefficient among Logistic Regression model from Sklearn and StatsModels."
   ]
  },
  {
   "cell_type": "code",
   "execution_count": null,
   "metadata": {},
   "outputs": [],
   "source": [
    "#scale X_train\n",
    "X_train_scaled, ss = scale_columns(X_train)"
   ]
  },
  {
   "cell_type": "code",
   "execution_count": null,
   "metadata": {},
   "outputs": [],
   "source": [
    "#scale X_test\n",
    "X_test_scaled, ss = scale_columns(X_test, ss)"
   ]
  },
  {
   "cell_type": "markdown",
   "metadata": {},
   "source": [
    "<div style=\"float:left\"><a href=\"#TOC\">Table of contents</a></div>\n",
    "<a name=\"list_mod\"></a>\n",
    "\n",
    "### Create lists to add models and reports"
   ]
  },
  {
   "cell_type": "code",
   "execution_count": null,
   "metadata": {},
   "outputs": [],
   "source": [
    "models = []\n",
    "reports = []"
   ]
  },
  {
   "cell_type": "markdown",
   "metadata": {},
   "source": [
    "<div style=\"float:left\"><a href=\"#TOC\">Table of contents</a></div>\n",
    "<a name=\"apl_models\"></a>\n",
    "\n",
    "# 3. Trying different models"
   ]
  },
  {
   "cell_type": "markdown",
   "metadata": {},
   "source": [
    "<div style=\"float:left\"><a href=\"#TOC\">Table of contents</a></div>\n",
    "<a name=\"baseline\"></a>\n",
    "\n",
    "### Baseline: guessing majority class"
   ]
  },
  {
   "cell_type": "code",
   "execution_count": null,
   "metadata": {},
   "outputs": [
    {
     "data": {
      "text/plain": [
       "0.5"
      ]
     },
     "execution_count": 164,
     "metadata": {},
     "output_type": "execute_result"
    }
   ],
   "source": [
    "guess_maj_class_cv_auc(X_train, X_test, y_train, y_test)"
   ]
  },
  {
   "cell_type": "markdown",
   "metadata": {},
   "source": [
    "**Baseline AUC is 0.5**"
   ]
  },
  {
   "cell_type": "markdown",
   "metadata": {},
   "source": [
    "<div style=\"float:left\"><a href=\"#TOC\">Table of contents</a></div>\n",
    "<a name=\"lr_all\"></a>\n",
    "\n",
    "### Logistic Regression on all the features"
   ]
  },
  {
   "cell_type": "code",
   "execution_count": null,
   "metadata": {},
   "outputs": [
    {
     "name": "stdout",
     "output_type": "stream",
     "text": [
      "Report:\n",
      "              precision    recall  f1-score   support\n",
      "\n",
      "           0       0.35      0.03      0.06       185\n",
      "           1       0.78      0.98      0.87       644\n",
      "\n",
      "    accuracy                           0.77       829\n",
      "   macro avg       0.57      0.51      0.46       829\n",
      "weighted avg       0.68      0.77      0.69       829\n",
      " CV AUC score: 0.6259460768908444\n",
      "\n",
      "Each Cross Validated AUC: \n",
      " [0.66771423 0.65221035 0.72470145 0.56610098 0.51900338]\n",
      "\n",
      "Overall Classifier AUC: 0.63 (+/- 0.15)\n",
      "\n"
     ]
    }
   ],
   "source": [
    "lr1, report_lr1 = logireg(X_train_scaled, X_test_scaled, y_train, y_test)"
   ]
  },
  {
   "cell_type": "code",
   "execution_count": null,
   "metadata": {},
   "outputs": [],
   "source": [
    "models.append(lr1)\n",
    "reports.append(report_lr1)"
   ]
  },
  {
   "cell_type": "code",
   "execution_count": null,
   "metadata": {},
   "outputs": [
    {
     "data": {
      "text/html": [
       "<div>\n",
       "<style scoped>\n",
       "    .dataframe tbody tr th:only-of-type {\n",
       "        vertical-align: middle;\n",
       "    }\n",
       "\n",
       "    .dataframe tbody tr th {\n",
       "        vertical-align: top;\n",
       "    }\n",
       "\n",
       "    .dataframe thead th {\n",
       "        text-align: right;\n",
       "    }\n",
       "</style>\n",
       "<table border=\"1\" class=\"dataframe\">\n",
       "  <thead>\n",
       "    <tr style=\"text-align: right;\">\n",
       "      <th></th>\n",
       "      <th>name</th>\n",
       "      <th>coef</th>\n",
       "      <th>abs_coef</th>\n",
       "    </tr>\n",
       "  </thead>\n",
       "  <tbody>\n",
       "    <tr>\n",
       "      <th>7</th>\n",
       "      <td>income_length</td>\n",
       "      <td>0.001363</td>\n",
       "      <td>0.001363</td>\n",
       "    </tr>\n",
       "    <tr>\n",
       "      <th>14</th>\n",
       "      <td>nsf_transactions</td>\n",
       "      <td>-0.013254</td>\n",
       "      <td>0.013254</td>\n",
       "    </tr>\n",
       "    <tr>\n",
       "      <th>23</th>\n",
       "      <td>title_loan</td>\n",
       "      <td>0.014259</td>\n",
       "      <td>0.014259</td>\n",
       "    </tr>\n",
       "    <tr>\n",
       "      <th>11</th>\n",
       "      <td>days_until_next_payroll</td>\n",
       "      <td>0.019962</td>\n",
       "      <td>0.019962</td>\n",
       "    </tr>\n",
       "    <tr>\n",
       "      <th>13</th>\n",
       "      <td>overdraft_transactions</td>\n",
       "      <td>0.021096</td>\n",
       "      <td>0.021096</td>\n",
       "    </tr>\n",
       "    <tr>\n",
       "      <th>16</th>\n",
       "      <td>reverse_transactions</td>\n",
       "      <td>-0.026444</td>\n",
       "      <td>0.026444</td>\n",
       "    </tr>\n",
       "    <tr>\n",
       "      <th>6</th>\n",
       "      <td>large_deposits_weekly_income</td>\n",
       "      <td>-0.029675</td>\n",
       "      <td>0.029675</td>\n",
       "    </tr>\n",
       "    <tr>\n",
       "      <th>2</th>\n",
       "      <td>atm_check_deposits_weekly_income</td>\n",
       "      <td>0.032135</td>\n",
       "      <td>0.032135</td>\n",
       "    </tr>\n",
       "    <tr>\n",
       "      <th>10</th>\n",
       "      <td>days_since_most_recent_payroll</td>\n",
       "      <td>0.034317</td>\n",
       "      <td>0.034317</td>\n",
       "    </tr>\n",
       "    <tr>\n",
       "      <th>25</th>\n",
       "      <td>total_loan_payments</td>\n",
       "      <td>-0.051594</td>\n",
       "      <td>0.051594</td>\n",
       "    </tr>\n",
       "    <tr>\n",
       "      <th>5</th>\n",
       "      <td>frequency_heuristic_weekly_income</td>\n",
       "      <td>0.078933</td>\n",
       "      <td>0.078933</td>\n",
       "    </tr>\n",
       "    <tr>\n",
       "      <th>28</th>\n",
       "      <td>traditional_single_payment_trend</td>\n",
       "      <td>0.080259</td>\n",
       "      <td>0.080259</td>\n",
       "    </tr>\n",
       "    <tr>\n",
       "      <th>4</th>\n",
       "      <td>government_aid_weekly_income</td>\n",
       "      <td>0.083739</td>\n",
       "      <td>0.083739</td>\n",
       "    </tr>\n",
       "    <tr>\n",
       "      <th>15</th>\n",
       "      <td>return_transactions</td>\n",
       "      <td>-0.091889</td>\n",
       "      <td>0.091889</td>\n",
       "    </tr>\n",
       "    <tr>\n",
       "      <th>1</th>\n",
       "      <td>gig_economy_weekly_income</td>\n",
       "      <td>0.092410</td>\n",
       "      <td>0.092410</td>\n",
       "    </tr>\n",
       "    <tr>\n",
       "      <th>20</th>\n",
       "      <td>traditional_single_payment</td>\n",
       "      <td>-0.098740</td>\n",
       "      <td>0.098740</td>\n",
       "    </tr>\n",
       "    <tr>\n",
       "      <th>22</th>\n",
       "      <td>predatory_installment_loan</td>\n",
       "      <td>-0.099066</td>\n",
       "      <td>0.099066</td>\n",
       "    </tr>\n",
       "    <tr>\n",
       "      <th>9</th>\n",
       "      <td>income_sources</td>\n",
       "      <td>0.113048</td>\n",
       "      <td>0.113048</td>\n",
       "    </tr>\n",
       "    <tr>\n",
       "      <th>8</th>\n",
       "      <td>payrolls_per_month</td>\n",
       "      <td>-0.114294</td>\n",
       "      <td>0.114294</td>\n",
       "    </tr>\n",
       "    <tr>\n",
       "      <th>17</th>\n",
       "      <td>mortgage</td>\n",
       "      <td>0.116607</td>\n",
       "      <td>0.116607</td>\n",
       "    </tr>\n",
       "    <tr>\n",
       "      <th>21</th>\n",
       "      <td>installment_loan</td>\n",
       "      <td>0.125485</td>\n",
       "      <td>0.125485</td>\n",
       "    </tr>\n",
       "    <tr>\n",
       "      <th>24</th>\n",
       "      <td>pay_advances</td>\n",
       "      <td>0.126716</td>\n",
       "      <td>0.126716</td>\n",
       "    </tr>\n",
       "    <tr>\n",
       "      <th>3</th>\n",
       "      <td>direct_deposit_weekly_income</td>\n",
       "      <td>0.130282</td>\n",
       "      <td>0.130282</td>\n",
       "    </tr>\n",
       "    <tr>\n",
       "      <th>18</th>\n",
       "      <td>auto_loan</td>\n",
       "      <td>0.143857</td>\n",
       "      <td>0.143857</td>\n",
       "    </tr>\n",
       "    <tr>\n",
       "      <th>0</th>\n",
       "      <td>monthly_income</td>\n",
       "      <td>0.152614</td>\n",
       "      <td>0.152614</td>\n",
       "    </tr>\n",
       "    <tr>\n",
       "      <th>26</th>\n",
       "      <td>no_of_other_active_loans</td>\n",
       "      <td>-0.206637</td>\n",
       "      <td>0.206637</td>\n",
       "    </tr>\n",
       "    <tr>\n",
       "      <th>29</th>\n",
       "      <td>loan_requested</td>\n",
       "      <td>-0.214358</td>\n",
       "      <td>0.214358</td>\n",
       "    </tr>\n",
       "    <tr>\n",
       "      <th>27</th>\n",
       "      <td>traditional_single_payment_mean</td>\n",
       "      <td>0.238775</td>\n",
       "      <td>0.238775</td>\n",
       "    </tr>\n",
       "    <tr>\n",
       "      <th>19</th>\n",
       "      <td>student_loan</td>\n",
       "      <td>0.312063</td>\n",
       "      <td>0.312063</td>\n",
       "    </tr>\n",
       "    <tr>\n",
       "      <th>32</th>\n",
       "      <td>state_\"NJ\"</td>\n",
       "      <td>1.086293</td>\n",
       "      <td>1.086293</td>\n",
       "    </tr>\n",
       "    <tr>\n",
       "      <th>12</th>\n",
       "      <td>bank_balance</td>\n",
       "      <td>1.380815</td>\n",
       "      <td>1.380815</td>\n",
       "    </tr>\n",
       "    <tr>\n",
       "      <th>31</th>\n",
       "      <td>state_\"NH\"</td>\n",
       "      <td>1.481285</td>\n",
       "      <td>1.481285</td>\n",
       "    </tr>\n",
       "    <tr>\n",
       "      <th>30</th>\n",
       "      <td>state_\"LA\"</td>\n",
       "      <td>1.826542</td>\n",
       "      <td>1.826542</td>\n",
       "    </tr>\n",
       "  </tbody>\n",
       "</table>\n",
       "</div>"
      ],
      "text/plain": [
       "                                 name      coef  abs_coef\n",
       "7                       income_length  0.001363  0.001363\n",
       "14                   nsf_transactions -0.013254  0.013254\n",
       "23                         title_loan  0.014259  0.014259\n",
       "11            days_until_next_payroll  0.019962  0.019962\n",
       "13             overdraft_transactions  0.021096  0.021096\n",
       "16               reverse_transactions -0.026444  0.026444\n",
       "6        large_deposits_weekly_income -0.029675  0.029675\n",
       "2    atm_check_deposits_weekly_income  0.032135  0.032135\n",
       "10     days_since_most_recent_payroll  0.034317  0.034317\n",
       "25                total_loan_payments -0.051594  0.051594\n",
       "5   frequency_heuristic_weekly_income  0.078933  0.078933\n",
       "28   traditional_single_payment_trend  0.080259  0.080259\n",
       "4        government_aid_weekly_income  0.083739  0.083739\n",
       "15                return_transactions -0.091889  0.091889\n",
       "1           gig_economy_weekly_income  0.092410  0.092410\n",
       "20         traditional_single_payment -0.098740  0.098740\n",
       "22         predatory_installment_loan -0.099066  0.099066\n",
       "9                      income_sources  0.113048  0.113048\n",
       "8                  payrolls_per_month -0.114294  0.114294\n",
       "17                           mortgage  0.116607  0.116607\n",
       "21                   installment_loan  0.125485  0.125485\n",
       "24                       pay_advances  0.126716  0.126716\n",
       "3        direct_deposit_weekly_income  0.130282  0.130282\n",
       "18                          auto_loan  0.143857  0.143857\n",
       "0                      monthly_income  0.152614  0.152614\n",
       "26           no_of_other_active_loans -0.206637  0.206637\n",
       "29                     loan_requested -0.214358  0.214358\n",
       "27    traditional_single_payment_mean  0.238775  0.238775\n",
       "19                       student_loan  0.312063  0.312063\n",
       "32                         state_\"NJ\"  1.086293  1.086293\n",
       "12                       bank_balance  1.380815  1.380815\n",
       "31                         state_\"NH\"  1.481285  1.481285\n",
       "30                         state_\"LA\"  1.826542  1.826542"
      ]
     },
     "execution_count": 167,
     "metadata": {},
     "output_type": "execute_result"
    }
   ],
   "source": [
    "#extract coefficients\n",
    "features = get_df_coef(lr1, X_test)\n",
    "features"
   ]
  },
  {
   "cell_type": "markdown",
   "metadata": {},
   "source": [
    "<div style=\"float:left\"><a href=\"#TOC\">Table of contents</a></div>\n",
    "<a name=\"sm\"></a>\n",
    "\n",
    "### Compare with StatsModels model"
   ]
  },
  {
   "cell_type": "code",
   "execution_count": null,
   "metadata": {},
   "outputs": [
    {
     "name": "stdout",
     "output_type": "stream",
     "text": [
      "<class 'pandas.core.frame.DataFrame'>\n",
      "RangeIndex: 3313 entries, 0 to 3312\n",
      "Data columns (total 33 columns):\n",
      "monthly_income                       3313 non-null float64\n",
      "gig_economy_weekly_income            3313 non-null float64\n",
      "atm_check_deposits_weekly_income     3313 non-null float64\n",
      "direct_deposit_weekly_income         3313 non-null float64\n",
      "government_aid_weekly_income         3313 non-null float64\n",
      "frequency_heuristic_weekly_income    3313 non-null float64\n",
      "large_deposits_weekly_income         3313 non-null float64\n",
      "income_length                        3313 non-null float64\n",
      "payrolls_per_month                   3313 non-null float64\n",
      "income_sources                       3313 non-null float64\n",
      "days_since_most_recent_payroll       3313 non-null float64\n",
      "days_until_next_payroll              3313 non-null float64\n",
      "bank_balance                         3313 non-null float64\n",
      "overdraft_transactions               3313 non-null float64\n",
      "nsf_transactions                     3313 non-null float64\n",
      "return_transactions                  3313 non-null float64\n",
      "reverse_transactions                 3313 non-null float64\n",
      "mortgage                             3313 non-null float64\n",
      "auto_loan                            3313 non-null float64\n",
      "student_loan                         3313 non-null float64\n",
      "traditional_single_payment           3313 non-null float64\n",
      "installment_loan                     3313 non-null float64\n",
      "predatory_installment_loan           3313 non-null float64\n",
      "title_loan                           3313 non-null float64\n",
      "pay_advances                         3313 non-null float64\n",
      "total_loan_payments                  3313 non-null float64\n",
      "no_of_other_active_loans             3313 non-null float64\n",
      "traditional_single_payment_mean      3313 non-null float64\n",
      "traditional_single_payment_trend     3313 non-null float64\n",
      "loan_requested                       3313 non-null float64\n",
      "state_\"LA\"                           3313 non-null float64\n",
      "state_\"NH\"                           3313 non-null float64\n",
      "state_\"NJ\"                           3313 non-null float64\n",
      "dtypes: float64(33)\n",
      "memory usage: 854.2 KB\n"
     ]
    }
   ],
   "source": [
    "X_train_scaled.info()\n"
   ]
  },
  {
   "cell_type": "code",
   "execution_count": null,
   "metadata": {},
   "outputs": [
    {
     "name": "stdout",
     "output_type": "stream",
     "text": [
      "Optimization terminated successfully.\n",
      "         Current function value: 0.464878\n",
      "         Iterations 8\n",
      "                           Logit Regression Results                           \n",
      "==============================================================================\n",
      "Dep. Variable:                 status   No. Observations:                 3313\n",
      "Model:                          Logit   Df Residuals:                     3281\n",
      "Method:                           MLE   Df Model:                           31\n",
      "Date:                Tue, 09 Jul 2019   Pseudo R-squ.:                 0.05447\n",
      "Time:                        12:41:47   Log-Likelihood:                -1540.1\n",
      "converged:                       True   LL-Null:                       -1628.9\n",
      "                                        LLR p-value:                 1.835e-22\n",
      "=====================================================================================================\n",
      "                                        coef    std err          z      P>|z|      [0.025      0.975]\n",
      "-----------------------------------------------------------------------------------------------------\n",
      "monthly_income                        0.1526        nan        nan        nan         nan         nan\n",
      "gig_economy_weekly_income             0.0924        nan        nan        nan         nan         nan\n",
      "atm_check_deposits_weekly_income      0.0321        nan        nan        nan         nan         nan\n",
      "direct_deposit_weekly_income          0.1303        nan        nan        nan         nan         nan\n",
      "government_aid_weekly_income          0.0837        nan        nan        nan         nan         nan\n",
      "frequency_heuristic_weekly_income     0.0789        nan        nan        nan         nan         nan\n",
      "large_deposits_weekly_income         -0.0297        nan        nan        nan         nan         nan\n",
      "income_length                         0.0014      0.051      0.027      0.979      -0.099       0.102\n",
      "payrolls_per_month                   -0.1143      0.067     -1.695      0.090      -0.247       0.018\n",
      "income_sources                        0.1131      0.065      1.727      0.084      -0.015       0.241\n",
      "days_since_most_recent_payroll        0.0343      0.050      0.680      0.496      -0.065       0.133\n",
      "days_until_next_payroll               0.0200      0.050      0.400      0.689      -0.078       0.118\n",
      "bank_balance                          1.3810      0.243      5.679      0.000       0.904       1.858\n",
      "overdraft_transactions                0.0211      0.044      0.476      0.634      -0.066       0.108\n",
      "nsf_transactions                     -0.0132      0.046     -0.289      0.773      -0.103       0.077\n",
      "return_transactions                  -0.0919      0.042     -2.202      0.028      -0.174      -0.010\n",
      "reverse_transactions                 -0.0264      0.042     -0.625      0.532      -0.109       0.056\n",
      "mortgage                              0.1166      0.089      1.306      0.191      -0.058       0.292\n",
      "auto_loan                             0.1439      0.062      2.329      0.020       0.023       0.265\n",
      "student_loan                          0.3121      0.123      2.533      0.011       0.071       0.554\n",
      "traditional_single_payment           -0.0987      0.073     -1.357      0.175      -0.241       0.044\n",
      "installment_loan                      0.1255      0.068      1.837      0.066      -0.008       0.259\n",
      "predatory_installment_loan           -0.0991      0.047     -2.113      0.035      -0.191      -0.007\n",
      "title_loan                            0.0143      0.044      0.324      0.746      -0.072       0.101\n",
      "pay_advances                          0.1267      0.057      2.221      0.026       0.015       0.239\n",
      "total_loan_payments                  -0.0516      0.083     -0.620      0.535      -0.215       0.111\n",
      "no_of_other_active_loans             -0.2067      0.073     -2.837      0.005      -0.349      -0.064\n",
      "traditional_single_payment_mean       0.2388      0.074      3.218      0.001       0.093       0.384\n",
      "traditional_single_payment_trend      0.0803      0.058      1.389      0.165      -0.033       0.193\n",
      "loan_requested                       -0.2143      0.052     -4.142      0.000      -0.316      -0.113\n",
      "state_\"LA\"                            1.8266      0.072     25.265      0.000       1.685       1.968\n",
      "state_\"NH\"                            1.4814      0.102     14.480      0.000       1.281       1.682\n",
      "state_\"NJ\"                            1.0863      0.107     10.175      0.000       0.877       1.296\n",
      "=====================================================================================================\n"
     ]
    },
    {
     "name": "stderr",
     "output_type": "stream",
     "text": [
      "/anaconda3/lib/python3.7/site-packages/statsmodels/base/model.py:1092: RuntimeWarning: invalid value encountered in sqrt\n",
      "  bse_ = np.sqrt(np.diag(self.cov_params()))\n",
      "/anaconda3/lib/python3.7/site-packages/scipy/stats/_distn_infrastructure.py:879: RuntimeWarning: invalid value encountered in greater\n",
      "  return (self.a < x) & (x < self.b)\n",
      "/anaconda3/lib/python3.7/site-packages/scipy/stats/_distn_infrastructure.py:879: RuntimeWarning: invalid value encountered in less\n",
      "  return (self.a < x) & (x < self.b)\n",
      "/anaconda3/lib/python3.7/site-packages/scipy/stats/_distn_infrastructure.py:1821: RuntimeWarning: invalid value encountered in less_equal\n",
      "  cond2 = cond0 & (x <= self.a)\n"
     ]
    }
   ],
   "source": [
    "logit_model=sm.Logit(y_train, X_train_scaled, random_state=113)\n",
    "result=logit_model.fit(maxiter=100)\n",
    "print(result.summary())"
   ]
  },
  {
   "cell_type": "code",
   "execution_count": null,
   "metadata": {},
   "outputs": [],
   "source": [
    "# TODO(AnnaZubova):  troubleshoot warning"
   ]
  },
  {
   "cell_type": "markdown",
   "metadata": {},
   "source": [
    "<div style=\"float:left\"><a href=\"#TOC\">Table of contents</a></div>\n",
    "<a name=\"lr_limited\"></a>\n",
    "\n",
    "### Logistic Regression with the coefficients that have p-values < 0.05"
   ]
  },
  {
   "cell_type": "code",
   "execution_count": null,
   "metadata": {},
   "outputs": [],
   "source": [
    "X_train_mod = X_train[['bank_balance', 'return_transactions', 'auto_loan', 'student_loan',\n",
    "                                     'predatory_installment_loan', 'pay_advances', 'no_of_other_active_loans', \n",
    "                                       'traditional_single_payment_mean', 'loan_requested', 'state_\\\"LA\\\"',\n",
    "                                       'state_\\\"NH\\\"', 'state_\\\"NJ\\\"']]\n",
    "X_test_mod = X_test[['bank_balance', 'return_transactions', 'auto_loan', 'student_loan',\n",
    "                                     'predatory_installment_loan', 'pay_advances', 'no_of_other_active_loans', \n",
    "                                       'traditional_single_payment_mean', 'loan_requested', 'state_\\\"LA\\\"',\n",
    "                                       'state_\\\"NH\\\"', 'state_\\\"NJ\\\"']]"
   ]
  },
  {
   "cell_type": "code",
   "execution_count": null,
   "metadata": {},
   "outputs": [],
   "source": [
    "#fit and transform train\n",
    "X_train_mod_scaled, ss = scale_columns(X_train_mod)"
   ]
  },
  {
   "cell_type": "code",
   "execution_count": null,
   "metadata": {},
   "outputs": [],
   "source": [
    "#transform test set\n",
    "X_test_mod_scaled, ss = scale_columns(X_test_mod, ss)"
   ]
  },
  {
   "cell_type": "code",
   "execution_count": null,
   "metadata": {},
   "outputs": [
    {
     "name": "stdout",
     "output_type": "stream",
     "text": [
      "Report:\n",
      "              precision    recall  f1-score   support\n",
      "\n",
      "           0       0.10      0.01      0.01       185\n",
      "           1       0.78      0.99      0.87       644\n",
      "\n",
      "    accuracy                           0.77       829\n",
      "   macro avg       0.44      0.50      0.44       829\n",
      "weighted avg       0.62      0.77      0.68       829\n",
      " CV AUC score: 0.6467060810810811\n",
      "\n",
      "Each Cross Validated AUC: \n",
      " [0.65409596 0.67295202 0.76220406 0.58642363 0.55785473]\n",
      "\n",
      "Overall Classifier AUC: 0.65 (+/- 0.14)\n",
      "\n"
     ]
    }
   ],
   "source": [
    "lr2, report_lr2 = logireg(X_train_mod_scaled, X_test_mod_scaled, y_train, y_test)"
   ]
  },
  {
   "cell_type": "code",
   "execution_count": null,
   "metadata": {},
   "outputs": [],
   "source": [
    "models.append(lr2)\n",
    "reports.append(report_lr2)"
   ]
  },
  {
   "cell_type": "code",
   "execution_count": null,
   "metadata": {},
   "outputs": [
    {
     "data": {
      "text/html": [
       "<div>\n",
       "<style scoped>\n",
       "    .dataframe tbody tr th:only-of-type {\n",
       "        vertical-align: middle;\n",
       "    }\n",
       "\n",
       "    .dataframe tbody tr th {\n",
       "        vertical-align: top;\n",
       "    }\n",
       "\n",
       "    .dataframe thead th {\n",
       "        text-align: right;\n",
       "    }\n",
       "</style>\n",
       "<table border=\"1\" class=\"dataframe\">\n",
       "  <thead>\n",
       "    <tr style=\"text-align: right;\">\n",
       "      <th></th>\n",
       "      <th>name</th>\n",
       "      <th>coef</th>\n",
       "      <th>abs_coef</th>\n",
       "    </tr>\n",
       "  </thead>\n",
       "  <tbody>\n",
       "    <tr>\n",
       "      <th>1</th>\n",
       "      <td>return_transactions</td>\n",
       "      <td>-0.075200</td>\n",
       "      <td>0.075200</td>\n",
       "    </tr>\n",
       "    <tr>\n",
       "      <th>4</th>\n",
       "      <td>predatory_installment_loan</td>\n",
       "      <td>-0.088797</td>\n",
       "      <td>0.088797</td>\n",
       "    </tr>\n",
       "    <tr>\n",
       "      <th>5</th>\n",
       "      <td>pay_advances</td>\n",
       "      <td>0.115350</td>\n",
       "      <td>0.115350</td>\n",
       "    </tr>\n",
       "    <tr>\n",
       "      <th>6</th>\n",
       "      <td>no_of_other_active_loans</td>\n",
       "      <td>-0.138014</td>\n",
       "      <td>0.138014</td>\n",
       "    </tr>\n",
       "    <tr>\n",
       "      <th>2</th>\n",
       "      <td>auto_loan</td>\n",
       "      <td>0.158509</td>\n",
       "      <td>0.158509</td>\n",
       "    </tr>\n",
       "    <tr>\n",
       "      <th>7</th>\n",
       "      <td>traditional_single_payment_mean</td>\n",
       "      <td>0.177882</td>\n",
       "      <td>0.177882</td>\n",
       "    </tr>\n",
       "    <tr>\n",
       "      <th>8</th>\n",
       "      <td>loan_requested</td>\n",
       "      <td>-0.186187</td>\n",
       "      <td>0.186187</td>\n",
       "    </tr>\n",
       "    <tr>\n",
       "      <th>3</th>\n",
       "      <td>student_loan</td>\n",
       "      <td>0.331870</td>\n",
       "      <td>0.331870</td>\n",
       "    </tr>\n",
       "    <tr>\n",
       "      <th>11</th>\n",
       "      <td>state_\"NJ\"</td>\n",
       "      <td>1.030201</td>\n",
       "      <td>1.030201</td>\n",
       "    </tr>\n",
       "    <tr>\n",
       "      <th>10</th>\n",
       "      <td>state_\"NH\"</td>\n",
       "      <td>1.437512</td>\n",
       "      <td>1.437512</td>\n",
       "    </tr>\n",
       "    <tr>\n",
       "      <th>0</th>\n",
       "      <td>bank_balance</td>\n",
       "      <td>1.536636</td>\n",
       "      <td>1.536636</td>\n",
       "    </tr>\n",
       "    <tr>\n",
       "      <th>9</th>\n",
       "      <td>state_\"LA\"</td>\n",
       "      <td>1.803785</td>\n",
       "      <td>1.803785</td>\n",
       "    </tr>\n",
       "  </tbody>\n",
       "</table>\n",
       "</div>"
      ],
      "text/plain": [
       "                               name      coef  abs_coef\n",
       "1               return_transactions -0.075200  0.075200\n",
       "4        predatory_installment_loan -0.088797  0.088797\n",
       "5                      pay_advances  0.115350  0.115350\n",
       "6          no_of_other_active_loans -0.138014  0.138014\n",
       "2                         auto_loan  0.158509  0.158509\n",
       "7   traditional_single_payment_mean  0.177882  0.177882\n",
       "8                    loan_requested -0.186187  0.186187\n",
       "3                      student_loan  0.331870  0.331870\n",
       "11                       state_\"NJ\"  1.030201  1.030201\n",
       "10                       state_\"NH\"  1.437512  1.437512\n",
       "0                      bank_balance  1.536636  1.536636\n",
       "9                        state_\"LA\"  1.803785  1.803785"
      ]
     },
     "execution_count": 176,
     "metadata": {},
     "output_type": "execute_result"
    }
   ],
   "source": [
    "#extract coefficients\n",
    "features = get_df_coef(lr2, X_test_mod)\n",
    "features"
   ]
  },
  {
   "cell_type": "code",
   "execution_count": null,
   "metadata": {},
   "outputs": [
    {
     "name": "stdout",
     "output_type": "stream",
     "text": [
      "Optimization terminated successfully.\n",
      "         Current function value: 0.471676\n",
      "         Iterations 8\n",
      "                           Logit Regression Results                           \n",
      "==============================================================================\n",
      "Dep. Variable:                 status   No. Observations:                 3313\n",
      "Model:                          Logit   Df Residuals:                     3301\n",
      "Method:                           MLE   Df Model:                           11\n",
      "Date:                Tue, 09 Jul 2019   Pseudo R-squ.:                 0.04065\n",
      "Time:                        12:41:48   Log-Likelihood:                -1562.7\n",
      "converged:                       True   LL-Null:                       -1628.9\n",
      "                                        LLR p-value:                 5.629e-23\n",
      "===================================================================================================\n",
      "                                      coef    std err          z      P>|z|      [0.025      0.975]\n",
      "---------------------------------------------------------------------------------------------------\n",
      "bank_balance                        1.5367      0.232      6.628      0.000       1.082       1.991\n",
      "return_transactions                -0.0752      0.040     -1.878      0.060      -0.154       0.003\n",
      "auto_loan                           0.1585      0.056      2.839      0.005       0.049       0.268\n",
      "student_loan                        0.3319      0.124      2.684      0.007       0.090       0.574\n",
      "predatory_installment_loan         -0.0888      0.042     -2.139      0.032      -0.170      -0.007\n",
      "pay_advances                        0.1153      0.053      2.194      0.028       0.012       0.218\n",
      "no_of_other_active_loans           -0.1380      0.061     -2.246      0.025      -0.258      -0.018\n",
      "traditional_single_payment_mean     0.1779      0.062      2.867      0.004       0.056       0.299\n",
      "loan_requested                     -0.1862      0.051     -3.665      0.000      -0.286      -0.087\n",
      "state_\"LA\"                          1.8038      0.073     24.587      0.000       1.660       1.948\n",
      "state_\"NH\"                          1.4375      0.099     14.460      0.000       1.243       1.632\n",
      "state_\"NJ\"                          1.0302      0.110      9.378      0.000       0.815       1.246\n",
      "===================================================================================================\n"
     ]
    }
   ],
   "source": [
    "logit_model=sm.Logit(y_train, X_train_mod_scaled, random_state=113)\n",
    "result=logit_model.fit(maxiter=100)\n",
    "print(result.summary())"
   ]
  },
  {
   "cell_type": "markdown",
   "metadata": {},
   "source": [
    "<div style=\"float:left\"><a href=\"#TOC\">Table of contents</a></div>\n",
    "<a name=\"rf1\"></a>\n",
    "\n",
    "### Random forests"
   ]
  },
  {
   "cell_type": "code",
   "execution_count": null,
   "metadata": {},
   "outputs": [
    {
     "name": "stdout",
     "output_type": "stream",
     "text": [
      "RandomForestClassifier(bootstrap=True, class_weight=None, criterion='gini',\n",
      "                       max_depth=None, max_features='auto', max_leaf_nodes=None,\n",
      "                       min_impurity_decrease=0.0, min_impurity_split=None,\n",
      "                       min_samples_leaf=1, min_samples_split=2,\n",
      "                       min_weight_fraction_leaf=0.0, n_estimators=100,\n",
      "                       n_jobs=None, oob_score=False, random_state=113,\n",
      "                       verbose=0, warm_start=False)\n",
      "Report:\n",
      "              precision    recall  f1-score   support\n",
      "\n",
      "           0       0.67      0.06      0.12       185\n",
      "           1       0.79      0.99      0.88       644\n",
      "\n",
      "    accuracy                           0.78       829\n",
      "   macro avg       0.73      0.53      0.50       829\n",
      "weighted avg       0.76      0.78      0.71       829\n",
      " CV AUC score: 0.6434589749633355\n",
      "\n",
      "Each Cross Validated AUC: \n",
      " [0.68772261 0.63031636 0.66939032 0.60423214 0.62563345]\n",
      "\n",
      "Overall Classifier AUC: 0.64 (+/- 0.06)\n",
      "\n"
     ]
    }
   ],
   "source": [
    "rfc1, report_rfc1 = rf(X_train, X_test, y_train, y_test)"
   ]
  },
  {
   "cell_type": "code",
   "execution_count": null,
   "metadata": {},
   "outputs": [],
   "source": [
    "models.append(rfc1)\n",
    "reports.append(report_rfc1)"
   ]
  },
  {
   "cell_type": "markdown",
   "metadata": {},
   "source": [
    "<div style=\"float:left\"><a href=\"#TOC\">Table of contents</a></div>\n",
    "<a name=\"xgb1\"></a>\n",
    "\n",
    "### XG Boost"
   ]
  },
  {
   "cell_type": "code",
   "execution_count": null,
   "metadata": {},
   "outputs": [
    {
     "name": "stdout",
     "output_type": "stream",
     "text": [
      "Report:\n",
      "              precision    recall  f1-score   support\n",
      "\n",
      "           0       0.44      0.04      0.08       185\n",
      "           1       0.78      0.98      0.87       644\n",
      "\n",
      "    accuracy                           0.77       829\n",
      "   macro avg       0.61      0.51      0.48       829\n",
      "weighted avg       0.71      0.77      0.69       829\n",
      " CV AUC score: 0.653591163838257\n",
      "\n",
      "Each Cross Validated AUC: \n",
      " [0.71799707 0.63293526 0.67902787 0.64466792 0.5933277 ]\n",
      "\n",
      "Overall Classifier AUC: 0.65 (+/- 0.08)\n",
      "\n"
     ]
    }
   ],
   "source": [
    "xgb1, report_xgb1= xgb(X_train, X_test, y_train, y_test)"
   ]
  },
  {
   "cell_type": "code",
   "execution_count": null,
   "metadata": {},
   "outputs": [],
   "source": [
    "models.append(xgb1)\n",
    "reports.append(report_xgb1)"
   ]
  },
  {
   "cell_type": "markdown",
   "metadata": {},
   "source": [
    "<div style=\"float:left\"><a href=\"#TOC\">Table of contents</a></div>\n",
    "<a name=\"gb1\"></a>\n",
    "\n",
    "### Gradient Boosting"
   ]
  },
  {
   "cell_type": "code",
   "execution_count": null,
   "metadata": {},
   "outputs": [
    {
     "name": "stdout",
     "output_type": "stream",
     "text": [
      "Report:\n",
      "              precision    recall  f1-score   support\n",
      "\n",
      "           0       0.36      0.03      0.05       185\n",
      "           1       0.78      0.99      0.87       644\n",
      "\n",
      "    accuracy                           0.77       829\n",
      "   macro avg       0.57      0.51      0.46       829\n",
      "weighted avg       0.68      0.77      0.69       829\n",
      " CV AUC score: 0.6547837445003143\n",
      "\n",
      "Each Cross Validated AUC: \n",
      " [0.72616803 0.62350723 0.68154201 0.63691599 0.60578547]\n",
      "\n",
      "Overall Classifier AUC: 0.65 (+/- 0.09)\n",
      "\n"
     ]
    }
   ],
   "source": [
    "gb1, report_gb1 = gb(X_train, X_test, y_train, y_test)"
   ]
  },
  {
   "cell_type": "code",
   "execution_count": null,
   "metadata": {},
   "outputs": [],
   "source": [
    "models.append(gb1)\n",
    "reports.append(report_gb1)"
   ]
  },
  {
   "cell_type": "markdown",
   "metadata": {},
   "source": [
    "### Conclusion after trying different models: it seems that all models fail to perform on 0 class because of the class imbalance. Next step: correct class imbalance. Best model so far: random forests"
   ]
  },
  {
   "cell_type": "markdown",
   "metadata": {},
   "source": [
    "<div style=\"float:left\"><a href=\"#TOC\">Table of contents</a></div>\n",
    "<a name=\"c_imb_rej\"></a>\n",
    "\n",
    "# 4. Correcting class imbalance with rejected dataset"
   ]
  },
  {
   "cell_type": "markdown",
   "metadata": {},
   "source": [
    "The current training set has 2649 class 1 values and 664 class 0 values. To correct class imbalance I will treat the rejected applications subset as class 0. I will randomly pick 2000 rejected applications and add them to the training set. I will then test the new model (random forest as it seems to have the best performance) on the original testing set that has true labels."
   ]
  },
  {
   "cell_type": "code",
   "execution_count": null,
   "metadata": {},
   "outputs": [],
   "source": [
    "# Get random 2000 values from rejected dataset \n",
    "\n",
    "rejected_subset = df_rejected.sample(n=2000)"
   ]
  },
  {
   "cell_type": "code",
   "execution_count": null,
   "metadata": {},
   "outputs": [],
   "source": [
    "# Isolate target column\n",
    "\n",
    "y_subset_0 = rejected_subset['status']\n",
    "X_subset_0 = rejected_subset.drop('status', axis=1)"
   ]
  },
  {
   "cell_type": "code",
   "execution_count": null,
   "metadata": {},
   "outputs": [
    {
     "data": {
      "text/plain": [
       "array([ True,  True,  True,  True,  True,  True,  True,  True,  True,\n",
       "        True,  True,  True,  True,  True,  True,  True,  True,  True,\n",
       "        True,  True,  True,  True,  True,  True,  True,  True,  True,\n",
       "        True,  True,  True,  True,  True,  True])"
      ]
     },
     "execution_count": 186,
     "metadata": {},
     "output_type": "execute_result"
    }
   ],
   "source": [
    "# Doublecheck if the columns correspond\n",
    "X_train.columns == X_subset_0.columns"
   ]
  },
  {
   "cell_type": "code",
   "execution_count": null,
   "metadata": {},
   "outputs": [],
   "source": [
    "new_X_train = X_train.append(X_subset_0)\n",
    "new_X_train = new_X_train.reset_index(drop=True)"
   ]
  },
  {
   "cell_type": "code",
   "execution_count": null,
   "metadata": {},
   "outputs": [],
   "source": [
    "new_y_train = y_train.append(y_subset_0)\n",
    "new_y_train = new_y_train.reset_index(drop=True)"
   ]
  },
  {
   "cell_type": "markdown",
   "metadata": {},
   "source": [
    "<div style=\"float:left\"><a href=\"#TOC\">Table of contents</a></div>\n",
    "<a name=\"rf2\"></a>\n",
    "\n",
    "### Train random forests on the new training set"
   ]
  },
  {
   "cell_type": "code",
   "execution_count": null,
   "metadata": {},
   "outputs": [
    {
     "name": "stdout",
     "output_type": "stream",
     "text": [
      "RandomForestClassifier(bootstrap=True, class_weight=None, criterion='gini',\n",
      "                       max_depth=None, max_features='auto', max_leaf_nodes=None,\n",
      "                       min_impurity_decrease=0.0, min_impurity_split=None,\n",
      "                       min_samples_leaf=1, min_samples_split=2,\n",
      "                       min_weight_fraction_leaf=0.0, n_estimators=100,\n",
      "                       n_jobs=None, oob_score=False, random_state=113,\n",
      "                       verbose=0, warm_start=False)\n",
      "Report:\n",
      "              precision    recall  f1-score   support\n",
      "\n",
      "           0       0.33      0.45      0.38       185\n",
      "           1       0.82      0.74      0.78       644\n",
      "\n",
      "    accuracy                           0.67       829\n",
      "   macro avg       0.58      0.60      0.58       829\n",
      "weighted avg       0.71      0.67      0.69       829\n",
      " CV AUC score: 0.6434589749633355\n",
      "\n",
      "Each Cross Validated AUC: \n",
      " [0.68772261 0.63031636 0.66939032 0.60423214 0.62563345]\n",
      "\n",
      "Overall Classifier AUC: 0.64 (+/- 0.06)\n",
      "\n"
     ]
    }
   ],
   "source": [
    "rfc2, report_rfc2 = rf(new_X_train, X_test, new_y_train, y_test)"
   ]
  },
  {
   "cell_type": "code",
   "execution_count": null,
   "metadata": {},
   "outputs": [],
   "source": [
    "models.append(rfc2)\n",
    "reports.append(report_rfc2)"
   ]
  },
  {
   "cell_type": "markdown",
   "metadata": {},
   "source": [
    "<div style=\"float:left\"><a href=\"#TOC\">Table of contents</a></div>\n",
    "<a name=\"lr_rej\"></a>\n",
    "\n",
    "### Try logistic regression on my new training set"
   ]
  },
  {
   "cell_type": "code",
   "execution_count": null,
   "metadata": {},
   "outputs": [],
   "source": [
    "#scale the new dataset\n",
    "new_X_train_scaled, ss2 = scale_columns(new_X_train)\n",
    "new_X_test_scaled, ss2 = scale_columns(X_test, ss2)"
   ]
  },
  {
   "cell_type": "code",
   "execution_count": null,
   "metadata": {},
   "outputs": [
    {
     "name": "stdout",
     "output_type": "stream",
     "text": [
      "Report:\n",
      "              precision    recall  f1-score   support\n",
      "\n",
      "           0       0.30      0.44      0.36       185\n",
      "           1       0.82      0.71      0.76       644\n",
      "\n",
      "    accuracy                           0.65       829\n",
      "   macro avg       0.56      0.58      0.56       829\n",
      "weighted avg       0.70      0.65      0.67       829\n",
      " CV AUC score: 0.6276244631259166\n",
      "\n",
      "Each Cross Validated AUC: \n",
      " [0.67001886 0.65179133 0.72679656 0.56903415 0.52048142]\n",
      "\n",
      "Overall Classifier AUC: 0.63 (+/- 0.15)\n",
      "\n"
     ]
    }
   ],
   "source": [
    "#apply logistic regression\n",
    "\n",
    "lr3, report_lr3 = logireg(new_X_train_scaled, new_X_test_scaled, new_y_train, y_test)"
   ]
  },
  {
   "cell_type": "code",
   "execution_count": null,
   "metadata": {},
   "outputs": [],
   "source": [
    "models.append(lr3)\n",
    "reports.append(report_lr3)"
   ]
  },
  {
   "cell_type": "markdown",
   "metadata": {},
   "source": [
    "<div style=\"float:left\"><a href=\"#TOC\">Table of contents</a></div>\n",
    "<a name=\"gb2\"></a>\n",
    "\n",
    "### Try Gradient Boosting on my new training set"
   ]
  },
  {
   "cell_type": "code",
   "execution_count": null,
   "metadata": {},
   "outputs": [],
   "source": [
    "gb2, report_gb2 = gb(new_X_train, X_test, new_y_train, y_test)"
   ]
  },
  {
   "cell_type": "code",
   "execution_count": null,
   "metadata": {},
   "outputs": [],
   "source": [
    "models.append(gb2)\n",
    "reports.append(report_gb2)"
   ]
  },
  {
   "cell_type": "markdown",
   "metadata": {},
   "source": [
    "<div style=\"float:left\"><a href=\"#TOC\">Table of contents</a></div>\n",
    "<a name=\"xgb2\"></a>\n",
    "\n",
    "### Try XGBoost  regression on my new training set"
   ]
  },
  {
   "cell_type": "code",
   "execution_count": null,
   "metadata": {},
   "outputs": [],
   "source": [
    "xgb2, report_xgb2 = xgb(new_X_train, X_test, new_y_train, y_test)"
   ]
  },
  {
   "cell_type": "code",
   "execution_count": null,
   "metadata": {},
   "outputs": [],
   "source": [
    "models.append(xgb2)\n",
    "reports.append(report_xgb2)"
   ]
  },
  {
   "cell_type": "markdown",
   "metadata": {},
   "source": [
    "<div style=\"float:left\"><a href=\"#TOC\">Table of contents</a></div>\n",
    "<a name=\"c_imb_res\"></a>\n",
    "\n",
    "# 5. Correcting class imbalance with Sklearn resample"
   ]
  },
  {
   "cell_type": "code",
   "execution_count": null,
   "metadata": {},
   "outputs": [],
   "source": [
    "training_set = X_train.copy()"
   ]
  },
  {
   "cell_type": "code",
   "execution_count": null,
   "metadata": {},
   "outputs": [],
   "source": [
    "training_set['status'] = y_train"
   ]
  },
  {
   "cell_type": "code",
   "execution_count": null,
   "metadata": {},
   "outputs": [],
   "source": [
    "training_set_0 = training_set.loc[training_set.status == 0]"
   ]
  },
  {
   "cell_type": "code",
   "execution_count": null,
   "metadata": {},
   "outputs": [],
   "source": [
    "training_set_0_upsampled = resample(training_set_0, replace=True, n_samples=2000, random_state=113)"
   ]
  },
  {
   "cell_type": "code",
   "execution_count": null,
   "metadata": {},
   "outputs": [],
   "source": [
    "y_training_set_0_upsampled = training_set_0_upsampled['status']\n",
    "X_training_set_0_upsampled = training_set_0_upsampled.drop('status', axis=1)"
   ]
  },
  {
   "cell_type": "code",
   "execution_count": null,
   "metadata": {},
   "outputs": [],
   "source": [
    "new_X_train_upsampled = X_train.append(X_training_set_0_upsampled)\n",
    "new_y_train_upsampled = y_train.append(y_training_set_0_upsampled)"
   ]
  },
  {
   "cell_type": "code",
   "execution_count": null,
   "metadata": {},
   "outputs": [],
   "source": [
    "new_X_train_upsampled = new_X_train_upsampled.reset_index(drop=True)\n",
    "new_y_train_upsampled = new_y_train_upsampled.reset_index(drop=True)"
   ]
  },
  {
   "cell_type": "markdown",
   "metadata": {},
   "source": [
    "<div style=\"float:left\"><a href=\"#TOC\">Table of contents</a></div>\n",
    "<a name=\"rf3\"></a>\n",
    "\n",
    "### Apply random forest"
   ]
  },
  {
   "cell_type": "code",
   "execution_count": null,
   "metadata": {},
   "outputs": [],
   "source": [
    "rf3, report_rf3 = rf(new_X_train_upsampled, X_test, new_y_train_upsampled, y_test)"
   ]
  },
  {
   "cell_type": "markdown",
   "metadata": {},
   "source": [
    "<div style=\"float:left\"><a href=\"#TOC\">Table of contents</a></div>\n",
    "<a name=\"gb3\"></a>\n",
    "\n",
    "### Gradient boosting"
   ]
  },
  {
   "cell_type": "code",
   "execution_count": null,
   "metadata": {},
   "outputs": [],
   "source": [
    "gb3, report_gb3 = gb(new_X_train_upsampled, X_test, new_y_train_upsampled, y_test)"
   ]
  },
  {
   "cell_type": "markdown",
   "metadata": {},
   "source": [
    "<div style=\"float:left\"><a href=\"#TOC\">Table of contents</a></div>\n",
    "<a name=\"xgb3\"></a>\n",
    "\n",
    "### XGBoost"
   ]
  },
  {
   "cell_type": "code",
   "execution_count": null,
   "metadata": {},
   "outputs": [],
   "source": [
    "xgb3, report_xgb3 = xgb(new_X_train_upsampled, X_test, new_y_train_upsampled, y_test)"
   ]
  },
  {
   "cell_type": "markdown",
   "metadata": {},
   "source": [
    "<div style=\"float:left\"><a href=\"#TOC\">Table of contents</a></div>\n",
    "<a name=\"lr_res\"></a>\n",
    "\n",
    "### Logistic regression"
   ]
  },
  {
   "cell_type": "code",
   "execution_count": null,
   "metadata": {},
   "outputs": [],
   "source": [
    "# Scaling\n",
    "#train set\n",
    "new_X_train_upsampled_scaled, ss3 = scale_columns(new_X_train_upsampled)\n",
    "new_X_test_upsampled_scaled, ss3 = scale_columns(X_test, ss3)"
   ]
  },
  {
   "cell_type": "code",
   "execution_count": null,
   "metadata": {},
   "outputs": [],
   "source": [
    "lr4, report_lr4 = logireg(new_X_train_upsampled_scaled, new_X_test_upsampled_scaled, new_y_train_upsampled, y_test)"
   ]
  },
  {
   "cell_type": "code",
   "execution_count": null,
   "metadata": {},
   "outputs": [],
   "source": [
    "models.append(rf3)\n",
    "models.append(gb3)\n",
    "models.append(xgb3)\n",
    "models.append(lr4)\n",
    "\n",
    "reports.append(report_rf3)\n",
    "reports.append(report_gb3)\n",
    "reports.append(report_xgb3)\n",
    "reports.append(report_lr4)"
   ]
  },
  {
   "cell_type": "markdown",
   "metadata": {},
   "source": [
    "<div style=\"float:left\"><a href=\"#TOC\">Table of contents</a></div>\n",
    "<a name=\"comparison\"></a>\n",
    "\n",
    "# 6. Models comparison"
   ]
  },
  {
   "cell_type": "code",
   "execution_count": null,
   "metadata": {},
   "outputs": [],
   "source": [
    "df_reports = parse_reports(reports)"
   ]
  },
  {
   "cell_type": "code",
   "execution_count": null,
   "metadata": {},
   "outputs": [],
   "source": [
    "df_reports['model'] = ['Logistic regression',\n",
    "                      'Logistic Regression limited features',\n",
    "                      'Random forest',\n",
    "                      'XGBoost',\n",
    "                      'Gradient boosting',\n",
    "                      'Random forest with data from rejected dataset',\n",
    "                      'Logistic regression with data from rejected dataset',\n",
    "                      'Gradient Boosting with data from rejected dataset',\n",
    "                      'XG Boost with data from rejected dataset',\n",
    "                      'Random forest with resampled data',\n",
    "                      'Gradient Boosting with resampled data',\n",
    "                      'XG Boost with resampled data',\n",
    "                      'Logistic regression with resampled data']"
   ]
  },
  {
   "cell_type": "code",
   "execution_count": null,
   "metadata": {},
   "outputs": [],
   "source": [
    "df_reports"
   ]
  },
  {
   "cell_type": "markdown",
   "metadata": {},
   "source": [
    "Conclusion:\n",
    "\n",
    "Baseline AUC was 0.5\n",
    "\n",
    "The models have quite similar AUC score, which in this case is the most important metric. Desicion tree based models have slightly better AUC, but they tend to overfit and are not calibrated as is logistic regression. For this reason the selected model has to be a logistic regression one. \n",
    "\n",
    "There are several logistic regression models. The ones with blanced classes seem to have better balanced predictive power for classes 0 and 1. There is no much difference betweer logistic regression upsampled from rejected daraset and the one upsampled using sklearn resample. I selected the last logistic regression upsampled with sklearn resample as a final model."
   ]
  },
  {
   "cell_type": "code",
   "execution_count": null,
   "metadata": {},
   "outputs": [],
   "source": [
    "#pickle model\n",
    "filename = 'lr_model.sav'\n",
    "pickle.dump(lr4, open(filename, 'wb'))\n",
    "\n",
    "#pickle standard scaler\n",
    "filename = 'scaler.pkl'\n",
    "pickle.dump(ss3, open(filename, 'wb'))"
   ]
  },
  {
   "cell_type": "markdown",
   "metadata": {},
   "source": [
    "<div style=\"float:left\"><a href=\"#TOC\">Table of contents</a></div>\n",
    "<a name=\"explore\"></a>\n",
    "\n",
    "# 7. Further exploration of the selected Logistic Regression model (lr4)"
   ]
  },
  {
   "cell_type": "markdown",
   "metadata": {},
   "source": [
    "<div style=\"float:left\"><a href=\"#TOC\">Table of contents</a></div>\n",
    "<a name=\"metrics\"></a>\n",
    "\n",
    "### Cross-validated log loss and AUC"
   ]
  },
  {
   "cell_type": "code",
   "execution_count": null,
   "metadata": {},
   "outputs": [],
   "source": [
    "cv_log_loss = cross_val_score(lr4, new_X_test_upsampled_scaled, y_test, cv=5, scoring='neg_log_loss')\n",
    "print('Cross-validated log loss: ', cv_log_loss.mean())"
   ]
  },
  {
   "cell_type": "code",
   "execution_count": null,
   "metadata": {},
   "outputs": [],
   "source": [
    "#interpretation: on average, the probability attributed to the right class across samples 𝑝≈0.63 \n",
    "print('Average probability of labeling the class correctly: ', np.log(0.53))"
   ]
  },
  {
   "cell_type": "code",
   "execution_count": null,
   "metadata": {},
   "outputs": [],
   "source": [
    "cv_roc_auc = cross_val_score(lr4, new_X_test_upsampled_scaled, y_test, cv=5, scoring='roc_auc')\n",
    "print('Cross-validated AUC score: ', cv_roc_auc.mean())"
   ]
  },
  {
   "cell_type": "markdown",
   "metadata": {},
   "source": [
    "<div style=\"float:left\"><a href=\"#TOC\">Table of contents</a></div>\n",
    "<a name=\"thres_val\"></a>\n",
    "\n",
    "### Threshold variation"
   ]
  },
  {
   "cell_type": "code",
   "execution_count": null,
   "metadata": {},
   "outputs": [],
   "source": [
    "#this function allows to see predictions metrics with different thresholds for 0 class\n",
    "res = predict_probability_and_class(lr4, new_X_test_upsampled_scaled, y_test, 0.20)"
   ]
  },
  {
   "cell_type": "code",
   "execution_count": null,
   "metadata": {},
   "outputs": [],
   "source": [
    "res.head()"
   ]
  },
  {
   "cell_type": "markdown",
   "metadata": {},
   "source": [
    "<div style=\"float:left\"><a href=\"#TOC\">Table of contents</a></div>\n",
    "<a name=\"roc_vis\"></a>\n",
    "\n",
    "### ROC-AUC visualization"
   ]
  },
  {
   "cell_type": "code",
   "execution_count": null,
   "metadata": {},
   "outputs": [],
   "source": [
    "y_true = res['status']\n",
    "y_probas = lr4.predict_proba(new_X_test_upsampled_scaled)\n",
    "skplt.metrics.plot_roc(y_true, y_probas, figsize=(10,10))\n",
    "plt.savefig('graphs/roc_auc.png')\n",
    "plt.show();\n"
   ]
  },
  {
   "cell_type": "markdown",
   "metadata": {},
   "source": [
    "<div style=\"float:left\"><a href=\"#TOC\">Table of contents</a></div>\n",
    "<a name=\"coef\"></a>\n",
    "\n",
    "### Model's coefficients"
   ]
  },
  {
   "cell_type": "code",
   "execution_count": null,
   "metadata": {},
   "outputs": [],
   "source": [
    "features = get_df_coef(lr4, new_X_test_upsampled_scaled)"
   ]
  },
  {
   "cell_type": "code",
   "execution_count": null,
   "metadata": {},
   "outputs": [],
   "source": [
    "features"
   ]
  },
  {
   "cell_type": "markdown",
   "metadata": {},
   "source": [
    "<div style=\"float:left\"><a href=\"#TOC\">Table of contents</a></div>\n",
    "<a name=\"pred\"></a>\n",
    "\n",
    "# 8. Making predictions with lr4 model"
   ]
  },
  {
   "cell_type": "code",
   "execution_count": null,
   "metadata": {},
   "outputs": [],
   "source": [
    "test_application = (0, 0, 0, 0, 0, 0, 0, 0, 0, 2, 3, 20, 1000, 5, 0, 1, 0, 1, 500, 100, 300,\n",
    "                    3, 100, 0, 300, 2000, 4, 1, 1, 500, 0, 0, 0)"
   ]
  },
  {
   "cell_type": "code",
   "execution_count": null,
   "metadata": {},
   "outputs": [],
   "source": [
    "with open('lr_model.sav', 'rb') as f:\n",
    "    model = pickle.load(f)\n",
    "\n",
    "with open('scaler.pkl', 'rb') as f:\n",
    "    scaler = pickle.load(f)"
   ]
  },
  {
   "cell_type": "code",
   "execution_count": null,
   "metadata": {},
   "outputs": [],
   "source": [
    "prediction = predict_p(test_application, model, scaler)\n",
    "print(prediction)"
   ]
  },
  {
   "cell_type": "markdown",
   "metadata": {},
   "source": [
    "<div style=\"float:left\"><a href=\"#TOC\">Table of contents</a></div>\n",
    "<a name=\"check_calib\"></a>\n",
    "\n",
    "# 9. Checking lr4 model's calibation"
   ]
  },
  {
   "cell_type": "markdown",
   "metadata": {},
   "source": [
    "<div style=\"float:left\"><a href=\"#TOC\">Table of contents</a></div>\n",
    "<a name=\"calib\"></a>\n",
    "\n",
    "### Check model's calibration of training and testing set"
   ]
  },
  {
   "cell_type": "code",
   "execution_count": null,
   "metadata": {},
   "outputs": [],
   "source": [
    "#check calibration of the test set\n",
    "res = predict_probability_and_class(lr4, new_X_test_upsampled_scaled, y_test, 0.25)\n",
    "check_calibration(res)"
   ]
  },
  {
   "cell_type": "code",
   "execution_count": null,
   "metadata": {},
   "outputs": [],
   "source": [
    "#check calibration on train test:\n",
    "res = predict_probability_and_class(lr4, new_X_train_upsampled_scaled, new_y_train_upsampled, 0.25)\n",
    "check_calibration(res)"
   ]
  },
  {
   "cell_type": "markdown",
   "metadata": {},
   "source": [
    "<div style=\"float:left\"><a href=\"#TOC\">Table of contents</a></div>\n",
    "<a name=\"cv_calib\"></a>\n",
    "\n",
    "### Cross-validate calibration of lr4 model"
   ]
  },
  {
   "cell_type": "code",
   "execution_count": null,
   "metadata": {},
   "outputs": [],
   "source": [
    "avgs = cv_calibration(new_X_train_upsampled_scaled, new_X_test_upsampled_scaled, new_y_train_upsampled, y_test)"
   ]
  },
  {
   "cell_type": "code",
   "execution_count": null,
   "metadata": {},
   "outputs": [],
   "source": [
    "# Warning explanation: for some ranges of probability there are no applications, \n",
    "# so this is why the above warning appeared."
   ]
  },
  {
   "cell_type": "code",
   "execution_count": null,
   "metadata": {},
   "outputs": [],
   "source": [
    "#Averages true classes for predicted P ranges 0-0.1 to 0.9-1\n",
    "print(avgs)"
   ]
  },
  {
   "cell_type": "markdown",
   "metadata": {},
   "source": [
    "<div style=\"float:left\"><a href=\"#TOC\">Table of contents</a></div>\n",
    "<a name=\"plot_calib\"></a>\n",
    "\n",
    "### Plot cross-validated calibration"
   ]
  },
  {
   "cell_type": "code",
   "execution_count": null,
   "metadata": {},
   "outputs": [],
   "source": [
    "ranges = ['0 - 0.1', '0.1 - 0.2', '0.2 - 0.3', '0.3 -0.4', '0.4 - 0.5', '0.5 - 0,6',\n",
    "           '0.6 - 0.7', '0.7 - 0.8', '0.8 - 0.9', '0.9 - 1']\n",
    "avg_ranges = [0.05, 0.15, 0.25, 0.35, 0.45, 0.55, 0.65, 0.75, 0.85, 0.95]\n",
    "means = [(1-avgs[0]), (1-avgs[1]), (1-avgs[2]), (1-avgs[3]), (1-avgs[4]), (1-avgs[5]), \n",
    "         (1-avgs[6]), (1-avgs[7]), (1-avgs[8]), (1-avgs[9])]\n",
    "plt.figure(figsize=(15, 7))\n",
    "plt.bar(ranges, avg_ranges, align='center', alpha=0.5)\n",
    "plt.plot(means, 'r', marker='o')\n",
    "plt.legend(['Actual default rate'])\n",
    "plt.ylabel('Predicted probability')\n",
    "plt.xlabel('Ranges of predicted probability')\n",
    "plt.title('Calibration check')\n",
    "\n",
    "plt.savefig('graphs/calibration_check.png')\n",
    "plt.show()\n"
   ]
  },
  {
   "cell_type": "markdown",
   "metadata": {},
   "source": [
    "#### There are not a lot of observations in 0.9 - 1 range comparing to the other ranges, that might explain that predicted and actual probability don't match"
   ]
  },
  {
   "cell_type": "code",
   "execution_count": null,
   "metadata": {},
   "outputs": [],
   "source": []
  }
 ],
 "metadata": {
  "kernelspec": {
   "display_name": "Python 3",
   "language": "python",
   "name": "python3"
  },
  "language_info": {
   "codemirror_mode": {
    "name": "ipython",
    "version": 3
   },
   "file_extension": ".py",
   "mimetype": "text/x-python",
   "name": "python",
   "nbconvert_exporter": "python",
   "pygments_lexer": "ipython3",
   "version": "3.7.1"
  }
 },
 "nbformat": 4,
 "nbformat_minor": 2
}
