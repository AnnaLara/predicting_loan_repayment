{
 "cells": [
  {
   "cell_type": "code",
   "execution_count": 313,
   "metadata": {},
   "outputs": [
    {
     "name": "stdout",
     "output_type": "stream",
     "text": [
      "The autoreload extension is already loaded. To reload it, use:\n",
      "  %reload_ext autoreload\n"
     ]
    }
   ],
   "source": [
    "import pandas as pd\n",
    "import matplotlib.pyplot as plt\n",
    "from pandas.plotting import scatter_matrix\n",
    "import numpy as np\n",
    "from sklearn.model_selection import train_test_split\n",
    "from sklearn.metrics import classification_report\n",
    "from sklearn.model_selection import cross_val_score, KFold\n",
    "from sklearn.metrics import confusion_matrix\n",
    "from sklearn.svm import SVC\n",
    "from sklearn.tree import DecisionTreeClassifier\n",
    "from sklearn.pipeline import make_pipeline, FeatureUnion, Pipeline\n",
    "from sklearn.preprocessing import OneHotEncoder, Imputer, StandardScaler\n",
    "import random\n",
    "import seaborn as sns\n",
    "from sklearn_pandas.pipeline import Pipeline\n",
    "from sklearn_pandas import DataFrameMapper\n",
    "from sklearn.preprocessing import FunctionTransformer\n",
    "from sklearn.linear_model import LogisticRegression\n",
    "import statsmodels.api as sm\n",
    "from functions import (ohe, logireg, gb, xgb, rf, predict_probability_and_class, check_calibration,\n",
    "                       keep_states_drop, preprocess)\n",
    "from sklearn.metrics import (roc_curve, auc, precision_recall_curve, make_scorer, \n",
    "recall_score, accuracy_score, precision_score, confusion_matrix)\n",
    "\n",
    "from sklearn.ensemble import GradientBoostingClassifier, RandomForestClassifier\n",
    "from xgboost import XGBClassifier\n",
    "from sklearn.utils import resample\n",
    "import pickle\n",
    "\n",
    "%matplotlib inline\n",
    "%load_ext autoreload\n",
    "%autoreload 2"
   ]
  },
  {
   "cell_type": "code",
   "execution_count": 314,
   "metadata": {},
   "outputs": [],
   "source": [
    "#had to install xgboost\n",
    "#!pip install xgboost"
   ]
  },
  {
   "cell_type": "markdown",
   "metadata": {},
   "source": [
    "## Load data"
   ]
  },
  {
   "cell_type": "code",
   "execution_count": 315,
   "metadata": {},
   "outputs": [],
   "source": [
    "df_approved = pd.read_csv('data/pf_approved_loan_data_nov.csv', index_col=False)\n",
    "df_rejected = pd.read_csv('data/pf_rejected_loan_data_nov.csv', index_col=False)"
   ]
  },
  {
   "cell_type": "markdown",
   "metadata": {},
   "source": [
    "# EDA"
   ]
  },
  {
   "cell_type": "code",
   "execution_count": 316,
   "metadata": {},
   "outputs": [
    {
     "data": {
      "text/plain": [
       "4145"
      ]
     },
     "execution_count": 316,
     "metadata": {},
     "output_type": "execute_result"
    }
   ],
   "source": [
    "len(df_approved)"
   ]
  },
  {
   "cell_type": "code",
   "execution_count": 317,
   "metadata": {},
   "outputs": [
    {
     "data": {
      "text/plain": [
       "2927"
      ]
     },
     "execution_count": 317,
     "metadata": {},
     "output_type": "execute_result"
    }
   ],
   "source": [
    "len(df_rejected)"
   ]
  },
  {
   "cell_type": "code",
   "execution_count": 318,
   "metadata": {
    "scrolled": true
   },
   "outputs": [
    {
     "data": {
      "text/plain": [
       "1    3317\n",
       "0     828\n",
       "Name: status, dtype: int64"
      ]
     },
     "execution_count": 318,
     "metadata": {},
     "output_type": "execute_result"
    }
   ],
   "source": [
    "#How many loans were returned?\n",
    "\n",
    "df_approved['status'].value_counts()"
   ]
  },
  {
   "cell_type": "markdown",
   "metadata": {},
   "source": [
    "## 75% of application from the approved set were paid pack"
   ]
  },
  {
   "cell_type": "code",
   "execution_count": 319,
   "metadata": {
    "scrolled": true
   },
   "outputs": [
    {
     "data": {
      "text/plain": [
       "array([ True,  True,  True,  True,  True,  True,  True,  True,  True,\n",
       "        True,  True,  True,  True,  True,  True,  True,  True,  True,\n",
       "        True,  True,  True,  True,  True,  True,  True,  True,  True,\n",
       "        True,  True,  True,  True,  True,  True,  True,  True,  True,\n",
       "        True,  True])"
      ]
     },
     "execution_count": 319,
     "metadata": {},
     "output_type": "execute_result"
    }
   ],
   "source": [
    "#Are the 2 dataframes's columns similar?\n",
    "\n",
    "df_rejected.columns == df_approved.columns"
   ]
  },
  {
   "cell_type": "code",
   "execution_count": 320,
   "metadata": {},
   "outputs": [
    {
     "data": {
      "text/plain": [
       "Index(['Unnamed: 0', 'monthly_income', 'gig_economy_weekly_income',\n",
       "       'atm_check_deposits_weekly_income', 'direct_deposit_weekly_income',\n",
       "       'government_aid_weekly_income', 'frequency_heuristic_weekly_income',\n",
       "       'large_deposits_weekly_income', 'income_length', 'payrolls_per_month',\n",
       "       'income_sources', 'days_since_most_recent_payroll',\n",
       "       'days_until_next_payroll', 'bank_balance', 'overdraft_transactions',\n",
       "       'nsf_transactions', 'return_transactions', 'reverse_transactions',\n",
       "       'length_of_transaction_history', 'mortgage', 'auto_loan',\n",
       "       'student_loan', 'traditional_single_payment', 'installment_loan',\n",
       "       'predatory_installment_loan', 'title_loan', 'pay_advances',\n",
       "       'total_loan_payments', 'no_of_other_active_loans',\n",
       "       'traditional_single_payment_mean', 'traditional_single_payment_trend',\n",
       "       'loan_amount', 'loan_requested', 'loan_borrowed_inc',\n",
       "       'loan_outstanding_inc', 'state', 'loan_id', 'status'],\n",
       "      dtype='object')"
      ]
     },
     "execution_count": 320,
     "metadata": {},
     "output_type": "execute_result"
    }
   ],
   "source": [
    "#What are the columns in the dataframes?\n",
    "df_approved.columns"
   ]
  },
  {
   "cell_type": "code",
   "execution_count": 321,
   "metadata": {},
   "outputs": [
    {
     "data": {
      "text/plain": [
       "(4145, 38)"
      ]
     },
     "execution_count": 321,
     "metadata": {},
     "output_type": "execute_result"
    }
   ],
   "source": [
    "df_approved.shape"
   ]
  },
  {
   "cell_type": "code",
   "execution_count": 322,
   "metadata": {
    "scrolled": true
   },
   "outputs": [
    {
     "name": "stdout",
     "output_type": "stream",
     "text": [
      "<class 'pandas.core.frame.DataFrame'>\n",
      "RangeIndex: 4145 entries, 0 to 4144\n",
      "Data columns (total 38 columns):\n",
      "Unnamed: 0                           4145 non-null int64\n",
      "monthly_income                       4145 non-null float64\n",
      "gig_economy_weekly_income            4145 non-null float64\n",
      "atm_check_deposits_weekly_income     4145 non-null float64\n",
      "direct_deposit_weekly_income         4145 non-null float64\n",
      "government_aid_weekly_income         4145 non-null float64\n",
      "frequency_heuristic_weekly_income    4145 non-null float64\n",
      "large_deposits_weekly_income         4145 non-null float64\n",
      "income_length                        4145 non-null int64\n",
      "payrolls_per_month                   4145 non-null float64\n",
      "income_sources                       4145 non-null int64\n",
      "days_since_most_recent_payroll       4145 non-null int64\n",
      "days_until_next_payroll              4145 non-null int64\n",
      "bank_balance                         4145 non-null float64\n",
      "overdraft_transactions               4145 non-null int64\n",
      "nsf_transactions                     4145 non-null int64\n",
      "return_transactions                  4145 non-null int64\n",
      "reverse_transactions                 4145 non-null int64\n",
      "length_of_transaction_history        4145 non-null int64\n",
      "mortgage                             4145 non-null float64\n",
      "auto_loan                            4145 non-null float64\n",
      "student_loan                         4145 non-null float64\n",
      "traditional_single_payment           4145 non-null float64\n",
      "installment_loan                     4145 non-null float64\n",
      "predatory_installment_loan           4145 non-null float64\n",
      "title_loan                           4145 non-null float64\n",
      "pay_advances                         4145 non-null float64\n",
      "total_loan_payments                  4145 non-null float64\n",
      "no_of_other_active_loans             4145 non-null int64\n",
      "traditional_single_payment_mean      4145 non-null float64\n",
      "traditional_single_payment_trend     4145 non-null float64\n",
      "loan_amount                          4145 non-null float64\n",
      "loan_requested                       4145 non-null float64\n",
      "loan_borrowed_inc                    4145 non-null float64\n",
      "loan_outstanding_inc                 4145 non-null float64\n",
      "state                                4145 non-null object\n",
      "loan_id                              4145 non-null object\n",
      "status                               4145 non-null int64\n",
      "dtypes: float64(24), int64(12), object(2)\n",
      "memory usage: 1.2+ MB\n"
     ]
    }
   ],
   "source": [
    "df_approved.info()"
   ]
  },
  {
   "cell_type": "markdown",
   "metadata": {},
   "source": [
    "There are no null values and all essential data is numeric, which helps a lot with the analysis process."
   ]
  },
  {
   "cell_type": "code",
   "execution_count": 323,
   "metadata": {},
   "outputs": [
    {
     "name": "stdout",
     "output_type": "stream",
     "text": [
      "<class 'pandas.core.frame.DataFrame'>\n",
      "RangeIndex: 2927 entries, 0 to 2926\n",
      "Data columns (total 38 columns):\n",
      "Unnamed: 0                           2927 non-null int64\n",
      "monthly_income                       2927 non-null float64\n",
      "gig_economy_weekly_income            2927 non-null float64\n",
      "atm_check_deposits_weekly_income     2927 non-null float64\n",
      "direct_deposit_weekly_income         2927 non-null float64\n",
      "government_aid_weekly_income         2927 non-null float64\n",
      "frequency_heuristic_weekly_income    2927 non-null float64\n",
      "large_deposits_weekly_income         2927 non-null float64\n",
      "income_length                        2927 non-null int64\n",
      "payrolls_per_month                   2927 non-null float64\n",
      "income_sources                       2927 non-null int64\n",
      "days_since_most_recent_payroll       2927 non-null int64\n",
      "days_until_next_payroll              2927 non-null int64\n",
      "bank_balance                         2927 non-null float64\n",
      "overdraft_transactions               2927 non-null int64\n",
      "nsf_transactions                     2927 non-null int64\n",
      "return_transactions                  2927 non-null int64\n",
      "reverse_transactions                 2927 non-null int64\n",
      "length_of_transaction_history        2927 non-null int64\n",
      "mortgage                             2927 non-null float64\n",
      "auto_loan                            2927 non-null float64\n",
      "student_loan                         2927 non-null float64\n",
      "traditional_single_payment           2927 non-null float64\n",
      "installment_loan                     2927 non-null float64\n",
      "predatory_installment_loan           2927 non-null float64\n",
      "title_loan                           2927 non-null float64\n",
      "pay_advances                         2927 non-null float64\n",
      "total_loan_payments                  2927 non-null float64\n",
      "no_of_other_active_loans             2927 non-null int64\n",
      "traditional_single_payment_mean      2927 non-null float64\n",
      "traditional_single_payment_trend     2927 non-null float64\n",
      "loan_amount                          2927 non-null float64\n",
      "loan_requested                       2927 non-null float64\n",
      "loan_borrowed_inc                    2927 non-null float64\n",
      "loan_outstanding_inc                 2927 non-null float64\n",
      "state                                2835 non-null object\n",
      "loan_id                              2927 non-null object\n",
      "status                               2927 non-null int64\n",
      "dtypes: float64(24), int64(12), object(2)\n",
      "memory usage: 869.0+ KB\n"
     ]
    }
   ],
   "source": [
    "df_rejected.info()"
   ]
  },
  {
   "cell_type": "markdown",
   "metadata": {},
   "source": [
    "There are null values only in 'state' column. Essential data is numeric"
   ]
  },
  {
   "cell_type": "code",
   "execution_count": 324,
   "metadata": {},
   "outputs": [
    {
     "data": {
      "text/plain": [
       "\"WA\"    1531\n",
       "\"CA\"     657\n",
       "\"UT\"     506\n",
       "\"ID\"     130\n",
       "\"TX\"       3\n",
       "\"AZ\"       2\n",
       "\"WI\"       1\n",
       "\"MT\"       1\n",
       "\"MA\"       1\n",
       "\"OK\"       1\n",
       "\"CO\"       1\n",
       "\"TN\"       1\n",
       "Name: state, dtype: int64"
      ]
     },
     "execution_count": 324,
     "metadata": {},
     "output_type": "execute_result"
    }
   ],
   "source": [
    "df_rejected['state'].value_counts()"
   ]
  },
  {
   "cell_type": "code",
   "execution_count": 325,
   "metadata": {},
   "outputs": [
    {
     "data": {
      "text/plain": [
       "{'\"AZ\"',\n",
       " '\"CA\"',\n",
       " '\"CO\"',\n",
       " '\"ID\"',\n",
       " '\"MA\"',\n",
       " '\"MT\"',\n",
       " '\"OK\"',\n",
       " '\"TN\"',\n",
       " '\"TX\"',\n",
       " '\"UT\"',\n",
       " '\"WA\"',\n",
       " '\"WI\"',\n",
       " nan}"
      ]
     },
     "execution_count": 325,
     "metadata": {},
     "output_type": "execute_result"
    }
   ],
   "source": [
    "set(list(df_rejected.state.values))"
   ]
  },
  {
   "cell_type": "markdown",
   "metadata": {},
   "source": [
    "I decided to drop states that do not apperar in approved datasets and rejected dataset together. The idea is to be able to test the rejected dataset on the model created with approved application. I will also frop rows in rejected application where state is not specified."
   ]
  },
  {
   "cell_type": "code",
   "execution_count": 326,
   "metadata": {
    "scrolled": true
   },
   "outputs": [
    {
     "data": {
      "text/plain": [
       "\"WA\"    2334\n",
       "\"CA\"    1131\n",
       "\"UT\"     569\n",
       "\"ID\"     108\n",
       "\"GA\"       1\n",
       "\"KS\"       1\n",
       "\"FL\"       1\n",
       "Name: state, dtype: int64"
      ]
     },
     "execution_count": 326,
     "metadata": {},
     "output_type": "execute_result"
    }
   ],
   "source": [
    "df_approved['state'].value_counts()"
   ]
  },
  {
   "cell_type": "markdown",
   "metadata": {},
   "source": [
    "## Multicollinearity and correlations"
   ]
  },
  {
   "cell_type": "code",
   "execution_count": 327,
   "metadata": {},
   "outputs": [
    {
     "data": {
      "image/png": "[encoded data removed]",
      "text/plain": [
       "<Figure size 1152x1152 with 2 Axes>"
      ]
     },
     "metadata": {},
     "output_type": "display_data"
    }
   ],
   "source": [
    "sns.set(rc={'figure.figsize':(16,16)})\n",
    "sns.heatmap(df_approved.corr(), center=0);"
   ]
  },
  {
   "cell_type": "markdown",
   "metadata": {},
   "source": [
    "It is clear that there is some data that reflects event after granting the loan ('loan_amount', 'loan_borrowed', etc.).\n",
    "\n",
    "There is also hight correlations between length of income and length of transaction history, which asre clearly connected."
   ]
  },
  {
   "cell_type": "code",
   "execution_count": 334,
   "metadata": {},
   "outputs": [
    {
     "data": {
      "text/html": [
       "<div>\n",
       "<style scoped>\n",
       "    .dataframe tbody tr th:only-of-type {\n",
       "        vertical-align: middle;\n",
       "    }\n",
       "\n",
       "    .dataframe tbody tr th {\n",
       "        vertical-align: top;\n",
       "    }\n",
       "\n",
       "    .dataframe thead th {\n",
       "        text-align: right;\n",
       "    }\n",
       "</style>\n",
       "<table border=\"1\" class=\"dataframe\">\n",
       "  <thead>\n",
       "    <tr style=\"text-align: right;\">\n",
       "      <th></th>\n",
       "      <th>loan_outstanding_inc</th>\n",
       "      <th>status</th>\n",
       "    </tr>\n",
       "  </thead>\n",
       "  <tbody>\n",
       "    <tr>\n",
       "      <th>Unnamed: 0</th>\n",
       "      <td>0.00410053</td>\n",
       "      <td>-0.00551489</td>\n",
       "    </tr>\n",
       "    <tr>\n",
       "      <th>monthly_income</th>\n",
       "      <td>-0.0433074</td>\n",
       "      <td>0.0808281</td>\n",
       "    </tr>\n",
       "    <tr>\n",
       "      <th>gig_economy_weekly_income</th>\n",
       "      <td>0.00774372</td>\n",
       "      <td>0.00616934</td>\n",
       "    </tr>\n",
       "    <tr>\n",
       "      <th>atm_check_deposits_weekly_income</th>\n",
       "      <td>-0.0450395</td>\n",
       "      <td>0.0376887</td>\n",
       "    </tr>\n",
       "    <tr>\n",
       "      <th>direct_deposit_weekly_income</th>\n",
       "      <td>-0.0320597</td>\n",
       "      <td>0.071408</td>\n",
       "    </tr>\n",
       "    <tr>\n",
       "      <th>government_aid_weekly_income</th>\n",
       "      <td>0.0116768</td>\n",
       "      <td>0.0034434</td>\n",
       "    </tr>\n",
       "    <tr>\n",
       "      <th>frequency_heuristic_weekly_income</th>\n",
       "      <td>-0.0185993</td>\n",
       "      <td>0.0277338</td>\n",
       "    </tr>\n",
       "    <tr>\n",
       "      <th>large_deposits_weekly_income</th>\n",
       "      <td>0.00704523</td>\n",
       "      <td>-0.000496234</td>\n",
       "    </tr>\n",
       "    <tr>\n",
       "      <th>income_length</th>\n",
       "      <td>-0.0255188</td>\n",
       "      <td>0.0355449</td>\n",
       "    </tr>\n",
       "    <tr>\n",
       "      <th>payrolls_per_month</th>\n",
       "      <td>0.0246747</td>\n",
       "      <td>-0.00298115</td>\n",
       "    </tr>\n",
       "    <tr>\n",
       "      <th>income_sources</th>\n",
       "      <td>-0.0222341</td>\n",
       "      <td>0.027264</td>\n",
       "    </tr>\n",
       "    <tr>\n",
       "      <th>days_since_most_recent_payroll</th>\n",
       "      <td>-0.00997959</td>\n",
       "      <td>0.00421161</td>\n",
       "    </tr>\n",
       "    <tr>\n",
       "      <th>days_until_next_payroll</th>\n",
       "      <td>-0.0295599</td>\n",
       "      <td>0.0247329</td>\n",
       "    </tr>\n",
       "    <tr>\n",
       "      <th>bank_balance</th>\n",
       "      <td>-0.0426791</td>\n",
       "      <td>0.0497219</td>\n",
       "    </tr>\n",
       "    <tr>\n",
       "      <th>overdraft_transactions</th>\n",
       "      <td>0.0118529</td>\n",
       "      <td>-0.0141686</td>\n",
       "    </tr>\n",
       "    <tr>\n",
       "      <th>nsf_transactions</th>\n",
       "      <td>0.0330488</td>\n",
       "      <td>-0.0121432</td>\n",
       "    </tr>\n",
       "    <tr>\n",
       "      <th>return_transactions</th>\n",
       "      <td>0.0566737</td>\n",
       "      <td>-0.0539477</td>\n",
       "    </tr>\n",
       "    <tr>\n",
       "      <th>reverse_transactions</th>\n",
       "      <td>0.00305808</td>\n",
       "      <td>-0.0142823</td>\n",
       "    </tr>\n",
       "    <tr>\n",
       "      <th>length_of_transaction_history</th>\n",
       "      <td>0.0246679</td>\n",
       "      <td>-0.0135484</td>\n",
       "    </tr>\n",
       "    <tr>\n",
       "      <th>mortgage</th>\n",
       "      <td>-0.0323208</td>\n",
       "      <td>0.0343214</td>\n",
       "    </tr>\n",
       "    <tr>\n",
       "      <th>auto_loan</th>\n",
       "      <td>-0.0310063</td>\n",
       "      <td>0.0538611</td>\n",
       "    </tr>\n",
       "    <tr>\n",
       "      <th>student_loan</th>\n",
       "      <td>-0.046959</td>\n",
       "      <td>0.0575302</td>\n",
       "    </tr>\n",
       "    <tr>\n",
       "      <th>traditional_single_payment</th>\n",
       "      <td>0.00527235</td>\n",
       "      <td>-0.0083818</td>\n",
       "    </tr>\n",
       "    <tr>\n",
       "      <th>installment_loan</th>\n",
       "      <td>-0.0330466</td>\n",
       "      <td>0.0463877</td>\n",
       "    </tr>\n",
       "    <tr>\n",
       "      <th>predatory_installment_loan</th>\n",
       "      <td>0.0689215</td>\n",
       "      <td>-0.0554524</td>\n",
       "    </tr>\n",
       "    <tr>\n",
       "      <th>title_loan</th>\n",
       "      <td>-0.00247397</td>\n",
       "      <td>-0.00162832</td>\n",
       "    </tr>\n",
       "    <tr>\n",
       "      <th>pay_advances</th>\n",
       "      <td>-0.0104506</td>\n",
       "      <td>0.0159917</td>\n",
       "    </tr>\n",
       "    <tr>\n",
       "      <th>total_loan_payments</th>\n",
       "      <td>-0.0140887</td>\n",
       "      <td>0.0273614</td>\n",
       "    </tr>\n",
       "    <tr>\n",
       "      <th>no_of_other_active_loans</th>\n",
       "      <td>0.0207702</td>\n",
       "      <td>-0.026419</td>\n",
       "    </tr>\n",
       "    <tr>\n",
       "      <th>traditional_single_payment_mean</th>\n",
       "      <td>-0.018955</td>\n",
       "      <td>0.0196293</td>\n",
       "    </tr>\n",
       "    <tr>\n",
       "      <th>traditional_single_payment_trend</th>\n",
       "      <td>-0.0307507</td>\n",
       "      <td>0.0276193</td>\n",
       "    </tr>\n",
       "    <tr>\n",
       "      <th>loan_amount</th>\n",
       "      <td>0.152364</td>\n",
       "      <td>-0.00151966</td>\n",
       "    </tr>\n",
       "    <tr>\n",
       "      <th>loan_requested</th>\n",
       "      <td>0.12383</td>\n",
       "      <td>-0.0590812</td>\n",
       "    </tr>\n",
       "    <tr>\n",
       "      <th>loan_borrowed_inc</th>\n",
       "      <td>0.153807</td>\n",
       "      <td>-0.00319252</td>\n",
       "    </tr>\n",
       "    <tr>\n",
       "      <th>loan_outstanding_inc</th>\n",
       "      <td>yes</td>\n",
       "      <td>yes</td>\n",
       "    </tr>\n",
       "    <tr>\n",
       "      <th>status</th>\n",
       "      <td>yes</td>\n",
       "      <td>yes</td>\n",
       "    </tr>\n",
       "  </tbody>\n",
       "</table>\n",
       "</div>"
      ],
      "text/plain": [
       "                                  loan_outstanding_inc       status\n",
       "Unnamed: 0                                  0.00410053  -0.00551489\n",
       "monthly_income                              -0.0433074    0.0808281\n",
       "gig_economy_weekly_income                   0.00774372   0.00616934\n",
       "atm_check_deposits_weekly_income            -0.0450395    0.0376887\n",
       "direct_deposit_weekly_income                -0.0320597     0.071408\n",
       "government_aid_weekly_income                 0.0116768    0.0034434\n",
       "frequency_heuristic_weekly_income           -0.0185993    0.0277338\n",
       "large_deposits_weekly_income                0.00704523 -0.000496234\n",
       "income_length                               -0.0255188    0.0355449\n",
       "payrolls_per_month                           0.0246747  -0.00298115\n",
       "income_sources                              -0.0222341     0.027264\n",
       "days_since_most_recent_payroll             -0.00997959   0.00421161\n",
       "days_until_next_payroll                     -0.0295599    0.0247329\n",
       "bank_balance                                -0.0426791    0.0497219\n",
       "overdraft_transactions                       0.0118529   -0.0141686\n",
       "nsf_transactions                             0.0330488   -0.0121432\n",
       "return_transactions                          0.0566737   -0.0539477\n",
       "reverse_transactions                        0.00305808   -0.0142823\n",
       "length_of_transaction_history                0.0246679   -0.0135484\n",
       "mortgage                                    -0.0323208    0.0343214\n",
       "auto_loan                                   -0.0310063    0.0538611\n",
       "student_loan                                 -0.046959    0.0575302\n",
       "traditional_single_payment                  0.00527235   -0.0083818\n",
       "installment_loan                            -0.0330466    0.0463877\n",
       "predatory_installment_loan                   0.0689215   -0.0554524\n",
       "title_loan                                 -0.00247397  -0.00162832\n",
       "pay_advances                                -0.0104506    0.0159917\n",
       "total_loan_payments                         -0.0140887    0.0273614\n",
       "no_of_other_active_loans                     0.0207702    -0.026419\n",
       "traditional_single_payment_mean              -0.018955    0.0196293\n",
       "traditional_single_payment_trend            -0.0307507    0.0276193\n",
       "loan_amount                                   0.152364  -0.00151966\n",
       "loan_requested                                 0.12383   -0.0590812\n",
       "loan_borrowed_inc                             0.153807  -0.00319252\n",
       "loan_outstanding_inc                               yes          yes\n",
       "status                                             yes          yes"
      ]
     },
     "execution_count": 334,
     "metadata": {},
     "output_type": "execute_result"
    }
   ],
   "source": [
    "#search where correlation is greater than 0.7\n",
    "correlations = df_approved.corr().applymap(lambda x: 'yes' if (abs(x) > 0.7) else x)\n",
    "dfs = []\n",
    "for name in correlations.columns:\n",
    "    if len(correlations.loc[correlations[name]=='yes']) > 1:\n",
    "        dfs.append(correlations.loc[correlations[name]=='yes'])\n",
    "len(dfs)  #6      \n",
    "# I checked all dfs to see where are the correlations\n",
    "dfs[5].T"
   ]
  },
  {
   "cell_type": "markdown",
   "metadata": {},
   "source": [
    "Apart from obvious correlation between features that describe loan after it was granted, the high correlation between `income_length` and `length_of_transaction_history` was confirmed."
   ]
  },
  {
   "cell_type": "markdown",
   "metadata": {},
   "source": [
    "## Check data distributions"
   ]
  },
  {
   "cell_type": "code",
   "execution_count": 335,
   "metadata": {},
   "outputs": [
    {
     "data": {
      "image/png": "[encoded data removed]",
      "text/plain": [
       "<Figure size 1152x1152 with 36 Axes>"
      ]
     },
     "metadata": {},
     "output_type": "display_data"
    }
   ],
   "source": [
    "df_approved.hist();"
   ]
  },
  {
   "cell_type": "markdown",
   "metadata": {},
   "source": [
    "Distribution is a bit confusing because of the scale of many variables. Some seem to have only 0 values, but it is not the case, as small values are not seen in the histograms."
   ]
  },
  {
   "cell_type": "markdown",
   "metadata": {},
   "source": [
    "# Preprocessing\n",
    "\n",
    "1. Drop `Unnamed: 0`, `loan_id` columns\n",
    "2. Drop columns asocciated with granting the loan: `loan_amount`, `loan_borrowed_inc`, `loan_outstanding_inc`\n",
    "3. Drop `length_of_transaction_history` because of correlation with `income_length`\n",
    "2. Leave only states: 'WA', 'CA', 'UT', 'ID'"
   ]
  },
  {
   "cell_type": "code",
   "execution_count": 336,
   "metadata": {},
   "outputs": [],
   "source": [
    "df_approved = preprocess(df_approved)\n",
    "df_rejected = preprocess(df_rejected)"
   ]
  },
  {
   "cell_type": "markdown",
   "metadata": {},
   "source": [
    "# Train test split\n",
    "I will work mainly with approved loans in the beginning and use rejected loans a another testing set"
   ]
  },
  {
   "cell_type": "code",
   "execution_count": 220,
   "metadata": {},
   "outputs": [],
   "source": [
    "random.seed(113)\n",
    "y = df_approved['status']\n",
    "X = df_approved.drop(['status'], axis=1)\n",
    "\n",
    "#to maintain time order of the appointment date, shuffle is set to False\n",
    "X_train, X_test, y_train, y_test = train_test_split(X, y, test_size=0.2)"
   ]
  },
  {
   "cell_type": "markdown",
   "metadata": {},
   "source": [
    "### One-hot-encoding"
   ]
  },
  {
   "cell_type": "code",
   "execution_count": 221,
   "metadata": {},
   "outputs": [],
   "source": [
    "X_train = ohe(X_train, 'state')\n",
    "X_test = ohe(X_test, 'state')"
   ]
  },
  {
   "cell_type": "code",
   "execution_count": 222,
   "metadata": {},
   "outputs": [],
   "source": [
    "#reset indexes of y-values too (Xs were reset during ohe)\n",
    "y_train = y_train.reset_index(drop=True)\n",
    "y_test = y_test.reset_index(drop=True)"
   ]
  },
  {
   "cell_type": "code",
   "execution_count": 223,
   "metadata": {},
   "outputs": [],
   "source": [
    "#rejected dataset one-hot-encoding\n",
    "df_rejected = ohe(df_rejected, 'state')"
   ]
  },
  {
   "cell_type": "markdown",
   "metadata": {},
   "source": [
    "### Scaling"
   ]
  },
  {
   "cell_type": "markdown",
   "metadata": {},
   "source": [
    "Without scaling I could not get consistent coefficient among Logistic Regression model from Sklearn and StatsModels."
   ]
  },
  {
   "cell_type": "code",
   "execution_count": 37,
   "metadata": {},
   "outputs": [
    {
     "data": {
      "text/plain": [
       "Index(['monthly_income', 'gig_economy_weekly_income',\n",
       "       'atm_check_deposits_weekly_income', 'direct_deposit_weekly_income',\n",
       "       'government_aid_weekly_income', 'frequency_heuristic_weekly_income',\n",
       "       'large_deposits_weekly_income', 'income_length', 'payrolls_per_month',\n",
       "       'income_sources', 'days_since_most_recent_payroll',\n",
       "       'days_until_next_payroll', 'bank_balance', 'overdraft_transactions',\n",
       "       'nsf_transactions', 'return_transactions', 'reverse_transactions',\n",
       "       'mortgage', 'auto_loan', 'student_loan', 'traditional_single_payment',\n",
       "       'installment_loan', 'predatory_installment_loan', 'title_loan',\n",
       "       'pay_advances', 'total_loan_payments', 'no_of_other_active_loans',\n",
       "       'traditional_single_payment_mean', 'traditional_single_payment_trend',\n",
       "       'loan_requested', 'state_\"ID\"', 'state_\"UT\"', 'state_\"WA\"'],\n",
       "      dtype='object')"
      ]
     },
     "execution_count": 37,
     "metadata": {},
     "output_type": "execute_result"
    }
   ],
   "source": [
    "X_train.columns"
   ]
  },
  {
   "cell_type": "code",
   "execution_count": 38,
   "metadata": {},
   "outputs": [],
   "source": [
    "binary_columns = X_train[['state_\\\"ID\\\"', 'state_\\\"UT\\\"', 'state_\\\"WA\\\"']]"
   ]
  },
  {
   "cell_type": "code",
   "execution_count": 39,
   "metadata": {},
   "outputs": [],
   "source": [
    "X_train_c = X_train.drop(['state_\\\"ID\\\"', 'state_\\\"UT\\\"', 'state_\\\"WA\\\"'], axis=1)"
   ]
  },
  {
   "cell_type": "code",
   "execution_count": 40,
   "metadata": {},
   "outputs": [
    {
     "data": {
      "text/plain": [
       "StandardScaler(copy=True, with_mean=True, with_std=True)"
      ]
     },
     "execution_count": 40,
     "metadata": {},
     "output_type": "execute_result"
    }
   ],
   "source": [
    "ss = StandardScaler()\n",
    "ss.fit(X_train_c)"
   ]
  },
  {
   "cell_type": "code",
   "execution_count": 41,
   "metadata": {},
   "outputs": [],
   "source": [
    "#scale X_train\n",
    "X_train_scaled = ss.transform(X_train_c)"
   ]
  },
  {
   "cell_type": "code",
   "execution_count": 42,
   "metadata": {},
   "outputs": [],
   "source": [
    "X_train_scaled = pd.DataFrame(X_train_scaled, columns = ['monthly_income', 'gig_economy_weekly_income',\n",
    "       'atm_check_deposits_weekly_income', 'direct_deposit_weekly_income',\n",
    "       'government_aid_weekly_income', 'frequency_heuristic_weekly_income',\n",
    "       'large_deposits_weekly_income', 'income_length', 'payrolls_per_month',\n",
    "       'income_sources', 'days_since_most_recent_payroll',\n",
    "       'days_until_next_payroll', 'bank_balance', 'overdraft_transactions',\n",
    "       'nsf_transactions', 'return_transactions', 'reverse_transactions',\n",
    "       'mortgage', 'auto_loan', 'student_loan', 'traditional_single_payment',\n",
    "       'installment_loan', 'predatory_installment_loan', 'title_loan',\n",
    "       'pay_advances', 'total_loan_payments', 'no_of_other_active_loans',\n",
    "       'traditional_single_payment_mean', 'traditional_single_payment_trend',\n",
    "       'loan_requested'])"
   ]
  },
  {
   "cell_type": "code",
   "execution_count": 43,
   "metadata": {},
   "outputs": [],
   "source": [
    "X_train_scaled = pd.concat([X_train_scaled, binary_columns], axis=1, join='inner') "
   ]
  },
  {
   "cell_type": "code",
   "execution_count": 44,
   "metadata": {},
   "outputs": [
    {
     "data": {
      "text/html": [
       "<div>\n",
       "<style scoped>\n",
       "    .dataframe tbody tr th:only-of-type {\n",
       "        vertical-align: middle;\n",
       "    }\n",
       "\n",
       "    .dataframe tbody tr th {\n",
       "        vertical-align: top;\n",
       "    }\n",
       "\n",
       "    .dataframe thead th {\n",
       "        text-align: right;\n",
       "    }\n",
       "</style>\n",
       "<table border=\"1\" class=\"dataframe\">\n",
       "  <thead>\n",
       "    <tr style=\"text-align: right;\">\n",
       "      <th></th>\n",
       "      <th>monthly_income</th>\n",
       "      <th>gig_economy_weekly_income</th>\n",
       "      <th>atm_check_deposits_weekly_income</th>\n",
       "      <th>direct_deposit_weekly_income</th>\n",
       "      <th>government_aid_weekly_income</th>\n",
       "      <th>frequency_heuristic_weekly_income</th>\n",
       "      <th>large_deposits_weekly_income</th>\n",
       "      <th>income_length</th>\n",
       "      <th>payrolls_per_month</th>\n",
       "      <th>income_sources</th>\n",
       "      <th>...</th>\n",
       "      <th>title_loan</th>\n",
       "      <th>pay_advances</th>\n",
       "      <th>total_loan_payments</th>\n",
       "      <th>no_of_other_active_loans</th>\n",
       "      <th>traditional_single_payment_mean</th>\n",
       "      <th>traditional_single_payment_trend</th>\n",
       "      <th>loan_requested</th>\n",
       "      <th>state_\"ID\"</th>\n",
       "      <th>state_\"UT\"</th>\n",
       "      <th>state_\"WA\"</th>\n",
       "    </tr>\n",
       "  </thead>\n",
       "  <tbody>\n",
       "    <tr>\n",
       "      <th>0</th>\n",
       "      <td>-0.237297</td>\n",
       "      <td>-0.119097</td>\n",
       "      <td>-0.383458</td>\n",
       "      <td>0.227363</td>\n",
       "      <td>-0.135623</td>\n",
       "      <td>-0.377722</td>\n",
       "      <td>-0.133784</td>\n",
       "      <td>0.244116</td>\n",
       "      <td>-0.432541</td>\n",
       "      <td>-0.732181</td>\n",
       "      <td>...</td>\n",
       "      <td>-0.051024</td>\n",
       "      <td>-0.34078</td>\n",
       "      <td>0.140532</td>\n",
       "      <td>0.172273</td>\n",
       "      <td>0.434033</td>\n",
       "      <td>-0.049789</td>\n",
       "      <td>-1.204645</td>\n",
       "      <td>0.0</td>\n",
       "      <td>0.0</td>\n",
       "      <td>1.0</td>\n",
       "    </tr>\n",
       "    <tr>\n",
       "      <th>1</th>\n",
       "      <td>0.063139</td>\n",
       "      <td>-0.119097</td>\n",
       "      <td>-0.383458</td>\n",
       "      <td>0.646109</td>\n",
       "      <td>-0.135623</td>\n",
       "      <td>-0.377722</td>\n",
       "      <td>-0.133784</td>\n",
       "      <td>0.367800</td>\n",
       "      <td>-0.432541</td>\n",
       "      <td>-0.732181</td>\n",
       "      <td>...</td>\n",
       "      <td>-0.051024</td>\n",
       "      <td>-0.34078</td>\n",
       "      <td>0.138142</td>\n",
       "      <td>1.325283</td>\n",
       "      <td>-0.366729</td>\n",
       "      <td>-0.049789</td>\n",
       "      <td>1.330281</td>\n",
       "      <td>0.0</td>\n",
       "      <td>0.0</td>\n",
       "      <td>1.0</td>\n",
       "    </tr>\n",
       "    <tr>\n",
       "      <th>2</th>\n",
       "      <td>-0.014247</td>\n",
       "      <td>-0.119097</td>\n",
       "      <td>-0.383458</td>\n",
       "      <td>-0.946957</td>\n",
       "      <td>-0.135623</td>\n",
       "      <td>1.425085</td>\n",
       "      <td>-0.133784</td>\n",
       "      <td>-1.228844</td>\n",
       "      <td>-0.470645</td>\n",
       "      <td>-0.732181</td>\n",
       "      <td>...</td>\n",
       "      <td>-0.051024</td>\n",
       "      <td>-0.34078</td>\n",
       "      <td>-0.283183</td>\n",
       "      <td>0.172273</td>\n",
       "      <td>-0.366729</td>\n",
       "      <td>-0.049789</td>\n",
       "      <td>-0.444167</td>\n",
       "      <td>0.0</td>\n",
       "      <td>0.0</td>\n",
       "      <td>0.0</td>\n",
       "    </tr>\n",
       "    <tr>\n",
       "      <th>3</th>\n",
       "      <td>0.547500</td>\n",
       "      <td>-0.119097</td>\n",
       "      <td>0.534312</td>\n",
       "      <td>0.975588</td>\n",
       "      <td>-0.135623</td>\n",
       "      <td>-0.377722</td>\n",
       "      <td>-0.133784</td>\n",
       "      <td>0.356556</td>\n",
       "      <td>0.443845</td>\n",
       "      <td>1.066645</td>\n",
       "      <td>...</td>\n",
       "      <td>-0.051024</td>\n",
       "      <td>-0.34078</td>\n",
       "      <td>0.831128</td>\n",
       "      <td>0.172273</td>\n",
       "      <td>2.569399</td>\n",
       "      <td>-0.049789</td>\n",
       "      <td>-0.444167</td>\n",
       "      <td>0.0</td>\n",
       "      <td>0.0</td>\n",
       "      <td>0.0</td>\n",
       "    </tr>\n",
       "    <tr>\n",
       "      <th>4</th>\n",
       "      <td>-0.307527</td>\n",
       "      <td>-0.119097</td>\n",
       "      <td>-0.383458</td>\n",
       "      <td>0.129477</td>\n",
       "      <td>-0.135623</td>\n",
       "      <td>-0.377722</td>\n",
       "      <td>-0.133784</td>\n",
       "      <td>-0.610426</td>\n",
       "      <td>-0.584956</td>\n",
       "      <td>-0.732181</td>\n",
       "      <td>...</td>\n",
       "      <td>-0.051024</td>\n",
       "      <td>-0.34078</td>\n",
       "      <td>0.282139</td>\n",
       "      <td>0.172273</td>\n",
       "      <td>0.434033</td>\n",
       "      <td>-0.049789</td>\n",
       "      <td>0.062818</td>\n",
       "      <td>0.0</td>\n",
       "      <td>1.0</td>\n",
       "      <td>0.0</td>\n",
       "    </tr>\n",
       "  </tbody>\n",
       "</table>\n",
       "<p>5 rows × 33 columns</p>\n",
       "</div>"
      ],
      "text/plain": [
       "   monthly_income  gig_economy_weekly_income  \\\n",
       "0       -0.237297                  -0.119097   \n",
       "1        0.063139                  -0.119097   \n",
       "2       -0.014247                  -0.119097   \n",
       "3        0.547500                  -0.119097   \n",
       "4       -0.307527                  -0.119097   \n",
       "\n",
       "   atm_check_deposits_weekly_income  direct_deposit_weekly_income  \\\n",
       "0                         -0.383458                      0.227363   \n",
       "1                         -0.383458                      0.646109   \n",
       "2                         -0.383458                     -0.946957   \n",
       "3                          0.534312                      0.975588   \n",
       "4                         -0.383458                      0.129477   \n",
       "\n",
       "   government_aid_weekly_income  frequency_heuristic_weekly_income  \\\n",
       "0                     -0.135623                          -0.377722   \n",
       "1                     -0.135623                          -0.377722   \n",
       "2                     -0.135623                           1.425085   \n",
       "3                     -0.135623                          -0.377722   \n",
       "4                     -0.135623                          -0.377722   \n",
       "\n",
       "   large_deposits_weekly_income  income_length  payrolls_per_month  \\\n",
       "0                     -0.133784       0.244116           -0.432541   \n",
       "1                     -0.133784       0.367800           -0.432541   \n",
       "2                     -0.133784      -1.228844           -0.470645   \n",
       "3                     -0.133784       0.356556            0.443845   \n",
       "4                     -0.133784      -0.610426           -0.584956   \n",
       "\n",
       "   income_sources     ...      title_loan  pay_advances  total_loan_payments  \\\n",
       "0       -0.732181     ...       -0.051024      -0.34078             0.140532   \n",
       "1       -0.732181     ...       -0.051024      -0.34078             0.138142   \n",
       "2       -0.732181     ...       -0.051024      -0.34078            -0.283183   \n",
       "3        1.066645     ...       -0.051024      -0.34078             0.831128   \n",
       "4       -0.732181     ...       -0.051024      -0.34078             0.282139   \n",
       "\n",
       "   no_of_other_active_loans  traditional_single_payment_mean  \\\n",
       "0                  0.172273                         0.434033   \n",
       "1                  1.325283                        -0.366729   \n",
       "2                  0.172273                        -0.366729   \n",
       "3                  0.172273                         2.569399   \n",
       "4                  0.172273                         0.434033   \n",
       "\n",
       "   traditional_single_payment_trend  loan_requested  state_\"ID\"  state_\"UT\"  \\\n",
       "0                         -0.049789       -1.204645         0.0         0.0   \n",
       "1                         -0.049789        1.330281         0.0         0.0   \n",
       "2                         -0.049789       -0.444167         0.0         0.0   \n",
       "3                         -0.049789       -0.444167         0.0         0.0   \n",
       "4                         -0.049789        0.062818         0.0         1.0   \n",
       "\n",
       "   state_\"WA\"  \n",
       "0         1.0  \n",
       "1         1.0  \n",
       "2         0.0  \n",
       "3         0.0  \n",
       "4         0.0  \n",
       "\n",
       "[5 rows x 33 columns]"
      ]
     },
     "execution_count": 44,
     "metadata": {},
     "output_type": "execute_result"
    }
   ],
   "source": [
    "X_train_scaled.head()"
   ]
  },
  {
   "cell_type": "code",
   "execution_count": 45,
   "metadata": {},
   "outputs": [
    {
     "data": {
      "text/html": [
       "<div>\n",
       "<style scoped>\n",
       "    .dataframe tbody tr th:only-of-type {\n",
       "        vertical-align: middle;\n",
       "    }\n",
       "\n",
       "    .dataframe tbody tr th {\n",
       "        vertical-align: top;\n",
       "    }\n",
       "\n",
       "    .dataframe thead th {\n",
       "        text-align: right;\n",
       "    }\n",
       "</style>\n",
       "<table border=\"1\" class=\"dataframe\">\n",
       "  <thead>\n",
       "    <tr style=\"text-align: right;\">\n",
       "      <th></th>\n",
       "      <th>monthly_income</th>\n",
       "      <th>gig_economy_weekly_income</th>\n",
       "      <th>atm_check_deposits_weekly_income</th>\n",
       "      <th>direct_deposit_weekly_income</th>\n",
       "      <th>government_aid_weekly_income</th>\n",
       "      <th>frequency_heuristic_weekly_income</th>\n",
       "      <th>large_deposits_weekly_income</th>\n",
       "      <th>income_length</th>\n",
       "      <th>payrolls_per_month</th>\n",
       "      <th>income_sources</th>\n",
       "      <th>...</th>\n",
       "      <th>title_loan</th>\n",
       "      <th>pay_advances</th>\n",
       "      <th>total_loan_payments</th>\n",
       "      <th>no_of_other_active_loans</th>\n",
       "      <th>traditional_single_payment_mean</th>\n",
       "      <th>traditional_single_payment_trend</th>\n",
       "      <th>loan_requested</th>\n",
       "      <th>state_\"ID\"</th>\n",
       "      <th>state_\"UT\"</th>\n",
       "      <th>state_\"WA\"</th>\n",
       "    </tr>\n",
       "  </thead>\n",
       "  <tbody>\n",
       "    <tr>\n",
       "      <th>0</th>\n",
       "      <td>2.015481</td>\n",
       "      <td>-0.119097</td>\n",
       "      <td>-0.383458</td>\n",
       "      <td>-0.946957</td>\n",
       "      <td>-0.135623</td>\n",
       "      <td>4.859073</td>\n",
       "      <td>-0.133784</td>\n",
       "      <td>2.054395</td>\n",
       "      <td>-0.470645</td>\n",
       "      <td>-0.732181</td>\n",
       "      <td>...</td>\n",
       "      <td>-0.051024</td>\n",
       "      <td>-0.340780</td>\n",
       "      <td>-0.523852</td>\n",
       "      <td>-0.980737</td>\n",
       "      <td>0.534129</td>\n",
       "      <td>0.037125</td>\n",
       "      <td>1.330281</td>\n",
       "      <td>0.0</td>\n",
       "      <td>0.0</td>\n",
       "      <td>1.0</td>\n",
       "    </tr>\n",
       "    <tr>\n",
       "      <th>1</th>\n",
       "      <td>-0.595278</td>\n",
       "      <td>-0.119097</td>\n",
       "      <td>-0.383458</td>\n",
       "      <td>-0.271588</td>\n",
       "      <td>-0.135623</td>\n",
       "      <td>-0.377722</td>\n",
       "      <td>-0.133784</td>\n",
       "      <td>-0.351814</td>\n",
       "      <td>-0.070556</td>\n",
       "      <td>0.167232</td>\n",
       "      <td>...</td>\n",
       "      <td>-0.051024</td>\n",
       "      <td>0.548022</td>\n",
       "      <td>-0.339082</td>\n",
       "      <td>-0.404232</td>\n",
       "      <td>-0.366729</td>\n",
       "      <td>-0.049789</td>\n",
       "      <td>-0.118248</td>\n",
       "      <td>0.0</td>\n",
       "      <td>1.0</td>\n",
       "      <td>0.0</td>\n",
       "    </tr>\n",
       "    <tr>\n",
       "      <th>2</th>\n",
       "      <td>-0.477562</td>\n",
       "      <td>-0.119097</td>\n",
       "      <td>-0.383458</td>\n",
       "      <td>-0.107516</td>\n",
       "      <td>-0.135623</td>\n",
       "      <td>-0.377722</td>\n",
       "      <td>-0.133784</td>\n",
       "      <td>-1.307552</td>\n",
       "      <td>-0.699268</td>\n",
       "      <td>-0.732181</td>\n",
       "      <td>...</td>\n",
       "      <td>-0.051024</td>\n",
       "      <td>-0.340780</td>\n",
       "      <td>-0.523852</td>\n",
       "      <td>-0.980737</td>\n",
       "      <td>-0.366729</td>\n",
       "      <td>-0.049789</td>\n",
       "      <td>-0.480380</td>\n",
       "      <td>0.0</td>\n",
       "      <td>0.0</td>\n",
       "      <td>1.0</td>\n",
       "    </tr>\n",
       "    <tr>\n",
       "      <th>3</th>\n",
       "      <td>2.080027</td>\n",
       "      <td>-0.119097</td>\n",
       "      <td>-0.067974</td>\n",
       "      <td>-0.946957</td>\n",
       "      <td>-0.135623</td>\n",
       "      <td>2.735149</td>\n",
       "      <td>3.126843</td>\n",
       "      <td>1.953199</td>\n",
       "      <td>0.081859</td>\n",
       "      <td>1.066645</td>\n",
       "      <td>...</td>\n",
       "      <td>59.354797</td>\n",
       "      <td>-0.340780</td>\n",
       "      <td>1.575283</td>\n",
       "      <td>1.325283</td>\n",
       "      <td>-0.366729</td>\n",
       "      <td>-0.049789</td>\n",
       "      <td>1.330281</td>\n",
       "      <td>0.0</td>\n",
       "      <td>1.0</td>\n",
       "      <td>0.0</td>\n",
       "    </tr>\n",
       "    <tr>\n",
       "      <th>4</th>\n",
       "      <td>0.849886</td>\n",
       "      <td>5.727790</td>\n",
       "      <td>1.220990</td>\n",
       "      <td>-0.946957</td>\n",
       "      <td>-0.135623</td>\n",
       "      <td>1.392166</td>\n",
       "      <td>-0.133784</td>\n",
       "      <td>0.570191</td>\n",
       "      <td>4.407724</td>\n",
       "      <td>1.966058</td>\n",
       "      <td>...</td>\n",
       "      <td>-0.051024</td>\n",
       "      <td>-0.340780</td>\n",
       "      <td>-0.404983</td>\n",
       "      <td>0.748778</td>\n",
       "      <td>6.439748</td>\n",
       "      <td>2.383810</td>\n",
       "      <td>-0.444167</td>\n",
       "      <td>0.0</td>\n",
       "      <td>0.0</td>\n",
       "      <td>0.0</td>\n",
       "    </tr>\n",
       "  </tbody>\n",
       "</table>\n",
       "<p>5 rows × 33 columns</p>\n",
       "</div>"
      ],
      "text/plain": [
       "   monthly_income  gig_economy_weekly_income  \\\n",
       "0        2.015481                  -0.119097   \n",
       "1       -0.595278                  -0.119097   \n",
       "2       -0.477562                  -0.119097   \n",
       "3        2.080027                  -0.119097   \n",
       "4        0.849886                   5.727790   \n",
       "\n",
       "   atm_check_deposits_weekly_income  direct_deposit_weekly_income  \\\n",
       "0                         -0.383458                     -0.946957   \n",
       "1                         -0.383458                     -0.271588   \n",
       "2                         -0.383458                     -0.107516   \n",
       "3                         -0.067974                     -0.946957   \n",
       "4                          1.220990                     -0.946957   \n",
       "\n",
       "   government_aid_weekly_income  frequency_heuristic_weekly_income  \\\n",
       "0                     -0.135623                           4.859073   \n",
       "1                     -0.135623                          -0.377722   \n",
       "2                     -0.135623                          -0.377722   \n",
       "3                     -0.135623                           2.735149   \n",
       "4                     -0.135623                           1.392166   \n",
       "\n",
       "   large_deposits_weekly_income  income_length  payrolls_per_month  \\\n",
       "0                     -0.133784       2.054395           -0.470645   \n",
       "1                     -0.133784      -0.351814           -0.070556   \n",
       "2                     -0.133784      -1.307552           -0.699268   \n",
       "3                      3.126843       1.953199            0.081859   \n",
       "4                     -0.133784       0.570191            4.407724   \n",
       "\n",
       "   income_sources     ...      title_loan  pay_advances  total_loan_payments  \\\n",
       "0       -0.732181     ...       -0.051024     -0.340780            -0.523852   \n",
       "1        0.167232     ...       -0.051024      0.548022            -0.339082   \n",
       "2       -0.732181     ...       -0.051024     -0.340780            -0.523852   \n",
       "3        1.066645     ...       59.354797     -0.340780             1.575283   \n",
       "4        1.966058     ...       -0.051024     -0.340780            -0.404983   \n",
       "\n",
       "   no_of_other_active_loans  traditional_single_payment_mean  \\\n",
       "0                 -0.980737                         0.534129   \n",
       "1                 -0.404232                        -0.366729   \n",
       "2                 -0.980737                        -0.366729   \n",
       "3                  1.325283                        -0.366729   \n",
       "4                  0.748778                         6.439748   \n",
       "\n",
       "   traditional_single_payment_trend  loan_requested  state_\"ID\"  state_\"UT\"  \\\n",
       "0                          0.037125        1.330281         0.0         0.0   \n",
       "1                         -0.049789       -0.118248         0.0         1.0   \n",
       "2                         -0.049789       -0.480380         0.0         0.0   \n",
       "3                         -0.049789        1.330281         0.0         1.0   \n",
       "4                          2.383810       -0.444167         0.0         0.0   \n",
       "\n",
       "   state_\"WA\"  \n",
       "0         1.0  \n",
       "1         0.0  \n",
       "2         1.0  \n",
       "3         0.0  \n",
       "4         0.0  \n",
       "\n",
       "[5 rows x 33 columns]"
      ]
     },
     "execution_count": 45,
     "metadata": {},
     "output_type": "execute_result"
    }
   ],
   "source": [
    "#scale X_test\n",
    "binary_columns = X_test[['state_\\\"ID\\\"', 'state_\\\"UT\\\"', 'state_\\\"WA\\\"']]\n",
    "X_test_c = X_test.drop(['state_\\\"ID\\\"', 'state_\\\"UT\\\"', 'state_\\\"WA\\\"'], axis=1)\n",
    "X_test_scaled = ss.transform(X_test_c)\n",
    "X_test_scaled = pd.DataFrame(X_test_scaled, columns = ['monthly_income', 'gig_economy_weekly_income',\n",
    "       'atm_check_deposits_weekly_income', 'direct_deposit_weekly_income',\n",
    "       'government_aid_weekly_income', 'frequency_heuristic_weekly_income',\n",
    "       'large_deposits_weekly_income', 'income_length', 'payrolls_per_month',\n",
    "       'income_sources', 'days_since_most_recent_payroll',\n",
    "       'days_until_next_payroll', 'bank_balance', 'overdraft_transactions',\n",
    "       'nsf_transactions', 'return_transactions', 'reverse_transactions',\n",
    "       'mortgage', 'auto_loan', 'student_loan', 'traditional_single_payment',\n",
    "       'installment_loan', 'predatory_installment_loan', 'title_loan',\n",
    "       'pay_advances', 'total_loan_payments', 'no_of_other_active_loans',\n",
    "       'traditional_single_payment_mean', 'traditional_single_payment_trend',\n",
    "       'loan_requested'])\n",
    "\n",
    "X_test_scaled = pd.concat([X_test_scaled, binary_columns], axis=1, join='inner') \n",
    "\n",
    "X_test_scaled.head()"
   ]
  },
  {
   "cell_type": "markdown",
   "metadata": {},
   "source": [
    "### FSM: Logistic regression"
   ]
  },
  {
   "cell_type": "code",
   "execution_count": 46,
   "metadata": {},
   "outputs": [],
   "source": [
    "#pipe = Pipeline(steps=[\n",
    "    \n",
    "#    ('classifier', LogisticRegression(solver='lbfgs', n_jobs=-1))\n",
    "#])\n",
    "#pipe.fit(X_train, y_train)"
   ]
  },
  {
   "cell_type": "code",
   "execution_count": 47,
   "metadata": {},
   "outputs": [],
   "source": [
    "models = []\n",
    "reports = []"
   ]
  },
  {
   "cell_type": "code",
   "execution_count": 48,
   "metadata": {},
   "outputs": [
    {
     "name": "stdout",
     "output_type": "stream",
     "text": [
      "Report:\n",
      "              precision    recall  f1-score   support\n",
      "\n",
      "           0       0.40      0.12      0.19       170\n",
      "           1       0.81      0.95      0.87       659\n",
      "\n",
      "    accuracy                           0.78       829\n",
      "   macro avg       0.60      0.54      0.53       829\n",
      "weighted avg       0.72      0.78      0.73       829\n",
      " CV score: 0.5913451987318175\n",
      "\n",
      "Each Cross Validated Accuracy: \n",
      " [0.65686275 0.62433155 0.55280749 0.6290107  0.49371352]\n",
      "\n",
      "Overall Classifier Accuracy: 0.59 (+/- 0.12)\n",
      "\n"
     ]
    }
   ],
   "source": [
    "lr1, report_lr1 = logireg(X_train_scaled, X_test_scaled, y_train, y_test)"
   ]
  },
  {
   "cell_type": "code",
   "execution_count": 49,
   "metadata": {},
   "outputs": [],
   "source": [
    "models.append(lr1)\n",
    "reports.append(report_lr1)"
   ]
  },
  {
   "cell_type": "code",
   "execution_count": 50,
   "metadata": {},
   "outputs": [
    {
     "data": {
      "text/plain": [
       "[0.1226094806399907,\n",
       " 0.06723638254606691,\n",
       " 0.09490471174276655,\n",
       " 0.12443196242476665,\n",
       " 0.023976629536992995,\n",
       " 0.08357749394594916,\n",
       " -0.13022399237195548,\n",
       " -0.043539391179657175,\n",
       " -0.007896855676509416,\n",
       " 0.06983417804511693,\n",
       " 0.018788452807679094,\n",
       " 0.032645015824778065,\n",
       " 0.8560054819829662,\n",
       " -0.012292718393655968,\n",
       " 0.007561311031962953,\n",
       " -0.08429927140186387,\n",
       " -0.024051699105375978,\n",
       " 0.0981908423300233,\n",
       " 0.14168433239076653,\n",
       " 0.20206359152848205,\n",
       " -0.06051682702310196,\n",
       " 0.14988314989609303,\n",
       " -0.10161155851657015,\n",
       " 0.006939152662819649,\n",
       " 0.1657320138505413,\n",
       " -0.138833210225608,\n",
       " -0.012094646530416692,\n",
       " 0.2465559448818493,\n",
       " 0.08935994598769943,\n",
       " -0.5653860945337161,\n",
       " 1.4153827533506147,\n",
       " 1.134059114032862,\n",
       " 1.9996104873339382]"
      ]
     },
     "execution_count": 50,
     "metadata": {},
     "output_type": "execute_result"
    }
   ],
   "source": [
    "#extract coefficients\n",
    "coef = list(lr1.coef_[0])\n",
    "coef"
   ]
  },
  {
   "cell_type": "code",
   "execution_count": 51,
   "metadata": {},
   "outputs": [],
   "source": [
    "feature_names = X_test.columns\n",
    "features = pd.DataFrame()\n",
    "features['name'] = feature_names\n",
    "features['coef'] = coef"
   ]
  },
  {
   "cell_type": "code",
   "execution_count": 52,
   "metadata": {},
   "outputs": [
    {
     "data": {
      "text/html": [
       "<div>\n",
       "<style scoped>\n",
       "    .dataframe tbody tr th:only-of-type {\n",
       "        vertical-align: middle;\n",
       "    }\n",
       "\n",
       "    .dataframe tbody tr th {\n",
       "        vertical-align: top;\n",
       "    }\n",
       "\n",
       "    .dataframe thead th {\n",
       "        text-align: right;\n",
       "    }\n",
       "</style>\n",
       "<table border=\"1\" class=\"dataframe\">\n",
       "  <thead>\n",
       "    <tr style=\"text-align: right;\">\n",
       "      <th></th>\n",
       "      <th>name</th>\n",
       "      <th>coef</th>\n",
       "    </tr>\n",
       "  </thead>\n",
       "  <tbody>\n",
       "    <tr>\n",
       "      <th>0</th>\n",
       "      <td>monthly_income</td>\n",
       "      <td>0.122609</td>\n",
       "    </tr>\n",
       "    <tr>\n",
       "      <th>1</th>\n",
       "      <td>gig_economy_weekly_income</td>\n",
       "      <td>0.067236</td>\n",
       "    </tr>\n",
       "    <tr>\n",
       "      <th>2</th>\n",
       "      <td>atm_check_deposits_weekly_income</td>\n",
       "      <td>0.094905</td>\n",
       "    </tr>\n",
       "    <tr>\n",
       "      <th>3</th>\n",
       "      <td>direct_deposit_weekly_income</td>\n",
       "      <td>0.124432</td>\n",
       "    </tr>\n",
       "    <tr>\n",
       "      <th>4</th>\n",
       "      <td>government_aid_weekly_income</td>\n",
       "      <td>0.023977</td>\n",
       "    </tr>\n",
       "    <tr>\n",
       "      <th>5</th>\n",
       "      <td>frequency_heuristic_weekly_income</td>\n",
       "      <td>0.083577</td>\n",
       "    </tr>\n",
       "    <tr>\n",
       "      <th>6</th>\n",
       "      <td>large_deposits_weekly_income</td>\n",
       "      <td>-0.130224</td>\n",
       "    </tr>\n",
       "    <tr>\n",
       "      <th>7</th>\n",
       "      <td>income_length</td>\n",
       "      <td>-0.043539</td>\n",
       "    </tr>\n",
       "    <tr>\n",
       "      <th>8</th>\n",
       "      <td>payrolls_per_month</td>\n",
       "      <td>-0.007897</td>\n",
       "    </tr>\n",
       "    <tr>\n",
       "      <th>9</th>\n",
       "      <td>income_sources</td>\n",
       "      <td>0.069834</td>\n",
       "    </tr>\n",
       "    <tr>\n",
       "      <th>10</th>\n",
       "      <td>days_since_most_recent_payroll</td>\n",
       "      <td>0.018788</td>\n",
       "    </tr>\n",
       "    <tr>\n",
       "      <th>11</th>\n",
       "      <td>days_until_next_payroll</td>\n",
       "      <td>0.032645</td>\n",
       "    </tr>\n",
       "    <tr>\n",
       "      <th>12</th>\n",
       "      <td>bank_balance</td>\n",
       "      <td>0.856005</td>\n",
       "    </tr>\n",
       "    <tr>\n",
       "      <th>13</th>\n",
       "      <td>overdraft_transactions</td>\n",
       "      <td>-0.012293</td>\n",
       "    </tr>\n",
       "    <tr>\n",
       "      <th>14</th>\n",
       "      <td>nsf_transactions</td>\n",
       "      <td>0.007561</td>\n",
       "    </tr>\n",
       "    <tr>\n",
       "      <th>15</th>\n",
       "      <td>return_transactions</td>\n",
       "      <td>-0.084299</td>\n",
       "    </tr>\n",
       "    <tr>\n",
       "      <th>16</th>\n",
       "      <td>reverse_transactions</td>\n",
       "      <td>-0.024052</td>\n",
       "    </tr>\n",
       "    <tr>\n",
       "      <th>17</th>\n",
       "      <td>mortgage</td>\n",
       "      <td>0.098191</td>\n",
       "    </tr>\n",
       "    <tr>\n",
       "      <th>18</th>\n",
       "      <td>auto_loan</td>\n",
       "      <td>0.141684</td>\n",
       "    </tr>\n",
       "    <tr>\n",
       "      <th>19</th>\n",
       "      <td>student_loan</td>\n",
       "      <td>0.202064</td>\n",
       "    </tr>\n",
       "    <tr>\n",
       "      <th>20</th>\n",
       "      <td>traditional_single_payment</td>\n",
       "      <td>-0.060517</td>\n",
       "    </tr>\n",
       "    <tr>\n",
       "      <th>21</th>\n",
       "      <td>installment_loan</td>\n",
       "      <td>0.149883</td>\n",
       "    </tr>\n",
       "    <tr>\n",
       "      <th>22</th>\n",
       "      <td>predatory_installment_loan</td>\n",
       "      <td>-0.101612</td>\n",
       "    </tr>\n",
       "    <tr>\n",
       "      <th>23</th>\n",
       "      <td>title_loan</td>\n",
       "      <td>0.006939</td>\n",
       "    </tr>\n",
       "    <tr>\n",
       "      <th>24</th>\n",
       "      <td>pay_advances</td>\n",
       "      <td>0.165732</td>\n",
       "    </tr>\n",
       "    <tr>\n",
       "      <th>25</th>\n",
       "      <td>total_loan_payments</td>\n",
       "      <td>-0.138833</td>\n",
       "    </tr>\n",
       "    <tr>\n",
       "      <th>26</th>\n",
       "      <td>no_of_other_active_loans</td>\n",
       "      <td>-0.012095</td>\n",
       "    </tr>\n",
       "    <tr>\n",
       "      <th>27</th>\n",
       "      <td>traditional_single_payment_mean</td>\n",
       "      <td>0.246556</td>\n",
       "    </tr>\n",
       "    <tr>\n",
       "      <th>28</th>\n",
       "      <td>traditional_single_payment_trend</td>\n",
       "      <td>0.089360</td>\n",
       "    </tr>\n",
       "    <tr>\n",
       "      <th>29</th>\n",
       "      <td>loan_requested</td>\n",
       "      <td>-0.565386</td>\n",
       "    </tr>\n",
       "    <tr>\n",
       "      <th>30</th>\n",
       "      <td>state_\"ID\"</td>\n",
       "      <td>1.415383</td>\n",
       "    </tr>\n",
       "    <tr>\n",
       "      <th>31</th>\n",
       "      <td>state_\"UT\"</td>\n",
       "      <td>1.134059</td>\n",
       "    </tr>\n",
       "    <tr>\n",
       "      <th>32</th>\n",
       "      <td>state_\"WA\"</td>\n",
       "      <td>1.999610</td>\n",
       "    </tr>\n",
       "  </tbody>\n",
       "</table>\n",
       "</div>"
      ],
      "text/plain": [
       "                                 name      coef\n",
       "0                      monthly_income  0.122609\n",
       "1           gig_economy_weekly_income  0.067236\n",
       "2    atm_check_deposits_weekly_income  0.094905\n",
       "3        direct_deposit_weekly_income  0.124432\n",
       "4        government_aid_weekly_income  0.023977\n",
       "5   frequency_heuristic_weekly_income  0.083577\n",
       "6        large_deposits_weekly_income -0.130224\n",
       "7                       income_length -0.043539\n",
       "8                  payrolls_per_month -0.007897\n",
       "9                      income_sources  0.069834\n",
       "10     days_since_most_recent_payroll  0.018788\n",
       "11            days_until_next_payroll  0.032645\n",
       "12                       bank_balance  0.856005\n",
       "13             overdraft_transactions -0.012293\n",
       "14                   nsf_transactions  0.007561\n",
       "15                return_transactions -0.084299\n",
       "16               reverse_transactions -0.024052\n",
       "17                           mortgage  0.098191\n",
       "18                          auto_loan  0.141684\n",
       "19                       student_loan  0.202064\n",
       "20         traditional_single_payment -0.060517\n",
       "21                   installment_loan  0.149883\n",
       "22         predatory_installment_loan -0.101612\n",
       "23                         title_loan  0.006939\n",
       "24                       pay_advances  0.165732\n",
       "25                total_loan_payments -0.138833\n",
       "26           no_of_other_active_loans -0.012095\n",
       "27    traditional_single_payment_mean  0.246556\n",
       "28   traditional_single_payment_trend  0.089360\n",
       "29                     loan_requested -0.565386\n",
       "30                         state_\"ID\"  1.415383\n",
       "31                         state_\"UT\"  1.134059\n",
       "32                         state_\"WA\"  1.999610"
      ]
     },
     "execution_count": 52,
     "metadata": {},
     "output_type": "execute_result"
    }
   ],
   "source": [
    "features"
   ]
  },
  {
   "cell_type": "markdown",
   "metadata": {},
   "source": [
    "### Compare with StatsModels model"
   ]
  },
  {
   "cell_type": "code",
   "execution_count": 53,
   "metadata": {},
   "outputs": [
    {
     "name": "stdout",
     "output_type": "stream",
     "text": [
      "Warning: Maximum number of iterations has been exceeded.\n",
      "         Current function value: 0.501134\n",
      "         Iterations: 100\n",
      "                           Logit Regression Results                           \n",
      "==============================================================================\n",
      "Dep. Variable:                 status   No. Observations:                 3313\n",
      "Model:                          Logit   Df Residuals:                     3281\n",
      "Method:                           MLE   Df Model:                           31\n",
      "Date:                Sat, 06 Jul 2019   Pseudo R-squ.:               -0.006191\n",
      "Time:                        14:43:14   Log-Likelihood:                -1660.3\n",
      "converged:                      False   LL-Null:                       -1650.0\n",
      "                                        LLR p-value:                     1.000\n",
      "=====================================================================================================\n",
      "                                        coef    std err          z      P>|z|      [0.025      0.975]\n",
      "-----------------------------------------------------------------------------------------------------\n",
      "monthly_income                        0.1226   1.78e+06   6.87e-08      1.000    -3.5e+06     3.5e+06\n",
      "gig_economy_weekly_income             0.0672   1.37e+05   4.89e-07      1.000   -2.69e+05    2.69e+05\n",
      "atm_check_deposits_weekly_income      0.0949   4.82e+05   1.97e-07      1.000   -9.45e+05    9.45e+05\n",
      "direct_deposit_weekly_income          0.1244   1.28e+06   9.72e-08      1.000   -2.51e+06    2.51e+06\n",
      "government_aid_weekly_income          0.0240   1.81e+05   1.33e-07      1.000   -3.54e+05    3.54e+05\n",
      "frequency_heuristic_weekly_income     0.0836   1.06e+06   7.92e-08      1.000   -2.07e+06    2.07e+06\n",
      "large_deposits_weekly_income         -0.1302   6.76e+05  -1.93e-07      1.000   -1.32e+06    1.32e+06\n",
      "income_length                        -0.0435      0.049     -0.893      0.372      -0.139       0.052\n",
      "payrolls_per_month                   -0.0079      0.058     -0.137      0.891      -0.121       0.105\n",
      "income_sources                        0.0698      0.061      1.144      0.252      -0.050       0.189\n",
      "days_since_most_recent_payroll        0.0188      0.043      0.437      0.662      -0.065       0.103\n",
      "days_until_next_payroll               0.0326      0.046      0.706      0.480      -0.058       0.123\n",
      "bank_balance                          0.8562      0.188      4.548      0.000       0.487       1.225\n",
      "overdraft_transactions               -0.0123      0.044     -0.278      0.781      -0.099       0.074\n",
      "nsf_transactions                      0.0076      0.044      0.171      0.864      -0.079       0.094\n",
      "return_transactions                  -0.0843      0.045     -1.884      0.060      -0.172       0.003\n",
      "reverse_transactions                 -0.0241      0.042     -0.572      0.567      -0.107       0.058\n",
      "mortgage                              0.0982      0.072      1.356      0.175      -0.044       0.240\n",
      "auto_loan                             0.1417      0.058      2.423      0.015       0.027       0.256\n",
      "student_loan                          0.2021      0.083      2.435      0.015       0.039       0.365\n",
      "traditional_single_payment           -0.0605      0.068     -0.888      0.375      -0.194       0.073\n",
      "installment_loan                      0.1499      0.061      2.449      0.014       0.030       0.270\n",
      "predatory_installment_loan           -0.1016      0.051     -2.000      0.045      -0.201      -0.002\n",
      "title_loan                            0.0069      0.040      0.173      0.863      -0.072       0.086\n",
      "pay_advances                          0.1658      0.051      3.268      0.001       0.066       0.265\n",
      "total_loan_payments                  -0.1389      0.112     -1.241      0.215      -0.358       0.080\n",
      "no_of_other_active_loans             -0.0121      0.067     -0.180      0.857      -0.143       0.119\n",
      "traditional_single_payment_mean       0.2466      0.069      3.579      0.000       0.112       0.382\n",
      "traditional_single_payment_trend      0.0894      0.049      1.812      0.070      -0.007       0.186\n",
      "loan_requested                       -0.5654      0.050    -11.280      0.000      -0.664      -0.467\n",
      "state_\"ID\"                            1.4156      0.275      5.151      0.000       0.877       1.954\n",
      "state_\"UT\"                            1.1342      0.113     10.050      0.000       0.913       1.355\n",
      "state_\"WA\"                            1.9997      0.075     26.757      0.000       1.853       2.146\n",
      "=====================================================================================================\n"
     ]
    },
    {
     "name": "stderr",
     "output_type": "stream",
     "text": [
      "/anaconda3/lib/python3.7/site-packages/statsmodels/base/model.py:508: ConvergenceWarning: Maximum Likelihood optimization failed to converge. Check mle_retvals\n",
      "  \"Check mle_retvals\", ConvergenceWarning)\n"
     ]
    }
   ],
   "source": [
    "logit_model=sm.Logit(y_train, X_train_scaled, random_state=113)\n",
    "result=logit_model.fit(maxiter=100)\n",
    "print(result.summary())"
   ]
  },
  {
   "cell_type": "markdown",
   "metadata": {},
   "source": [
    "### Try logistic regression with the coefficients that have p-values < 0.05"
   ]
  },
  {
   "cell_type": "code",
   "execution_count": 54,
   "metadata": {},
   "outputs": [],
   "source": [
    "X_train_mod = X_train[['bank_balance', 'auto_loan', 'student_loan',\n",
    "                                     'installment_loan', 'pay_advances', 'traditional_single_payment_mean', \n",
    "                                    'loan_requested', 'state_\\\"ID\\\"', 'state_\\\"UT\\\"', 'state_\\\"WA\\\"']]\n",
    "X_test_mod = X_test[['bank_balance', 'auto_loan', 'student_loan',\n",
    "                                     'installment_loan', 'pay_advances', 'traditional_single_payment_mean', \n",
    "                                    'loan_requested', 'state_\\\"ID\\\"', 'state_\\\"UT\\\"', 'state_\\\"WA\\\"']]"
   ]
  },
  {
   "cell_type": "code",
   "execution_count": 55,
   "metadata": {},
   "outputs": [],
   "source": [
    "#fit and transform train\n",
    "binary_columns = X_train_mod[['state_\\\"ID\\\"', 'state_\\\"UT\\\"', 'state_\\\"WA\\\"']]\n",
    "X_train_mod_c = X_train_mod.drop(['state_\\\"ID\\\"', 'state_\\\"UT\\\"', 'state_\\\"WA\\\"'], axis=1)\n",
    "ss.fit(X_train_mod_c)\n",
    "X_train_mod_scaled = ss.transform(X_train_mod_c)\n",
    "X_train_mod_scaled = pd.DataFrame(X_train_mod_scaled, columns = ['bank_balance', \n",
    "                                                                 'auto_loan', 'student_loan',\n",
    "                                                                'installment_loan', 'pay_advances', \n",
    "                                                                 'traditional_single_payment_mean', \n",
    "                                                                'loan_requested'])\n",
    "X_train_mod_scaled = pd.concat([X_train_mod_scaled, binary_columns], axis=1, join='inner')\n",
    "                                  \n",
    "#transfrm test set\n",
    "\n",
    "binary_columns = X_test_mod[['state_\\\"ID\\\"', 'state_\\\"UT\\\"', 'state_\\\"WA\\\"']]\n",
    "X_test_mod_c = X_test_mod.drop(['state_\\\"ID\\\"', 'state_\\\"UT\\\"', 'state_\\\"WA\\\"'], axis=1)\n",
    "X_test_mod_scaled = ss.transform(X_test_mod_c)\n",
    "X_test_mod_scaled = pd.DataFrame(X_test_mod_scaled, columns = ['bank_balance', \n",
    "                                                                 'auto_loan', 'student_loan',\n",
    "                                                                'installment_loan', 'pay_advances', \n",
    "                                                                 'traditional_single_payment_mean', \n",
    "                                                                'loan_requested'])\n",
    "X_test_mod_scaled = pd.concat([X_test_mod_scaled, binary_columns], axis=1, join='inner')"
   ]
  },
  {
   "cell_type": "code",
   "execution_count": 56,
   "metadata": {},
   "outputs": [
    {
     "name": "stdout",
     "output_type": "stream",
     "text": [
      "Report:\n",
      "              precision    recall  f1-score   support\n",
      "\n",
      "           0       0.35      0.12      0.18       170\n",
      "           1       0.81      0.94      0.87       659\n",
      "\n",
      "    accuracy                           0.77       829\n",
      "   macro avg       0.58      0.53      0.52       829\n",
      "weighted avg       0.71      0.77      0.73       829\n",
      " CV score: 0.6009504565184853\n",
      "\n",
      "Each Cross Validated Accuracy: \n",
      " [0.64293672 0.62990196 0.58132799 0.61151961 0.53906601]\n",
      "\n",
      "Overall Classifier Accuracy: 0.60 (+/- 0.07)\n",
      "\n"
     ]
    }
   ],
   "source": [
    "lr2, report_lr2 = logireg(X_train_mod_scaled, X_test_mod_scaled, y_train, y_test)"
   ]
  },
  {
   "cell_type": "code",
   "execution_count": 57,
   "metadata": {},
   "outputs": [],
   "source": [
    "models.append(lr2)\n",
    "reports.append(report_lr2)"
   ]
  },
  {
   "cell_type": "code",
   "execution_count": 58,
   "metadata": {},
   "outputs": [
    {
     "data": {
      "text/plain": [
       "[1.0246669880545036,\n",
       " 0.12709613091296482,\n",
       " 0.2060447646610892,\n",
       " 0.11496009478660424,\n",
       " 0.12252606790325356,\n",
       " 0.17483964889936848,\n",
       " -0.5569978158214566,\n",
       " 1.3628333869829516,\n",
       " 1.0862232019450302,\n",
       " 1.9690001592696627]"
      ]
     },
     "execution_count": 58,
     "metadata": {},
     "output_type": "execute_result"
    }
   ],
   "source": [
    "#extract coefficients\n",
    "coef = list(lr2.coef_[0])\n",
    "coef"
   ]
  },
  {
   "cell_type": "code",
   "execution_count": 59,
   "metadata": {},
   "outputs": [],
   "source": [
    "feature_names = X_test_mod.columns\n",
    "features = pd.DataFrame()\n",
    "features['name'] = feature_names\n",
    "features['coef'] = coef"
   ]
  },
  {
   "cell_type": "code",
   "execution_count": 60,
   "metadata": {},
   "outputs": [
    {
     "data": {
      "text/html": [
       "<div>\n",
       "<style scoped>\n",
       "    .dataframe tbody tr th:only-of-type {\n",
       "        vertical-align: middle;\n",
       "    }\n",
       "\n",
       "    .dataframe tbody tr th {\n",
       "        vertical-align: top;\n",
       "    }\n",
       "\n",
       "    .dataframe thead th {\n",
       "        text-align: right;\n",
       "    }\n",
       "</style>\n",
       "<table border=\"1\" class=\"dataframe\">\n",
       "  <thead>\n",
       "    <tr style=\"text-align: right;\">\n",
       "      <th></th>\n",
       "      <th>name</th>\n",
       "      <th>coef</th>\n",
       "    </tr>\n",
       "  </thead>\n",
       "  <tbody>\n",
       "    <tr>\n",
       "      <th>0</th>\n",
       "      <td>bank_balance</td>\n",
       "      <td>1.024667</td>\n",
       "    </tr>\n",
       "    <tr>\n",
       "      <th>1</th>\n",
       "      <td>auto_loan</td>\n",
       "      <td>0.127096</td>\n",
       "    </tr>\n",
       "    <tr>\n",
       "      <th>2</th>\n",
       "      <td>student_loan</td>\n",
       "      <td>0.206045</td>\n",
       "    </tr>\n",
       "    <tr>\n",
       "      <th>3</th>\n",
       "      <td>installment_loan</td>\n",
       "      <td>0.114960</td>\n",
       "    </tr>\n",
       "    <tr>\n",
       "      <th>4</th>\n",
       "      <td>pay_advances</td>\n",
       "      <td>0.122526</td>\n",
       "    </tr>\n",
       "    <tr>\n",
       "      <th>5</th>\n",
       "      <td>traditional_single_payment_mean</td>\n",
       "      <td>0.174840</td>\n",
       "    </tr>\n",
       "    <tr>\n",
       "      <th>6</th>\n",
       "      <td>loan_requested</td>\n",
       "      <td>-0.556998</td>\n",
       "    </tr>\n",
       "    <tr>\n",
       "      <th>7</th>\n",
       "      <td>state_\"ID\"</td>\n",
       "      <td>1.362833</td>\n",
       "    </tr>\n",
       "    <tr>\n",
       "      <th>8</th>\n",
       "      <td>state_\"UT\"</td>\n",
       "      <td>1.086223</td>\n",
       "    </tr>\n",
       "    <tr>\n",
       "      <th>9</th>\n",
       "      <td>state_\"WA\"</td>\n",
       "      <td>1.969000</td>\n",
       "    </tr>\n",
       "  </tbody>\n",
       "</table>\n",
       "</div>"
      ],
      "text/plain": [
       "                              name      coef\n",
       "0                     bank_balance  1.024667\n",
       "1                        auto_loan  0.127096\n",
       "2                     student_loan  0.206045\n",
       "3                 installment_loan  0.114960\n",
       "4                     pay_advances  0.122526\n",
       "5  traditional_single_payment_mean  0.174840\n",
       "6                   loan_requested -0.556998\n",
       "7                       state_\"ID\"  1.362833\n",
       "8                       state_\"UT\"  1.086223\n",
       "9                       state_\"WA\"  1.969000"
      ]
     },
     "execution_count": 60,
     "metadata": {},
     "output_type": "execute_result"
    }
   ],
   "source": [
    "features"
   ]
  },
  {
   "cell_type": "code",
   "execution_count": 61,
   "metadata": {},
   "outputs": [
    {
     "name": "stdout",
     "output_type": "stream",
     "text": [
      "Optimization terminated successfully.\n",
      "         Current function value: 0.509083\n",
      "         Iterations 7\n",
      "                           Logit Regression Results                           \n",
      "==============================================================================\n",
      "Dep. Variable:                 status   No. Observations:                 3313\n",
      "Model:                          Logit   Df Residuals:                     3303\n",
      "Method:                           MLE   Df Model:                            9\n",
      "Date:                Sat, 06 Jul 2019   Pseudo R-squ.:                -0.02215\n",
      "Time:                        14:43:16   Log-Likelihood:                -1686.6\n",
      "converged:                       True   LL-Null:                       -1650.0\n",
      "                                        LLR p-value:                     1.000\n",
      "===================================================================================================\n",
      "                                      coef    std err          z      P>|z|      [0.025      0.975]\n",
      "---------------------------------------------------------------------------------------------------\n",
      "bank_balance                        1.0245      0.182      5.641      0.000       0.669       1.380\n",
      "auto_loan                           0.1271      0.049      2.606      0.009       0.032       0.223\n",
      "student_loan                        0.2061      0.082      2.503      0.012       0.045       0.367\n",
      "installment_loan                    0.1150      0.050      2.321      0.020       0.018       0.212\n",
      "pay_advances                        0.1225      0.044      2.798      0.005       0.037       0.208\n",
      "traditional_single_payment_mean     0.1748      0.049      3.558      0.000       0.079       0.271\n",
      "loan_requested                     -0.5570      0.049    -11.400      0.000      -0.653      -0.461\n",
      "state_\"ID\"                          1.3626      0.271      5.024      0.000       0.831       1.894\n",
      "state_\"UT\"                          1.0861      0.110      9.838      0.000       0.870       1.303\n",
      "state_\"WA\"                          1.9690      0.073     26.833      0.000       1.825       2.113\n",
      "===================================================================================================\n"
     ]
    }
   ],
   "source": [
    "logit_model=sm.Logit(y_train, X_train_mod_scaled, random_state=113)\n",
    "result=logit_model.fit(maxiter=100)\n",
    "print(result.summary())"
   ]
  },
  {
   "cell_type": "markdown",
   "metadata": {},
   "source": [
    "### Random forest"
   ]
  },
  {
   "cell_type": "code",
   "execution_count": 62,
   "metadata": {},
   "outputs": [
    {
     "name": "stdout",
     "output_type": "stream",
     "text": [
      "RandomForestClassifier(bootstrap=True, class_weight=None, criterion='gini',\n",
      "                       max_depth=None, max_features='auto', max_leaf_nodes=None,\n",
      "                       min_impurity_decrease=0.0, min_impurity_split=None,\n",
      "                       min_samples_leaf=1, min_samples_split=2,\n",
      "                       min_weight_fraction_leaf=0.0, n_estimators=100,\n",
      "                       n_jobs=None, oob_score=False, random_state=113,\n",
      "                       verbose=0, warm_start=False)\n",
      "Report:\n",
      "              precision    recall  f1-score   support\n",
      "\n",
      "           0       0.50      0.05      0.09       170\n",
      "           1       0.80      0.99      0.88       659\n",
      "\n",
      "    accuracy                           0.79       829\n",
      "   macro avg       0.65      0.52      0.49       829\n",
      "weighted avg       0.74      0.79      0.72       829\n",
      " CV score: 0.6108533698003837\n",
      "\n",
      "Each Cross Validated Accuracy: \n",
      " [0.6589795  0.60282977 0.60138146 0.64549911 0.54557701]\n",
      "\n",
      "Overall Classifier Accuracy: 0.61 (+/- 0.08)\n",
      "\n"
     ]
    }
   ],
   "source": [
    "rfc1, report_rfc1 = rf(X_train, X_test, y_train, y_test)"
   ]
  },
  {
   "cell_type": "code",
   "execution_count": 63,
   "metadata": {},
   "outputs": [],
   "source": [
    "models.append(rfc1)\n",
    "reports.append(report_rfc1)"
   ]
  },
  {
   "cell_type": "markdown",
   "metadata": {},
   "source": [
    "## XG Boost"
   ]
  },
  {
   "cell_type": "code",
   "execution_count": 64,
   "metadata": {},
   "outputs": [
    {
     "name": "stdout",
     "output_type": "stream",
     "text": [
      "Report:\n",
      "              precision    recall  f1-score   support\n",
      "\n",
      "           0       0.50      0.04      0.08       170\n",
      "           1       0.80      0.99      0.88       659\n",
      "\n",
      "    accuracy                           0.79       829\n",
      "   macro avg       0.65      0.52      0.48       829\n",
      "weighted avg       0.74      0.79      0.72       829\n",
      " CV score: 0.6201721979562124\n",
      "\n",
      "Each Cross Validated Accuracy: \n",
      " [0.64237968 0.5802139  0.58444742 0.65663993 0.63718006]\n",
      "\n",
      "Overall Classifier Accuracy: 0.62 (+/- 0.06)\n",
      "\n"
     ]
    }
   ],
   "source": [
    "xgb1, report_xgb1= xgb(X_train, X_test, y_train, y_test)"
   ]
  },
  {
   "cell_type": "code",
   "execution_count": 65,
   "metadata": {},
   "outputs": [],
   "source": [
    "models.append(xgb1)\n",
    "reports.append(report_xgb1)"
   ]
  },
  {
   "cell_type": "markdown",
   "metadata": {},
   "source": [
    "## Gradient Boost"
   ]
  },
  {
   "cell_type": "code",
   "execution_count": 66,
   "metadata": {},
   "outputs": [
    {
     "name": "stdout",
     "output_type": "stream",
     "text": [
      "Report:\n",
      "              precision    recall  f1-score   support\n",
      "\n",
      "           0       0.54      0.04      0.08       170\n",
      "           1       0.80      0.99      0.89       659\n",
      "\n",
      "    accuracy                           0.80       829\n",
      "   macro avg       0.67      0.52      0.48       829\n",
      "weighted avg       0.75      0.80      0.72       829\n",
      " CV score: 0.5876956021825801\n",
      "\n",
      "Each Cross Validated Accuracy: \n",
      " [0.58934938 0.57687166 0.56561943 0.60695187 0.59968568]\n",
      "\n",
      "Overall Classifier Accuracy: 0.59 (+/- 0.03)\n",
      "\n"
     ]
    }
   ],
   "source": [
    "gb1, report_gb1 = gb(X_train, X_test, y_train, y_test)"
   ]
  },
  {
   "cell_type": "code",
   "execution_count": 67,
   "metadata": {},
   "outputs": [],
   "source": [
    "models.append(gb1)\n",
    "reports.append(report_gb1)"
   ]
  },
  {
   "cell_type": "markdown",
   "metadata": {},
   "source": [
    "### Conclusion after trying different models: it seems that all models fail to perform on 0 class because of the class imbalance. Next step: correct class imbalance. Best model so far: random forests"
   ]
  },
  {
   "cell_type": "markdown",
   "metadata": {},
   "source": [
    "## New approach to correct class imbalance"
   ]
  },
  {
   "cell_type": "markdown",
   "metadata": {},
   "source": [
    "The current training set has 2649 class 1 values and 664 class 0 values. To correct class imbalance I will treat the rejected applications subset as class 0. I will randomly pick 2000 rejected applications and add them to the training set. I will then test the new model (random forest as it seems to have the best performance) on the original testing set that has true labels."
   ]
  },
  {
   "cell_type": "code",
   "execution_count": 68,
   "metadata": {},
   "outputs": [],
   "source": [
    "# Get random 2000 values from rejected dataset \n",
    "\n",
    "rejected_subset = df_rejected.sample(n=2000)"
   ]
  },
  {
   "cell_type": "code",
   "execution_count": 69,
   "metadata": {},
   "outputs": [
    {
     "data": {
      "text/plain": [
       "2000"
      ]
     },
     "execution_count": 69,
     "metadata": {},
     "output_type": "execute_result"
    }
   ],
   "source": [
    "len(rejected_subset)"
   ]
  },
  {
   "cell_type": "code",
   "execution_count": 70,
   "metadata": {},
   "outputs": [],
   "source": [
    "# Isolate target column\n",
    "\n",
    "y_subset_0 = rejected_subset['status']\n",
    "X_subset_0 = rejected_subset.drop('status', axis=1)"
   ]
  },
  {
   "cell_type": "code",
   "execution_count": 71,
   "metadata": {},
   "outputs": [
    {
     "data": {
      "text/plain": [
       "array([ True,  True,  True,  True,  True,  True,  True,  True,  True,\n",
       "        True,  True,  True,  True,  True,  True,  True,  True,  True,\n",
       "        True,  True,  True,  True,  True,  True,  True,  True,  True,\n",
       "        True,  True,  True,  True,  True,  True])"
      ]
     },
     "execution_count": 71,
     "metadata": {},
     "output_type": "execute_result"
    }
   ],
   "source": [
    "# Doublecheck if the columns correspond\n",
    "X_train.columns == X_subset_0.columns"
   ]
  },
  {
   "cell_type": "code",
   "execution_count": 72,
   "metadata": {},
   "outputs": [],
   "source": [
    "new_X_train = X_train.append(X_subset_0)"
   ]
  },
  {
   "cell_type": "code",
   "execution_count": 73,
   "metadata": {},
   "outputs": [],
   "source": [
    "new_y_train = y_train.append(y_subset_0)"
   ]
  },
  {
   "cell_type": "markdown",
   "metadata": {},
   "source": [
    "### Train random forests on the new training set"
   ]
  },
  {
   "cell_type": "code",
   "execution_count": 74,
   "metadata": {},
   "outputs": [
    {
     "name": "stdout",
     "output_type": "stream",
     "text": [
      "RandomForestClassifier(bootstrap=True, class_weight=None, criterion='gini',\n",
      "                       max_depth=None, max_features='auto', max_leaf_nodes=None,\n",
      "                       min_impurity_decrease=0.0, min_impurity_split=None,\n",
      "                       min_samples_leaf=1, min_samples_split=2,\n",
      "                       min_weight_fraction_leaf=0.0, n_estimators=100,\n",
      "                       n_jobs=None, oob_score=False, random_state=113,\n",
      "                       verbose=0, warm_start=False)\n",
      "Report:\n",
      "              precision    recall  f1-score   support\n",
      "\n",
      "           0       0.31      0.51      0.38       170\n",
      "           1       0.85      0.70      0.77       659\n",
      "\n",
      "    accuracy                           0.66       829\n",
      "   macro avg       0.58      0.60      0.58       829\n",
      "weighted avg       0.74      0.66      0.69       829\n",
      " CV score: 0.6108533698003837\n",
      "\n",
      "Each Cross Validated Accuracy: \n",
      " [0.6589795  0.60282977 0.60138146 0.64549911 0.54557701]\n",
      "\n",
      "Overall Classifier Accuracy: 0.61 (+/- 0.08)\n",
      "\n"
     ]
    }
   ],
   "source": [
    "rfc2, report_rfc2 = rf(new_X_train, X_test, new_y_train, y_test)"
   ]
  },
  {
   "cell_type": "code",
   "execution_count": 75,
   "metadata": {},
   "outputs": [],
   "source": [
    "models.append(rfc2)\n",
    "reports.append(report_rfc2)"
   ]
  },
  {
   "cell_type": "markdown",
   "metadata": {},
   "source": [
    "### Try logistic regression on my new training set"
   ]
  },
  {
   "cell_type": "code",
   "execution_count": 76,
   "metadata": {},
   "outputs": [
    {
     "data": {
      "text/plain": [
       "5313"
      ]
     },
     "execution_count": 76,
     "metadata": {},
     "output_type": "execute_result"
    }
   ],
   "source": [
    "#scale the new dataset\n",
    "\n",
    "ss2 = StandardScaler()\n",
    "\n",
    "#fit and transform train\n",
    "binary_columns = new_X_train[['state_\\\"ID\\\"', 'state_\\\"UT\\\"', 'state_\\\"WA\\\"']]\n",
    "len(binary_columns)"
   ]
  },
  {
   "cell_type": "code",
   "execution_count": 77,
   "metadata": {},
   "outputs": [
    {
     "data": {
      "text/plain": [
       "5313"
      ]
     },
     "execution_count": 77,
     "metadata": {},
     "output_type": "execute_result"
    }
   ],
   "source": [
    "new_X_train_c = new_X_train.drop(['state_\\\"ID\\\"', 'state_\\\"UT\\\"', 'state_\\\"WA\\\"'], axis=1)\n",
    "len(new_X_train_c)"
   ]
  },
  {
   "cell_type": "code",
   "execution_count": 78,
   "metadata": {},
   "outputs": [
    {
     "data": {
      "text/plain": [
       "StandardScaler(copy=True, with_mean=True, with_std=True)"
      ]
     },
     "execution_count": 78,
     "metadata": {},
     "output_type": "execute_result"
    }
   ],
   "source": [
    "ss2.fit(new_X_train_c)"
   ]
  },
  {
   "cell_type": "code",
   "execution_count": 79,
   "metadata": {},
   "outputs": [
    {
     "data": {
      "text/plain": [
       "5313"
      ]
     },
     "execution_count": 79,
     "metadata": {},
     "output_type": "execute_result"
    }
   ],
   "source": [
    "new_X_train_scaled = ss2.transform(new_X_train_c)\n",
    "len(new_X_train_scaled)"
   ]
  },
  {
   "cell_type": "code",
   "execution_count": 80,
   "metadata": {},
   "outputs": [
    {
     "data": {
      "text/plain": [
       "5313"
      ]
     },
     "execution_count": 80,
     "metadata": {},
     "output_type": "execute_result"
    }
   ],
   "source": [
    "new_X_train_scaled = pd.DataFrame(new_X_train_scaled, columns = ['monthly_income', 'gig_economy_weekly_income',\n",
    "       'atm_check_deposits_weekly_income', 'direct_deposit_weekly_income',\n",
    "       'government_aid_weekly_income', 'frequency_heuristic_weekly_income',\n",
    "       'large_deposits_weekly_income', 'income_length', 'payrolls_per_month',\n",
    "       'income_sources', 'days_since_most_recent_payroll',\n",
    "       'days_until_next_payroll', 'bank_balance', 'overdraft_transactions',\n",
    "       'nsf_transactions', 'return_transactions', 'reverse_transactions',\n",
    "       'mortgage', 'auto_loan', 'student_loan', 'traditional_single_payment',\n",
    "       'installment_loan', 'predatory_installment_loan', 'title_loan',\n",
    "       'pay_advances', 'total_loan_payments', 'no_of_other_active_loans',\n",
    "       'traditional_single_payment_mean', 'traditional_single_payment_trend',\n",
    "       'loan_requested'])\n",
    "len(new_X_train_scaled)"
   ]
  },
  {
   "cell_type": "code",
   "execution_count": 81,
   "metadata": {},
   "outputs": [],
   "source": [
    "new_X_train_scaled = new_X_train_scaled.reset_index(drop=True)\n",
    "binary_columns = binary_columns.reset_index(drop=True)"
   ]
  },
  {
   "cell_type": "code",
   "execution_count": 82,
   "metadata": {},
   "outputs": [],
   "source": [
    "new_X_train_scaled = pd.concat([new_X_train_scaled, binary_columns], axis=1, join='inner')"
   ]
  },
  {
   "cell_type": "code",
   "execution_count": 83,
   "metadata": {},
   "outputs": [
    {
     "data": {
      "text/html": [
       "<div>\n",
       "<style scoped>\n",
       "    .dataframe tbody tr th:only-of-type {\n",
       "        vertical-align: middle;\n",
       "    }\n",
       "\n",
       "    .dataframe tbody tr th {\n",
       "        vertical-align: top;\n",
       "    }\n",
       "\n",
       "    .dataframe thead th {\n",
       "        text-align: right;\n",
       "    }\n",
       "</style>\n",
       "<table border=\"1\" class=\"dataframe\">\n",
       "  <thead>\n",
       "    <tr style=\"text-align: right;\">\n",
       "      <th></th>\n",
       "      <th>monthly_income</th>\n",
       "      <th>gig_economy_weekly_income</th>\n",
       "      <th>atm_check_deposits_weekly_income</th>\n",
       "      <th>direct_deposit_weekly_income</th>\n",
       "      <th>government_aid_weekly_income</th>\n",
       "      <th>frequency_heuristic_weekly_income</th>\n",
       "      <th>large_deposits_weekly_income</th>\n",
       "      <th>income_length</th>\n",
       "      <th>payrolls_per_month</th>\n",
       "      <th>income_sources</th>\n",
       "      <th>...</th>\n",
       "      <th>title_loan</th>\n",
       "      <th>pay_advances</th>\n",
       "      <th>total_loan_payments</th>\n",
       "      <th>no_of_other_active_loans</th>\n",
       "      <th>traditional_single_payment_mean</th>\n",
       "      <th>traditional_single_payment_trend</th>\n",
       "      <th>loan_requested</th>\n",
       "      <th>state_\"ID\"</th>\n",
       "      <th>state_\"UT\"</th>\n",
       "      <th>state_\"WA\"</th>\n",
       "    </tr>\n",
       "  </thead>\n",
       "  <tbody>\n",
       "    <tr>\n",
       "      <th>0</th>\n",
       "      <td>-0.088866</td>\n",
       "      <td>-0.114689</td>\n",
       "      <td>-0.37856</td>\n",
       "      <td>0.412555</td>\n",
       "      <td>-0.136265</td>\n",
       "      <td>-0.337442</td>\n",
       "      <td>-0.151427</td>\n",
       "      <td>0.405637</td>\n",
       "      <td>-0.347364</td>\n",
       "      <td>-0.547458</td>\n",
       "      <td>...</td>\n",
       "      <td>-0.049533</td>\n",
       "      <td>-0.303521</td>\n",
       "      <td>0.159362</td>\n",
       "      <td>0.222133</td>\n",
       "      <td>0.422373</td>\n",
       "      <td>-0.059014</td>\n",
       "      <td>-1.246629</td>\n",
       "      <td>0.0</td>\n",
       "      <td>0.0</td>\n",
       "      <td>1.0</td>\n",
       "    </tr>\n",
       "    <tr>\n",
       "      <th>1</th>\n",
       "      <td>0.221910</td>\n",
       "      <td>-0.114689</td>\n",
       "      <td>-0.37856</td>\n",
       "      <td>0.847977</td>\n",
       "      <td>-0.136265</td>\n",
       "      <td>-0.337442</td>\n",
       "      <td>-0.151427</td>\n",
       "      <td>0.522098</td>\n",
       "      <td>-0.347364</td>\n",
       "      <td>-0.547458</td>\n",
       "      <td>...</td>\n",
       "      <td>-0.049533</td>\n",
       "      <td>-0.303521</td>\n",
       "      <td>0.156971</td>\n",
       "      <td>1.346663</td>\n",
       "      <td>-0.373604</td>\n",
       "      <td>-0.059014</td>\n",
       "      <td>1.274723</td>\n",
       "      <td>0.0</td>\n",
       "      <td>0.0</td>\n",
       "      <td>1.0</td>\n",
       "    </tr>\n",
       "    <tr>\n",
       "      <th>2</th>\n",
       "      <td>0.141861</td>\n",
       "      <td>-0.114689</td>\n",
       "      <td>-0.37856</td>\n",
       "      <td>-0.808532</td>\n",
       "      <td>-0.136265</td>\n",
       "      <td>1.637794</td>\n",
       "      <td>-0.151427</td>\n",
       "      <td>-0.981306</td>\n",
       "      <td>-0.385074</td>\n",
       "      <td>-0.547458</td>\n",
       "      <td>...</td>\n",
       "      <td>-0.049533</td>\n",
       "      <td>-0.303521</td>\n",
       "      <td>-0.264633</td>\n",
       "      <td>0.222133</td>\n",
       "      <td>-0.373604</td>\n",
       "      <td>-0.059014</td>\n",
       "      <td>-0.490223</td>\n",
       "      <td>0.0</td>\n",
       "      <td>0.0</td>\n",
       "      <td>0.0</td>\n",
       "    </tr>\n",
       "    <tr>\n",
       "      <th>3</th>\n",
       "      <td>0.722942</td>\n",
       "      <td>-0.114689</td>\n",
       "      <td>0.46838</td>\n",
       "      <td>1.190577</td>\n",
       "      <td>-0.136265</td>\n",
       "      <td>-0.337442</td>\n",
       "      <td>-0.151427</td>\n",
       "      <td>0.511511</td>\n",
       "      <td>0.519971</td>\n",
       "      <td>1.163007</td>\n",
       "      <td>...</td>\n",
       "      <td>-0.049533</td>\n",
       "      <td>-0.303521</td>\n",
       "      <td>0.850416</td>\n",
       "      <td>0.222133</td>\n",
       "      <td>2.544981</td>\n",
       "      <td>-0.059014</td>\n",
       "      <td>-0.490223</td>\n",
       "      <td>0.0</td>\n",
       "      <td>0.0</td>\n",
       "      <td>0.0</td>\n",
       "    </tr>\n",
       "    <tr>\n",
       "      <th>4</th>\n",
       "      <td>-0.161513</td>\n",
       "      <td>-0.114689</td>\n",
       "      <td>-0.37856</td>\n",
       "      <td>0.310771</td>\n",
       "      <td>-0.136265</td>\n",
       "      <td>-0.337442</td>\n",
       "      <td>-0.151427</td>\n",
       "      <td>-0.399001</td>\n",
       "      <td>-0.498205</td>\n",
       "      <td>-0.547458</td>\n",
       "      <td>...</td>\n",
       "      <td>-0.049533</td>\n",
       "      <td>-0.303521</td>\n",
       "      <td>0.301063</td>\n",
       "      <td>0.222133</td>\n",
       "      <td>0.422373</td>\n",
       "      <td>-0.059014</td>\n",
       "      <td>0.014047</td>\n",
       "      <td>0.0</td>\n",
       "      <td>1.0</td>\n",
       "      <td>0.0</td>\n",
       "    </tr>\n",
       "  </tbody>\n",
       "</table>\n",
       "<p>5 rows × 33 columns</p>\n",
       "</div>"
      ],
      "text/plain": [
       "   monthly_income  gig_economy_weekly_income  \\\n",
       "0       -0.088866                  -0.114689   \n",
       "1        0.221910                  -0.114689   \n",
       "2        0.141861                  -0.114689   \n",
       "3        0.722942                  -0.114689   \n",
       "4       -0.161513                  -0.114689   \n",
       "\n",
       "   atm_check_deposits_weekly_income  direct_deposit_weekly_income  \\\n",
       "0                          -0.37856                      0.412555   \n",
       "1                          -0.37856                      0.847977   \n",
       "2                          -0.37856                     -0.808532   \n",
       "3                           0.46838                      1.190577   \n",
       "4                          -0.37856                      0.310771   \n",
       "\n",
       "   government_aid_weekly_income  frequency_heuristic_weekly_income  \\\n",
       "0                     -0.136265                          -0.337442   \n",
       "1                     -0.136265                          -0.337442   \n",
       "2                     -0.136265                           1.637794   \n",
       "3                     -0.136265                          -0.337442   \n",
       "4                     -0.136265                          -0.337442   \n",
       "\n",
       "   large_deposits_weekly_income  income_length  payrolls_per_month  \\\n",
       "0                     -0.151427       0.405637           -0.347364   \n",
       "1                     -0.151427       0.522098           -0.347364   \n",
       "2                     -0.151427      -0.981306           -0.385074   \n",
       "3                     -0.151427       0.511511            0.519971   \n",
       "4                     -0.151427      -0.399001           -0.498205   \n",
       "\n",
       "   income_sources     ...      title_loan  pay_advances  total_loan_payments  \\\n",
       "0       -0.547458     ...       -0.049533     -0.303521             0.159362   \n",
       "1       -0.547458     ...       -0.049533     -0.303521             0.156971   \n",
       "2       -0.547458     ...       -0.049533     -0.303521            -0.264633   \n",
       "3        1.163007     ...       -0.049533     -0.303521             0.850416   \n",
       "4       -0.547458     ...       -0.049533     -0.303521             0.301063   \n",
       "\n",
       "   no_of_other_active_loans  traditional_single_payment_mean  \\\n",
       "0                  0.222133                         0.422373   \n",
       "1                  1.346663                        -0.373604   \n",
       "2                  0.222133                        -0.373604   \n",
       "3                  0.222133                         2.544981   \n",
       "4                  0.222133                         0.422373   \n",
       "\n",
       "   traditional_single_payment_trend  loan_requested  state_\"ID\"  state_\"UT\"  \\\n",
       "0                         -0.059014       -1.246629         0.0         0.0   \n",
       "1                         -0.059014        1.274723         0.0         0.0   \n",
       "2                         -0.059014       -0.490223         0.0         0.0   \n",
       "3                         -0.059014       -0.490223         0.0         0.0   \n",
       "4                         -0.059014        0.014047         0.0         1.0   \n",
       "\n",
       "   state_\"WA\"  \n",
       "0         1.0  \n",
       "1         1.0  \n",
       "2         0.0  \n",
       "3         0.0  \n",
       "4         0.0  \n",
       "\n",
       "[5 rows x 33 columns]"
      ]
     },
     "execution_count": 83,
     "metadata": {},
     "output_type": "execute_result"
    }
   ],
   "source": [
    "new_X_train_scaled.head()"
   ]
  },
  {
   "cell_type": "code",
   "execution_count": 84,
   "metadata": {},
   "outputs": [],
   "source": [
    "#transfrm test set\n",
    "\n",
    "binary_columns = X_test[['state_\\\"ID\\\"', 'state_\\\"UT\\\"', 'state_\\\"WA\\\"']]\n",
    "X_test_c = X_test.drop(['state_\\\"ID\\\"', 'state_\\\"UT\\\"', 'state_\\\"WA\\\"'], axis=1)\n",
    "\n",
    "new_X_test_scaled = ss2.transform(X_test_c)\n",
    "new_X_test_scaled = pd.DataFrame(new_X_test_scaled, columns = ['monthly_income', 'gig_economy_weekly_income',\n",
    "       'atm_check_deposits_weekly_income', 'direct_deposit_weekly_income',\n",
    "       'government_aid_weekly_income', 'frequency_heuristic_weekly_income',\n",
    "       'large_deposits_weekly_income', 'income_length', 'payrolls_per_month',\n",
    "       'income_sources', 'days_since_most_recent_payroll',\n",
    "       'days_until_next_payroll', 'bank_balance', 'overdraft_transactions',\n",
    "       'nsf_transactions', 'return_transactions', 'reverse_transactions',\n",
    "       'mortgage', 'auto_loan', 'student_loan', 'traditional_single_payment',\n",
    "       'installment_loan', 'predatory_installment_loan', 'title_loan',\n",
    "       'pay_advances', 'total_loan_payments', 'no_of_other_active_loans',\n",
    "       'traditional_single_payment_mean', 'traditional_single_payment_trend',\n",
    "       'loan_requested'])\n",
    "\n",
    "new_X_test_scaled = new_X_test_scaled.reset_index(drop=True)\n",
    "binary_columns = binary_columns.reset_index(drop=True)\n",
    "\n",
    "new_X_test_scaled = pd.concat([new_X_test_scaled, binary_columns], axis=1, join='inner')"
   ]
  },
  {
   "cell_type": "code",
   "execution_count": 85,
   "metadata": {},
   "outputs": [
    {
     "name": "stdout",
     "output_type": "stream",
     "text": [
      "Report:\n",
      "              precision    recall  f1-score   support\n",
      "\n",
      "           0       0.26      0.46      0.33       170\n",
      "           1       0.83      0.67      0.74       659\n",
      "\n",
      "    accuracy                           0.62       829\n",
      "   macro avg       0.54      0.56      0.54       829\n",
      "weighted avg       0.71      0.62      0.66       829\n",
      " CV score: 0.5947034330734375\n",
      "\n",
      "Each Cross Validated Accuracy: \n",
      " [0.65329768 0.64104278 0.56238859 0.61252228 0.50426583]\n",
      "\n",
      "Overall Classifier Accuracy: 0.59 (+/- 0.11)\n",
      "\n"
     ]
    }
   ],
   "source": [
    "#apply logistic regression\n",
    "\n",
    "lr3, report_lr3 = logireg(new_X_train_scaled, new_X_test_scaled, new_y_train, y_test)"
   ]
  },
  {
   "cell_type": "code",
   "execution_count": 86,
   "metadata": {},
   "outputs": [],
   "source": [
    "models.append(lr3)\n",
    "reports.append(report_lr3)"
   ]
  },
  {
   "cell_type": "markdown",
   "metadata": {},
   "source": [
    "### Try Gradient Boosting on my new training set"
   ]
  },
  {
   "cell_type": "code",
   "execution_count": 87,
   "metadata": {},
   "outputs": [
    {
     "name": "stdout",
     "output_type": "stream",
     "text": [
      "Report:\n",
      "              precision    recall  f1-score   support\n",
      "\n",
      "           0       0.26      0.36      0.30       170\n",
      "           1       0.82      0.73      0.77       659\n",
      "\n",
      "    accuracy                           0.66       829\n",
      "   macro avg       0.54      0.55      0.54       829\n",
      "weighted avg       0.70      0.66      0.68       829\n",
      " CV score: 0.5876956021825801\n",
      "\n",
      "Each Cross Validated Accuracy: \n",
      " [0.58934938 0.57687166 0.56561943 0.60695187 0.59968568]\n",
      "\n",
      "Overall Classifier Accuracy: 0.59 (+/- 0.03)\n",
      "\n"
     ]
    }
   ],
   "source": [
    "gb2, report_gb2 = gb(new_X_train, X_test, new_y_train, y_test)"
   ]
  },
  {
   "cell_type": "code",
   "execution_count": 88,
   "metadata": {},
   "outputs": [],
   "source": [
    "models.append(gb2)\n",
    "reports.append(report_gb2)"
   ]
  },
  {
   "cell_type": "markdown",
   "metadata": {},
   "source": [
    "### Try XGBoost  regression on my new training set"
   ]
  },
  {
   "cell_type": "code",
   "execution_count": 89,
   "metadata": {},
   "outputs": [
    {
     "name": "stdout",
     "output_type": "stream",
     "text": [
      "Report:\n",
      "              precision    recall  f1-score   support\n",
      "\n",
      "           0       0.27      0.39      0.32       170\n",
      "           1       0.82      0.73      0.77       659\n",
      "\n",
      "    accuracy                           0.66       829\n",
      "   macro avg       0.55      0.56      0.55       829\n",
      "weighted avg       0.71      0.66      0.68       829\n",
      " CV score: 0.6201721979562124\n",
      "\n",
      "Each Cross Validated Accuracy: \n",
      " [0.64237968 0.5802139  0.58444742 0.65663993 0.63718006]\n",
      "\n",
      "Overall Classifier Accuracy: 0.62 (+/- 0.06)\n",
      "\n"
     ]
    }
   ],
   "source": [
    "xgb2, report_xgb2 = xgb(new_X_train, X_test, new_y_train, y_test)"
   ]
  },
  {
   "cell_type": "code",
   "execution_count": 90,
   "metadata": {},
   "outputs": [],
   "source": [
    "models.append(xgb2)\n",
    "reports.append(report_xgb2)"
   ]
  },
  {
   "cell_type": "markdown",
   "metadata": {},
   "source": [
    "## Correcting class imbalance with Sklearn resample"
   ]
  },
  {
   "cell_type": "code",
   "execution_count": 91,
   "metadata": {},
   "outputs": [],
   "source": [
    "training_set = X_train.copy()"
   ]
  },
  {
   "cell_type": "code",
   "execution_count": 92,
   "metadata": {},
   "outputs": [],
   "source": [
    "training_set['status'] = y_train"
   ]
  },
  {
   "cell_type": "code",
   "execution_count": 93,
   "metadata": {},
   "outputs": [
    {
     "data": {
      "text/html": [
       "<div>\n",
       "<style scoped>\n",
       "    .dataframe tbody tr th:only-of-type {\n",
       "        vertical-align: middle;\n",
       "    }\n",
       "\n",
       "    .dataframe tbody tr th {\n",
       "        vertical-align: top;\n",
       "    }\n",
       "\n",
       "    .dataframe thead th {\n",
       "        text-align: right;\n",
       "    }\n",
       "</style>\n",
       "<table border=\"1\" class=\"dataframe\">\n",
       "  <thead>\n",
       "    <tr style=\"text-align: right;\">\n",
       "      <th></th>\n",
       "      <th>monthly_income</th>\n",
       "      <th>gig_economy_weekly_income</th>\n",
       "      <th>atm_check_deposits_weekly_income</th>\n",
       "      <th>direct_deposit_weekly_income</th>\n",
       "      <th>government_aid_weekly_income</th>\n",
       "      <th>frequency_heuristic_weekly_income</th>\n",
       "      <th>large_deposits_weekly_income</th>\n",
       "      <th>income_length</th>\n",
       "      <th>payrolls_per_month</th>\n",
       "      <th>income_sources</th>\n",
       "      <th>...</th>\n",
       "      <th>pay_advances</th>\n",
       "      <th>total_loan_payments</th>\n",
       "      <th>no_of_other_active_loans</th>\n",
       "      <th>traditional_single_payment_mean</th>\n",
       "      <th>traditional_single_payment_trend</th>\n",
       "      <th>loan_requested</th>\n",
       "      <th>state_\"ID\"</th>\n",
       "      <th>state_\"UT\"</th>\n",
       "      <th>state_\"WA\"</th>\n",
       "      <th>status</th>\n",
       "    </tr>\n",
       "  </thead>\n",
       "  <tbody>\n",
       "    <tr>\n",
       "      <th>0</th>\n",
       "      <td>2174.54</td>\n",
       "      <td>0.0</td>\n",
       "      <td>0.0</td>\n",
       "      <td>543.6350</td>\n",
       "      <td>0.0</td>\n",
       "      <td>0.000</td>\n",
       "      <td>0.0</td>\n",
       "      <td>157</td>\n",
       "      <td>2.166667</td>\n",
       "      <td>1</td>\n",
       "      <td>...</td>\n",
       "      <td>0.0</td>\n",
       "      <td>269.68</td>\n",
       "      <td>2</td>\n",
       "      <td>1.000000</td>\n",
       "      <td>1.775886e-16</td>\n",
       "      <td>150.0</td>\n",
       "      <td>0.0</td>\n",
       "      <td>0.0</td>\n",
       "      <td>1.0</td>\n",
       "      <td>1</td>\n",
       "    </tr>\n",
       "    <tr>\n",
       "      <th>1</th>\n",
       "      <td>2949.95</td>\n",
       "      <td>0.0</td>\n",
       "      <td>0.0</td>\n",
       "      <td>737.4875</td>\n",
       "      <td>0.0</td>\n",
       "      <td>0.000</td>\n",
       "      <td>0.0</td>\n",
       "      <td>168</td>\n",
       "      <td>2.166667</td>\n",
       "      <td>1</td>\n",
       "      <td>...</td>\n",
       "      <td>0.0</td>\n",
       "      <td>268.71</td>\n",
       "      <td>4</td>\n",
       "      <td>0.000000</td>\n",
       "      <td>0.000000e+00</td>\n",
       "      <td>500.0</td>\n",
       "      <td>0.0</td>\n",
       "      <td>0.0</td>\n",
       "      <td>1.0</td>\n",
       "      <td>1</td>\n",
       "    </tr>\n",
       "    <tr>\n",
       "      <th>2</th>\n",
       "      <td>2750.22</td>\n",
       "      <td>0.0</td>\n",
       "      <td>0.0</td>\n",
       "      <td>0.0000</td>\n",
       "      <td>0.0</td>\n",
       "      <td>687.555</td>\n",
       "      <td>0.0</td>\n",
       "      <td>26</td>\n",
       "      <td>2.000000</td>\n",
       "      <td>1</td>\n",
       "      <td>...</td>\n",
       "      <td>0.0</td>\n",
       "      <td>97.69</td>\n",
       "      <td>2</td>\n",
       "      <td>0.000000</td>\n",
       "      <td>0.000000e+00</td>\n",
       "      <td>255.0</td>\n",
       "      <td>0.0</td>\n",
       "      <td>0.0</td>\n",
       "      <td>0.0</td>\n",
       "      <td>1</td>\n",
       "    </tr>\n",
       "    <tr>\n",
       "      <th>3</th>\n",
       "      <td>4200.06</td>\n",
       "      <td>0.0</td>\n",
       "      <td>160.0</td>\n",
       "      <td>890.0150</td>\n",
       "      <td>0.0</td>\n",
       "      <td>0.000</td>\n",
       "      <td>0.0</td>\n",
       "      <td>167</td>\n",
       "      <td>6.000000</td>\n",
       "      <td>3</td>\n",
       "      <td>...</td>\n",
       "      <td>0.0</td>\n",
       "      <td>550.00</td>\n",
       "      <td>2</td>\n",
       "      <td>3.666667</td>\n",
       "      <td>1.090477e-12</td>\n",
       "      <td>255.0</td>\n",
       "      <td>0.0</td>\n",
       "      <td>0.0</td>\n",
       "      <td>0.0</td>\n",
       "      <td>1</td>\n",
       "    </tr>\n",
       "    <tr>\n",
       "      <th>4</th>\n",
       "      <td>1993.28</td>\n",
       "      <td>0.0</td>\n",
       "      <td>0.0</td>\n",
       "      <td>498.3200</td>\n",
       "      <td>0.0</td>\n",
       "      <td>0.000</td>\n",
       "      <td>0.0</td>\n",
       "      <td>81</td>\n",
       "      <td>1.500000</td>\n",
       "      <td>1</td>\n",
       "      <td>...</td>\n",
       "      <td>0.0</td>\n",
       "      <td>327.16</td>\n",
       "      <td>2</td>\n",
       "      <td>1.000000</td>\n",
       "      <td>0.000000e+00</td>\n",
       "      <td>325.0</td>\n",
       "      <td>0.0</td>\n",
       "      <td>1.0</td>\n",
       "      <td>0.0</td>\n",
       "      <td>1</td>\n",
       "    </tr>\n",
       "  </tbody>\n",
       "</table>\n",
       "<p>5 rows × 34 columns</p>\n",
       "</div>"
      ],
      "text/plain": [
       "   monthly_income  gig_economy_weekly_income  \\\n",
       "0         2174.54                        0.0   \n",
       "1         2949.95                        0.0   \n",
       "2         2750.22                        0.0   \n",
       "3         4200.06                        0.0   \n",
       "4         1993.28                        0.0   \n",
       "\n",
       "   atm_check_deposits_weekly_income  direct_deposit_weekly_income  \\\n",
       "0                               0.0                      543.6350   \n",
       "1                               0.0                      737.4875   \n",
       "2                               0.0                        0.0000   \n",
       "3                             160.0                      890.0150   \n",
       "4                               0.0                      498.3200   \n",
       "\n",
       "   government_aid_weekly_income  frequency_heuristic_weekly_income  \\\n",
       "0                           0.0                              0.000   \n",
       "1                           0.0                              0.000   \n",
       "2                           0.0                            687.555   \n",
       "3                           0.0                              0.000   \n",
       "4                           0.0                              0.000   \n",
       "\n",
       "   large_deposits_weekly_income  income_length  payrolls_per_month  \\\n",
       "0                           0.0            157            2.166667   \n",
       "1                           0.0            168            2.166667   \n",
       "2                           0.0             26            2.000000   \n",
       "3                           0.0            167            6.000000   \n",
       "4                           0.0             81            1.500000   \n",
       "\n",
       "   income_sources   ...    pay_advances  total_loan_payments  \\\n",
       "0               1   ...             0.0               269.68   \n",
       "1               1   ...             0.0               268.71   \n",
       "2               1   ...             0.0                97.69   \n",
       "3               3   ...             0.0               550.00   \n",
       "4               1   ...             0.0               327.16   \n",
       "\n",
       "   no_of_other_active_loans  traditional_single_payment_mean  \\\n",
       "0                         2                         1.000000   \n",
       "1                         4                         0.000000   \n",
       "2                         2                         0.000000   \n",
       "3                         2                         3.666667   \n",
       "4                         2                         1.000000   \n",
       "\n",
       "   traditional_single_payment_trend  loan_requested  state_\"ID\"  state_\"UT\"  \\\n",
       "0                      1.775886e-16           150.0         0.0         0.0   \n",
       "1                      0.000000e+00           500.0         0.0         0.0   \n",
       "2                      0.000000e+00           255.0         0.0         0.0   \n",
       "3                      1.090477e-12           255.0         0.0         0.0   \n",
       "4                      0.000000e+00           325.0         0.0         1.0   \n",
       "\n",
       "   state_\"WA\"  status  \n",
       "0         1.0       1  \n",
       "1         1.0       1  \n",
       "2         0.0       1  \n",
       "3         0.0       1  \n",
       "4         0.0       1  \n",
       "\n",
       "[5 rows x 34 columns]"
      ]
     },
     "execution_count": 93,
     "metadata": {},
     "output_type": "execute_result"
    }
   ],
   "source": [
    "training_set.head()"
   ]
  },
  {
   "cell_type": "code",
   "execution_count": 94,
   "metadata": {},
   "outputs": [],
   "source": [
    "training_set_0 = training_set.loc[training_set.status == 0]"
   ]
  },
  {
   "cell_type": "code",
   "execution_count": 95,
   "metadata": {},
   "outputs": [
    {
     "data": {
      "text/plain": [
       "0    657\n",
       "Name: status, dtype: int64"
      ]
     },
     "execution_count": 95,
     "metadata": {},
     "output_type": "execute_result"
    }
   ],
   "source": [
    "training_set_0.status.value_counts()"
   ]
  },
  {
   "cell_type": "code",
   "execution_count": 96,
   "metadata": {},
   "outputs": [],
   "source": [
    "training_set_0_upsampled = resample(training_set_0, replace=True, n_samples=2000, random_state=0)"
   ]
  },
  {
   "cell_type": "code",
   "execution_count": 97,
   "metadata": {},
   "outputs": [
    {
     "data": {
      "text/plain": [
       "2000"
      ]
     },
     "execution_count": 97,
     "metadata": {},
     "output_type": "execute_result"
    }
   ],
   "source": [
    "len(training_set_0_upsampled)"
   ]
  },
  {
   "cell_type": "code",
   "execution_count": 98,
   "metadata": {},
   "outputs": [],
   "source": [
    "y_training_set_0_upsampled = training_set_0_upsampled['status']\n",
    "X_training_set_0_upsampled = training_set_0_upsampled.drop('status', axis=1)"
   ]
  },
  {
   "cell_type": "code",
   "execution_count": 99,
   "metadata": {},
   "outputs": [
    {
     "data": {
      "text/html": [
       "<div>\n",
       "<style scoped>\n",
       "    .dataframe tbody tr th:only-of-type {\n",
       "        vertical-align: middle;\n",
       "    }\n",
       "\n",
       "    .dataframe tbody tr th {\n",
       "        vertical-align: top;\n",
       "    }\n",
       "\n",
       "    .dataframe thead th {\n",
       "        text-align: right;\n",
       "    }\n",
       "</style>\n",
       "<table border=\"1\" class=\"dataframe\">\n",
       "  <thead>\n",
       "    <tr style=\"text-align: right;\">\n",
       "      <th></th>\n",
       "      <th>monthly_income</th>\n",
       "      <th>gig_economy_weekly_income</th>\n",
       "      <th>atm_check_deposits_weekly_income</th>\n",
       "      <th>direct_deposit_weekly_income</th>\n",
       "      <th>government_aid_weekly_income</th>\n",
       "      <th>frequency_heuristic_weekly_income</th>\n",
       "      <th>large_deposits_weekly_income</th>\n",
       "      <th>income_length</th>\n",
       "      <th>payrolls_per_month</th>\n",
       "      <th>income_sources</th>\n",
       "      <th>...</th>\n",
       "      <th>title_loan</th>\n",
       "      <th>pay_advances</th>\n",
       "      <th>total_loan_payments</th>\n",
       "      <th>no_of_other_active_loans</th>\n",
       "      <th>traditional_single_payment_mean</th>\n",
       "      <th>traditional_single_payment_trend</th>\n",
       "      <th>loan_requested</th>\n",
       "      <th>state_\"ID\"</th>\n",
       "      <th>state_\"UT\"</th>\n",
       "      <th>state_\"WA\"</th>\n",
       "    </tr>\n",
       "  </thead>\n",
       "  <tbody>\n",
       "    <tr>\n",
       "      <th>2830</th>\n",
       "      <td>1719.14</td>\n",
       "      <td>0.0</td>\n",
       "      <td>88.0</td>\n",
       "      <td>0.0000</td>\n",
       "      <td>0.0</td>\n",
       "      <td>341.785</td>\n",
       "      <td>0.0</td>\n",
       "      <td>320</td>\n",
       "      <td>3.818182</td>\n",
       "      <td>2</td>\n",
       "      <td>...</td>\n",
       "      <td>0.0</td>\n",
       "      <td>0.0</td>\n",
       "      <td>0.00</td>\n",
       "      <td>0</td>\n",
       "      <td>1.285714</td>\n",
       "      <td>-0.036184</td>\n",
       "      <td>50.0</td>\n",
       "      <td>0.0</td>\n",
       "      <td>0.0</td>\n",
       "      <td>1.0</td>\n",
       "    </tr>\n",
       "    <tr>\n",
       "      <th>3162</th>\n",
       "      <td>1487.76</td>\n",
       "      <td>0.0</td>\n",
       "      <td>60.0</td>\n",
       "      <td>0.0000</td>\n",
       "      <td>0.0</td>\n",
       "      <td>311.940</td>\n",
       "      <td>0.0</td>\n",
       "      <td>168</td>\n",
       "      <td>6.166667</td>\n",
       "      <td>3</td>\n",
       "      <td>...</td>\n",
       "      <td>0.0</td>\n",
       "      <td>0.0</td>\n",
       "      <td>0.00</td>\n",
       "      <td>0</td>\n",
       "      <td>0.000000</td>\n",
       "      <td>0.000000</td>\n",
       "      <td>400.0</td>\n",
       "      <td>0.0</td>\n",
       "      <td>0.0</td>\n",
       "      <td>1.0</td>\n",
       "    </tr>\n",
       "    <tr>\n",
       "      <th>970</th>\n",
       "      <td>0.00</td>\n",
       "      <td>0.0</td>\n",
       "      <td>0.0</td>\n",
       "      <td>0.0000</td>\n",
       "      <td>0.0</td>\n",
       "      <td>0.000</td>\n",
       "      <td>0.0</td>\n",
       "      <td>0</td>\n",
       "      <td>0.000000</td>\n",
       "      <td>0</td>\n",
       "      <td>...</td>\n",
       "      <td>0.0</td>\n",
       "      <td>0.0</td>\n",
       "      <td>70.98</td>\n",
       "      <td>5</td>\n",
       "      <td>0.000000</td>\n",
       "      <td>0.000000</td>\n",
       "      <td>500.0</td>\n",
       "      <td>0.0</td>\n",
       "      <td>0.0</td>\n",
       "      <td>1.0</td>\n",
       "    </tr>\n",
       "    <tr>\n",
       "      <th>1783</th>\n",
       "      <td>2226.80</td>\n",
       "      <td>0.0</td>\n",
       "      <td>54.0</td>\n",
       "      <td>0.0000</td>\n",
       "      <td>502.7</td>\n",
       "      <td>0.000</td>\n",
       "      <td>0.0</td>\n",
       "      <td>358</td>\n",
       "      <td>5.384615</td>\n",
       "      <td>2</td>\n",
       "      <td>...</td>\n",
       "      <td>0.0</td>\n",
       "      <td>0.0</td>\n",
       "      <td>0.00</td>\n",
       "      <td>1</td>\n",
       "      <td>0.000000</td>\n",
       "      <td>0.000000</td>\n",
       "      <td>500.0</td>\n",
       "      <td>0.0</td>\n",
       "      <td>0.0</td>\n",
       "      <td>1.0</td>\n",
       "    </tr>\n",
       "    <tr>\n",
       "      <th>46</th>\n",
       "      <td>2014.93</td>\n",
       "      <td>0.0</td>\n",
       "      <td>0.0</td>\n",
       "      <td>503.7325</td>\n",
       "      <td>0.0</td>\n",
       "      <td>0.000</td>\n",
       "      <td>0.0</td>\n",
       "      <td>58</td>\n",
       "      <td>2.000000</td>\n",
       "      <td>1</td>\n",
       "      <td>...</td>\n",
       "      <td>0.0</td>\n",
       "      <td>0.0</td>\n",
       "      <td>0.00</td>\n",
       "      <td>0</td>\n",
       "      <td>0.000000</td>\n",
       "      <td>0.000000</td>\n",
       "      <td>150.0</td>\n",
       "      <td>0.0</td>\n",
       "      <td>0.0</td>\n",
       "      <td>1.0</td>\n",
       "    </tr>\n",
       "  </tbody>\n",
       "</table>\n",
       "<p>5 rows × 33 columns</p>\n",
       "</div>"
      ],
      "text/plain": [
       "      monthly_income  gig_economy_weekly_income  \\\n",
       "2830         1719.14                        0.0   \n",
       "3162         1487.76                        0.0   \n",
       "970             0.00                        0.0   \n",
       "1783         2226.80                        0.0   \n",
       "46           2014.93                        0.0   \n",
       "\n",
       "      atm_check_deposits_weekly_income  direct_deposit_weekly_income  \\\n",
       "2830                              88.0                        0.0000   \n",
       "3162                              60.0                        0.0000   \n",
       "970                                0.0                        0.0000   \n",
       "1783                              54.0                        0.0000   \n",
       "46                                 0.0                      503.7325   \n",
       "\n",
       "      government_aid_weekly_income  frequency_heuristic_weekly_income  \\\n",
       "2830                           0.0                            341.785   \n",
       "3162                           0.0                            311.940   \n",
       "970                            0.0                              0.000   \n",
       "1783                         502.7                              0.000   \n",
       "46                             0.0                              0.000   \n",
       "\n",
       "      large_deposits_weekly_income  income_length  payrolls_per_month  \\\n",
       "2830                           0.0            320            3.818182   \n",
       "3162                           0.0            168            6.166667   \n",
       "970                            0.0              0            0.000000   \n",
       "1783                           0.0            358            5.384615   \n",
       "46                             0.0             58            2.000000   \n",
       "\n",
       "      income_sources     ...      title_loan  pay_advances  \\\n",
       "2830               2     ...             0.0           0.0   \n",
       "3162               3     ...             0.0           0.0   \n",
       "970                0     ...             0.0           0.0   \n",
       "1783               2     ...             0.0           0.0   \n",
       "46                 1     ...             0.0           0.0   \n",
       "\n",
       "      total_loan_payments  no_of_other_active_loans  \\\n",
       "2830                 0.00                         0   \n",
       "3162                 0.00                         0   \n",
       "970                 70.98                         5   \n",
       "1783                 0.00                         1   \n",
       "46                   0.00                         0   \n",
       "\n",
       "      traditional_single_payment_mean  traditional_single_payment_trend  \\\n",
       "2830                         1.285714                         -0.036184   \n",
       "3162                         0.000000                          0.000000   \n",
       "970                          0.000000                          0.000000   \n",
       "1783                         0.000000                          0.000000   \n",
       "46                           0.000000                          0.000000   \n",
       "\n",
       "      loan_requested  state_\"ID\"  state_\"UT\"  state_\"WA\"  \n",
       "2830            50.0         0.0         0.0         1.0  \n",
       "3162           400.0         0.0         0.0         1.0  \n",
       "970            500.0         0.0         0.0         1.0  \n",
       "1783           500.0         0.0         0.0         1.0  \n",
       "46             150.0         0.0         0.0         1.0  \n",
       "\n",
       "[5 rows x 33 columns]"
      ]
     },
     "execution_count": 99,
     "metadata": {},
     "output_type": "execute_result"
    }
   ],
   "source": [
    "X_training_set_0_upsampled.head()"
   ]
  },
  {
   "cell_type": "code",
   "execution_count": 100,
   "metadata": {},
   "outputs": [],
   "source": [
    "new_X_train_upsampled = X_train.append(X_training_set_0_upsampled)\n",
    "new_y_train_upsampled = y_train.append(y_training_set_0_upsampled)"
   ]
  },
  {
   "cell_type": "code",
   "execution_count": 101,
   "metadata": {},
   "outputs": [
    {
     "data": {
      "text/plain": [
       "5313"
      ]
     },
     "execution_count": 101,
     "metadata": {},
     "output_type": "execute_result"
    }
   ],
   "source": [
    "len(new_X_train_upsampled)"
   ]
  },
  {
   "cell_type": "markdown",
   "metadata": {},
   "source": [
    "### Apply random forest"
   ]
  },
  {
   "cell_type": "code",
   "execution_count": 102,
   "metadata": {},
   "outputs": [
    {
     "name": "stdout",
     "output_type": "stream",
     "text": [
      "RandomForestClassifier(bootstrap=True, class_weight=None, criterion='gini',\n",
      "                       max_depth=None, max_features='auto', max_leaf_nodes=None,\n",
      "                       min_impurity_decrease=0.0, min_impurity_split=None,\n",
      "                       min_samples_leaf=1, min_samples_split=2,\n",
      "                       min_weight_fraction_leaf=0.0, n_estimators=100,\n",
      "                       n_jobs=None, oob_score=False, random_state=113,\n",
      "                       verbose=0, warm_start=False)\n",
      "Report:\n",
      "              precision    recall  f1-score   support\n",
      "\n",
      "           0       0.44      0.15      0.23       170\n",
      "           1       0.81      0.95      0.88       659\n",
      "\n",
      "    accuracy                           0.79       829\n",
      "   macro avg       0.63      0.55      0.55       829\n",
      "weighted avg       0.74      0.79      0.74       829\n",
      " CV score: 0.6108533698003837\n",
      "\n",
      "Each Cross Validated Accuracy: \n",
      " [0.6589795  0.60282977 0.60138146 0.64549911 0.54557701]\n",
      "\n",
      "Overall Classifier Accuracy: 0.61 (+/- 0.08)\n",
      "\n"
     ]
    }
   ],
   "source": [
    "rf3, report_rf3 = rf(new_X_train_upsampled, X_test, new_y_train_upsampled, y_test)"
   ]
  },
  {
   "cell_type": "markdown",
   "metadata": {},
   "source": [
    "### Gradient boosting"
   ]
  },
  {
   "cell_type": "code",
   "execution_count": 103,
   "metadata": {},
   "outputs": [
    {
     "name": "stdout",
     "output_type": "stream",
     "text": [
      "Report:\n",
      "              precision    recall  f1-score   support\n",
      "\n",
      "           0       0.32      0.56      0.41       170\n",
      "           1       0.86      0.69      0.77       659\n",
      "\n",
      "    accuracy                           0.67       829\n",
      "   macro avg       0.59      0.63      0.59       829\n",
      "weighted avg       0.75      0.67      0.70       829\n",
      " CV score: 0.5876956021825801\n",
      "\n",
      "Each Cross Validated Accuracy: \n",
      " [0.58934938 0.57687166 0.56561943 0.60695187 0.59968568]\n",
      "\n",
      "Overall Classifier Accuracy: 0.59 (+/- 0.03)\n",
      "\n"
     ]
    }
   ],
   "source": [
    "gb3, report_gb3 = gb(new_X_train_upsampled, X_test, new_y_train_upsampled, y_test)"
   ]
  },
  {
   "cell_type": "markdown",
   "metadata": {},
   "source": [
    "### XGBoost"
   ]
  },
  {
   "cell_type": "code",
   "execution_count": 104,
   "metadata": {},
   "outputs": [
    {
     "name": "stdout",
     "output_type": "stream",
     "text": [
      "Report:\n",
      "              precision    recall  f1-score   support\n",
      "\n",
      "           0       0.31      0.56      0.40       170\n",
      "           1       0.86      0.69      0.76       659\n",
      "\n",
      "    accuracy                           0.66       829\n",
      "   macro avg       0.59      0.62      0.58       829\n",
      "weighted avg       0.75      0.66      0.69       829\n",
      " CV score: 0.6201721979562124\n",
      "\n",
      "Each Cross Validated Accuracy: \n",
      " [0.64237968 0.5802139  0.58444742 0.65663993 0.63718006]\n",
      "\n",
      "Overall Classifier Accuracy: 0.62 (+/- 0.06)\n",
      "\n"
     ]
    }
   ],
   "source": [
    "xgb3, report_xgb3 = xgb(new_X_train_upsampled, X_test, new_y_train_upsampled, y_test)"
   ]
  },
  {
   "cell_type": "markdown",
   "metadata": {},
   "source": [
    "### Logistic regression"
   ]
  },
  {
   "cell_type": "code",
   "execution_count": 105,
   "metadata": {},
   "outputs": [],
   "source": [
    "# Scaling\n",
    "#train set\n",
    "ss3 = StandardScaler()\n",
    "\n",
    "binary_columns = new_X_train_upsampled[['state_\\\"ID\\\"', 'state_\\\"UT\\\"', 'state_\\\"WA\\\"']]\n",
    "\n",
    "new_X_train_upsampled_c = new_X_train_upsampled.drop(['state_\\\"ID\\\"', 'state_\\\"UT\\\"', 'state_\\\"WA\\\"'], axis=1)\n",
    "\n",
    "ss3.fit(new_X_train_upsampled_c)\n",
    "\n",
    "new_X_train_upsampled_scaled = ss3.transform(new_X_train_upsampled_c)\n",
    "\n",
    "new_X_train_upsampled_scaled = pd.DataFrame(new_X_train_upsampled_scaled, columns = ['monthly_income', 'gig_economy_weekly_income',\n",
    "       'atm_check_deposits_weekly_income', 'direct_deposit_weekly_income',\n",
    "       'government_aid_weekly_income', 'frequency_heuristic_weekly_income',\n",
    "       'large_deposits_weekly_income', 'income_length', 'payrolls_per_month',\n",
    "       'income_sources', 'days_since_most_recent_payroll',\n",
    "       'days_until_next_payroll', 'bank_balance', 'overdraft_transactions',\n",
    "       'nsf_transactions', 'return_transactions', 'reverse_transactions',\n",
    "       'mortgage', 'auto_loan', 'student_loan', 'traditional_single_payment',\n",
    "       'installment_loan', 'predatory_installment_loan', 'title_loan',\n",
    "       'pay_advances', 'total_loan_payments', 'no_of_other_active_loans',\n",
    "       'traditional_single_payment_mean', 'traditional_single_payment_trend',\n",
    "       'loan_requested'])\n",
    "new_X_train_upsampled_scaled = new_X_train_upsampled_scaled.reset_index(drop=True)\n",
    "binary_columns = binary_columns.reset_index(drop=True)\n",
    "new_X_train_upsampled_scaled = pd.concat([new_X_train_upsampled_scaled, binary_columns], axis=1, join='inner')\n"
   ]
  },
  {
   "cell_type": "code",
   "execution_count": 106,
   "metadata": {},
   "outputs": [],
   "source": [
    "#test set\n",
    "\n",
    "binary_columns = X_test[['state_\\\"ID\\\"', 'state_\\\"UT\\\"', 'state_\\\"WA\\\"']]\n",
    "\n",
    "X_test_c = X_test.drop(['state_\\\"ID\\\"', 'state_\\\"UT\\\"', 'state_\\\"WA\\\"'], axis=1)\n",
    "\n",
    "new_X_test_upsampled_scaled = ss3.transform(X_test_c)\n",
    "\n",
    "new_X_test_upsampled_scaled = pd.DataFrame(new_X_test_upsampled_scaled, columns = ['monthly_income', 'gig_economy_weekly_income',\n",
    "       'atm_check_deposits_weekly_income', 'direct_deposit_weekly_income',\n",
    "       'government_aid_weekly_income', 'frequency_heuristic_weekly_income',\n",
    "       'large_deposits_weekly_income', 'income_length', 'payrolls_per_month',\n",
    "       'income_sources', 'days_since_most_recent_payroll',\n",
    "       'days_until_next_payroll', 'bank_balance', 'overdraft_transactions',\n",
    "       'nsf_transactions', 'return_transactions', 'reverse_transactions',\n",
    "       'mortgage', 'auto_loan', 'student_loan', 'traditional_single_payment',\n",
    "       'installment_loan', 'predatory_installment_loan', 'title_loan',\n",
    "       'pay_advances', 'total_loan_payments', 'no_of_other_active_loans',\n",
    "       'traditional_single_payment_mean', 'traditional_single_payment_trend',\n",
    "       'loan_requested'])\n",
    "new_X_test_upsampled_scaled = new_X_test_upsampled_scaled.reset_index(drop=True)\n",
    "binary_columns = binary_columns.reset_index(drop=True)\n",
    "new_X_test_upsampled_scaled = pd.concat([new_X_test_upsampled_scaled, binary_columns], axis=1, join='inner')\n"
   ]
  },
  {
   "cell_type": "code",
   "execution_count": 107,
   "metadata": {},
   "outputs": [
    {
     "name": "stdout",
     "output_type": "stream",
     "text": [
      "Report:\n",
      "              precision    recall  f1-score   support\n",
      "\n",
      "           0       0.29      0.64      0.40       170\n",
      "           1       0.87      0.60      0.71       659\n",
      "\n",
      "    accuracy                           0.61       829\n",
      "   macro avg       0.58      0.62      0.56       829\n",
      "weighted avg       0.75      0.61      0.65       829\n",
      " CV score: 0.5943884285150564\n",
      "\n",
      "Each Cross Validated Accuracy: \n",
      " [0.65842246 0.63391266 0.55592692 0.62143494 0.50224517]\n",
      "\n",
      "Overall Classifier Accuracy: 0.59 (+/- 0.11)\n",
      "\n"
     ]
    }
   ],
   "source": [
    "lr4, report_lr4 = logireg(new_X_train_upsampled_scaled, new_X_test_upsampled_scaled, new_y_train_upsampled, y_test)"
   ]
  },
  {
   "cell_type": "code",
   "execution_count": 108,
   "metadata": {},
   "outputs": [],
   "source": [
    "models.append(rf3)\n",
    "models.append(gb3)\n",
    "models.append(xgb3)\n",
    "models.append(lr4)\n",
    "\n",
    "reports.append(report_rf3)\n",
    "reports.append(report_gb3)\n",
    "reports.append(report_xgb3)\n",
    "reports.append(report_lr4)"
   ]
  },
  {
   "cell_type": "markdown",
   "metadata": {},
   "source": [
    "## Models comparison"
   ]
  },
  {
   "cell_type": "code",
   "execution_count": 109,
   "metadata": {},
   "outputs": [],
   "source": [
    "#parse reports to make them manageble\n",
    "reports_dicts_list = []\n",
    "for report in reports:\n",
    "    r = report.split(' ')\n",
    "    numbers = []\n",
    "    for i in r:\n",
    "        try:\n",
    "            numbers.append(float(i))\n",
    "        except:\n",
    "            pass\n",
    "    report_dict = {numbers[0]: {'precision': numbers[1], 'recall': numbers[2], 'f1': numbers[3]},\n",
    "    numbers[5]: {'precision': numbers[6], 'recall': numbers[7], 'f1': numbers[8]},\n",
    "    'accuracy': numbers[10],\n",
    "    'CV_AUC_score': numbers[19]}\n",
    "    reports_dicts_list.append(report_dict)"
   ]
  },
  {
   "cell_type": "code",
   "execution_count": 110,
   "metadata": {},
   "outputs": [],
   "source": [
    "df_reports = pd.DataFrame(reports_dicts_list)"
   ]
  },
  {
   "cell_type": "code",
   "execution_count": 111,
   "metadata": {},
   "outputs": [],
   "source": [
    "df_reports['model'] = ['Logistic regression',\n",
    "                      'Logistic Regression limited features',\n",
    "                      'Random forest',\n",
    "                      'XGBoost',\n",
    "                      'Gradient boosting',\n",
    "                      'Random forest with data from rejected dataset',\n",
    "                      'Logistic regression with data from rejected dataset',\n",
    "                      'Gradient Boosting with data from rejected dataset',\n",
    "                      'XG Boost with data from rejected dataset',\n",
    "                      'Random forest with resampled data',\n",
    "                      'Gradient Boosting with resampled data',\n",
    "                      'XG Boost with resampled data',\n",
    "                      'Logistic regression with resampled data']"
   ]
  },
  {
   "cell_type": "code",
   "execution_count": 112,
   "metadata": {},
   "outputs": [
    {
     "data": {
      "text/html": [
       "<div>\n",
       "<style scoped>\n",
       "    .dataframe tbody tr th:only-of-type {\n",
       "        vertical-align: middle;\n",
       "    }\n",
       "\n",
       "    .dataframe tbody tr th {\n",
       "        vertical-align: top;\n",
       "    }\n",
       "\n",
       "    .dataframe thead th {\n",
       "        text-align: right;\n",
       "    }\n",
       "</style>\n",
       "<table border=\"1\" class=\"dataframe\">\n",
       "  <thead>\n",
       "    <tr style=\"text-align: right;\">\n",
       "      <th></th>\n",
       "      <th>0.0</th>\n",
       "      <th>1.0</th>\n",
       "      <th>accuracy</th>\n",
       "      <th>CV_AUC_score</th>\n",
       "      <th>model</th>\n",
       "    </tr>\n",
       "  </thead>\n",
       "  <tbody>\n",
       "    <tr>\n",
       "      <th>0</th>\n",
       "      <td>{'precision': 0.4, 'recall': 0.12, 'f1': 0.19}</td>\n",
       "      <td>{'precision': 0.81, 'recall': 0.95, 'f1': 0.87}</td>\n",
       "      <td>0.78</td>\n",
       "      <td>0.591345</td>\n",
       "      <td>Logistic regression</td>\n",
       "    </tr>\n",
       "    <tr>\n",
       "      <th>1</th>\n",
       "      <td>{'precision': 0.35, 'recall': 0.12, 'f1': 0.18}</td>\n",
       "      <td>{'precision': 0.81, 'recall': 0.94, 'f1': 0.87}</td>\n",
       "      <td>0.77</td>\n",
       "      <td>0.600950</td>\n",
       "      <td>Logistic Regression limited features</td>\n",
       "    </tr>\n",
       "    <tr>\n",
       "      <th>2</th>\n",
       "      <td>{'precision': 0.5, 'recall': 0.05, 'f1': 0.09}</td>\n",
       "      <td>{'precision': 0.8, 'recall': 0.99, 'f1': 0.88}</td>\n",
       "      <td>0.79</td>\n",
       "      <td>0.610853</td>\n",
       "      <td>Random forest</td>\n",
       "    </tr>\n",
       "    <tr>\n",
       "      <th>3</th>\n",
       "      <td>{'precision': 0.5, 'recall': 0.04, 'f1': 0.08}</td>\n",
       "      <td>{'precision': 0.8, 'recall': 0.99, 'f1': 0.88}</td>\n",
       "      <td>0.79</td>\n",
       "      <td>0.620172</td>\n",
       "      <td>XGBoost</td>\n",
       "    </tr>\n",
       "    <tr>\n",
       "      <th>4</th>\n",
       "      <td>{'precision': 0.54, 'recall': 0.04, 'f1': 0.08}</td>\n",
       "      <td>{'precision': 0.8, 'recall': 0.99, 'f1': 0.89}</td>\n",
       "      <td>0.80</td>\n",
       "      <td>0.587696</td>\n",
       "      <td>Gradient boosting</td>\n",
       "    </tr>\n",
       "    <tr>\n",
       "      <th>5</th>\n",
       "      <td>{'precision': 0.31, 'recall': 0.51, 'f1': 0.38}</td>\n",
       "      <td>{'precision': 0.85, 'recall': 0.7, 'f1': 0.77}</td>\n",
       "      <td>0.66</td>\n",
       "      <td>0.610853</td>\n",
       "      <td>Random forest with data from rejected dataset</td>\n",
       "    </tr>\n",
       "    <tr>\n",
       "      <th>6</th>\n",
       "      <td>{'precision': 0.26, 'recall': 0.46, 'f1': 0.33}</td>\n",
       "      <td>{'precision': 0.83, 'recall': 0.67, 'f1': 0.74}</td>\n",
       "      <td>0.62</td>\n",
       "      <td>0.594703</td>\n",
       "      <td>Logistic regression with data from rejected da...</td>\n",
       "    </tr>\n",
       "    <tr>\n",
       "      <th>7</th>\n",
       "      <td>{'precision': 0.26, 'recall': 0.36, 'f1': 0.3}</td>\n",
       "      <td>{'precision': 0.82, 'recall': 0.73, 'f1': 0.77}</td>\n",
       "      <td>0.66</td>\n",
       "      <td>0.587696</td>\n",
       "      <td>Gradient Boosting with data from rejected dataset</td>\n",
       "    </tr>\n",
       "    <tr>\n",
       "      <th>8</th>\n",
       "      <td>{'precision': 0.27, 'recall': 0.39, 'f1': 0.32}</td>\n",
       "      <td>{'precision': 0.82, 'recall': 0.73, 'f1': 0.77}</td>\n",
       "      <td>0.66</td>\n",
       "      <td>0.620172</td>\n",
       "      <td>XG Boost with data from rejected dataset</td>\n",
       "    </tr>\n",
       "    <tr>\n",
       "      <th>9</th>\n",
       "      <td>{'precision': 0.44, 'recall': 0.15, 'f1': 0.23}</td>\n",
       "      <td>{'precision': 0.81, 'recall': 0.95, 'f1': 0.88}</td>\n",
       "      <td>0.79</td>\n",
       "      <td>0.610853</td>\n",
       "      <td>Random forest with resampled data</td>\n",
       "    </tr>\n",
       "    <tr>\n",
       "      <th>10</th>\n",
       "      <td>{'precision': 0.32, 'recall': 0.56, 'f1': 0.41}</td>\n",
       "      <td>{'precision': 0.86, 'recall': 0.69, 'f1': 0.77}</td>\n",
       "      <td>0.67</td>\n",
       "      <td>0.587696</td>\n",
       "      <td>Gradient Boosting with resampled data</td>\n",
       "    </tr>\n",
       "    <tr>\n",
       "      <th>11</th>\n",
       "      <td>{'precision': 0.31, 'recall': 0.56, 'f1': 0.4}</td>\n",
       "      <td>{'precision': 0.86, 'recall': 0.69, 'f1': 0.76}</td>\n",
       "      <td>0.66</td>\n",
       "      <td>0.620172</td>\n",
       "      <td>XG Boost with resampled data</td>\n",
       "    </tr>\n",
       "    <tr>\n",
       "      <th>12</th>\n",
       "      <td>{'precision': 0.29, 'recall': 0.64, 'f1': 0.4}</td>\n",
       "      <td>{'precision': 0.87, 'recall': 0.6, 'f1': 0.71}</td>\n",
       "      <td>0.61</td>\n",
       "      <td>0.594388</td>\n",
       "      <td>Logistic regression with resampled data</td>\n",
       "    </tr>\n",
       "  </tbody>\n",
       "</table>\n",
       "</div>"
      ],
      "text/plain": [
       "                                                0.0  \\\n",
       "0    {'precision': 0.4, 'recall': 0.12, 'f1': 0.19}   \n",
       "1   {'precision': 0.35, 'recall': 0.12, 'f1': 0.18}   \n",
       "2    {'precision': 0.5, 'recall': 0.05, 'f1': 0.09}   \n",
       "3    {'precision': 0.5, 'recall': 0.04, 'f1': 0.08}   \n",
       "4   {'precision': 0.54, 'recall': 0.04, 'f1': 0.08}   \n",
       "5   {'precision': 0.31, 'recall': 0.51, 'f1': 0.38}   \n",
       "6   {'precision': 0.26, 'recall': 0.46, 'f1': 0.33}   \n",
       "7    {'precision': 0.26, 'recall': 0.36, 'f1': 0.3}   \n",
       "8   {'precision': 0.27, 'recall': 0.39, 'f1': 0.32}   \n",
       "9   {'precision': 0.44, 'recall': 0.15, 'f1': 0.23}   \n",
       "10  {'precision': 0.32, 'recall': 0.56, 'f1': 0.41}   \n",
       "11   {'precision': 0.31, 'recall': 0.56, 'f1': 0.4}   \n",
       "12   {'precision': 0.29, 'recall': 0.64, 'f1': 0.4}   \n",
       "\n",
       "                                                1.0  accuracy  CV_AUC_score  \\\n",
       "0   {'precision': 0.81, 'recall': 0.95, 'f1': 0.87}      0.78      0.591345   \n",
       "1   {'precision': 0.81, 'recall': 0.94, 'f1': 0.87}      0.77      0.600950   \n",
       "2    {'precision': 0.8, 'recall': 0.99, 'f1': 0.88}      0.79      0.610853   \n",
       "3    {'precision': 0.8, 'recall': 0.99, 'f1': 0.88}      0.79      0.620172   \n",
       "4    {'precision': 0.8, 'recall': 0.99, 'f1': 0.89}      0.80      0.587696   \n",
       "5    {'precision': 0.85, 'recall': 0.7, 'f1': 0.77}      0.66      0.610853   \n",
       "6   {'precision': 0.83, 'recall': 0.67, 'f1': 0.74}      0.62      0.594703   \n",
       "7   {'precision': 0.82, 'recall': 0.73, 'f1': 0.77}      0.66      0.587696   \n",
       "8   {'precision': 0.82, 'recall': 0.73, 'f1': 0.77}      0.66      0.620172   \n",
       "9   {'precision': 0.81, 'recall': 0.95, 'f1': 0.88}      0.79      0.610853   \n",
       "10  {'precision': 0.86, 'recall': 0.69, 'f1': 0.77}      0.67      0.587696   \n",
       "11  {'precision': 0.86, 'recall': 0.69, 'f1': 0.76}      0.66      0.620172   \n",
       "12   {'precision': 0.87, 'recall': 0.6, 'f1': 0.71}      0.61      0.594388   \n",
       "\n",
       "                                                model  \n",
       "0                                 Logistic regression  \n",
       "1                Logistic Regression limited features  \n",
       "2                                       Random forest  \n",
       "3                                             XGBoost  \n",
       "4                                   Gradient boosting  \n",
       "5       Random forest with data from rejected dataset  \n",
       "6   Logistic regression with data from rejected da...  \n",
       "7   Gradient Boosting with data from rejected dataset  \n",
       "8            XG Boost with data from rejected dataset  \n",
       "9                   Random forest with resampled data  \n",
       "10              Gradient Boosting with resampled data  \n",
       "11                       XG Boost with resampled data  \n",
       "12            Logistic regression with resampled data  "
      ]
     },
     "execution_count": 112,
     "metadata": {},
     "output_type": "execute_result"
    }
   ],
   "source": [
    "df_reports"
   ]
  },
  {
   "cell_type": "markdown",
   "metadata": {},
   "source": [
    "## Predict probability for the last Logistic Regression"
   ]
  },
  {
   "cell_type": "markdown",
   "metadata": {},
   "source": [
    "### Cross-validated log loss and AUC"
   ]
  },
  {
   "cell_type": "code",
   "execution_count": 113,
   "metadata": {},
   "outputs": [
    {
     "data": {
      "text/plain": [
       "-0.5315512575358861"
      ]
     },
     "execution_count": 113,
     "metadata": {},
     "output_type": "execute_result"
    }
   ],
   "source": [
    "cv_log_loss = cross_val_score(lr4, new_X_test_upsampled_scaled, y_test, cv=5, scoring='neg_log_loss')\n",
    "cv_log_loss.mean()"
   ]
  },
  {
   "cell_type": "code",
   "execution_count": 114,
   "metadata": {},
   "outputs": [
    {
     "data": {
      "text/plain": [
       "-0.6348782724359695"
      ]
     },
     "execution_count": 114,
     "metadata": {},
     "output_type": "execute_result"
    }
   ],
   "source": [
    "#interpretation: on average, the probability attributed to the right class across samples 𝑝≈0.63 \n",
    "np.log(0.53)"
   ]
  },
  {
   "cell_type": "code",
   "execution_count": 115,
   "metadata": {},
   "outputs": [
    {
     "data": {
      "text/plain": [
       "0.5943884285150564"
      ]
     },
     "execution_count": 115,
     "metadata": {},
     "output_type": "execute_result"
    }
   ],
   "source": [
    "cv_roc_auc = cross_val_score(lr4, new_X_test_upsampled_scaled, y_test, cv=5, scoring='roc_auc')\n",
    "cv_roc_auc.mean()"
   ]
  },
  {
   "cell_type": "markdown",
   "metadata": {},
   "source": [
    "### Threshold variation"
   ]
  },
  {
   "cell_type": "code",
   "execution_count": 116,
   "metadata": {},
   "outputs": [
    {
     "name": "stdout",
     "output_type": "stream",
     "text": [
      "              precision    recall  f1-score   support\n",
      "\n",
      "           0       0.22      0.99      0.36       170\n",
      "           1       0.97      0.10      0.18       659\n",
      "\n",
      "    accuracy                           0.28       829\n",
      "   macro avg       0.60      0.54      0.27       829\n",
      "weighted avg       0.82      0.28      0.22       829\n",
      "\n"
     ]
    }
   ],
   "source": [
    "res = predict_probability_and_class(lr4, new_X_test_upsampled_scaled, y_test, 0.25)"
   ]
  },
  {
   "cell_type": "code",
   "execution_count": 117,
   "metadata": {},
   "outputs": [
    {
     "data": {
      "text/html": [
       "<div>\n",
       "<style scoped>\n",
       "    .dataframe tbody tr th:only-of-type {\n",
       "        vertical-align: middle;\n",
       "    }\n",
       "\n",
       "    .dataframe tbody tr th {\n",
       "        vertical-align: top;\n",
       "    }\n",
       "\n",
       "    .dataframe thead th {\n",
       "        text-align: right;\n",
       "    }\n",
       "</style>\n",
       "<table border=\"1\" class=\"dataframe\">\n",
       "  <thead>\n",
       "    <tr style=\"text-align: right;\">\n",
       "      <th></th>\n",
       "      <th>status</th>\n",
       "      <th>0</th>\n",
       "      <th>1</th>\n",
       "      <th>pred_status</th>\n",
       "    </tr>\n",
       "  </thead>\n",
       "  <tbody>\n",
       "    <tr>\n",
       "      <th>0</th>\n",
       "      <td>1</td>\n",
       "      <td>0.262046</td>\n",
       "      <td>0.737954</td>\n",
       "      <td>0</td>\n",
       "    </tr>\n",
       "    <tr>\n",
       "      <th>1</th>\n",
       "      <td>1</td>\n",
       "      <td>0.680331</td>\n",
       "      <td>0.319669</td>\n",
       "      <td>0</td>\n",
       "    </tr>\n",
       "    <tr>\n",
       "      <th>2</th>\n",
       "      <td>1</td>\n",
       "      <td>0.456001</td>\n",
       "      <td>0.543999</td>\n",
       "      <td>0</td>\n",
       "    </tr>\n",
       "    <tr>\n",
       "      <th>3</th>\n",
       "      <td>1</td>\n",
       "      <td>0.882723</td>\n",
       "      <td>0.117277</td>\n",
       "      <td>0</td>\n",
       "    </tr>\n",
       "    <tr>\n",
       "      <th>4</th>\n",
       "      <td>1</td>\n",
       "      <td>0.123804</td>\n",
       "      <td>0.876196</td>\n",
       "      <td>1</td>\n",
       "    </tr>\n",
       "  </tbody>\n",
       "</table>\n",
       "</div>"
      ],
      "text/plain": [
       "   status         0         1  pred_status\n",
       "0       1  0.262046  0.737954            0\n",
       "1       1  0.680331  0.319669            0\n",
       "2       1  0.456001  0.543999            0\n",
       "3       1  0.882723  0.117277            0\n",
       "4       1  0.123804  0.876196            1"
      ]
     },
     "execution_count": 117,
     "metadata": {},
     "output_type": "execute_result"
    }
   ],
   "source": [
    "res.head()"
   ]
  },
  {
   "cell_type": "code",
   "execution_count": 118,
   "metadata": {},
   "outputs": [],
   "source": [
    "#!pip install scikit-plot\n"
   ]
  },
  {
   "cell_type": "code",
   "execution_count": 119,
   "metadata": {},
   "outputs": [
    {
     "data": {
      "image/png": "[encoded data removed]",
      "text/plain": [
       "<Figure size 720x720 with 1 Axes>"
      ]
     },
     "metadata": {},
     "output_type": "display_data"
    }
   ],
   "source": [
    "import scikitplot as skplt\n",
    "import matplotlib.pyplot as plt\n",
    "\n",
    "y_true = res['status']\n",
    "y_probas = lr4.predict_proba(new_X_test_upsampled_scaled)\n",
    "skplt.metrics.plot_roc(y_true, y_probas, figsize=(10,10))\n",
    "plt.show();"
   ]
  },
  {
   "cell_type": "code",
   "execution_count": 120,
   "metadata": {},
   "outputs": [],
   "source": [
    "#skplt.metrics.plot_precision_recall(y_true, y_probas, figsize=(10,10))\n",
    "#plt.show();"
   ]
  },
  {
   "cell_type": "code",
   "execution_count": 121,
   "metadata": {},
   "outputs": [
    {
     "name": "stdout",
     "output_type": "stream",
     "text": [
      "              precision    recall  f1-score   support\n",
      "\n",
      "           0       0.22      0.99      0.36       170\n",
      "           1       0.97      0.10      0.18       659\n",
      "\n",
      "    accuracy                           0.28       829\n",
      "   macro avg       0.60      0.54      0.27       829\n",
      "weighted avg       0.82      0.28      0.22       829\n",
      "\n"
     ]
    },
    {
     "data": {
      "text/html": [
       "<div>\n",
       "<style scoped>\n",
       "    .dataframe tbody tr th:only-of-type {\n",
       "        vertical-align: middle;\n",
       "    }\n",
       "\n",
       "    .dataframe tbody tr th {\n",
       "        vertical-align: top;\n",
       "    }\n",
       "\n",
       "    .dataframe thead th {\n",
       "        text-align: right;\n",
       "    }\n",
       "</style>\n",
       "<table border=\"1\" class=\"dataframe\">\n",
       "  <thead>\n",
       "    <tr style=\"text-align: right;\">\n",
       "      <th></th>\n",
       "      <th>status</th>\n",
       "      <th>0</th>\n",
       "      <th>1</th>\n",
       "      <th>pred_status</th>\n",
       "    </tr>\n",
       "  </thead>\n",
       "  <tbody>\n",
       "    <tr>\n",
       "      <th>0</th>\n",
       "      <td>1</td>\n",
       "      <td>0.262046</td>\n",
       "      <td>0.737954</td>\n",
       "      <td>0</td>\n",
       "    </tr>\n",
       "    <tr>\n",
       "      <th>1</th>\n",
       "      <td>1</td>\n",
       "      <td>0.680331</td>\n",
       "      <td>0.319669</td>\n",
       "      <td>0</td>\n",
       "    </tr>\n",
       "    <tr>\n",
       "      <th>2</th>\n",
       "      <td>1</td>\n",
       "      <td>0.456001</td>\n",
       "      <td>0.543999</td>\n",
       "      <td>0</td>\n",
       "    </tr>\n",
       "    <tr>\n",
       "      <th>3</th>\n",
       "      <td>1</td>\n",
       "      <td>0.882723</td>\n",
       "      <td>0.117277</td>\n",
       "      <td>0</td>\n",
       "    </tr>\n",
       "    <tr>\n",
       "      <th>4</th>\n",
       "      <td>1</td>\n",
       "      <td>0.123804</td>\n",
       "      <td>0.876196</td>\n",
       "      <td>1</td>\n",
       "    </tr>\n",
       "  </tbody>\n",
       "</table>\n",
       "</div>"
      ],
      "text/plain": [
       "   status         0         1  pred_status\n",
       "0       1  0.262046  0.737954            0\n",
       "1       1  0.680331  0.319669            0\n",
       "2       1  0.456001  0.543999            0\n",
       "3       1  0.882723  0.117277            0\n",
       "4       1  0.123804  0.876196            1"
      ]
     },
     "execution_count": 121,
     "metadata": {},
     "output_type": "execute_result"
    }
   ],
   "source": [
    "res = predict_probability_and_class(lr4, new_X_test_upsampled_scaled, y_test, 0.25)\n",
    "res.head()"
   ]
  },
  {
   "cell_type": "code",
   "execution_count": 122,
   "metadata": {},
   "outputs": [
    {
     "data": {
      "text/plain": [
       "592"
      ]
     },
     "execution_count": 122,
     "metadata": {},
     "output_type": "execute_result"
    }
   ],
   "source": [
    "len(res.loc[(res['status'] != res['pred_status']) &( res['status'] == 1)])"
   ]
  },
  {
   "cell_type": "code",
   "execution_count": 123,
   "metadata": {},
   "outputs": [],
   "source": [
    "coef = lr4.coef_[0]"
   ]
  },
  {
   "cell_type": "code",
   "execution_count": 124,
   "metadata": {},
   "outputs": [],
   "source": [
    "feature_names = new_X_test_upsampled_scaled.columns\n",
    "features = pd.DataFrame()\n",
    "features['name'] = feature_names\n",
    "features['coef'] = coef"
   ]
  },
  {
   "cell_type": "code",
   "execution_count": 282,
   "metadata": {},
   "outputs": [
    {
     "data": {
      "text/html": [
       "<div>\n",
       "<style scoped>\n",
       "    .dataframe tbody tr th:only-of-type {\n",
       "        vertical-align: middle;\n",
       "    }\n",
       "\n",
       "    .dataframe tbody tr th {\n",
       "        vertical-align: top;\n",
       "    }\n",
       "\n",
       "    .dataframe thead th {\n",
       "        text-align: right;\n",
       "    }\n",
       "</style>\n",
       "<table border=\"1\" class=\"dataframe\">\n",
       "  <thead>\n",
       "    <tr style=\"text-align: right;\">\n",
       "      <th></th>\n",
       "      <th>name</th>\n",
       "      <th>coef</th>\n",
       "      <th>abs_coef</th>\n",
       "    </tr>\n",
       "  </thead>\n",
       "  <tbody>\n",
       "    <tr>\n",
       "      <th>11</th>\n",
       "      <td>days_until_next_payroll</td>\n",
       "      <td>0.007077</td>\n",
       "      <td>0.007077</td>\n",
       "    </tr>\n",
       "    <tr>\n",
       "      <th>13</th>\n",
       "      <td>overdraft_transactions</td>\n",
       "      <td>-0.008098</td>\n",
       "      <td>0.008098</td>\n",
       "    </tr>\n",
       "    <tr>\n",
       "      <th>24</th>\n",
       "      <td>pay_advances</td>\n",
       "      <td>0.022451</td>\n",
       "      <td>0.022451</td>\n",
       "    </tr>\n",
       "    <tr>\n",
       "      <th>23</th>\n",
       "      <td>title_loan</td>\n",
       "      <td>-0.025129</td>\n",
       "      <td>0.025129</td>\n",
       "    </tr>\n",
       "    <tr>\n",
       "      <th>25</th>\n",
       "      <td>total_loan_payments</td>\n",
       "      <td>0.029413</td>\n",
       "      <td>0.029413</td>\n",
       "    </tr>\n",
       "    <tr>\n",
       "      <th>4</th>\n",
       "      <td>government_aid_weekly_income</td>\n",
       "      <td>0.036994</td>\n",
       "      <td>0.036994</td>\n",
       "    </tr>\n",
       "    <tr>\n",
       "      <th>14</th>\n",
       "      <td>nsf_transactions</td>\n",
       "      <td>-0.050480</td>\n",
       "      <td>0.050480</td>\n",
       "    </tr>\n",
       "    <tr>\n",
       "      <th>7</th>\n",
       "      <td>income_length</td>\n",
       "      <td>0.053863</td>\n",
       "      <td>0.053863</td>\n",
       "    </tr>\n",
       "    <tr>\n",
       "      <th>16</th>\n",
       "      <td>reverse_transactions</td>\n",
       "      <td>-0.063133</td>\n",
       "      <td>0.063133</td>\n",
       "    </tr>\n",
       "    <tr>\n",
       "      <th>2</th>\n",
       "      <td>atm_check_deposits_weekly_income</td>\n",
       "      <td>0.063685</td>\n",
       "      <td>0.063685</td>\n",
       "    </tr>\n",
       "    <tr>\n",
       "      <th>28</th>\n",
       "      <td>traditional_single_payment_trend</td>\n",
       "      <td>0.063815</td>\n",
       "      <td>0.063815</td>\n",
       "    </tr>\n",
       "    <tr>\n",
       "      <th>10</th>\n",
       "      <td>days_since_most_recent_payroll</td>\n",
       "      <td>0.074289</td>\n",
       "      <td>0.074289</td>\n",
       "    </tr>\n",
       "    <tr>\n",
       "      <th>8</th>\n",
       "      <td>payrolls_per_month</td>\n",
       "      <td>-0.078095</td>\n",
       "      <td>0.078095</td>\n",
       "    </tr>\n",
       "    <tr>\n",
       "      <th>9</th>\n",
       "      <td>income_sources</td>\n",
       "      <td>0.081313</td>\n",
       "      <td>0.081313</td>\n",
       "    </tr>\n",
       "    <tr>\n",
       "      <th>1</th>\n",
       "      <td>gig_economy_weekly_income</td>\n",
       "      <td>0.089165</td>\n",
       "      <td>0.089165</td>\n",
       "    </tr>\n",
       "    <tr>\n",
       "      <th>20</th>\n",
       "      <td>traditional_single_payment</td>\n",
       "      <td>-0.089999</td>\n",
       "      <td>0.089999</td>\n",
       "    </tr>\n",
       "    <tr>\n",
       "      <th>18</th>\n",
       "      <td>auto_loan</td>\n",
       "      <td>0.092339</td>\n",
       "      <td>0.092339</td>\n",
       "    </tr>\n",
       "    <tr>\n",
       "      <th>15</th>\n",
       "      <td>return_transactions</td>\n",
       "      <td>-0.114058</td>\n",
       "      <td>0.114058</td>\n",
       "    </tr>\n",
       "    <tr>\n",
       "      <th>3</th>\n",
       "      <td>direct_deposit_weekly_income</td>\n",
       "      <td>0.116419</td>\n",
       "      <td>0.116419</td>\n",
       "    </tr>\n",
       "    <tr>\n",
       "      <th>5</th>\n",
       "      <td>frequency_heuristic_weekly_income</td>\n",
       "      <td>0.117322</td>\n",
       "      <td>0.117322</td>\n",
       "    </tr>\n",
       "    <tr>\n",
       "      <th>21</th>\n",
       "      <td>installment_loan</td>\n",
       "      <td>0.119352</td>\n",
       "      <td>0.119352</td>\n",
       "    </tr>\n",
       "    <tr>\n",
       "      <th>0</th>\n",
       "      <td>monthly_income</td>\n",
       "      <td>0.128854</td>\n",
       "      <td>0.128854</td>\n",
       "    </tr>\n",
       "    <tr>\n",
       "      <th>22</th>\n",
       "      <td>predatory_installment_loan</td>\n",
       "      <td>-0.132874</td>\n",
       "      <td>0.132874</td>\n",
       "    </tr>\n",
       "    <tr>\n",
       "      <th>17</th>\n",
       "      <td>mortgage</td>\n",
       "      <td>0.134258</td>\n",
       "      <td>0.134258</td>\n",
       "    </tr>\n",
       "    <tr>\n",
       "      <th>6</th>\n",
       "      <td>large_deposits_weekly_income</td>\n",
       "      <td>-0.148046</td>\n",
       "      <td>0.148046</td>\n",
       "    </tr>\n",
       "    <tr>\n",
       "      <th>27</th>\n",
       "      <td>traditional_single_payment_mean</td>\n",
       "      <td>0.203780</td>\n",
       "      <td>0.203780</td>\n",
       "    </tr>\n",
       "    <tr>\n",
       "      <th>29</th>\n",
       "      <td>loan_requested</td>\n",
       "      <td>-0.221556</td>\n",
       "      <td>0.221556</td>\n",
       "    </tr>\n",
       "    <tr>\n",
       "      <th>26</th>\n",
       "      <td>no_of_other_active_loans</td>\n",
       "      <td>-0.251240</td>\n",
       "      <td>0.251240</td>\n",
       "    </tr>\n",
       "    <tr>\n",
       "      <th>30</th>\n",
       "      <td>state_\"ID\"</td>\n",
       "      <td>-0.251785</td>\n",
       "      <td>0.251785</td>\n",
       "    </tr>\n",
       "    <tr>\n",
       "      <th>32</th>\n",
       "      <td>state_\"WA\"</td>\n",
       "      <td>0.261254</td>\n",
       "      <td>0.261254</td>\n",
       "    </tr>\n",
       "    <tr>\n",
       "      <th>19</th>\n",
       "      <td>student_loan</td>\n",
       "      <td>0.287778</td>\n",
       "      <td>0.287778</td>\n",
       "    </tr>\n",
       "    <tr>\n",
       "      <th>31</th>\n",
       "      <td>state_\"UT\"</td>\n",
       "      <td>-0.552547</td>\n",
       "      <td>0.552547</td>\n",
       "    </tr>\n",
       "    <tr>\n",
       "      <th>12</th>\n",
       "      <td>bank_balance</td>\n",
       "      <td>0.945507</td>\n",
       "      <td>0.945507</td>\n",
       "    </tr>\n",
       "  </tbody>\n",
       "</table>\n",
       "</div>"
      ],
      "text/plain": [
       "                                 name      coef  abs_coef\n",
       "11            days_until_next_payroll  0.007077  0.007077\n",
       "13             overdraft_transactions -0.008098  0.008098\n",
       "24                       pay_advances  0.022451  0.022451\n",
       "23                         title_loan -0.025129  0.025129\n",
       "25                total_loan_payments  0.029413  0.029413\n",
       "4        government_aid_weekly_income  0.036994  0.036994\n",
       "14                   nsf_transactions -0.050480  0.050480\n",
       "7                       income_length  0.053863  0.053863\n",
       "16               reverse_transactions -0.063133  0.063133\n",
       "2    atm_check_deposits_weekly_income  0.063685  0.063685\n",
       "28   traditional_single_payment_trend  0.063815  0.063815\n",
       "10     days_since_most_recent_payroll  0.074289  0.074289\n",
       "8                  payrolls_per_month -0.078095  0.078095\n",
       "9                      income_sources  0.081313  0.081313\n",
       "1           gig_economy_weekly_income  0.089165  0.089165\n",
       "20         traditional_single_payment -0.089999  0.089999\n",
       "18                          auto_loan  0.092339  0.092339\n",
       "15                return_transactions -0.114058  0.114058\n",
       "3        direct_deposit_weekly_income  0.116419  0.116419\n",
       "5   frequency_heuristic_weekly_income  0.117322  0.117322\n",
       "21                   installment_loan  0.119352  0.119352\n",
       "0                      monthly_income  0.128854  0.128854\n",
       "22         predatory_installment_loan -0.132874  0.132874\n",
       "17                           mortgage  0.134258  0.134258\n",
       "6        large_deposits_weekly_income -0.148046  0.148046\n",
       "27    traditional_single_payment_mean  0.203780  0.203780\n",
       "29                     loan_requested -0.221556  0.221556\n",
       "26           no_of_other_active_loans -0.251240  0.251240\n",
       "30                         state_\"ID\" -0.251785  0.251785\n",
       "32                         state_\"WA\"  0.261254  0.261254\n",
       "19                       student_loan  0.287778  0.287778\n",
       "31                         state_\"UT\" -0.552547  0.552547\n",
       "12                       bank_balance  0.945507  0.945507"
      ]
     },
     "execution_count": 282,
     "metadata": {},
     "output_type": "execute_result"
    }
   ],
   "source": [
    "#sort by absolute value of coefficients\n",
    "features['abs_coef'] = features['coef'].apply(lambda x: abs(x))\n",
    "features.sort_values(by='abs_coef')\n"
   ]
  },
  {
   "cell_type": "markdown",
   "metadata": {},
   "source": [
    "## predict with lr4 model"
   ]
  },
  {
   "cell_type": "code",
   "execution_count": null,
   "metadata": {},
   "outputs": [],
   "source": [
    "#pickle model\n",
    "\n",
    "filename = 'lr_model.sav'\n",
    "pickle.dump(lr4, open(filename, 'wb'))"
   ]
  },
  {
   "cell_type": "code",
   "execution_count": 375,
   "metadata": {},
   "outputs": [],
   "source": [
    "#pickle standard scaler\n",
    "filename = 'scaler.pkl'\n",
    "pickle.dump(ss3, open(filename, 'wb'))"
   ]
  },
  {
   "cell_type": "code",
   "execution_count": 283,
   "metadata": {},
   "outputs": [],
   "source": [
    "test_application = (0, 0, 0, 0, 0, 0, 0, 0, 0, 2, 3, 20, 1000, 5, 0, 1, 0, 1, 500, 100, 300,\n",
    "                    3, 100, 0, 300, 2000, 4, 1, 1, 500, 0, 0, 0)"
   ]
  },
  {
   "cell_type": "code",
   "execution_count": 284,
   "metadata": {},
   "outputs": [],
   "source": [
    "test_application = np.array(test_application)"
   ]
  },
  {
   "cell_type": "code",
   "execution_count": 285,
   "metadata": {},
   "outputs": [
    {
     "data": {
      "text/html": [
       "<div>\n",
       "<style scoped>\n",
       "    .dataframe tbody tr th:only-of-type {\n",
       "        vertical-align: middle;\n",
       "    }\n",
       "\n",
       "    .dataframe tbody tr th {\n",
       "        vertical-align: top;\n",
       "    }\n",
       "\n",
       "    .dataframe thead th {\n",
       "        text-align: right;\n",
       "    }\n",
       "</style>\n",
       "<table border=\"1\" class=\"dataframe\">\n",
       "  <thead>\n",
       "    <tr style=\"text-align: right;\">\n",
       "      <th></th>\n",
       "      <th>0</th>\n",
       "      <th>1</th>\n",
       "      <th>2</th>\n",
       "      <th>3</th>\n",
       "      <th>4</th>\n",
       "      <th>5</th>\n",
       "      <th>6</th>\n",
       "      <th>7</th>\n",
       "      <th>8</th>\n",
       "      <th>9</th>\n",
       "      <th>...</th>\n",
       "      <th>23</th>\n",
       "      <th>24</th>\n",
       "      <th>25</th>\n",
       "      <th>26</th>\n",
       "      <th>27</th>\n",
       "      <th>28</th>\n",
       "      <th>29</th>\n",
       "      <th>30</th>\n",
       "      <th>31</th>\n",
       "      <th>32</th>\n",
       "    </tr>\n",
       "  </thead>\n",
       "  <tbody>\n",
       "    <tr>\n",
       "      <th>0</th>\n",
       "      <td>0</td>\n",
       "      <td>0</td>\n",
       "      <td>0</td>\n",
       "      <td>0</td>\n",
       "      <td>0</td>\n",
       "      <td>0</td>\n",
       "      <td>0</td>\n",
       "      <td>0</td>\n",
       "      <td>0</td>\n",
       "      <td>2</td>\n",
       "      <td>...</td>\n",
       "      <td>0</td>\n",
       "      <td>300</td>\n",
       "      <td>2000</td>\n",
       "      <td>4</td>\n",
       "      <td>1</td>\n",
       "      <td>1</td>\n",
       "      <td>500</td>\n",
       "      <td>0</td>\n",
       "      <td>0</td>\n",
       "      <td>0</td>\n",
       "    </tr>\n",
       "  </tbody>\n",
       "</table>\n",
       "<p>1 rows × 33 columns</p>\n",
       "</div>"
      ],
      "text/plain": [
       "   0   1   2   3   4   5   6   7   8   9  ...  23   24    25  26  27  28   29  \\\n",
       "0   0   0   0   0   0   0   0   0   0   2 ...   0  300  2000   4   1   1  500   \n",
       "\n",
       "   30  31  32  \n",
       "0   0   0   0  \n",
       "\n",
       "[1 rows x 33 columns]"
      ]
     },
     "execution_count": 285,
     "metadata": {},
     "output_type": "execute_result"
    }
   ],
   "source": [
    "test_df = pd.DataFrame(test_application).T\n",
    "test_df"
   ]
  },
  {
   "cell_type": "code",
   "execution_count": 286,
   "metadata": {},
   "outputs": [],
   "source": [
    "scaled = ss3.transform(test_df.iloc[:,0:30 ])"
   ]
  },
  {
   "cell_type": "code",
   "execution_count": 287,
   "metadata": {},
   "outputs": [],
   "source": [
    "scaled_df = pd.DataFrame(scaled)"
   ]
  },
  {
   "cell_type": "code",
   "execution_count": 288,
   "metadata": {},
   "outputs": [],
   "source": [
    "scaled_df = pd.concat([scaled_df, test_df.iloc[:, 30: ]], axis=1, join='inner')"
   ]
  },
  {
   "cell_type": "code",
   "execution_count": 289,
   "metadata": {},
   "outputs": [
    {
     "data": {
      "text/html": [
       "<div>\n",
       "<style scoped>\n",
       "    .dataframe tbody tr th:only-of-type {\n",
       "        vertical-align: middle;\n",
       "    }\n",
       "\n",
       "    .dataframe tbody tr th {\n",
       "        vertical-align: top;\n",
       "    }\n",
       "\n",
       "    .dataframe thead th {\n",
       "        text-align: right;\n",
       "    }\n",
       "</style>\n",
       "<table border=\"1\" class=\"dataframe\">\n",
       "  <thead>\n",
       "    <tr style=\"text-align: right;\">\n",
       "      <th></th>\n",
       "      <th>0</th>\n",
       "      <th>1</th>\n",
       "      <th>2</th>\n",
       "      <th>3</th>\n",
       "      <th>4</th>\n",
       "      <th>5</th>\n",
       "      <th>6</th>\n",
       "      <th>7</th>\n",
       "      <th>8</th>\n",
       "      <th>9</th>\n",
       "      <th>...</th>\n",
       "      <th>23</th>\n",
       "      <th>24</th>\n",
       "      <th>25</th>\n",
       "      <th>26</th>\n",
       "      <th>27</th>\n",
       "      <th>28</th>\n",
       "      <th>29</th>\n",
       "      <th>30</th>\n",
       "      <th>31</th>\n",
       "      <th>32</th>\n",
       "    </tr>\n",
       "  </thead>\n",
       "  <tbody>\n",
       "    <tr>\n",
       "      <th>0</th>\n",
       "      <td>-1.149047</td>\n",
       "      <td>-0.112096</td>\n",
       "      <td>-0.384437</td>\n",
       "      <td>-0.953979</td>\n",
       "      <td>-0.130953</td>\n",
       "      <td>-0.387258</td>\n",
       "      <td>-0.159754</td>\n",
       "      <td>-1.496716</td>\n",
       "      <td>-0.855597</td>\n",
       "      <td>0.195034</td>\n",
       "      <td>...</td>\n",
       "      <td>-0.05981</td>\n",
       "      <td>3.159966</td>\n",
       "      <td>4.713381</td>\n",
       "      <td>1.322394</td>\n",
       "      <td>0.47356</td>\n",
       "      <td>2.486017</td>\n",
       "      <td>1.302563</td>\n",
       "      <td>0</td>\n",
       "      <td>0</td>\n",
       "      <td>0</td>\n",
       "    </tr>\n",
       "  </tbody>\n",
       "</table>\n",
       "<p>1 rows × 33 columns</p>\n",
       "</div>"
      ],
      "text/plain": [
       "         0         1         2         3         4         5         6   \\\n",
       "0 -1.149047 -0.112096 -0.384437 -0.953979 -0.130953 -0.387258 -0.159754   \n",
       "\n",
       "         7         8         9  ...       23        24        25        26  \\\n",
       "0 -1.496716 -0.855597  0.195034 ... -0.05981  3.159966  4.713381  1.322394   \n",
       "\n",
       "        27        28        29  30  31  32  \n",
       "0  0.47356  2.486017  1.302563   0   0   0  \n",
       "\n",
       "[1 rows x 33 columns]"
      ]
     },
     "execution_count": 289,
     "metadata": {},
     "output_type": "execute_result"
    }
   ],
   "source": [
    "scaled_df"
   ]
  },
  {
   "cell_type": "code",
   "execution_count": 290,
   "metadata": {},
   "outputs": [
    {
     "data": {
      "text/plain": [
       "array([[0.1617441, 0.8382559]])"
      ]
     },
     "execution_count": 290,
     "metadata": {},
     "output_type": "execute_result"
    }
   ],
   "source": [
    "lr4.predict_proba(scaled_df)"
   ]
  },
  {
   "cell_type": "markdown",
   "metadata": {},
   "source": [
    "## Model calibation"
   ]
  },
  {
   "cell_type": "code",
   "execution_count": 291,
   "metadata": {},
   "outputs": [
    {
     "data": {
      "text/plain": [
       "[(1.0, '0 - 0.1', 19),\n",
       " (0.9333333333333333, '0.1 - 0.2', 30),\n",
       " (0.8983050847457628, '0.2 - 0.3', 59),\n",
       " (0.8583333333333333, '0.3 -0.4', 120),\n",
       " (0.8427947598253275, '0.4 - 0.5', 229),\n",
       " (0.7214611872146118, '0.5 - 0,6', 219),\n",
       " (0.71875, '0.6 - 0.7', 96),\n",
       " (0.65, '0.7 - 0.8', 40),\n",
       " (0.5882352941176471, '0.8 - 0.9', 17),\n",
       " (nan, '0.9 - 1', 0)]"
      ]
     },
     "execution_count": 291,
     "metadata": {},
     "output_type": "execute_result"
    }
   ],
   "source": [
    "#check calibration of the test set\n",
    "\n",
    "check_calibration(res)"
   ]
  },
  {
   "cell_type": "code",
   "execution_count": 292,
   "metadata": {},
   "outputs": [
    {
     "name": "stdout",
     "output_type": "stream",
     "text": [
      "              precision    recall  f1-score   support\n",
      "\n",
      "           0       0.52      0.97      0.68      2657\n",
      "           1       0.78      0.10      0.18      2656\n",
      "\n",
      "    accuracy                           0.54      5313\n",
      "   macro avg       0.65      0.54      0.43      5313\n",
      "weighted avg       0.65      0.54      0.43      5313\n",
      "\n"
     ]
    }
   ],
   "source": [
    "#check calibration on train test:\n",
    "\n",
    "res = predict_probability_and_class(lr4, new_X_train_upsampled_scaled, new_y_train_upsampled, 0.25)"
   ]
  },
  {
   "cell_type": "code",
   "execution_count": 293,
   "metadata": {},
   "outputs": [
    {
     "data": {
      "text/plain": [
       "[(0.9578947368421052, '0 - 0.1', 95),\n",
       " (0.7697841726618705, '0.1 - 0.2', 139),\n",
       " (0.7490774907749077, '0.2 - 0.3', 271),\n",
       " (0.6598837209302325, '0.3 -0.4', 688),\n",
       " (0.5444444444444444, '0.4 - 0.5', 1440),\n",
       " (0.4617100371747212, '0.5 - 0,6', 1345),\n",
       " (0.3547589616810878, '0.6 - 0.7', 809),\n",
       " (0.20941176470588235, '0.7 - 0.8', 425),\n",
       " (0.19148936170212766, '0.8 - 0.9', 94),\n",
       " (0.2857142857142857, '0.9 - 1', 7)]"
      ]
     },
     "execution_count": 293,
     "metadata": {},
     "output_type": "execute_result"
    }
   ],
   "source": [
    "check_calibration(res)"
   ]
  },
  {
   "cell_type": "markdown",
   "metadata": {},
   "source": [
    "## Cross-validate calibration of lr4 model"
   ]
  },
  {
   "cell_type": "code",
   "execution_count": 295,
   "metadata": {},
   "outputs": [],
   "source": [
    "#put back together test and train data\n",
    "new_X_train_upsampled_scaled, new_X_test_upsampled_scaled, new_y_train_upsampled, y_test\n",
    "X_n = pd.concat((new_X_train_upsampled_scaled, new_X_test_upsampled_scaled), join='inner')\n",
    "y_n = pd.concat((new_y_train_upsampled, y_test), join='inner')"
   ]
  },
  {
   "cell_type": "code",
   "execution_count": 355,
   "metadata": {},
   "outputs": [
    {
     "name": "stdout",
     "output_type": "stream",
     "text": [
      "[1229 1230 1231 ... 6139 6140 6141]\n",
      "[   0    1    2 ... 1226 1227 1228]\n",
      "              precision    recall  f1-score   support\n",
      "\n",
      "           0       0.21      0.98      0.35       243\n",
      "           1       0.94      0.10      0.17       986\n",
      "\n",
      "    accuracy                           0.27      1229\n",
      "   macro avg       0.58      0.54      0.26      1229\n",
      "weighted avg       0.80      0.27      0.21      1229\n",
      "\n",
      "[   0    1    2 ... 6139 6140 6141]\n",
      "[1229 1230 1231 ... 2455 2456 2457]\n",
      "              precision    recall  f1-score   support\n",
      "\n",
      "           0       0.22      0.98      0.36       249\n",
      "           1       0.94      0.11      0.19       980\n",
      "\n",
      "    accuracy                           0.28      1229\n",
      "   macro avg       0.58      0.54      0.27      1229\n",
      "weighted avg       0.80      0.28      0.22      1229\n",
      "\n",
      "[   0    1    2 ... 6139 6140 6141]\n",
      "[2458 2459 2460 ... 3683 3684 3685]\n",
      "              precision    recall  f1-score   support\n",
      "\n",
      "           0       0.46      0.96      0.62       538\n",
      "           1       0.79      0.11      0.20       690\n",
      "\n",
      "    accuracy                           0.48      1228\n",
      "   macro avg       0.63      0.54      0.41      1228\n",
      "weighted avg       0.65      0.48      0.38      1228\n",
      "\n",
      "[   0    1    2 ... 6139 6140 6141]\n",
      "[3686 3687 3688 ... 4911 4912 4913]\n",
      "              precision    recall  f1-score   support\n",
      "\n",
      "           0       1.00      0.87      0.93      1228\n",
      "           1       0.00      0.00      0.00         0\n",
      "\n",
      "    accuracy                           0.87      1228\n",
      "   macro avg       0.50      0.43      0.46      1228\n",
      "weighted avg       1.00      0.87      0.93      1228\n",
      "\n",
      "[   0    1    2 ... 4911 4912 4913]\n",
      "[4914 4915 4916 ... 6139 6140 6141]\n",
      "              precision    recall  f1-score   support\n",
      "\n",
      "           0       0.49      0.95      0.64       569\n",
      "           1       0.77      0.13      0.22       659\n",
      "\n",
      "    accuracy                           0.51      1228\n",
      "   macro avg       0.63      0.54      0.43      1228\n",
      "weighted avg       0.64      0.51      0.42      1228\n",
      "\n"
     ]
    },
    {
     "name": "stderr",
     "output_type": "stream",
     "text": [
      "/anaconda3/lib/python3.7/site-packages/sklearn/metrics/classification.py:1439: UndefinedMetricWarning: Recall and F-score are ill-defined and being set to 0.0 in labels with no true samples.\n",
      "  'recall', 'true', average, warn_for)\n",
      "/anaconda3/lib/python3.7/site-packages/sklearn/metrics/classification.py:1439: UndefinedMetricWarning: Recall and F-score are ill-defined and being set to 0.0 in labels with no true samples.\n",
      "  'recall', 'true', average, warn_for)\n",
      "/anaconda3/lib/python3.7/site-packages/sklearn/metrics/classification.py:1439: UndefinedMetricWarning: Recall and F-score are ill-defined and being set to 0.0 in labels with no true samples.\n",
      "  'recall', 'true', average, warn_for)\n"
     ]
    }
   ],
   "source": [
    "#split data into 5 splits, train model\n",
    "\n",
    "kf = KFold(n_splits=5)\n",
    "calibrations = []\n",
    "for train_index, test_index in kf.split(X_n):\n",
    "    print(train_index)\n",
    "    print(test_index)\n",
    "\n",
    "    new_X_train_upsampled_scaled, new_X_test_upsampled_scaled = X_n.iloc[train_index, :], X_n.iloc[test_index, :]\n",
    "    \n",
    "    y_train, y_test = y_n.iloc[train_index], y_n.iloc[test_index]\n",
    "    lr5 = LogisticRegression(solver='lbfgs', fit_intercept = False, n_jobs=-1,  C = 1e12, random_state=113)\n",
    "    lr5.fit(new_X_train_upsampled_scaled, y_train)\n",
    "    res = predict_probability_and_class(lr5, new_X_test_upsampled_scaled, y_test, 0.25)\n",
    "    # now do your calibration calculation on X_test, y_test\n",
    "    calibrations.append(check_calibration(res))"
   ]
  },
  {
   "cell_type": "code",
   "execution_count": 356,
   "metadata": {},
   "outputs": [
    {
     "data": {
      "text/plain": [
       "[[(1.0, '0 - 0.1', 32),\n",
       "  (0.8717948717948718, '0.1 - 0.2', 39),\n",
       "  (0.9428571428571428, '0.2 - 0.3', 70),\n",
       "  (0.9102564102564102, '0.3 -0.4', 156),\n",
       "  (0.84, '0.4 - 0.5', 325),\n",
       "  (0.7709677419354839, '0.5 - 0,6', 310),\n",
       "  (0.7405405405405405, '0.6 - 0.7', 185),\n",
       "  (0.5647058823529412, '0.7 - 0.8', 85),\n",
       "  (0.5217391304347826, '0.8 - 0.9', 23),\n",
       "  (0.75, '0.9 - 1', 4)],\n",
       " [(0.9666666666666667, '0 - 0.1', 30),\n",
       "  (0.9714285714285714, '0.1 - 0.2', 35),\n",
       "  (0.8941176470588236, '0.2 - 0.3', 85),\n",
       "  (0.875, '0.3 -0.4', 152),\n",
       "  (0.8236914600550964, '0.4 - 0.5', 363),\n",
       "  (0.7935483870967742, '0.5 - 0,6', 310),\n",
       "  (0.6518987341772152, '0.6 - 0.7', 158),\n",
       "  (0.6533333333333333, '0.7 - 0.8', 75),\n",
       "  (0.5294117647058824, '0.8 - 0.9', 17),\n",
       "  (0.5, '0.9 - 1', 4)],\n",
       " [(0.9428571428571428, '0 - 0.1', 35),\n",
       "  (0.6666666666666666, '0.1 - 0.2', 33),\n",
       "  (0.6071428571428571, '0.2 - 0.3', 84),\n",
       "  (0.7336683417085427, '0.3 -0.4', 199),\n",
       "  (0.5755813953488372, '0.4 - 0.5', 344),\n",
       "  (0.5345911949685535, '0.5 - 0,6', 318),\n",
       "  (0.36129032258064514, '0.6 - 0.7', 155),\n",
       "  (0.30434782608695654, '0.7 - 0.8', 46),\n",
       "  (0.0, '0.8 - 0.9', 13),\n",
       "  (0.0, '0.9 - 1', 1)],\n",
       " [(0.0, '0 - 0.1', 1),\n",
       "  (0.0, '0.1 - 0.2', 70),\n",
       "  (0.0, '0.2 - 0.3', 224),\n",
       "  (0.0, '0.3 -0.4', 287),\n",
       "  (0.0, '0.4 - 0.5', 297),\n",
       "  (0.0, '0.5 - 0,6', 210),\n",
       "  (0.0, '0.6 - 0.7', 102),\n",
       "  (0.0, '0.7 - 0.8', 28),\n",
       "  (0.0, '0.8 - 0.9', 9),\n",
       "  (nan, '0.9 - 1', 0)],\n",
       " [(0.9583333333333334, '0 - 0.1', 24),\n",
       "  (0.7755102040816326, '0.1 - 0.2', 49),\n",
       "  (0.6862745098039216, '0.2 - 0.3', 102),\n",
       "  (0.6372093023255814, '0.3 -0.4', 215),\n",
       "  (0.55, '0.4 - 0.5', 340),\n",
       "  (0.4659498207885305, '0.5 - 0,6', 279),\n",
       "  (0.328, '0.6 - 0.7', 125),\n",
       "  (0.3424657534246575, '0.7 - 0.8', 73),\n",
       "  (0.3684210526315789, '0.8 - 0.9', 19),\n",
       "  (0.5, '0.9 - 1', 2)]]"
      ]
     },
     "execution_count": 356,
     "metadata": {},
     "output_type": "execute_result"
    }
   ],
   "source": [
    "calibrations"
   ]
  },
  {
   "cell_type": "code",
   "execution_count": 357,
   "metadata": {},
   "outputs": [],
   "source": [
    "ranges_0 = []\n",
    "ranges_1 = []\n",
    "ranges_2 = []\n",
    "ranges_3 = []\n",
    "ranges_4 = []\n",
    "ranges_5 = []\n",
    "ranges_6 = []\n",
    "ranges_7 = []\n",
    "ranges_8 = []\n",
    "ranges_9 = []\n",
    "\n",
    "for item in calibrations:\n",
    "    for n, i in enumerate(item):\n",
    "        if n == 0:\n",
    "            ranges_0.append(i[0])\n",
    "        elif n == 1:\n",
    "            ranges_1.append(i[0])\n",
    "        elif n == 2:\n",
    "            ranges_2.append(i[0])\n",
    "        elif n == 3:\n",
    "            ranges_3.append(i[0])\n",
    "        elif n == 4:\n",
    "            ranges_4.append(i[0])\n",
    "        elif n == 5:\n",
    "            ranges_5.append(i[0])\n",
    "        elif n == 6:\n",
    "            ranges_6.append(i[0])\n",
    "        elif n == 7:\n",
    "            ranges_7.append(i[0])\n",
    "        elif n == 8:\n",
    "            ranges_8.append(i[0])\n",
    "        elif n == 9:\n",
    "            ranges_9.append(i[0])"
   ]
  },
  {
   "cell_type": "code",
   "execution_count": 358,
   "metadata": {},
   "outputs": [
    {
     "data": {
      "text/plain": [
       "0.7735714285714287"
      ]
     },
     "execution_count": 358,
     "metadata": {},
     "output_type": "execute_result"
    }
   ],
   "source": [
    "#cross-validated average class label for P of default 0 - 0.1\n",
    "avg_0 = np.array(ranges_0).mean()\n",
    "avg_0"
   ]
  },
  {
   "cell_type": "code",
   "execution_count": 359,
   "metadata": {},
   "outputs": [
    {
     "data": {
      "text/plain": [
       "0.6570800627943485"
      ]
     },
     "execution_count": 359,
     "metadata": {},
     "output_type": "execute_result"
    }
   ],
   "source": [
    "#cross-validated average class label for P of default 0.1 - 0.2\n",
    "avg_1 = np.array(ranges_1).mean()\n",
    "avg_1"
   ]
  },
  {
   "cell_type": "code",
   "execution_count": 360,
   "metadata": {},
   "outputs": [
    {
     "data": {
      "text/plain": [
       "0.6260784313725491"
      ]
     },
     "execution_count": 360,
     "metadata": {},
     "output_type": "execute_result"
    }
   ],
   "source": [
    "#cross-validated average class label for P of default 0.2 - 0.3\n",
    "avg_2 = np.array(ranges_2).mean()\n",
    "avg_2"
   ]
  },
  {
   "cell_type": "code",
   "execution_count": 361,
   "metadata": {},
   "outputs": [
    {
     "data": {
      "text/plain": [
       "0.6312268108581068"
      ]
     },
     "execution_count": 361,
     "metadata": {},
     "output_type": "execute_result"
    }
   ],
   "source": [
    "#cross-validated average class label for P of default 0.3 - 0.4\n",
    "avg_3 = np.array(ranges_3).mean()\n",
    "avg_3"
   ]
  },
  {
   "cell_type": "code",
   "execution_count": 362,
   "metadata": {},
   "outputs": [
    {
     "data": {
      "text/plain": [
       "0.5578545710807867"
      ]
     },
     "execution_count": 362,
     "metadata": {},
     "output_type": "execute_result"
    }
   ],
   "source": [
    "#cross-validated average class label for P of default 0.4 - 0.5\n",
    "avg_4 = np.array(ranges_4).mean()\n",
    "avg_4"
   ]
  },
  {
   "cell_type": "code",
   "execution_count": 363,
   "metadata": {},
   "outputs": [
    {
     "data": {
      "text/plain": [
       "0.5130114289578684"
      ]
     },
     "execution_count": 363,
     "metadata": {},
     "output_type": "execute_result"
    }
   ],
   "source": [
    "#cross-validated average class label for P of default 0.5 - 0.6\n",
    "avg_5 = np.array(ranges_5).mean()\n",
    "avg_5"
   ]
  },
  {
   "cell_type": "code",
   "execution_count": 364,
   "metadata": {},
   "outputs": [
    {
     "data": {
      "text/plain": [
       "0.41634591945968014"
      ]
     },
     "execution_count": 364,
     "metadata": {},
     "output_type": "execute_result"
    }
   ],
   "source": [
    "#cross-validated average class label for P of default 0.6 - 0.7\n",
    "avg_6 = np.array(ranges_6).mean()\n",
    "avg_6"
   ]
  },
  {
   "cell_type": "code",
   "execution_count": 365,
   "metadata": {},
   "outputs": [
    {
     "data": {
      "text/plain": [
       "0.3729705590395777"
      ]
     },
     "execution_count": 365,
     "metadata": {},
     "output_type": "execute_result"
    }
   ],
   "source": [
    "#cross-validated average class label for P of default 0.7 - 0.8\n",
    "avg_7 = np.array(ranges_7).mean()\n",
    "avg_7"
   ]
  },
  {
   "cell_type": "code",
   "execution_count": 366,
   "metadata": {},
   "outputs": [
    {
     "data": {
      "text/plain": [
       "0.2839143895544488"
      ]
     },
     "execution_count": 366,
     "metadata": {},
     "output_type": "execute_result"
    }
   ],
   "source": [
    "#cross-validated average class label for P of default 0.8 - 0.9\n",
    "avg_8 = np.array(ranges_8).mean()\n",
    "avg_8"
   ]
  },
  {
   "cell_type": "code",
   "execution_count": 367,
   "metadata": {},
   "outputs": [
    {
     "data": {
      "text/plain": [
       "nan"
      ]
     },
     "execution_count": 367,
     "metadata": {},
     "output_type": "execute_result"
    }
   ],
   "source": [
    "#cross-validated average class label for P of default 0.9 - 1\n",
    "avg_9 = np.array(ranges_9).mean()\n",
    "avg_9"
   ]
  },
  {
   "cell_type": "code",
   "execution_count": null,
   "metadata": {},
   "outputs": [],
   "source": []
  },
  {
   "cell_type": "markdown",
   "metadata": {},
   "source": [
    "### Plot calibration"
   ]
  },
  {
   "cell_type": "code",
   "execution_count": 368,
   "metadata": {},
   "outputs": [
    {
     "data": {
      "image/png": "[encoded data removed]",
      "text/plain": [
       "<Figure size 1080x504 with 1 Axes>"
      ]
     },
     "metadata": {},
     "output_type": "display_data"
    },
    {
     "data": {
      "text/plain": [
       "<Figure size 1152x1152 with 0 Axes>"
      ]
     },
     "metadata": {},
     "output_type": "display_data"
    }
   ],
   "source": [
    "ranges = ['0 - 0.1', '0.1 - 0.2', '0.2 - 0.3', '0.3 -0.4', '0.4 - 0.5', '0.5 - 0,6',\n",
    "           '0.6 - 0.7', '0.7 - 0.8', '0.8 - 0.9', '0.9 - 1']\n",
    "avg_ranges = [0.05, 0.15, 0.25, 0.35, 0.45, 0.55, 0.65, 0.75, 0.85, 0.95]\n",
    "means = [(1-avg_0), (1-avg_1), (1-avg_2), (1-avg_3), (1-avg_4), (1-avg_5), \n",
    "         (1-avg_6), (1-avg_7), (1-avg_8), (1-avg_9)]\n",
    "plt.figure(figsize=(15, 7))\n",
    "plt.bar(ranges, avg_ranges, align='center', alpha=0.5)\n",
    "plt.plot(means, 'r', marker='o')\n",
    "plt.legend(['Actual default rate'])\n",
    "plt.ylabel('Predicted probability')\n",
    "plt.xlabel('Ranges of predicted probability')\n",
    "plt.title('Calibration check')\n",
    "\n",
    "plt.show()\n",
    "plt.savefig('graphs/calibration_check.png')"
   ]
  },
  {
   "cell_type": "markdown",
   "metadata": {},
   "source": [
    "#### There are not a lot of observations in 0.9 - 1 range comparing to the other ranges, that might explain that predicted and actual probability don't match"
   ]
  },
  {
   "cell_type": "code",
   "execution_count": null,
   "metadata": {},
   "outputs": [],
   "source": []
  }
 ],
 "metadata": {
  "kernelspec": {
   "display_name": "Python 3",
   "language": "python",
   "name": "python3"
  },
  "language_info": {
   "codemirror_mode": {
    "name": "ipython",
    "version": 3
   },
   "file_extension": ".py",
   "mimetype": "text/x-python",
   "name": "python",
   "nbconvert_exporter": "python",
   "pygments_lexer": "ipython3",
   "version": "3.7.1"
  }
 },
 "nbformat": 4,
 "nbformat_minor": 2
}
