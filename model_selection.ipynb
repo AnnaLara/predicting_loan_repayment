{
 "cells": [
  {
   "cell_type": "markdown",
   "metadata": {},
   "source": [
    "## Table of contents\n",
    "\n",
    "### 1. EDA\n",
    "\n",
    " - Multicollinearity and correlations\n",
    " - Check data distribuitions\n",
    "\n",
    "### 2. Preprocessing\n",
    "\n",
    " - Train test split\n",
    " - One-hot-encoding\n",
    " - Scaling\n",
    " - Craete lists to add models and reports\n",
    " \n",
    "### 3. Applying different models\n",
    "\n",
    " - LR on all features\n",
    " - Compare with StatsModels\n",
    " - LR with the coefficients that have p-values < 0.05\n",
    " - Random Forests\n",
    " - XGBoost\n",
    " - Gradient Boosting\n",
    " \n",
    "### 4. Correcting class imbalance with rejected dataset\n",
    "\n",
    " - Random Forests\n",
    " - LR \n",
    " - Gradient Boosting\n",
    " - XGBoost\n",
    " \n",
    "### 5. Correcting class imbalance through resampling\n",
    "\n",
    " - Random Forests\n",
    " - Gradient Boosting\n",
    " - XGBoost\n",
    " - LR \n",
    " \n",
    "### 6. Models comparison\n",
    " \n",
    "### 7. Further exploration of the selected Logistic Regression model (lr4)\n",
    " \n",
    " - Cross-validated log loss and AUC\n",
    " - Threshold variation\n",
    " - ROC-AUC visualization\n",
    "  \n",
    "### 8. Making predictions with lr4 model\n",
    " \n",
    "### 9. Checking lr4 model's calibation\n",
    " - Check model's calibration of training and testing set\n",
    " - Cross-validate calibration\n",
    " - Plot cross-validated calibration"
   ]
  },
  {
   "cell_type": "code",
   "execution_count": 312,
   "metadata": {},
   "outputs": [
    {
     "name": "stdout",
     "output_type": "stream",
     "text": [
      "The autoreload extension is already loaded. To reload it, use:\n",
      "  %reload_ext autoreload\n"
     ]
    }
   ],
   "source": [
    "import pandas as pd\n",
    "import matplotlib.pyplot as plt\n",
    "from pandas.plotting import scatter_matrix\n",
    "import numpy as np\n",
    "from sklearn.model_selection import train_test_split\n",
    "from sklearn.metrics import classification_report\n",
    "from sklearn.model_selection import cross_val_score, KFold\n",
    "from sklearn.metrics import confusion_matrix\n",
    "from sklearn.svm import SVC\n",
    "from sklearn.tree import DecisionTreeClassifier\n",
    "from sklearn.pipeline import make_pipeline, FeatureUnion, Pipeline\n",
    "from sklearn.preprocessing import OneHotEncoder, Imputer, StandardScaler\n",
    "import random\n",
    "import seaborn as sns\n",
    "from sklearn_pandas.pipeline import Pipeline\n",
    "from sklearn_pandas import DataFrameMapper\n",
    "from sklearn.preprocessing import FunctionTransformer\n",
    "from sklearn.linear_model import LogisticRegression\n",
    "import statsmodels.api as sm\n",
    "from functions import (ohe, logireg, gb, xgb, rf, predict_probability_and_class, check_calibration,\n",
    "                       keep_states_drop, preprocess, scale_columns, parse_reports)\n",
    "from sklearn.metrics import (roc_curve, auc, precision_recall_curve, make_scorer, \n",
    "recall_score, accuracy_score, precision_score, confusion_matrix)\n",
    "\n",
    "from sklearn.ensemble import GradientBoostingClassifier, RandomForestClassifier\n",
    "from xgboost import XGBClassifier\n",
    "from sklearn.utils import resample\n",
    "import pickle\n",
    "import scikitplot as skplt\n",
    "from plr.predict import predict_p\n",
    "\n",
    "%matplotlib inline\n",
    "%load_ext autoreload\n",
    "%autoreload 2"
   ]
  },
  {
   "cell_type": "code",
   "execution_count": 313,
   "metadata": {},
   "outputs": [],
   "source": [
    "#had to install xgboost\n",
    "#!pip install xgboost"
   ]
  },
  {
   "cell_type": "markdown",
   "metadata": {},
   "source": [
    "### Load data"
   ]
  },
  {
   "cell_type": "code",
   "execution_count": 314,
   "metadata": {},
   "outputs": [],
   "source": [
    "df_approved = pd.read_csv('data/pf_approved_loan_data_nov.csv', index_col=False)\n",
    "df_rejected = pd.read_csv('data/pf_rejected_loan_data_nov.csv', index_col=False)"
   ]
  },
  {
   "cell_type": "markdown",
   "metadata": {},
   "source": [
    "# 1. EDA"
   ]
  },
  {
   "cell_type": "code",
   "execution_count": 315,
   "metadata": {},
   "outputs": [
    {
     "data": {
      "text/plain": [
       "4145"
      ]
     },
     "execution_count": 315,
     "metadata": {},
     "output_type": "execute_result"
    }
   ],
   "source": [
    "len(df_approved)"
   ]
  },
  {
   "cell_type": "code",
   "execution_count": 316,
   "metadata": {},
   "outputs": [
    {
     "data": {
      "text/plain": [
       "2927"
      ]
     },
     "execution_count": 316,
     "metadata": {},
     "output_type": "execute_result"
    }
   ],
   "source": [
    "len(df_rejected)"
   ]
  },
  {
   "cell_type": "code",
   "execution_count": 317,
   "metadata": {
    "scrolled": true
   },
   "outputs": [
    {
     "data": {
      "text/plain": [
       "1    3317\n",
       "0     828\n",
       "Name: status, dtype: int64"
      ]
     },
     "execution_count": 317,
     "metadata": {},
     "output_type": "execute_result"
    }
   ],
   "source": [
    "#How many loans were returned?\n",
    "\n",
    "df_approved['status'].value_counts()"
   ]
  },
  {
   "cell_type": "markdown",
   "metadata": {},
   "source": [
    "### 75% of application from the approved set were paid pack"
   ]
  },
  {
   "cell_type": "code",
   "execution_count": 318,
   "metadata": {
    "scrolled": true
   },
   "outputs": [
    {
     "data": {
      "text/plain": [
       "array([ True,  True,  True,  True,  True,  True,  True,  True,  True,\n",
       "        True,  True,  True,  True,  True,  True,  True,  True,  True,\n",
       "        True,  True,  True,  True,  True,  True,  True,  True,  True,\n",
       "        True,  True,  True,  True,  True,  True,  True,  True,  True,\n",
       "        True,  True])"
      ]
     },
     "execution_count": 318,
     "metadata": {},
     "output_type": "execute_result"
    }
   ],
   "source": [
    "#Are the 2 dataframes's columns similar?\n",
    "\n",
    "df_rejected.columns == df_approved.columns"
   ]
  },
  {
   "cell_type": "code",
   "execution_count": 319,
   "metadata": {},
   "outputs": [
    {
     "data": {
      "text/plain": [
       "Index(['Unnamed: 0', 'monthly_income', 'gig_economy_weekly_income',\n",
       "       'atm_check_deposits_weekly_income', 'direct_deposit_weekly_income',\n",
       "       'government_aid_weekly_income', 'frequency_heuristic_weekly_income',\n",
       "       'large_deposits_weekly_income', 'income_length', 'payrolls_per_month',\n",
       "       'income_sources', 'days_since_most_recent_payroll',\n",
       "       'days_until_next_payroll', 'bank_balance', 'overdraft_transactions',\n",
       "       'nsf_transactions', 'return_transactions', 'reverse_transactions',\n",
       "       'length_of_transaction_history', 'mortgage', 'auto_loan',\n",
       "       'student_loan', 'traditional_single_payment', 'installment_loan',\n",
       "       'predatory_installment_loan', 'title_loan', 'pay_advances',\n",
       "       'total_loan_payments', 'no_of_other_active_loans',\n",
       "       'traditional_single_payment_mean', 'traditional_single_payment_trend',\n",
       "       'loan_amount', 'loan_requested', 'loan_borrowed_inc',\n",
       "       'loan_outstanding_inc', 'state', 'loan_id', 'status'],\n",
       "      dtype='object')"
      ]
     },
     "execution_count": 319,
     "metadata": {},
     "output_type": "execute_result"
    }
   ],
   "source": [
    "#What are the columns in the dataframes?\n",
    "df_approved.columns"
   ]
  },
  {
   "cell_type": "code",
   "execution_count": 320,
   "metadata": {},
   "outputs": [
    {
     "data": {
      "text/plain": [
       "(4145, 38)"
      ]
     },
     "execution_count": 320,
     "metadata": {},
     "output_type": "execute_result"
    }
   ],
   "source": [
    "df_approved.shape"
   ]
  },
  {
   "cell_type": "code",
   "execution_count": 321,
   "metadata": {
    "scrolled": true
   },
   "outputs": [
    {
     "name": "stdout",
     "output_type": "stream",
     "text": [
      "<class 'pandas.core.frame.DataFrame'>\n",
      "RangeIndex: 4145 entries, 0 to 4144\n",
      "Data columns (total 38 columns):\n",
      "Unnamed: 0                           4145 non-null int64\n",
      "monthly_income                       4145 non-null float64\n",
      "gig_economy_weekly_income            4145 non-null float64\n",
      "atm_check_deposits_weekly_income     4145 non-null float64\n",
      "direct_deposit_weekly_income         4145 non-null float64\n",
      "government_aid_weekly_income         4145 non-null float64\n",
      "frequency_heuristic_weekly_income    4145 non-null float64\n",
      "large_deposits_weekly_income         4145 non-null float64\n",
      "income_length                        4145 non-null int64\n",
      "payrolls_per_month                   4145 non-null float64\n",
      "income_sources                       4145 non-null int64\n",
      "days_since_most_recent_payroll       4145 non-null int64\n",
      "days_until_next_payroll              4145 non-null int64\n",
      "bank_balance                         4145 non-null float64\n",
      "overdraft_transactions               4145 non-null int64\n",
      "nsf_transactions                     4145 non-null int64\n",
      "return_transactions                  4145 non-null int64\n",
      "reverse_transactions                 4145 non-null int64\n",
      "length_of_transaction_history        4145 non-null int64\n",
      "mortgage                             4145 non-null float64\n",
      "auto_loan                            4145 non-null float64\n",
      "student_loan                         4145 non-null float64\n",
      "traditional_single_payment           4145 non-null float64\n",
      "installment_loan                     4145 non-null float64\n",
      "predatory_installment_loan           4145 non-null float64\n",
      "title_loan                           4145 non-null float64\n",
      "pay_advances                         4145 non-null float64\n",
      "total_loan_payments                  4145 non-null float64\n",
      "no_of_other_active_loans             4145 non-null int64\n",
      "traditional_single_payment_mean      4145 non-null float64\n",
      "traditional_single_payment_trend     4145 non-null float64\n",
      "loan_amount                          4145 non-null float64\n",
      "loan_requested                       4145 non-null float64\n",
      "loan_borrowed_inc                    4145 non-null float64\n",
      "loan_outstanding_inc                 4145 non-null float64\n",
      "state                                4145 non-null object\n",
      "loan_id                              4145 non-null object\n",
      "status                               4145 non-null int64\n",
      "dtypes: float64(24), int64(12), object(2)\n",
      "memory usage: 1.2+ MB\n"
     ]
    }
   ],
   "source": [
    "df_approved.info()"
   ]
  },
  {
   "cell_type": "markdown",
   "metadata": {},
   "source": [
    "There are no null values and all essential data is numeric, which helps a lot with the analysis process."
   ]
  },
  {
   "cell_type": "code",
   "execution_count": 322,
   "metadata": {},
   "outputs": [
    {
     "name": "stdout",
     "output_type": "stream",
     "text": [
      "<class 'pandas.core.frame.DataFrame'>\n",
      "RangeIndex: 2927 entries, 0 to 2926\n",
      "Data columns (total 38 columns):\n",
      "Unnamed: 0                           2927 non-null int64\n",
      "monthly_income                       2927 non-null float64\n",
      "gig_economy_weekly_income            2927 non-null float64\n",
      "atm_check_deposits_weekly_income     2927 non-null float64\n",
      "direct_deposit_weekly_income         2927 non-null float64\n",
      "government_aid_weekly_income         2927 non-null float64\n",
      "frequency_heuristic_weekly_income    2927 non-null float64\n",
      "large_deposits_weekly_income         2927 non-null float64\n",
      "income_length                        2927 non-null int64\n",
      "payrolls_per_month                   2927 non-null float64\n",
      "income_sources                       2927 non-null int64\n",
      "days_since_most_recent_payroll       2927 non-null int64\n",
      "days_until_next_payroll              2927 non-null int64\n",
      "bank_balance                         2927 non-null float64\n",
      "overdraft_transactions               2927 non-null int64\n",
      "nsf_transactions                     2927 non-null int64\n",
      "return_transactions                  2927 non-null int64\n",
      "reverse_transactions                 2927 non-null int64\n",
      "length_of_transaction_history        2927 non-null int64\n",
      "mortgage                             2927 non-null float64\n",
      "auto_loan                            2927 non-null float64\n",
      "student_loan                         2927 non-null float64\n",
      "traditional_single_payment           2927 non-null float64\n",
      "installment_loan                     2927 non-null float64\n",
      "predatory_installment_loan           2927 non-null float64\n",
      "title_loan                           2927 non-null float64\n",
      "pay_advances                         2927 non-null float64\n",
      "total_loan_payments                  2927 non-null float64\n",
      "no_of_other_active_loans             2927 non-null int64\n",
      "traditional_single_payment_mean      2927 non-null float64\n",
      "traditional_single_payment_trend     2927 non-null float64\n",
      "loan_amount                          2927 non-null float64\n",
      "loan_requested                       2927 non-null float64\n",
      "loan_borrowed_inc                    2927 non-null float64\n",
      "loan_outstanding_inc                 2927 non-null float64\n",
      "state                                2835 non-null object\n",
      "loan_id                              2927 non-null object\n",
      "status                               2927 non-null int64\n",
      "dtypes: float64(24), int64(12), object(2)\n",
      "memory usage: 869.0+ KB\n"
     ]
    }
   ],
   "source": [
    "df_rejected.info()"
   ]
  },
  {
   "cell_type": "markdown",
   "metadata": {},
   "source": [
    "There are null values only in 'state' column. Essential data is numeric"
   ]
  },
  {
   "cell_type": "code",
   "execution_count": 323,
   "metadata": {},
   "outputs": [
    {
     "data": {
      "text/plain": [
       "\"WA\"    1531\n",
       "\"CA\"     657\n",
       "\"UT\"     506\n",
       "\"ID\"     130\n",
       "\"TX\"       3\n",
       "\"AZ\"       2\n",
       "\"CO\"       1\n",
       "\"MA\"       1\n",
       "\"OK\"       1\n",
       "\"WI\"       1\n",
       "\"MT\"       1\n",
       "\"TN\"       1\n",
       "Name: state, dtype: int64"
      ]
     },
     "execution_count": 323,
     "metadata": {},
     "output_type": "execute_result"
    }
   ],
   "source": [
    "df_rejected['state'].value_counts()"
   ]
  },
  {
   "cell_type": "code",
   "execution_count": 324,
   "metadata": {},
   "outputs": [
    {
     "data": {
      "text/plain": [
       "{'\"AZ\"',\n",
       " '\"CA\"',\n",
       " '\"CO\"',\n",
       " '\"ID\"',\n",
       " '\"MA\"',\n",
       " '\"MT\"',\n",
       " '\"OK\"',\n",
       " '\"TN\"',\n",
       " '\"TX\"',\n",
       " '\"UT\"',\n",
       " '\"WA\"',\n",
       " '\"WI\"',\n",
       " nan}"
      ]
     },
     "execution_count": 324,
     "metadata": {},
     "output_type": "execute_result"
    }
   ],
   "source": [
    "set(list(df_rejected.state.values))"
   ]
  },
  {
   "cell_type": "markdown",
   "metadata": {},
   "source": [
    "I decided to drop states that do not apperar in approved datasets and rejected dataset together. The idea is to be able to test the rejected dataset on the model created with approved application. I will also frop rows in rejected application where state is not specified."
   ]
  },
  {
   "cell_type": "code",
   "execution_count": 325,
   "metadata": {
    "scrolled": true
   },
   "outputs": [
    {
     "data": {
      "text/plain": [
       "\"WA\"    2334\n",
       "\"CA\"    1131\n",
       "\"UT\"     569\n",
       "\"ID\"     108\n",
       "\"KS\"       1\n",
       "\"GA\"       1\n",
       "\"FL\"       1\n",
       "Name: state, dtype: int64"
      ]
     },
     "execution_count": 325,
     "metadata": {},
     "output_type": "execute_result"
    }
   ],
   "source": [
    "df_approved['state'].value_counts()"
   ]
  },
  {
   "cell_type": "markdown",
   "metadata": {},
   "source": [
    "### Multicollinearity and correlations"
   ]
  },
  {
   "cell_type": "code",
   "execution_count": 326,
   "metadata": {},
   "outputs": [
    {
     "data": {
      "image/png": "[encoded data removed]",
      "text/plain": [
       "<Figure size 1152x1152 with 2 Axes>"
      ]
     },
     "metadata": {},
     "output_type": "display_data"
    }
   ],
   "source": [
    "sns.set(rc={'figure.figsize':(16,16)})\n",
    "sns.heatmap(df_approved.corr(), center=0);"
   ]
  },
  {
   "cell_type": "markdown",
   "metadata": {},
   "source": [
    "It is clear that there is some data that reflects event after granting the loan ('loan_amount', 'loan_borrowed', etc.).\n",
    "\n",
    "There is also hight correlations between length of income and length of transaction history, which asre clearly connected."
   ]
  },
  {
   "cell_type": "code",
   "execution_count": 327,
   "metadata": {},
   "outputs": [
    {
     "data": {
      "text/html": [
       "<div>\n",
       "<style scoped>\n",
       "    .dataframe tbody tr th:only-of-type {\n",
       "        vertical-align: middle;\n",
       "    }\n",
       "\n",
       "    .dataframe tbody tr th {\n",
       "        vertical-align: top;\n",
       "    }\n",
       "\n",
       "    .dataframe thead th {\n",
       "        text-align: right;\n",
       "    }\n",
       "</style>\n",
       "<table border=\"1\" class=\"dataframe\">\n",
       "  <thead>\n",
       "    <tr style=\"text-align: right;\">\n",
       "      <th></th>\n",
       "      <th>loan_outstanding_inc</th>\n",
       "      <th>status</th>\n",
       "    </tr>\n",
       "  </thead>\n",
       "  <tbody>\n",
       "    <tr>\n",
       "      <th>Unnamed: 0</th>\n",
       "      <td>0.00410053</td>\n",
       "      <td>-0.00551489</td>\n",
       "    </tr>\n",
       "    <tr>\n",
       "      <th>monthly_income</th>\n",
       "      <td>-0.0433074</td>\n",
       "      <td>0.0808281</td>\n",
       "    </tr>\n",
       "    <tr>\n",
       "      <th>gig_economy_weekly_income</th>\n",
       "      <td>0.00774372</td>\n",
       "      <td>0.00616934</td>\n",
       "    </tr>\n",
       "    <tr>\n",
       "      <th>atm_check_deposits_weekly_income</th>\n",
       "      <td>-0.0450395</td>\n",
       "      <td>0.0376887</td>\n",
       "    </tr>\n",
       "    <tr>\n",
       "      <th>direct_deposit_weekly_income</th>\n",
       "      <td>-0.0320597</td>\n",
       "      <td>0.071408</td>\n",
       "    </tr>\n",
       "    <tr>\n",
       "      <th>government_aid_weekly_income</th>\n",
       "      <td>0.0116768</td>\n",
       "      <td>0.0034434</td>\n",
       "    </tr>\n",
       "    <tr>\n",
       "      <th>frequency_heuristic_weekly_income</th>\n",
       "      <td>-0.0185993</td>\n",
       "      <td>0.0277338</td>\n",
       "    </tr>\n",
       "    <tr>\n",
       "      <th>large_deposits_weekly_income</th>\n",
       "      <td>0.00704523</td>\n",
       "      <td>-0.000496234</td>\n",
       "    </tr>\n",
       "    <tr>\n",
       "      <th>income_length</th>\n",
       "      <td>-0.0255188</td>\n",
       "      <td>0.0355449</td>\n",
       "    </tr>\n",
       "    <tr>\n",
       "      <th>payrolls_per_month</th>\n",
       "      <td>0.0246747</td>\n",
       "      <td>-0.00298115</td>\n",
       "    </tr>\n",
       "    <tr>\n",
       "      <th>income_sources</th>\n",
       "      <td>-0.0222341</td>\n",
       "      <td>0.027264</td>\n",
       "    </tr>\n",
       "    <tr>\n",
       "      <th>days_since_most_recent_payroll</th>\n",
       "      <td>-0.00997959</td>\n",
       "      <td>0.00421161</td>\n",
       "    </tr>\n",
       "    <tr>\n",
       "      <th>days_until_next_payroll</th>\n",
       "      <td>-0.0295599</td>\n",
       "      <td>0.0247329</td>\n",
       "    </tr>\n",
       "    <tr>\n",
       "      <th>bank_balance</th>\n",
       "      <td>-0.0426791</td>\n",
       "      <td>0.0497219</td>\n",
       "    </tr>\n",
       "    <tr>\n",
       "      <th>overdraft_transactions</th>\n",
       "      <td>0.0118529</td>\n",
       "      <td>-0.0141686</td>\n",
       "    </tr>\n",
       "    <tr>\n",
       "      <th>nsf_transactions</th>\n",
       "      <td>0.0330488</td>\n",
       "      <td>-0.0121432</td>\n",
       "    </tr>\n",
       "    <tr>\n",
       "      <th>return_transactions</th>\n",
       "      <td>0.0566737</td>\n",
       "      <td>-0.0539477</td>\n",
       "    </tr>\n",
       "    <tr>\n",
       "      <th>reverse_transactions</th>\n",
       "      <td>0.00305808</td>\n",
       "      <td>-0.0142823</td>\n",
       "    </tr>\n",
       "    <tr>\n",
       "      <th>length_of_transaction_history</th>\n",
       "      <td>0.0246679</td>\n",
       "      <td>-0.0135484</td>\n",
       "    </tr>\n",
       "    <tr>\n",
       "      <th>mortgage</th>\n",
       "      <td>-0.0323208</td>\n",
       "      <td>0.0343214</td>\n",
       "    </tr>\n",
       "    <tr>\n",
       "      <th>auto_loan</th>\n",
       "      <td>-0.0310063</td>\n",
       "      <td>0.0538611</td>\n",
       "    </tr>\n",
       "    <tr>\n",
       "      <th>student_loan</th>\n",
       "      <td>-0.046959</td>\n",
       "      <td>0.0575302</td>\n",
       "    </tr>\n",
       "    <tr>\n",
       "      <th>traditional_single_payment</th>\n",
       "      <td>0.00527235</td>\n",
       "      <td>-0.0083818</td>\n",
       "    </tr>\n",
       "    <tr>\n",
       "      <th>installment_loan</th>\n",
       "      <td>-0.0330466</td>\n",
       "      <td>0.0463877</td>\n",
       "    </tr>\n",
       "    <tr>\n",
       "      <th>predatory_installment_loan</th>\n",
       "      <td>0.0689215</td>\n",
       "      <td>-0.0554524</td>\n",
       "    </tr>\n",
       "    <tr>\n",
       "      <th>title_loan</th>\n",
       "      <td>-0.00247397</td>\n",
       "      <td>-0.00162832</td>\n",
       "    </tr>\n",
       "    <tr>\n",
       "      <th>pay_advances</th>\n",
       "      <td>-0.0104506</td>\n",
       "      <td>0.0159917</td>\n",
       "    </tr>\n",
       "    <tr>\n",
       "      <th>total_loan_payments</th>\n",
       "      <td>-0.0140887</td>\n",
       "      <td>0.0273614</td>\n",
       "    </tr>\n",
       "    <tr>\n",
       "      <th>no_of_other_active_loans</th>\n",
       "      <td>0.0207702</td>\n",
       "      <td>-0.026419</td>\n",
       "    </tr>\n",
       "    <tr>\n",
       "      <th>traditional_single_payment_mean</th>\n",
       "      <td>-0.018955</td>\n",
       "      <td>0.0196293</td>\n",
       "    </tr>\n",
       "    <tr>\n",
       "      <th>traditional_single_payment_trend</th>\n",
       "      <td>-0.0307507</td>\n",
       "      <td>0.0276193</td>\n",
       "    </tr>\n",
       "    <tr>\n",
       "      <th>loan_amount</th>\n",
       "      <td>0.152364</td>\n",
       "      <td>-0.00151966</td>\n",
       "    </tr>\n",
       "    <tr>\n",
       "      <th>loan_requested</th>\n",
       "      <td>0.12383</td>\n",
       "      <td>-0.0590812</td>\n",
       "    </tr>\n",
       "    <tr>\n",
       "      <th>loan_borrowed_inc</th>\n",
       "      <td>0.153807</td>\n",
       "      <td>-0.00319252</td>\n",
       "    </tr>\n",
       "    <tr>\n",
       "      <th>loan_outstanding_inc</th>\n",
       "      <td>yes</td>\n",
       "      <td>yes</td>\n",
       "    </tr>\n",
       "    <tr>\n",
       "      <th>status</th>\n",
       "      <td>yes</td>\n",
       "      <td>yes</td>\n",
       "    </tr>\n",
       "  </tbody>\n",
       "</table>\n",
       "</div>"
      ],
      "text/plain": [
       "                                  loan_outstanding_inc       status\n",
       "Unnamed: 0                                  0.00410053  -0.00551489\n",
       "monthly_income                              -0.0433074    0.0808281\n",
       "gig_economy_weekly_income                   0.00774372   0.00616934\n",
       "atm_check_deposits_weekly_income            -0.0450395    0.0376887\n",
       "direct_deposit_weekly_income                -0.0320597     0.071408\n",
       "government_aid_weekly_income                 0.0116768    0.0034434\n",
       "frequency_heuristic_weekly_income           -0.0185993    0.0277338\n",
       "large_deposits_weekly_income                0.00704523 -0.000496234\n",
       "income_length                               -0.0255188    0.0355449\n",
       "payrolls_per_month                           0.0246747  -0.00298115\n",
       "income_sources                              -0.0222341     0.027264\n",
       "days_since_most_recent_payroll             -0.00997959   0.00421161\n",
       "days_until_next_payroll                     -0.0295599    0.0247329\n",
       "bank_balance                                -0.0426791    0.0497219\n",
       "overdraft_transactions                       0.0118529   -0.0141686\n",
       "nsf_transactions                             0.0330488   -0.0121432\n",
       "return_transactions                          0.0566737   -0.0539477\n",
       "reverse_transactions                        0.00305808   -0.0142823\n",
       "length_of_transaction_history                0.0246679   -0.0135484\n",
       "mortgage                                    -0.0323208    0.0343214\n",
       "auto_loan                                   -0.0310063    0.0538611\n",
       "student_loan                                 -0.046959    0.0575302\n",
       "traditional_single_payment                  0.00527235   -0.0083818\n",
       "installment_loan                            -0.0330466    0.0463877\n",
       "predatory_installment_loan                   0.0689215   -0.0554524\n",
       "title_loan                                 -0.00247397  -0.00162832\n",
       "pay_advances                                -0.0104506    0.0159917\n",
       "total_loan_payments                         -0.0140887    0.0273614\n",
       "no_of_other_active_loans                     0.0207702    -0.026419\n",
       "traditional_single_payment_mean              -0.018955    0.0196293\n",
       "traditional_single_payment_trend            -0.0307507    0.0276193\n",
       "loan_amount                                   0.152364  -0.00151966\n",
       "loan_requested                                 0.12383   -0.0590812\n",
       "loan_borrowed_inc                             0.153807  -0.00319252\n",
       "loan_outstanding_inc                               yes          yes\n",
       "status                                             yes          yes"
      ]
     },
     "execution_count": 327,
     "metadata": {},
     "output_type": "execute_result"
    }
   ],
   "source": [
    "#search where correlation is greater than 0.7\n",
    "correlations = df_approved.corr().applymap(lambda x: 'yes' if (abs(x) > 0.7) else x)\n",
    "dfs = []\n",
    "for name in correlations.columns:\n",
    "    if len(correlations.loc[correlations[name]=='yes']) > 1:\n",
    "        dfs.append(correlations.loc[correlations[name]=='yes'])\n",
    "len(dfs)  #6      \n",
    "# I checked all dfs to see where are the correlations\n",
    "dfs[5].T"
   ]
  },
  {
   "cell_type": "markdown",
   "metadata": {},
   "source": [
    "Apart from obvious correlation between features that describe loan after it was granted, the high correlation between `income_length` and `length_of_transaction_history` was confirmed."
   ]
  },
  {
   "cell_type": "markdown",
   "metadata": {},
   "source": [
    "### Check data distributions"
   ]
  },
  {
   "cell_type": "code",
   "execution_count": 328,
   "metadata": {},
   "outputs": [
    {
     "data": {
      "image/png": "[encoded data removed]",
      "text/plain": [
       "<Figure size 1152x1152 with 36 Axes>"
      ]
     },
     "metadata": {},
     "output_type": "display_data"
    }
   ],
   "source": [
    "df_approved.hist();"
   ]
  },
  {
   "cell_type": "markdown",
   "metadata": {},
   "source": [
    "Distribution is a bit confusing because of the scale of many variables. Some seem to have only 0 values, but it is not the case, as small values are not seen in the histograms."
   ]
  },
  {
   "cell_type": "markdown",
   "metadata": {},
   "source": [
    "# 2. Preprocessing\n",
    "\n",
    "1. Drop `Unnamed: 0`, `loan_id` columns\n",
    "2. Drop columns asocciated with granting the loan: `loan_amount`, `loan_borrowed_inc`, `loan_outstanding_inc`\n",
    "3. Drop `length_of_transaction_history` because of correlation with `income_length`\n",
    "2. Leave only states: 'WA', 'CA', 'UT', 'ID'"
   ]
  },
  {
   "cell_type": "code",
   "execution_count": 329,
   "metadata": {},
   "outputs": [],
   "source": [
    "df_approved = preprocess(df_approved)\n",
    "df_rejected = preprocess(df_rejected)"
   ]
  },
  {
   "cell_type": "markdown",
   "metadata": {},
   "source": [
    "### Train test split\n",
    "I will work mainly with approved loans dataset"
   ]
  },
  {
   "cell_type": "code",
   "execution_count": 330,
   "metadata": {},
   "outputs": [],
   "source": [
    "random.seed(113)\n",
    "y = df_approved['status']\n",
    "X = df_approved.drop(['status'], axis=1)\n",
    "\n",
    "#to maintain time order of the appointment date, shuffle is set to False\n",
    "X_train, X_test, y_train, y_test = train_test_split(X, y, test_size=0.2)"
   ]
  },
  {
   "cell_type": "markdown",
   "metadata": {},
   "source": [
    "### One-hot-encoding"
   ]
  },
  {
   "cell_type": "code",
   "execution_count": 331,
   "metadata": {},
   "outputs": [],
   "source": [
    "X_train = ohe(X_train, 'state')\n",
    "X_test = ohe(X_test, 'state')"
   ]
  },
  {
   "cell_type": "code",
   "execution_count": 332,
   "metadata": {},
   "outputs": [],
   "source": [
    "#reset indexes of y-values too (Xs were reset during ohe)\n",
    "y_train = y_train.reset_index(drop=True)\n",
    "y_test = y_test.reset_index(drop=True)"
   ]
  },
  {
   "cell_type": "code",
   "execution_count": 333,
   "metadata": {},
   "outputs": [],
   "source": [
    "#rejected dataset one-hot-encoding\n",
    "df_rejected = ohe(df_rejected, 'state')"
   ]
  },
  {
   "cell_type": "markdown",
   "metadata": {},
   "source": [
    "### Scaling"
   ]
  },
  {
   "cell_type": "markdown",
   "metadata": {},
   "source": [
    "Without scaling I could not get consistent coefficient among Logistic Regression model from Sklearn and StatsModels."
   ]
  },
  {
   "cell_type": "code",
   "execution_count": 334,
   "metadata": {},
   "outputs": [],
   "source": [
    "#scale X_train\n",
    "X_train_scaled, ss = scale_columns(X_train)"
   ]
  },
  {
   "cell_type": "code",
   "execution_count": 335,
   "metadata": {},
   "outputs": [],
   "source": [
    "#scale X_test\n",
    "X_test_scaled, ss = scale_columns(X_test, ss)"
   ]
  },
  {
   "cell_type": "markdown",
   "metadata": {},
   "source": [
    "### Create lists to add models and reports"
   ]
  },
  {
   "cell_type": "code",
   "execution_count": 336,
   "metadata": {},
   "outputs": [],
   "source": [
    "models = []\n",
    "reports = []"
   ]
  },
  {
   "cell_type": "markdown",
   "metadata": {},
   "source": [
    "# 3. Trying different models"
   ]
  },
  {
   "cell_type": "markdown",
   "metadata": {},
   "source": [
    "### Logistic Regression on all the features"
   ]
  },
  {
   "cell_type": "code",
   "execution_count": 337,
   "metadata": {},
   "outputs": [
    {
     "name": "stdout",
     "output_type": "stream",
     "text": [
      "Report:\n",
      "              precision    recall  f1-score   support\n",
      "\n",
      "           0       0.34      0.14      0.20       168\n",
      "           1       0.81      0.93      0.87       661\n",
      "\n",
      "    accuracy                           0.77       829\n",
      "   macro avg       0.58      0.54      0.53       829\n",
      "weighted avg       0.72      0.77      0.73       829\n",
      " CV AUC score: 0.5643002742636855\n",
      "\n",
      "Each Cross Validated AUC: \n",
      " [0.54577621 0.5394385  0.64193405 0.5704775  0.52387511]\n",
      "\n",
      "Overall Classifier AUC: 0.56 (+/- 0.08)\n",
      "\n"
     ]
    }
   ],
   "source": [
    "lr1, report_lr1 = logireg(X_train_scaled, X_test_scaled, y_train, y_test)"
   ]
  },
  {
   "cell_type": "code",
   "execution_count": 338,
   "metadata": {},
   "outputs": [],
   "source": [
    "models.append(lr1)\n",
    "reports.append(report_lr1)"
   ]
  },
  {
   "cell_type": "code",
   "execution_count": 339,
   "metadata": {},
   "outputs": [
    {
     "data": {
      "text/plain": [
       "[0.13245043309482452,\n",
       " 0.0502661224588125,\n",
       " 0.08099235589778679,\n",
       " 0.14060804316836772,\n",
       " 0.007214009471858958,\n",
       " 0.0764284095701796,\n",
       " -0.10119488262933247,\n",
       " -0.017881522933995305,\n",
       " -0.01661172011598022,\n",
       " 0.07126103029629344,\n",
       " 0.026724847620957125,\n",
       " 0.0485440483908001,\n",
       " 0.924860123930305,\n",
       " -0.02576055494250816,\n",
       " -0.02844984347363296,\n",
       " -0.05537444418843557,\n",
       " -0.013472958638310294,\n",
       " 0.14506662956089786,\n",
       " 0.1658651548274136,\n",
       " 0.19117028561428093,\n",
       " -0.09609228699953849,\n",
       " 0.15601606018188144,\n",
       " -0.12123362302876707,\n",
       " 0.037832353256849006,\n",
       " 0.17429611213653956,\n",
       " -0.10635058592119309,\n",
       " -0.05243486849358832,\n",
       " 0.32337052314418296,\n",
       " 0.09881449992034341,\n",
       " -0.5699723357580009,\n",
       " 1.6615595475735774,\n",
       " 1.1305709640629626,\n",
       " 1.9864146411176826]"
      ]
     },
     "execution_count": 339,
     "metadata": {},
     "output_type": "execute_result"
    }
   ],
   "source": [
    "#extract coefficients\n",
    "coef = list(lr1.coef_[0])\n",
    "coef"
   ]
  },
  {
   "cell_type": "code",
   "execution_count": 340,
   "metadata": {},
   "outputs": [],
   "source": [
    "feature_names = X_test.columns\n",
    "features = pd.DataFrame()\n",
    "features['name'] = feature_names\n",
    "features['coef'] = coef"
   ]
  },
  {
   "cell_type": "code",
   "execution_count": 341,
   "metadata": {},
   "outputs": [
    {
     "data": {
      "text/html": [
       "<div>\n",
       "<style scoped>\n",
       "    .dataframe tbody tr th:only-of-type {\n",
       "        vertical-align: middle;\n",
       "    }\n",
       "\n",
       "    .dataframe tbody tr th {\n",
       "        vertical-align: top;\n",
       "    }\n",
       "\n",
       "    .dataframe thead th {\n",
       "        text-align: right;\n",
       "    }\n",
       "</style>\n",
       "<table border=\"1\" class=\"dataframe\">\n",
       "  <thead>\n",
       "    <tr style=\"text-align: right;\">\n",
       "      <th></th>\n",
       "      <th>name</th>\n",
       "      <th>coef</th>\n",
       "    </tr>\n",
       "  </thead>\n",
       "  <tbody>\n",
       "    <tr>\n",
       "      <th>0</th>\n",
       "      <td>monthly_income</td>\n",
       "      <td>0.132450</td>\n",
       "    </tr>\n",
       "    <tr>\n",
       "      <th>1</th>\n",
       "      <td>gig_economy_weekly_income</td>\n",
       "      <td>0.050266</td>\n",
       "    </tr>\n",
       "    <tr>\n",
       "      <th>2</th>\n",
       "      <td>atm_check_deposits_weekly_income</td>\n",
       "      <td>0.080992</td>\n",
       "    </tr>\n",
       "    <tr>\n",
       "      <th>3</th>\n",
       "      <td>direct_deposit_weekly_income</td>\n",
       "      <td>0.140608</td>\n",
       "    </tr>\n",
       "    <tr>\n",
       "      <th>4</th>\n",
       "      <td>government_aid_weekly_income</td>\n",
       "      <td>0.007214</td>\n",
       "    </tr>\n",
       "    <tr>\n",
       "      <th>5</th>\n",
       "      <td>frequency_heuristic_weekly_income</td>\n",
       "      <td>0.076428</td>\n",
       "    </tr>\n",
       "    <tr>\n",
       "      <th>6</th>\n",
       "      <td>large_deposits_weekly_income</td>\n",
       "      <td>-0.101195</td>\n",
       "    </tr>\n",
       "    <tr>\n",
       "      <th>7</th>\n",
       "      <td>income_length</td>\n",
       "      <td>-0.017882</td>\n",
       "    </tr>\n",
       "    <tr>\n",
       "      <th>8</th>\n",
       "      <td>payrolls_per_month</td>\n",
       "      <td>-0.016612</td>\n",
       "    </tr>\n",
       "    <tr>\n",
       "      <th>9</th>\n",
       "      <td>income_sources</td>\n",
       "      <td>0.071261</td>\n",
       "    </tr>\n",
       "    <tr>\n",
       "      <th>10</th>\n",
       "      <td>days_since_most_recent_payroll</td>\n",
       "      <td>0.026725</td>\n",
       "    </tr>\n",
       "    <tr>\n",
       "      <th>11</th>\n",
       "      <td>days_until_next_payroll</td>\n",
       "      <td>0.048544</td>\n",
       "    </tr>\n",
       "    <tr>\n",
       "      <th>12</th>\n",
       "      <td>bank_balance</td>\n",
       "      <td>0.924860</td>\n",
       "    </tr>\n",
       "    <tr>\n",
       "      <th>13</th>\n",
       "      <td>overdraft_transactions</td>\n",
       "      <td>-0.025761</td>\n",
       "    </tr>\n",
       "    <tr>\n",
       "      <th>14</th>\n",
       "      <td>nsf_transactions</td>\n",
       "      <td>-0.028450</td>\n",
       "    </tr>\n",
       "    <tr>\n",
       "      <th>15</th>\n",
       "      <td>return_transactions</td>\n",
       "      <td>-0.055374</td>\n",
       "    </tr>\n",
       "    <tr>\n",
       "      <th>16</th>\n",
       "      <td>reverse_transactions</td>\n",
       "      <td>-0.013473</td>\n",
       "    </tr>\n",
       "    <tr>\n",
       "      <th>17</th>\n",
       "      <td>mortgage</td>\n",
       "      <td>0.145067</td>\n",
       "    </tr>\n",
       "    <tr>\n",
       "      <th>18</th>\n",
       "      <td>auto_loan</td>\n",
       "      <td>0.165865</td>\n",
       "    </tr>\n",
       "    <tr>\n",
       "      <th>19</th>\n",
       "      <td>student_loan</td>\n",
       "      <td>0.191170</td>\n",
       "    </tr>\n",
       "    <tr>\n",
       "      <th>20</th>\n",
       "      <td>traditional_single_payment</td>\n",
       "      <td>-0.096092</td>\n",
       "    </tr>\n",
       "    <tr>\n",
       "      <th>21</th>\n",
       "      <td>installment_loan</td>\n",
       "      <td>0.156016</td>\n",
       "    </tr>\n",
       "    <tr>\n",
       "      <th>22</th>\n",
       "      <td>predatory_installment_loan</td>\n",
       "      <td>-0.121234</td>\n",
       "    </tr>\n",
       "    <tr>\n",
       "      <th>23</th>\n",
       "      <td>title_loan</td>\n",
       "      <td>0.037832</td>\n",
       "    </tr>\n",
       "    <tr>\n",
       "      <th>24</th>\n",
       "      <td>pay_advances</td>\n",
       "      <td>0.174296</td>\n",
       "    </tr>\n",
       "    <tr>\n",
       "      <th>25</th>\n",
       "      <td>total_loan_payments</td>\n",
       "      <td>-0.106351</td>\n",
       "    </tr>\n",
       "    <tr>\n",
       "      <th>26</th>\n",
       "      <td>no_of_other_active_loans</td>\n",
       "      <td>-0.052435</td>\n",
       "    </tr>\n",
       "    <tr>\n",
       "      <th>27</th>\n",
       "      <td>traditional_single_payment_mean</td>\n",
       "      <td>0.323371</td>\n",
       "    </tr>\n",
       "    <tr>\n",
       "      <th>28</th>\n",
       "      <td>traditional_single_payment_trend</td>\n",
       "      <td>0.098814</td>\n",
       "    </tr>\n",
       "    <tr>\n",
       "      <th>29</th>\n",
       "      <td>loan_requested</td>\n",
       "      <td>-0.569972</td>\n",
       "    </tr>\n",
       "    <tr>\n",
       "      <th>30</th>\n",
       "      <td>state_\"ID\"</td>\n",
       "      <td>1.661560</td>\n",
       "    </tr>\n",
       "    <tr>\n",
       "      <th>31</th>\n",
       "      <td>state_\"UT\"</td>\n",
       "      <td>1.130571</td>\n",
       "    </tr>\n",
       "    <tr>\n",
       "      <th>32</th>\n",
       "      <td>state_\"WA\"</td>\n",
       "      <td>1.986415</td>\n",
       "    </tr>\n",
       "  </tbody>\n",
       "</table>\n",
       "</div>"
      ],
      "text/plain": [
       "                                 name      coef\n",
       "0                      monthly_income  0.132450\n",
       "1           gig_economy_weekly_income  0.050266\n",
       "2    atm_check_deposits_weekly_income  0.080992\n",
       "3        direct_deposit_weekly_income  0.140608\n",
       "4        government_aid_weekly_income  0.007214\n",
       "5   frequency_heuristic_weekly_income  0.076428\n",
       "6        large_deposits_weekly_income -0.101195\n",
       "7                       income_length -0.017882\n",
       "8                  payrolls_per_month -0.016612\n",
       "9                      income_sources  0.071261\n",
       "10     days_since_most_recent_payroll  0.026725\n",
       "11            days_until_next_payroll  0.048544\n",
       "12                       bank_balance  0.924860\n",
       "13             overdraft_transactions -0.025761\n",
       "14                   nsf_transactions -0.028450\n",
       "15                return_transactions -0.055374\n",
       "16               reverse_transactions -0.013473\n",
       "17                           mortgage  0.145067\n",
       "18                          auto_loan  0.165865\n",
       "19                       student_loan  0.191170\n",
       "20         traditional_single_payment -0.096092\n",
       "21                   installment_loan  0.156016\n",
       "22         predatory_installment_loan -0.121234\n",
       "23                         title_loan  0.037832\n",
       "24                       pay_advances  0.174296\n",
       "25                total_loan_payments -0.106351\n",
       "26           no_of_other_active_loans -0.052435\n",
       "27    traditional_single_payment_mean  0.323371\n",
       "28   traditional_single_payment_trend  0.098814\n",
       "29                     loan_requested -0.569972\n",
       "30                         state_\"ID\"  1.661560\n",
       "31                         state_\"UT\"  1.130571\n",
       "32                         state_\"WA\"  1.986415"
      ]
     },
     "execution_count": 341,
     "metadata": {},
     "output_type": "execute_result"
    }
   ],
   "source": [
    "features"
   ]
  },
  {
   "cell_type": "markdown",
   "metadata": {},
   "source": [
    "### Compare with StatsModels model"
   ]
  },
  {
   "cell_type": "code",
   "execution_count": 342,
   "metadata": {},
   "outputs": [
    {
     "name": "stdout",
     "output_type": "stream",
     "text": [
      "Optimization terminated successfully.\n",
      "         Current function value: 0.499729\n",
      "         Iterations 20\n",
      "                           Logit Regression Results                           \n",
      "==============================================================================\n",
      "Dep. Variable:                 status   No. Observations:                 3313\n",
      "Model:                          Logit   Df Residuals:                     3281\n",
      "Method:                           MLE   Df Model:                           31\n",
      "Date:                Sun, 07 Jul 2019   Pseudo R-squ.:               -0.001677\n",
      "Time:                        13:42:04   Log-Likelihood:                -1655.6\n",
      "converged:                       True   LL-Null:                       -1652.8\n",
      "                                        LLR p-value:                     1.000\n",
      "=====================================================================================================\n",
      "                                        coef    std err          z      P>|z|      [0.025      0.975]\n",
      "-----------------------------------------------------------------------------------------------------\n",
      "monthly_income                        0.1324        nan        nan        nan         nan         nan\n",
      "gig_economy_weekly_income             0.0503        nan        nan        nan         nan         nan\n",
      "atm_check_deposits_weekly_income      0.0810        nan        nan        nan         nan         nan\n",
      "direct_deposit_weekly_income          0.1406        nan        nan        nan         nan         nan\n",
      "government_aid_weekly_income          0.0072        nan        nan        nan         nan         nan\n",
      "frequency_heuristic_weekly_income     0.0764        nan        nan        nan         nan         nan\n",
      "large_deposits_weekly_income         -0.1012        nan        nan        nan         nan         nan\n",
      "income_length                        -0.0179      0.049     -0.364      0.716      -0.114       0.078\n",
      "payrolls_per_month                   -0.0166      0.055     -0.301      0.764      -0.125       0.092\n",
      "income_sources                        0.0713      0.060      1.184      0.236      -0.047       0.189\n",
      "days_since_most_recent_payroll        0.0267      0.043      0.615      0.539      -0.058       0.112\n",
      "days_until_next_payroll               0.0485      0.047      1.038      0.299      -0.043       0.140\n",
      "bank_balance                          0.9248      0.192      4.820      0.000       0.549       1.301\n",
      "overdraft_transactions               -0.0258      0.045     -0.577      0.564      -0.113       0.062\n",
      "nsf_transactions                     -0.0284      0.043     -0.663      0.507      -0.113       0.056\n",
      "return_transactions                  -0.0554      0.045     -1.244      0.214      -0.143       0.032\n",
      "reverse_transactions                 -0.0135      0.042     -0.324      0.746      -0.095       0.068\n",
      "mortgage                              0.1450      0.091      1.592      0.111      -0.034       0.324\n",
      "auto_loan                             0.1659      0.060      2.765      0.006       0.048       0.283\n",
      "student_loan                          0.1912      0.078      2.460      0.014       0.039       0.343\n",
      "traditional_single_payment           -0.0961      0.069     -1.393      0.163      -0.231       0.039\n",
      "installment_loan                      0.1560      0.062      2.503      0.012       0.034       0.278\n",
      "predatory_installment_loan           -0.1212      0.051     -2.389      0.017      -0.221      -0.022\n",
      "title_loan                            0.0378      0.043      0.872      0.383      -0.047       0.123\n",
      "pay_advances                          0.1743      0.053      3.305      0.001       0.071       0.278\n",
      "total_loan_payments                  -0.1064      0.114     -0.933      0.351      -0.330       0.117\n",
      "no_of_other_active_loans             -0.0524      0.067     -0.782      0.434      -0.184       0.079\n",
      "traditional_single_payment_mean       0.3233      0.073      4.421      0.000       0.180       0.467\n",
      "traditional_single_payment_trend      0.0988      0.049      2.025      0.043       0.003       0.194\n",
      "loan_requested                       -0.5700      0.050    -11.344      0.000      -0.668      -0.471\n",
      "state_\"ID\"                            1.6613      0.293      5.668      0.000       1.087       2.236\n",
      "state_\"UT\"                            1.1305      0.113     10.017      0.000       0.909       1.352\n",
      "state_\"WA\"                            1.9864      0.075     26.640      0.000       1.840       2.133\n",
      "=====================================================================================================\n"
     ]
    },
    {
     "name": "stderr",
     "output_type": "stream",
     "text": [
      "/anaconda3/lib/python3.7/site-packages/statsmodels/base/model.py:1092: RuntimeWarning: invalid value encountered in sqrt\n",
      "  bse_ = np.sqrt(np.diag(self.cov_params()))\n",
      "/anaconda3/lib/python3.7/site-packages/scipy/stats/_distn_infrastructure.py:879: RuntimeWarning: invalid value encountered in greater\n",
      "  return (self.a < x) & (x < self.b)\n",
      "/anaconda3/lib/python3.7/site-packages/scipy/stats/_distn_infrastructure.py:879: RuntimeWarning: invalid value encountered in less\n",
      "  return (self.a < x) & (x < self.b)\n",
      "/anaconda3/lib/python3.7/site-packages/scipy/stats/_distn_infrastructure.py:1821: RuntimeWarning: invalid value encountered in less_equal\n",
      "  cond2 = cond0 & (x <= self.a)\n"
     ]
    }
   ],
   "source": [
    "logit_model=sm.Logit(y_train, X_train_scaled, random_state=113)\n",
    "result=logit_model.fit(maxiter=100)\n",
    "print(result.summary())"
   ]
  },
  {
   "cell_type": "markdown",
   "metadata": {},
   "source": [
    "### Logistic Regression with the coefficients that have p-values < 0.05"
   ]
  },
  {
   "cell_type": "code",
   "execution_count": 343,
   "metadata": {},
   "outputs": [],
   "source": [
    "X_train_mod = X_train[['bank_balance', 'auto_loan', 'student_loan',\n",
    "                                     'installment_loan', 'pay_advances', 'traditional_single_payment_mean', \n",
    "                                    'loan_requested', 'state_\\\"ID\\\"', 'state_\\\"UT\\\"', 'state_\\\"WA\\\"']]\n",
    "X_test_mod = X_test[['bank_balance', 'auto_loan', 'student_loan',\n",
    "                                     'installment_loan', 'pay_advances', 'traditional_single_payment_mean', \n",
    "                                    'loan_requested', 'state_\\\"ID\\\"', 'state_\\\"UT\\\"', 'state_\\\"WA\\\"']]"
   ]
  },
  {
   "cell_type": "code",
   "execution_count": 344,
   "metadata": {},
   "outputs": [],
   "source": [
    "#fit and transform train\n",
    "X_train_mod_scaled, ss = scale_columns(X_train_mod)"
   ]
  },
  {
   "cell_type": "code",
   "execution_count": 345,
   "metadata": {},
   "outputs": [],
   "source": [
    "#transform test set\n",
    "X_test_mod_scaled, ss = scale_columns(X_test_mod, ss)"
   ]
  },
  {
   "cell_type": "code",
   "execution_count": 346,
   "metadata": {},
   "outputs": [
    {
     "name": "stdout",
     "output_type": "stream",
     "text": [
      "Report:\n",
      "              precision    recall  f1-score   support\n",
      "\n",
      "           0       0.30      0.10      0.14       168\n",
      "           1       0.80      0.94      0.87       661\n",
      "\n",
      "    accuracy                           0.77       829\n",
      "   macro avg       0.55      0.52      0.51       829\n",
      "weighted avg       0.70      0.77      0.72       829\n",
      " CV AUC score: 0.5989352178452938\n",
      "\n",
      "Each Cross Validated AUC: \n",
      " [0.58911986 0.52295009 0.67702763 0.66368228 0.54189624]\n",
      "\n",
      "Overall Classifier AUC: 0.60 (+/- 0.12)\n",
      "\n"
     ]
    }
   ],
   "source": [
    "lr2, report_lr2 = logireg(X_train_mod_scaled, X_test_mod_scaled, y_train, y_test)"
   ]
  },
  {
   "cell_type": "code",
   "execution_count": 347,
   "metadata": {},
   "outputs": [],
   "source": [
    "models.append(lr2)\n",
    "reports.append(report_lr2)"
   ]
  },
  {
   "cell_type": "code",
   "execution_count": 348,
   "metadata": {},
   "outputs": [
    {
     "data": {
      "text/plain": [
       "[1.0654163783781356,\n",
       " 0.15150712815377218,\n",
       " 0.1988256948099143,\n",
       " 0.1306291128597754,\n",
       " 0.13591133561636545,\n",
       " 0.21268101032199657,\n",
       " -0.5512368053837564,\n",
       " 1.555193815006712,\n",
       " 1.0702879735216364,\n",
       " 1.9485383919775054]"
      ]
     },
     "execution_count": 348,
     "metadata": {},
     "output_type": "execute_result"
    }
   ],
   "source": [
    "#extract coefficients\n",
    "coef = list(lr2.coef_[0])\n",
    "coef"
   ]
  },
  {
   "cell_type": "code",
   "execution_count": 349,
   "metadata": {},
   "outputs": [],
   "source": [
    "feature_names = X_test_mod.columns\n",
    "features = pd.DataFrame()\n",
    "features['name'] = feature_names\n",
    "features['coef'] = coef"
   ]
  },
  {
   "cell_type": "code",
   "execution_count": 350,
   "metadata": {},
   "outputs": [
    {
     "data": {
      "text/html": [
       "<div>\n",
       "<style scoped>\n",
       "    .dataframe tbody tr th:only-of-type {\n",
       "        vertical-align: middle;\n",
       "    }\n",
       "\n",
       "    .dataframe tbody tr th {\n",
       "        vertical-align: top;\n",
       "    }\n",
       "\n",
       "    .dataframe thead th {\n",
       "        text-align: right;\n",
       "    }\n",
       "</style>\n",
       "<table border=\"1\" class=\"dataframe\">\n",
       "  <thead>\n",
       "    <tr style=\"text-align: right;\">\n",
       "      <th></th>\n",
       "      <th>name</th>\n",
       "      <th>coef</th>\n",
       "    </tr>\n",
       "  </thead>\n",
       "  <tbody>\n",
       "    <tr>\n",
       "      <th>0</th>\n",
       "      <td>bank_balance</td>\n",
       "      <td>1.065416</td>\n",
       "    </tr>\n",
       "    <tr>\n",
       "      <th>1</th>\n",
       "      <td>auto_loan</td>\n",
       "      <td>0.151507</td>\n",
       "    </tr>\n",
       "    <tr>\n",
       "      <th>2</th>\n",
       "      <td>student_loan</td>\n",
       "      <td>0.198826</td>\n",
       "    </tr>\n",
       "    <tr>\n",
       "      <th>3</th>\n",
       "      <td>installment_loan</td>\n",
       "      <td>0.130629</td>\n",
       "    </tr>\n",
       "    <tr>\n",
       "      <th>4</th>\n",
       "      <td>pay_advances</td>\n",
       "      <td>0.135911</td>\n",
       "    </tr>\n",
       "    <tr>\n",
       "      <th>5</th>\n",
       "      <td>traditional_single_payment_mean</td>\n",
       "      <td>0.212681</td>\n",
       "    </tr>\n",
       "    <tr>\n",
       "      <th>6</th>\n",
       "      <td>loan_requested</td>\n",
       "      <td>-0.551237</td>\n",
       "    </tr>\n",
       "    <tr>\n",
       "      <th>7</th>\n",
       "      <td>state_\"ID\"</td>\n",
       "      <td>1.555194</td>\n",
       "    </tr>\n",
       "    <tr>\n",
       "      <th>8</th>\n",
       "      <td>state_\"UT\"</td>\n",
       "      <td>1.070288</td>\n",
       "    </tr>\n",
       "    <tr>\n",
       "      <th>9</th>\n",
       "      <td>state_\"WA\"</td>\n",
       "      <td>1.948538</td>\n",
       "    </tr>\n",
       "  </tbody>\n",
       "</table>\n",
       "</div>"
      ],
      "text/plain": [
       "                              name      coef\n",
       "0                     bank_balance  1.065416\n",
       "1                        auto_loan  0.151507\n",
       "2                     student_loan  0.198826\n",
       "3                 installment_loan  0.130629\n",
       "4                     pay_advances  0.135911\n",
       "5  traditional_single_payment_mean  0.212681\n",
       "6                   loan_requested -0.551237\n",
       "7                       state_\"ID\"  1.555194\n",
       "8                       state_\"UT\"  1.070288\n",
       "9                       state_\"WA\"  1.948538"
      ]
     },
     "execution_count": 350,
     "metadata": {},
     "output_type": "execute_result"
    }
   ],
   "source": [
    "features"
   ]
  },
  {
   "cell_type": "code",
   "execution_count": 351,
   "metadata": {},
   "outputs": [
    {
     "name": "stdout",
     "output_type": "stream",
     "text": [
      "Optimization terminated successfully.\n",
      "         Current function value: 0.508693\n",
      "         Iterations 7\n",
      "                           Logit Regression Results                           \n",
      "==============================================================================\n",
      "Dep. Variable:                 status   No. Observations:                 3313\n",
      "Model:                          Logit   Df Residuals:                     3303\n",
      "Method:                           MLE   Df Model:                            9\n",
      "Date:                Sun, 07 Jul 2019   Pseudo R-squ.:                -0.01964\n",
      "Time:                        13:42:05   Log-Likelihood:                -1685.3\n",
      "converged:                       True   LL-Null:                       -1652.8\n",
      "                                        LLR p-value:                     1.000\n",
      "===================================================================================================\n",
      "                                      coef    std err          z      P>|z|      [0.025      0.975]\n",
      "---------------------------------------------------------------------------------------------------\n",
      "bank_balance                        1.0653      0.185      5.751      0.000       0.702       1.428\n",
      "auto_loan                           0.1515      0.049      3.083      0.002       0.055       0.248\n",
      "student_loan                        0.1988      0.076      2.610      0.009       0.049       0.348\n",
      "installment_loan                    0.1306      0.051      2.565      0.010       0.031       0.230\n",
      "pay_advances                        0.1359      0.046      2.968      0.003       0.046       0.226\n",
      "traditional_single_payment_mean     0.2127      0.052      4.125      0.000       0.112       0.314\n",
      "loan_requested                     -0.5512      0.049    -11.317      0.000      -0.647      -0.456\n",
      "state_\"ID\"                          1.5551      0.288      5.406      0.000       0.991       2.119\n",
      "state_\"UT\"                          1.0702      0.110      9.744      0.000       0.855       1.285\n",
      "state_\"WA\"                          1.9485      0.073     26.818      0.000       1.806       2.091\n",
      "===================================================================================================\n"
     ]
    }
   ],
   "source": [
    "logit_model=sm.Logit(y_train, X_train_mod_scaled, random_state=113)\n",
    "result=logit_model.fit(maxiter=100)\n",
    "print(result.summary())"
   ]
  },
  {
   "cell_type": "markdown",
   "metadata": {},
   "source": [
    "### Random forests"
   ]
  },
  {
   "cell_type": "code",
   "execution_count": 352,
   "metadata": {},
   "outputs": [
    {
     "name": "stdout",
     "output_type": "stream",
     "text": [
      "RandomForestClassifier(bootstrap=True, class_weight=None, criterion='gini',\n",
      "                       max_depth=None, max_features='auto', max_leaf_nodes=None,\n",
      "                       min_impurity_decrease=0.0, min_impurity_split=None,\n",
      "                       min_samples_leaf=1, min_samples_split=2,\n",
      "                       min_weight_fraction_leaf=0.0, n_estimators=100,\n",
      "                       n_jobs=None, oob_score=False, random_state=113,\n",
      "                       verbose=0, warm_start=False)\n",
      "Report:\n",
      "              precision    recall  f1-score   support\n",
      "\n",
      "           0       0.47      0.04      0.08       168\n",
      "           1       0.80      0.99      0.89       661\n",
      "\n",
      "    accuracy                           0.80       829\n",
      "   macro avg       0.63      0.51      0.48       829\n",
      "weighted avg       0.73      0.80      0.72       829\n",
      " CV AUC score: 0.5870173377455956\n",
      "\n",
      "Each Cross Validated AUC: \n",
      " [0.55340557 0.5298574  0.64739305 0.56955923 0.63487144]\n",
      "\n",
      "Overall Classifier AUC: 0.59 (+/- 0.09)\n",
      "\n"
     ]
    }
   ],
   "source": [
    "rfc1, report_rfc1 = rf(X_train, X_test, y_train, y_test)"
   ]
  },
  {
   "cell_type": "code",
   "execution_count": 353,
   "metadata": {},
   "outputs": [],
   "source": [
    "models.append(rfc1)\n",
    "reports.append(report_rfc1)"
   ]
  },
  {
   "cell_type": "markdown",
   "metadata": {},
   "source": [
    "### XG Boost"
   ]
  },
  {
   "cell_type": "code",
   "execution_count": 354,
   "metadata": {},
   "outputs": [
    {
     "name": "stdout",
     "output_type": "stream",
     "text": [
      "Report:\n",
      "              precision    recall  f1-score   support\n",
      "\n",
      "           0       0.59      0.08      0.14       168\n",
      "           1       0.81      0.99      0.89       661\n",
      "\n",
      "    accuracy                           0.80       829\n",
      "   macro avg       0.70      0.53      0.51       829\n",
      "weighted avg       0.76      0.80      0.74       829\n",
      " CV AUC score: 0.5739310600273166\n",
      "\n",
      "Each Cross Validated AUC: \n",
      " [0.55042017 0.4741533  0.65775401 0.52502296 0.66230487]\n",
      "\n",
      "Overall Classifier AUC: 0.57 (+/- 0.15)\n",
      "\n"
     ]
    }
   ],
   "source": [
    "xgb1, report_xgb1= xgb(X_train, X_test, y_train, y_test)"
   ]
  },
  {
   "cell_type": "code",
   "execution_count": 355,
   "metadata": {},
   "outputs": [],
   "source": [
    "models.append(xgb1)\n",
    "reports.append(report_xgb1)"
   ]
  },
  {
   "cell_type": "markdown",
   "metadata": {},
   "source": [
    "### Gradient Boosting"
   ]
  },
  {
   "cell_type": "code",
   "execution_count": 356,
   "metadata": {},
   "outputs": [
    {
     "name": "stdout",
     "output_type": "stream",
     "text": [
      "Report:\n",
      "              precision    recall  f1-score   support\n",
      "\n",
      "           0       0.67      0.04      0.07       168\n",
      "           1       0.80      1.00      0.89       661\n",
      "\n",
      "    accuracy                           0.80       829\n",
      "   macro avg       0.73      0.52      0.48       829\n",
      "weighted avg       0.77      0.80      0.72       829\n",
      " CV AUC score: 0.5727789941552958\n",
      "\n",
      "Each Cross Validated AUC: \n",
      " [0.62361787 0.49643494 0.63502674 0.52157943 0.587236  ]\n",
      "\n",
      "Overall Classifier AUC: 0.57 (+/- 0.11)\n",
      "\n"
     ]
    }
   ],
   "source": [
    "gb1, report_gb1 = gb(X_train, X_test, y_train, y_test)"
   ]
  },
  {
   "cell_type": "code",
   "execution_count": 357,
   "metadata": {},
   "outputs": [],
   "source": [
    "models.append(gb1)\n",
    "reports.append(report_gb1)"
   ]
  },
  {
   "cell_type": "markdown",
   "metadata": {},
   "source": [
    "### Conclusion after trying different models: it seems that all models fail to perform on 0 class because of the class imbalance. Next step: correct class imbalance. Best model so far: random forests"
   ]
  },
  {
   "cell_type": "markdown",
   "metadata": {},
   "source": [
    "# 4. Correcting class imbalance with rejected dataset"
   ]
  },
  {
   "cell_type": "markdown",
   "metadata": {},
   "source": [
    "The current training set has 2649 class 1 values and 664 class 0 values. To correct class imbalance I will treat the rejected applications subset as class 0. I will randomly pick 2000 rejected applications and add them to the training set. I will then test the new model (random forest as it seems to have the best performance) on the original testing set that has true labels."
   ]
  },
  {
   "cell_type": "code",
   "execution_count": 358,
   "metadata": {},
   "outputs": [],
   "source": [
    "# Get random 2000 values from rejected dataset \n",
    "\n",
    "rejected_subset = df_rejected.sample(n=2000)"
   ]
  },
  {
   "cell_type": "code",
   "execution_count": 359,
   "metadata": {},
   "outputs": [
    {
     "data": {
      "text/plain": [
       "2000"
      ]
     },
     "execution_count": 359,
     "metadata": {},
     "output_type": "execute_result"
    }
   ],
   "source": [
    "len(rejected_subset)"
   ]
  },
  {
   "cell_type": "code",
   "execution_count": 360,
   "metadata": {},
   "outputs": [],
   "source": [
    "# Isolate target column\n",
    "\n",
    "y_subset_0 = rejected_subset['status']\n",
    "X_subset_0 = rejected_subset.drop('status', axis=1)"
   ]
  },
  {
   "cell_type": "code",
   "execution_count": 361,
   "metadata": {},
   "outputs": [
    {
     "data": {
      "text/plain": [
       "array([ True,  True,  True,  True,  True,  True,  True,  True,  True,\n",
       "        True,  True,  True,  True,  True,  True,  True,  True,  True,\n",
       "        True,  True,  True,  True,  True,  True,  True,  True,  True,\n",
       "        True,  True,  True,  True,  True,  True])"
      ]
     },
     "execution_count": 361,
     "metadata": {},
     "output_type": "execute_result"
    }
   ],
   "source": [
    "# Doublecheck if the columns correspond\n",
    "X_train.columns == X_subset_0.columns"
   ]
  },
  {
   "cell_type": "code",
   "execution_count": 362,
   "metadata": {},
   "outputs": [],
   "source": [
    "new_X_train = X_train.append(X_subset_0)\n",
    "new_X_train = new_X_train.reset_index(drop=True)"
   ]
  },
  {
   "cell_type": "code",
   "execution_count": 363,
   "metadata": {},
   "outputs": [],
   "source": [
    "new_y_train = y_train.append(y_subset_0)\n",
    "new_y_train = new_y_train.reset_index(drop=True)"
   ]
  },
  {
   "cell_type": "markdown",
   "metadata": {},
   "source": [
    "### Train random forests on the new training set"
   ]
  },
  {
   "cell_type": "code",
   "execution_count": 364,
   "metadata": {},
   "outputs": [
    {
     "name": "stdout",
     "output_type": "stream",
     "text": [
      "RandomForestClassifier(bootstrap=True, class_weight=None, criterion='gini',\n",
      "                       max_depth=None, max_features='auto', max_leaf_nodes=None,\n",
      "                       min_impurity_decrease=0.0, min_impurity_split=None,\n",
      "                       min_samples_leaf=1, min_samples_split=2,\n",
      "                       min_weight_fraction_leaf=0.0, n_estimators=100,\n",
      "                       n_jobs=None, oob_score=False, random_state=113,\n",
      "                       verbose=0, warm_start=False)\n",
      "Report:\n",
      "              precision    recall  f1-score   support\n",
      "\n",
      "           0       0.26      0.39      0.31       168\n",
      "           1       0.82      0.71      0.76       661\n",
      "\n",
      "    accuracy                           0.65       829\n",
      "   macro avg       0.54      0.55      0.54       829\n",
      "weighted avg       0.71      0.65      0.67       829\n",
      " CV AUC score: 0.5870173377455956\n",
      "\n",
      "Each Cross Validated AUC: \n",
      " [0.55340557 0.5298574  0.64739305 0.56955923 0.63487144]\n",
      "\n",
      "Overall Classifier AUC: 0.59 (+/- 0.09)\n",
      "\n"
     ]
    }
   ],
   "source": [
    "rfc2, report_rfc2 = rf(new_X_train, X_test, new_y_train, y_test)"
   ]
  },
  {
   "cell_type": "code",
   "execution_count": 365,
   "metadata": {},
   "outputs": [],
   "source": [
    "models.append(rfc2)\n",
    "reports.append(report_rfc2)"
   ]
  },
  {
   "cell_type": "markdown",
   "metadata": {},
   "source": [
    "### Try logistic regression on my new training set"
   ]
  },
  {
   "cell_type": "code",
   "execution_count": 366,
   "metadata": {},
   "outputs": [],
   "source": [
    "#scale the new dataset\n",
    "new_X_train_scaled, ss2 = scale_columns(new_X_train)\n",
    "new_X_test_scaled, ss2 = scale_columns(X_test, ss2)"
   ]
  },
  {
   "cell_type": "code",
   "execution_count": 367,
   "metadata": {},
   "outputs": [
    {
     "name": "stdout",
     "output_type": "stream",
     "text": [
      "Report:\n",
      "              precision    recall  f1-score   support\n",
      "\n",
      "           0       0.26      0.48      0.34       168\n",
      "           1       0.83      0.66      0.74       661\n",
      "\n",
      "    accuracy                           0.62       829\n",
      "   macro avg       0.55      0.57      0.54       829\n",
      "weighted avg       0.72      0.62      0.66       829\n",
      " CV AUC score: 0.5649413803508934\n",
      "\n",
      "Each Cross Validated AUC: \n",
      " [0.54599735 0.5394385  0.64193405 0.57346189 0.52387511]\n",
      "\n",
      "Overall Classifier AUC: 0.56 (+/- 0.08)\n",
      "\n"
     ]
    }
   ],
   "source": [
    "#apply logistic regression\n",
    "\n",
    "lr3, report_lr3 = logireg(new_X_train_scaled, new_X_test_scaled, new_y_train, y_test)"
   ]
  },
  {
   "cell_type": "code",
   "execution_count": 368,
   "metadata": {},
   "outputs": [],
   "source": [
    "models.append(lr3)\n",
    "reports.append(report_lr3)"
   ]
  },
  {
   "cell_type": "markdown",
   "metadata": {},
   "source": [
    "### Try Gradient Boosting on my new training set"
   ]
  },
  {
   "cell_type": "code",
   "execution_count": 369,
   "metadata": {},
   "outputs": [
    {
     "name": "stdout",
     "output_type": "stream",
     "text": [
      "Report:\n",
      "              precision    recall  f1-score   support\n",
      "\n",
      "           0       0.26      0.36      0.30       168\n",
      "           1       0.82      0.74      0.78       661\n",
      "\n",
      "    accuracy                           0.66       829\n",
      "   macro avg       0.54      0.55      0.54       829\n",
      "weighted avg       0.71      0.66      0.68       829\n",
      " CV AUC score: 0.5727789941552958\n",
      "\n",
      "Each Cross Validated AUC: \n",
      " [0.62361787 0.49643494 0.63502674 0.52157943 0.587236  ]\n",
      "\n",
      "Overall Classifier AUC: 0.57 (+/- 0.11)\n",
      "\n"
     ]
    }
   ],
   "source": [
    "gb2, report_gb2 = gb(new_X_train, X_test, new_y_train, y_test)"
   ]
  },
  {
   "cell_type": "code",
   "execution_count": 370,
   "metadata": {},
   "outputs": [],
   "source": [
    "models.append(gb2)\n",
    "reports.append(report_gb2)"
   ]
  },
  {
   "cell_type": "markdown",
   "metadata": {},
   "source": [
    "### Try XGBoost  regression on my new training set"
   ]
  },
  {
   "cell_type": "code",
   "execution_count": 371,
   "metadata": {},
   "outputs": [
    {
     "name": "stdout",
     "output_type": "stream",
     "text": [
      "Report:\n",
      "              precision    recall  f1-score   support\n",
      "\n",
      "           0       0.27      0.38      0.31       168\n",
      "           1       0.82      0.74      0.78       661\n",
      "\n",
      "    accuracy                           0.67       829\n",
      "   macro avg       0.55      0.56      0.55       829\n",
      "weighted avg       0.71      0.67      0.69       829\n",
      " CV AUC score: 0.5739310600273166\n",
      "\n",
      "Each Cross Validated AUC: \n",
      " [0.55042017 0.4741533  0.65775401 0.52502296 0.66230487]\n",
      "\n",
      "Overall Classifier AUC: 0.57 (+/- 0.15)\n",
      "\n"
     ]
    }
   ],
   "source": [
    "xgb2, report_xgb2 = xgb(new_X_train, X_test, new_y_train, y_test)"
   ]
  },
  {
   "cell_type": "code",
   "execution_count": 372,
   "metadata": {},
   "outputs": [],
   "source": [
    "models.append(xgb2)\n",
    "reports.append(report_xgb2)"
   ]
  },
  {
   "cell_type": "markdown",
   "metadata": {},
   "source": [
    "# 5. Correcting class imbalance with Sklearn resample"
   ]
  },
  {
   "cell_type": "code",
   "execution_count": 373,
   "metadata": {},
   "outputs": [],
   "source": [
    "training_set = X_train.copy()"
   ]
  },
  {
   "cell_type": "code",
   "execution_count": 374,
   "metadata": {},
   "outputs": [],
   "source": [
    "training_set['status'] = y_train"
   ]
  },
  {
   "cell_type": "code",
   "execution_count": 375,
   "metadata": {},
   "outputs": [],
   "source": [
    "training_set_0 = training_set.loc[training_set.status == 0]"
   ]
  },
  {
   "cell_type": "code",
   "execution_count": 376,
   "metadata": {},
   "outputs": [
    {
     "data": {
      "text/plain": [
       "0    659\n",
       "Name: status, dtype: int64"
      ]
     },
     "execution_count": 376,
     "metadata": {},
     "output_type": "execute_result"
    }
   ],
   "source": [
    "training_set_0.status.value_counts()"
   ]
  },
  {
   "cell_type": "code",
   "execution_count": 377,
   "metadata": {},
   "outputs": [],
   "source": [
    "training_set_0_upsampled = resample(training_set_0, replace=True, n_samples=2000, random_state=0)"
   ]
  },
  {
   "cell_type": "code",
   "execution_count": 378,
   "metadata": {},
   "outputs": [
    {
     "data": {
      "text/plain": [
       "2000"
      ]
     },
     "execution_count": 378,
     "metadata": {},
     "output_type": "execute_result"
    }
   ],
   "source": [
    "len(training_set_0_upsampled)"
   ]
  },
  {
   "cell_type": "code",
   "execution_count": 379,
   "metadata": {},
   "outputs": [],
   "source": [
    "y_training_set_0_upsampled = training_set_0_upsampled['status']\n",
    "X_training_set_0_upsampled = training_set_0_upsampled.drop('status', axis=1)"
   ]
  },
  {
   "cell_type": "code",
   "execution_count": 380,
   "metadata": {},
   "outputs": [],
   "source": [
    "new_X_train_upsampled = X_train.append(X_training_set_0_upsampled)\n",
    "new_y_train_upsampled = y_train.append(y_training_set_0_upsampled)"
   ]
  },
  {
   "cell_type": "code",
   "execution_count": 381,
   "metadata": {},
   "outputs": [],
   "source": [
    "new_X_train_upsampled = new_X_train_upsampled.reset_index(drop=True)\n",
    "new_y_train_upsampled = new_y_train_upsampled.reset_index(drop=True)"
   ]
  },
  {
   "cell_type": "markdown",
   "metadata": {},
   "source": [
    "### Apply random forest"
   ]
  },
  {
   "cell_type": "code",
   "execution_count": 382,
   "metadata": {},
   "outputs": [
    {
     "name": "stdout",
     "output_type": "stream",
     "text": [
      "RandomForestClassifier(bootstrap=True, class_weight=None, criterion='gini',\n",
      "                       max_depth=None, max_features='auto', max_leaf_nodes=None,\n",
      "                       min_impurity_decrease=0.0, min_impurity_split=None,\n",
      "                       min_samples_leaf=1, min_samples_split=2,\n",
      "                       min_weight_fraction_leaf=0.0, n_estimators=100,\n",
      "                       n_jobs=None, oob_score=False, random_state=113,\n",
      "                       verbose=0, warm_start=False)\n",
      "Report:\n",
      "              precision    recall  f1-score   support\n",
      "\n",
      "           0       0.31      0.11      0.17       168\n",
      "           1       0.81      0.93      0.87       661\n",
      "\n",
      "    accuracy                           0.77       829\n",
      "   macro avg       0.56      0.52      0.52       829\n",
      "weighted avg       0.70      0.77      0.72       829\n",
      " CV AUC score: 0.5870173377455956\n",
      "\n",
      "Each Cross Validated AUC: \n",
      " [0.55340557 0.5298574  0.64739305 0.56955923 0.63487144]\n",
      "\n",
      "Overall Classifier AUC: 0.59 (+/- 0.09)\n",
      "\n"
     ]
    }
   ],
   "source": [
    "rf3, report_rf3 = rf(new_X_train_upsampled, X_test, new_y_train_upsampled, y_test)"
   ]
  },
  {
   "cell_type": "markdown",
   "metadata": {},
   "source": [
    "### Gradient boosting"
   ]
  },
  {
   "cell_type": "code",
   "execution_count": 383,
   "metadata": {},
   "outputs": [
    {
     "name": "stdout",
     "output_type": "stream",
     "text": [
      "Report:\n",
      "              precision    recall  f1-score   support\n",
      "\n",
      "           0       0.29      0.54      0.38       168\n",
      "           1       0.85      0.67      0.75       661\n",
      "\n",
      "    accuracy                           0.64       829\n",
      "   macro avg       0.57      0.60      0.56       829\n",
      "weighted avg       0.74      0.64      0.67       829\n",
      " CV AUC score: 0.5727789941552958\n",
      "\n",
      "Each Cross Validated AUC: \n",
      " [0.62361787 0.49643494 0.63502674 0.52157943 0.587236  ]\n",
      "\n",
      "Overall Classifier AUC: 0.57 (+/- 0.11)\n",
      "\n"
     ]
    }
   ],
   "source": [
    "gb3, report_gb3 = gb(new_X_train_upsampled, X_test, new_y_train_upsampled, y_test)"
   ]
  },
  {
   "cell_type": "markdown",
   "metadata": {},
   "source": [
    "### XGBoost"
   ]
  },
  {
   "cell_type": "code",
   "execution_count": 384,
   "metadata": {},
   "outputs": [
    {
     "name": "stdout",
     "output_type": "stream",
     "text": [
      "Report:\n",
      "              precision    recall  f1-score   support\n",
      "\n",
      "           0       0.30      0.54      0.38       168\n",
      "           1       0.85      0.68      0.75       661\n",
      "\n",
      "    accuracy                           0.65       829\n",
      "   macro avg       0.57      0.61      0.57       829\n",
      "weighted avg       0.74      0.65      0.68       829\n",
      " CV AUC score: 0.5739310600273166\n",
      "\n",
      "Each Cross Validated AUC: \n",
      " [0.55042017 0.4741533  0.65775401 0.52502296 0.66230487]\n",
      "\n",
      "Overall Classifier AUC: 0.57 (+/- 0.15)\n",
      "\n"
     ]
    }
   ],
   "source": [
    "xgb3, report_xgb3 = xgb(new_X_train_upsampled, X_test, new_y_train_upsampled, y_test)"
   ]
  },
  {
   "cell_type": "markdown",
   "metadata": {},
   "source": [
    "### Logistic regression"
   ]
  },
  {
   "cell_type": "code",
   "execution_count": 385,
   "metadata": {},
   "outputs": [],
   "source": [
    "# Scaling\n",
    "#train set\n",
    "new_X_train_upsampled_scaled, ss3 = scale_columns(new_X_train_upsampled)\n",
    "new_X_test_upsampled_scaled, ss3 = scale_columns(X_test, ss3)"
   ]
  },
  {
   "cell_type": "code",
   "execution_count": 386,
   "metadata": {},
   "outputs": [
    {
     "name": "stdout",
     "output_type": "stream",
     "text": [
      "Report:\n",
      "              precision    recall  f1-score   support\n",
      "\n",
      "           0       0.26      0.58      0.36       168\n",
      "           1       0.85      0.59      0.69       661\n",
      "\n",
      "    accuracy                           0.59       829\n",
      "   macro avg       0.55      0.58      0.53       829\n",
      "weighted avg       0.73      0.59      0.63       829\n",
      " CV AUC score: 0.5652168624445573\n",
      "\n",
      "Each Cross Validated AUC: \n",
      " [0.54599735 0.5394385  0.64193405 0.5748393  0.52387511]\n",
      "\n",
      "Overall Classifier AUC: 0.57 (+/- 0.08)\n",
      "\n"
     ]
    }
   ],
   "source": [
    "lr4, report_lr4 = logireg(new_X_train_upsampled_scaled, new_X_test_upsampled_scaled, new_y_train_upsampled, y_test)"
   ]
  },
  {
   "cell_type": "code",
   "execution_count": 387,
   "metadata": {},
   "outputs": [],
   "source": [
    "models.append(rf3)\n",
    "models.append(gb3)\n",
    "models.append(xgb3)\n",
    "models.append(lr4)\n",
    "\n",
    "reports.append(report_rf3)\n",
    "reports.append(report_gb3)\n",
    "reports.append(report_xgb3)\n",
    "reports.append(report_lr4)"
   ]
  },
  {
   "cell_type": "markdown",
   "metadata": {},
   "source": [
    "# 6. Models comparison"
   ]
  },
  {
   "cell_type": "code",
   "execution_count": 388,
   "metadata": {},
   "outputs": [],
   "source": [
    "df_reports = parse_reports(reports)"
   ]
  },
  {
   "cell_type": "code",
   "execution_count": 389,
   "metadata": {},
   "outputs": [],
   "source": [
    "df_reports['model'] = ['Logistic regression',\n",
    "                      'Logistic Regression limited features',\n",
    "                      'Random forest',\n",
    "                      'XGBoost',\n",
    "                      'Gradient boosting',\n",
    "                      'Random forest with data from rejected dataset',\n",
    "                      'Logistic regression with data from rejected dataset',\n",
    "                      'Gradient Boosting with data from rejected dataset',\n",
    "                      'XG Boost with data from rejected dataset',\n",
    "                      'Random forest with resampled data',\n",
    "                      'Gradient Boosting with resampled data',\n",
    "                      'XG Boost with resampled data',\n",
    "                      'Logistic regression with resampled data']"
   ]
  },
  {
   "cell_type": "code",
   "execution_count": 390,
   "metadata": {},
   "outputs": [
    {
     "data": {
      "text/html": [
       "<div>\n",
       "<style scoped>\n",
       "    .dataframe tbody tr th:only-of-type {\n",
       "        vertical-align: middle;\n",
       "    }\n",
       "\n",
       "    .dataframe tbody tr th {\n",
       "        vertical-align: top;\n",
       "    }\n",
       "\n",
       "    .dataframe thead th {\n",
       "        text-align: right;\n",
       "    }\n",
       "</style>\n",
       "<table border=\"1\" class=\"dataframe\">\n",
       "  <thead>\n",
       "    <tr style=\"text-align: right;\">\n",
       "      <th></th>\n",
       "      <th>0.0</th>\n",
       "      <th>1.0</th>\n",
       "      <th>accuracy</th>\n",
       "      <th>CV_AUC_score</th>\n",
       "      <th>model</th>\n",
       "    </tr>\n",
       "  </thead>\n",
       "  <tbody>\n",
       "    <tr>\n",
       "      <th>0</th>\n",
       "      <td>{'precision': 0.34, 'recall': 0.14, 'f1': 0.2}</td>\n",
       "      <td>{'precision': 0.81, 'recall': 0.93, 'f1': 0.87}</td>\n",
       "      <td>0.77</td>\n",
       "      <td>0.564300</td>\n",
       "      <td>Logistic regression</td>\n",
       "    </tr>\n",
       "    <tr>\n",
       "      <th>1</th>\n",
       "      <td>{'precision': 0.3, 'recall': 0.1, 'f1': 0.14}</td>\n",
       "      <td>{'precision': 0.8, 'recall': 0.94, 'f1': 0.87}</td>\n",
       "      <td>0.77</td>\n",
       "      <td>0.598935</td>\n",
       "      <td>Logistic Regression limited features</td>\n",
       "    </tr>\n",
       "    <tr>\n",
       "      <th>2</th>\n",
       "      <td>{'precision': 0.47, 'recall': 0.04, 'f1': 0.08}</td>\n",
       "      <td>{'precision': 0.8, 'recall': 0.99, 'f1': 0.89}</td>\n",
       "      <td>0.80</td>\n",
       "      <td>0.587017</td>\n",
       "      <td>Random forest</td>\n",
       "    </tr>\n",
       "    <tr>\n",
       "      <th>3</th>\n",
       "      <td>{'precision': 0.59, 'recall': 0.08, 'f1': 0.14}</td>\n",
       "      <td>{'precision': 0.81, 'recall': 0.99, 'f1': 0.89}</td>\n",
       "      <td>0.80</td>\n",
       "      <td>0.573931</td>\n",
       "      <td>XGBoost</td>\n",
       "    </tr>\n",
       "    <tr>\n",
       "      <th>4</th>\n",
       "      <td>{'precision': 0.67, 'recall': 0.04, 'f1': 0.07}</td>\n",
       "      <td>{'precision': 0.8, 'recall': 1.0, 'f1': 0.89}</td>\n",
       "      <td>0.80</td>\n",
       "      <td>0.572779</td>\n",
       "      <td>Gradient boosting</td>\n",
       "    </tr>\n",
       "    <tr>\n",
       "      <th>5</th>\n",
       "      <td>{'precision': 0.26, 'recall': 0.39, 'f1': 0.31}</td>\n",
       "      <td>{'precision': 0.82, 'recall': 0.71, 'f1': 0.76}</td>\n",
       "      <td>0.65</td>\n",
       "      <td>0.587017</td>\n",
       "      <td>Random forest with data from rejected dataset</td>\n",
       "    </tr>\n",
       "    <tr>\n",
       "      <th>6</th>\n",
       "      <td>{'precision': 0.26, 'recall': 0.48, 'f1': 0.34}</td>\n",
       "      <td>{'precision': 0.83, 'recall': 0.66, 'f1': 0.74}</td>\n",
       "      <td>0.62</td>\n",
       "      <td>0.564941</td>\n",
       "      <td>Logistic regression with data from rejected da...</td>\n",
       "    </tr>\n",
       "    <tr>\n",
       "      <th>7</th>\n",
       "      <td>{'precision': 0.26, 'recall': 0.36, 'f1': 0.3}</td>\n",
       "      <td>{'precision': 0.82, 'recall': 0.74, 'f1': 0.78}</td>\n",
       "      <td>0.66</td>\n",
       "      <td>0.572779</td>\n",
       "      <td>Gradient Boosting with data from rejected dataset</td>\n",
       "    </tr>\n",
       "    <tr>\n",
       "      <th>8</th>\n",
       "      <td>{'precision': 0.27, 'recall': 0.38, 'f1': 0.31}</td>\n",
       "      <td>{'precision': 0.82, 'recall': 0.74, 'f1': 0.78}</td>\n",
       "      <td>0.67</td>\n",
       "      <td>0.573931</td>\n",
       "      <td>XG Boost with data from rejected dataset</td>\n",
       "    </tr>\n",
       "    <tr>\n",
       "      <th>9</th>\n",
       "      <td>{'precision': 0.31, 'recall': 0.11, 'f1': 0.17}</td>\n",
       "      <td>{'precision': 0.81, 'recall': 0.93, 'f1': 0.87}</td>\n",
       "      <td>0.77</td>\n",
       "      <td>0.587017</td>\n",
       "      <td>Random forest with resampled data</td>\n",
       "    </tr>\n",
       "    <tr>\n",
       "      <th>10</th>\n",
       "      <td>{'precision': 0.29, 'recall': 0.54, 'f1': 0.38}</td>\n",
       "      <td>{'precision': 0.85, 'recall': 0.67, 'f1': 0.75}</td>\n",
       "      <td>0.64</td>\n",
       "      <td>0.572779</td>\n",
       "      <td>Gradient Boosting with resampled data</td>\n",
       "    </tr>\n",
       "    <tr>\n",
       "      <th>11</th>\n",
       "      <td>{'precision': 0.3, 'recall': 0.54, 'f1': 0.38}</td>\n",
       "      <td>{'precision': 0.85, 'recall': 0.68, 'f1': 0.75}</td>\n",
       "      <td>0.65</td>\n",
       "      <td>0.573931</td>\n",
       "      <td>XG Boost with resampled data</td>\n",
       "    </tr>\n",
       "    <tr>\n",
       "      <th>12</th>\n",
       "      <td>{'precision': 0.26, 'recall': 0.58, 'f1': 0.36}</td>\n",
       "      <td>{'precision': 0.85, 'recall': 0.59, 'f1': 0.69}</td>\n",
       "      <td>0.59</td>\n",
       "      <td>0.565217</td>\n",
       "      <td>Logistic regression with resampled data</td>\n",
       "    </tr>\n",
       "  </tbody>\n",
       "</table>\n",
       "</div>"
      ],
      "text/plain": [
       "                                                0.0  \\\n",
       "0    {'precision': 0.34, 'recall': 0.14, 'f1': 0.2}   \n",
       "1     {'precision': 0.3, 'recall': 0.1, 'f1': 0.14}   \n",
       "2   {'precision': 0.47, 'recall': 0.04, 'f1': 0.08}   \n",
       "3   {'precision': 0.59, 'recall': 0.08, 'f1': 0.14}   \n",
       "4   {'precision': 0.67, 'recall': 0.04, 'f1': 0.07}   \n",
       "5   {'precision': 0.26, 'recall': 0.39, 'f1': 0.31}   \n",
       "6   {'precision': 0.26, 'recall': 0.48, 'f1': 0.34}   \n",
       "7    {'precision': 0.26, 'recall': 0.36, 'f1': 0.3}   \n",
       "8   {'precision': 0.27, 'recall': 0.38, 'f1': 0.31}   \n",
       "9   {'precision': 0.31, 'recall': 0.11, 'f1': 0.17}   \n",
       "10  {'precision': 0.29, 'recall': 0.54, 'f1': 0.38}   \n",
       "11   {'precision': 0.3, 'recall': 0.54, 'f1': 0.38}   \n",
       "12  {'precision': 0.26, 'recall': 0.58, 'f1': 0.36}   \n",
       "\n",
       "                                                1.0  accuracy  CV_AUC_score  \\\n",
       "0   {'precision': 0.81, 'recall': 0.93, 'f1': 0.87}      0.77      0.564300   \n",
       "1    {'precision': 0.8, 'recall': 0.94, 'f1': 0.87}      0.77      0.598935   \n",
       "2    {'precision': 0.8, 'recall': 0.99, 'f1': 0.89}      0.80      0.587017   \n",
       "3   {'precision': 0.81, 'recall': 0.99, 'f1': 0.89}      0.80      0.573931   \n",
       "4     {'precision': 0.8, 'recall': 1.0, 'f1': 0.89}      0.80      0.572779   \n",
       "5   {'precision': 0.82, 'recall': 0.71, 'f1': 0.76}      0.65      0.587017   \n",
       "6   {'precision': 0.83, 'recall': 0.66, 'f1': 0.74}      0.62      0.564941   \n",
       "7   {'precision': 0.82, 'recall': 0.74, 'f1': 0.78}      0.66      0.572779   \n",
       "8   {'precision': 0.82, 'recall': 0.74, 'f1': 0.78}      0.67      0.573931   \n",
       "9   {'precision': 0.81, 'recall': 0.93, 'f1': 0.87}      0.77      0.587017   \n",
       "10  {'precision': 0.85, 'recall': 0.67, 'f1': 0.75}      0.64      0.572779   \n",
       "11  {'precision': 0.85, 'recall': 0.68, 'f1': 0.75}      0.65      0.573931   \n",
       "12  {'precision': 0.85, 'recall': 0.59, 'f1': 0.69}      0.59      0.565217   \n",
       "\n",
       "                                                model  \n",
       "0                                 Logistic regression  \n",
       "1                Logistic Regression limited features  \n",
       "2                                       Random forest  \n",
       "3                                             XGBoost  \n",
       "4                                   Gradient boosting  \n",
       "5       Random forest with data from rejected dataset  \n",
       "6   Logistic regression with data from rejected da...  \n",
       "7   Gradient Boosting with data from rejected dataset  \n",
       "8            XG Boost with data from rejected dataset  \n",
       "9                   Random forest with resampled data  \n",
       "10              Gradient Boosting with resampled data  \n",
       "11                       XG Boost with resampled data  \n",
       "12            Logistic regression with resampled data  "
      ]
     },
     "execution_count": 390,
     "metadata": {},
     "output_type": "execute_result"
    }
   ],
   "source": [
    "df_reports"
   ]
  },
  {
   "cell_type": "markdown",
   "metadata": {},
   "source": [
    "Conclusion:\n",
    "\n",
    "The models have quite similar AUC score, which in this case is the most important metric. Desicion tree based models have slightly better AUC, but they tend to overfit and are not calibrated as is logistic regression. For this reason the selected model has to be a logistic regression one. \n",
    "\n",
    "There are several logistic regression models. The ones with blanced classes seem to have better balanced predictive power for classes 0 and 1. There is no much difference betweer logistic regression upsampled from rejected daraset and the one upsampled using sklearn resample. I selected the last logistic regression upsampled with sklearn resample as a final model."
   ]
  },
  {
   "cell_type": "code",
   "execution_count": 391,
   "metadata": {},
   "outputs": [],
   "source": [
    "#pickle model\n",
    "filename = 'lr_model.sav'\n",
    "pickle.dump(lr4, open(filename, 'wb'))\n",
    "\n",
    "#pickle standard scaler\n",
    "filename = 'scaler.pkl'\n",
    "pickle.dump(ss3, open(filename, 'wb'))"
   ]
  },
  {
   "cell_type": "markdown",
   "metadata": {},
   "source": [
    "# 7. Further exploration of the selected Logistic Regression model (lr4)"
   ]
  },
  {
   "cell_type": "markdown",
   "metadata": {},
   "source": [
    "### Cross-validated log loss and AUC"
   ]
  },
  {
   "cell_type": "code",
   "execution_count": 392,
   "metadata": {},
   "outputs": [
    {
     "name": "stdout",
     "output_type": "stream",
     "text": [
      "Cross-validated log loss:  -0.5626890534925266\n"
     ]
    }
   ],
   "source": [
    "cv_log_loss = cross_val_score(lr4, new_X_test_upsampled_scaled, y_test, cv=5, scoring='neg_log_loss')\n",
    "print('Cross-validated log loss: ', cv_log_loss.mean())"
   ]
  },
  {
   "cell_type": "code",
   "execution_count": 393,
   "metadata": {},
   "outputs": [
    {
     "name": "stdout",
     "output_type": "stream",
     "text": [
      "Average probability of labeling the class correctly:  -0.6348782724359695\n"
     ]
    }
   ],
   "source": [
    "#interpretation: on average, the probability attributed to the right class across samples 𝑝≈0.63 \n",
    "print('Average probability of labeling the class correctly: ', np.log(0.53))"
   ]
  },
  {
   "cell_type": "code",
   "execution_count": 394,
   "metadata": {},
   "outputs": [
    {
     "name": "stdout",
     "output_type": "stream",
     "text": [
      "Cross-validated AUC score:  0.5652168624445573\n"
     ]
    }
   ],
   "source": [
    "cv_roc_auc = cross_val_score(lr4, new_X_test_upsampled_scaled, y_test, cv=5, scoring='roc_auc')\n",
    "print('Cross-validated AUC score: ', cv_roc_auc.mean())"
   ]
  },
  {
   "cell_type": "markdown",
   "metadata": {},
   "source": [
    "### Threshold variation"
   ]
  },
  {
   "cell_type": "code",
   "execution_count": 395,
   "metadata": {},
   "outputs": [
    {
     "name": "stdout",
     "output_type": "stream",
     "text": [
      "              precision    recall  f1-score   support\n",
      "\n",
      "           0       0.22      0.96      0.35       168\n",
      "           1       0.92      0.12      0.21       661\n",
      "\n",
      "    accuracy                           0.29       829\n",
      "   macro avg       0.57      0.54      0.28       829\n",
      "weighted avg       0.78      0.29      0.24       829\n",
      "\n"
     ]
    }
   ],
   "source": [
    "#this function allows to see predictions metrics with different thresholds for 0 class\n",
    "res = predict_probability_and_class(lr4, new_X_test_upsampled_scaled, y_test, 0.25)"
   ]
  },
  {
   "cell_type": "code",
   "execution_count": 396,
   "metadata": {},
   "outputs": [
    {
     "data": {
      "text/html": [
       "<div>\n",
       "<style scoped>\n",
       "    .dataframe tbody tr th:only-of-type {\n",
       "        vertical-align: middle;\n",
       "    }\n",
       "\n",
       "    .dataframe tbody tr th {\n",
       "        vertical-align: top;\n",
       "    }\n",
       "\n",
       "    .dataframe thead th {\n",
       "        text-align: right;\n",
       "    }\n",
       "</style>\n",
       "<table border=\"1\" class=\"dataframe\">\n",
       "  <thead>\n",
       "    <tr style=\"text-align: right;\">\n",
       "      <th></th>\n",
       "      <th>status</th>\n",
       "      <th>0</th>\n",
       "      <th>1</th>\n",
       "      <th>pred_status</th>\n",
       "    </tr>\n",
       "  </thead>\n",
       "  <tbody>\n",
       "    <tr>\n",
       "      <th>0</th>\n",
       "      <td>1</td>\n",
       "      <td>0.550631</td>\n",
       "      <td>0.449369</td>\n",
       "      <td>0</td>\n",
       "    </tr>\n",
       "    <tr>\n",
       "      <th>1</th>\n",
       "      <td>1</td>\n",
       "      <td>0.650233</td>\n",
       "      <td>0.349767</td>\n",
       "      <td>0</td>\n",
       "    </tr>\n",
       "    <tr>\n",
       "      <th>2</th>\n",
       "      <td>1</td>\n",
       "      <td>0.697926</td>\n",
       "      <td>0.302074</td>\n",
       "      <td>0</td>\n",
       "    </tr>\n",
       "    <tr>\n",
       "      <th>3</th>\n",
       "      <td>1</td>\n",
       "      <td>0.674350</td>\n",
       "      <td>0.325650</td>\n",
       "      <td>0</td>\n",
       "    </tr>\n",
       "    <tr>\n",
       "      <th>4</th>\n",
       "      <td>1</td>\n",
       "      <td>0.361588</td>\n",
       "      <td>0.638412</td>\n",
       "      <td>0</td>\n",
       "    </tr>\n",
       "  </tbody>\n",
       "</table>\n",
       "</div>"
      ],
      "text/plain": [
       "   status         0         1  pred_status\n",
       "0       1  0.550631  0.449369            0\n",
       "1       1  0.650233  0.349767            0\n",
       "2       1  0.697926  0.302074            0\n",
       "3       1  0.674350  0.325650            0\n",
       "4       1  0.361588  0.638412            0"
      ]
     },
     "execution_count": 396,
     "metadata": {},
     "output_type": "execute_result"
    }
   ],
   "source": [
    "res.head()"
   ]
  },
  {
   "cell_type": "markdown",
   "metadata": {},
   "source": [
    "### ROC-AUC visualization"
   ]
  },
  {
   "cell_type": "code",
   "execution_count": 397,
   "metadata": {},
   "outputs": [
    {
     "data": {
      "image/png": "[encoded data removed]",
      "text/plain": [
       "<Figure size 720x720 with 1 Axes>"
      ]
     },
     "metadata": {},
     "output_type": "display_data"
    },
    {
     "data": {
      "text/plain": [
       "<Figure size 1152x1152 with 0 Axes>"
      ]
     },
     "metadata": {},
     "output_type": "display_data"
    }
   ],
   "source": [
    "y_true = res['status']\n",
    "y_probas = lr4.predict_proba(new_X_test_upsampled_scaled)\n",
    "skplt.metrics.plot_roc(y_true, y_probas, figsize=(10,10))\n",
    "plt.show();\n",
    "plt.savefig('graphs/roc_auc.png')"
   ]
  },
  {
   "cell_type": "markdown",
   "metadata": {},
   "source": [
    "### Model's coefficients"
   ]
  },
  {
   "cell_type": "code",
   "execution_count": 265,
   "metadata": {},
   "outputs": [],
   "source": [
    "coef = lr4.coef_[0]"
   ]
  },
  {
   "cell_type": "code",
   "execution_count": 266,
   "metadata": {},
   "outputs": [],
   "source": [
    "feature_names = new_X_test_upsampled_scaled.columns\n",
    "features = pd.DataFrame()\n",
    "features['name'] = feature_names\n",
    "features['coef'] = coef"
   ]
  },
  {
   "cell_type": "code",
   "execution_count": 267,
   "metadata": {},
   "outputs": [
    {
     "data": {
      "text/html": [
       "<div>\n",
       "<style scoped>\n",
       "    .dataframe tbody tr th:only-of-type {\n",
       "        vertical-align: middle;\n",
       "    }\n",
       "\n",
       "    .dataframe tbody tr th {\n",
       "        vertical-align: top;\n",
       "    }\n",
       "\n",
       "    .dataframe thead th {\n",
       "        text-align: right;\n",
       "    }\n",
       "</style>\n",
       "<table border=\"1\" class=\"dataframe\">\n",
       "  <thead>\n",
       "    <tr style=\"text-align: right;\">\n",
       "      <th></th>\n",
       "      <th>name</th>\n",
       "      <th>coef</th>\n",
       "      <th>abs_coef</th>\n",
       "    </tr>\n",
       "  </thead>\n",
       "  <tbody>\n",
       "    <tr>\n",
       "      <th>11</th>\n",
       "      <td>days_until_next_payroll</td>\n",
       "      <td>0.007077</td>\n",
       "      <td>0.007077</td>\n",
       "    </tr>\n",
       "    <tr>\n",
       "      <th>13</th>\n",
       "      <td>overdraft_transactions</td>\n",
       "      <td>-0.008098</td>\n",
       "      <td>0.008098</td>\n",
       "    </tr>\n",
       "    <tr>\n",
       "      <th>24</th>\n",
       "      <td>pay_advances</td>\n",
       "      <td>0.022451</td>\n",
       "      <td>0.022451</td>\n",
       "    </tr>\n",
       "    <tr>\n",
       "      <th>23</th>\n",
       "      <td>title_loan</td>\n",
       "      <td>-0.025129</td>\n",
       "      <td>0.025129</td>\n",
       "    </tr>\n",
       "    <tr>\n",
       "      <th>25</th>\n",
       "      <td>total_loan_payments</td>\n",
       "      <td>0.029413</td>\n",
       "      <td>0.029413</td>\n",
       "    </tr>\n",
       "    <tr>\n",
       "      <th>4</th>\n",
       "      <td>government_aid_weekly_income</td>\n",
       "      <td>0.036994</td>\n",
       "      <td>0.036994</td>\n",
       "    </tr>\n",
       "    <tr>\n",
       "      <th>14</th>\n",
       "      <td>nsf_transactions</td>\n",
       "      <td>-0.050480</td>\n",
       "      <td>0.050480</td>\n",
       "    </tr>\n",
       "    <tr>\n",
       "      <th>7</th>\n",
       "      <td>income_length</td>\n",
       "      <td>0.053863</td>\n",
       "      <td>0.053863</td>\n",
       "    </tr>\n",
       "    <tr>\n",
       "      <th>16</th>\n",
       "      <td>reverse_transactions</td>\n",
       "      <td>-0.063133</td>\n",
       "      <td>0.063133</td>\n",
       "    </tr>\n",
       "    <tr>\n",
       "      <th>2</th>\n",
       "      <td>atm_check_deposits_weekly_income</td>\n",
       "      <td>0.063685</td>\n",
       "      <td>0.063685</td>\n",
       "    </tr>\n",
       "    <tr>\n",
       "      <th>28</th>\n",
       "      <td>traditional_single_payment_trend</td>\n",
       "      <td>0.063815</td>\n",
       "      <td>0.063815</td>\n",
       "    </tr>\n",
       "    <tr>\n",
       "      <th>10</th>\n",
       "      <td>days_since_most_recent_payroll</td>\n",
       "      <td>0.074289</td>\n",
       "      <td>0.074289</td>\n",
       "    </tr>\n",
       "    <tr>\n",
       "      <th>8</th>\n",
       "      <td>payrolls_per_month</td>\n",
       "      <td>-0.078095</td>\n",
       "      <td>0.078095</td>\n",
       "    </tr>\n",
       "    <tr>\n",
       "      <th>9</th>\n",
       "      <td>income_sources</td>\n",
       "      <td>0.081313</td>\n",
       "      <td>0.081313</td>\n",
       "    </tr>\n",
       "    <tr>\n",
       "      <th>1</th>\n",
       "      <td>gig_economy_weekly_income</td>\n",
       "      <td>0.089165</td>\n",
       "      <td>0.089165</td>\n",
       "    </tr>\n",
       "    <tr>\n",
       "      <th>20</th>\n",
       "      <td>traditional_single_payment</td>\n",
       "      <td>-0.089999</td>\n",
       "      <td>0.089999</td>\n",
       "    </tr>\n",
       "    <tr>\n",
       "      <th>18</th>\n",
       "      <td>auto_loan</td>\n",
       "      <td>0.092339</td>\n",
       "      <td>0.092339</td>\n",
       "    </tr>\n",
       "    <tr>\n",
       "      <th>15</th>\n",
       "      <td>return_transactions</td>\n",
       "      <td>-0.114058</td>\n",
       "      <td>0.114058</td>\n",
       "    </tr>\n",
       "    <tr>\n",
       "      <th>3</th>\n",
       "      <td>direct_deposit_weekly_income</td>\n",
       "      <td>0.116419</td>\n",
       "      <td>0.116419</td>\n",
       "    </tr>\n",
       "    <tr>\n",
       "      <th>5</th>\n",
       "      <td>frequency_heuristic_weekly_income</td>\n",
       "      <td>0.117322</td>\n",
       "      <td>0.117322</td>\n",
       "    </tr>\n",
       "    <tr>\n",
       "      <th>21</th>\n",
       "      <td>installment_loan</td>\n",
       "      <td>0.119352</td>\n",
       "      <td>0.119352</td>\n",
       "    </tr>\n",
       "    <tr>\n",
       "      <th>0</th>\n",
       "      <td>monthly_income</td>\n",
       "      <td>0.128854</td>\n",
       "      <td>0.128854</td>\n",
       "    </tr>\n",
       "    <tr>\n",
       "      <th>22</th>\n",
       "      <td>predatory_installment_loan</td>\n",
       "      <td>-0.132874</td>\n",
       "      <td>0.132874</td>\n",
       "    </tr>\n",
       "    <tr>\n",
       "      <th>17</th>\n",
       "      <td>mortgage</td>\n",
       "      <td>0.134258</td>\n",
       "      <td>0.134258</td>\n",
       "    </tr>\n",
       "    <tr>\n",
       "      <th>6</th>\n",
       "      <td>large_deposits_weekly_income</td>\n",
       "      <td>-0.148046</td>\n",
       "      <td>0.148046</td>\n",
       "    </tr>\n",
       "    <tr>\n",
       "      <th>27</th>\n",
       "      <td>traditional_single_payment_mean</td>\n",
       "      <td>0.203780</td>\n",
       "      <td>0.203780</td>\n",
       "    </tr>\n",
       "    <tr>\n",
       "      <th>29</th>\n",
       "      <td>loan_requested</td>\n",
       "      <td>-0.221556</td>\n",
       "      <td>0.221556</td>\n",
       "    </tr>\n",
       "    <tr>\n",
       "      <th>26</th>\n",
       "      <td>no_of_other_active_loans</td>\n",
       "      <td>-0.251240</td>\n",
       "      <td>0.251240</td>\n",
       "    </tr>\n",
       "    <tr>\n",
       "      <th>30</th>\n",
       "      <td>state_\"ID\"</td>\n",
       "      <td>-0.251785</td>\n",
       "      <td>0.251785</td>\n",
       "    </tr>\n",
       "    <tr>\n",
       "      <th>32</th>\n",
       "      <td>state_\"WA\"</td>\n",
       "      <td>0.261254</td>\n",
       "      <td>0.261254</td>\n",
       "    </tr>\n",
       "    <tr>\n",
       "      <th>19</th>\n",
       "      <td>student_loan</td>\n",
       "      <td>0.287778</td>\n",
       "      <td>0.287778</td>\n",
       "    </tr>\n",
       "    <tr>\n",
       "      <th>31</th>\n",
       "      <td>state_\"UT\"</td>\n",
       "      <td>-0.552547</td>\n",
       "      <td>0.552547</td>\n",
       "    </tr>\n",
       "    <tr>\n",
       "      <th>12</th>\n",
       "      <td>bank_balance</td>\n",
       "      <td>0.945507</td>\n",
       "      <td>0.945507</td>\n",
       "    </tr>\n",
       "  </tbody>\n",
       "</table>\n",
       "</div>"
      ],
      "text/plain": [
       "                                 name      coef  abs_coef\n",
       "11            days_until_next_payroll  0.007077  0.007077\n",
       "13             overdraft_transactions -0.008098  0.008098\n",
       "24                       pay_advances  0.022451  0.022451\n",
       "23                         title_loan -0.025129  0.025129\n",
       "25                total_loan_payments  0.029413  0.029413\n",
       "4        government_aid_weekly_income  0.036994  0.036994\n",
       "14                   nsf_transactions -0.050480  0.050480\n",
       "7                       income_length  0.053863  0.053863\n",
       "16               reverse_transactions -0.063133  0.063133\n",
       "2    atm_check_deposits_weekly_income  0.063685  0.063685\n",
       "28   traditional_single_payment_trend  0.063815  0.063815\n",
       "10     days_since_most_recent_payroll  0.074289  0.074289\n",
       "8                  payrolls_per_month -0.078095  0.078095\n",
       "9                      income_sources  0.081313  0.081313\n",
       "1           gig_economy_weekly_income  0.089165  0.089165\n",
       "20         traditional_single_payment -0.089999  0.089999\n",
       "18                          auto_loan  0.092339  0.092339\n",
       "15                return_transactions -0.114058  0.114058\n",
       "3        direct_deposit_weekly_income  0.116419  0.116419\n",
       "5   frequency_heuristic_weekly_income  0.117322  0.117322\n",
       "21                   installment_loan  0.119352  0.119352\n",
       "0                      monthly_income  0.128854  0.128854\n",
       "22         predatory_installment_loan -0.132874  0.132874\n",
       "17                           mortgage  0.134258  0.134258\n",
       "6        large_deposits_weekly_income -0.148046  0.148046\n",
       "27    traditional_single_payment_mean  0.203780  0.203780\n",
       "29                     loan_requested -0.221556  0.221556\n",
       "26           no_of_other_active_loans -0.251240  0.251240\n",
       "30                         state_\"ID\" -0.251785  0.251785\n",
       "32                         state_\"WA\"  0.261254  0.261254\n",
       "19                       student_loan  0.287778  0.287778\n",
       "31                         state_\"UT\" -0.552547  0.552547\n",
       "12                       bank_balance  0.945507  0.945507"
      ]
     },
     "execution_count": 267,
     "metadata": {},
     "output_type": "execute_result"
    }
   ],
   "source": [
    "#sort by absolute value of coefficients\n",
    "features['abs_coef'] = features['coef'].apply(lambda x: abs(x))\n",
    "features.sort_values(by='abs_coef')"
   ]
  },
  {
   "cell_type": "markdown",
   "metadata": {},
   "source": [
    "# 8. Making predictions with lr4 model"
   ]
  },
  {
   "cell_type": "code",
   "execution_count": 299,
   "metadata": {},
   "outputs": [],
   "source": [
    "test_application = (0, 0, 0, 0, 0, 0, 0, 0, 0, 2, 3, 20, 1000, 5, 0, 1, 0, 1, 500, 100, 300,\n",
    "                    3, 100, 0, 300, 2000, 4, 1, 1, 500, 0, 0, 0)"
   ]
  },
  {
   "cell_type": "code",
   "execution_count": 303,
   "metadata": {},
   "outputs": [],
   "source": [
    "with open('lr_model.sav', 'rb') as f:\n",
    "    model = pickle.load(f)\n",
    "\n",
    "with open('scaler.pkl', 'rb') as f:\n",
    "    scaler = pickle.load(f)"
   ]
  },
  {
   "cell_type": "code",
   "execution_count": 304,
   "metadata": {},
   "outputs": [
    {
     "name": "stdout",
     "output_type": "stream",
     "text": [
      "[[0.1617441 0.8382559]]\n"
     ]
    }
   ],
   "source": [
    "prediction = predict_p(test_application, model, scaler)\n",
    "print(prediction)"
   ]
  },
  {
   "cell_type": "markdown",
   "metadata": {},
   "source": [
    "# 9. Checking lr4 model's calibation"
   ]
  },
  {
   "cell_type": "markdown",
   "metadata": {},
   "source": [
    "### Check model's calibration of training and testing set"
   ]
  },
  {
   "cell_type": "code",
   "execution_count": 279,
   "metadata": {},
   "outputs": [
    {
     "data": {
      "text/plain": [
       "[(1.0, '0 - 0.1', 19),\n",
       " (0.9333333333333333, '0.1 - 0.2', 30),\n",
       " (0.8983050847457628, '0.2 - 0.3', 59),\n",
       " (0.8583333333333333, '0.3 -0.4', 120),\n",
       " (0.8427947598253275, '0.4 - 0.5', 229),\n",
       " (0.7214611872146118, '0.5 - 0,6', 219),\n",
       " (0.71875, '0.6 - 0.7', 96),\n",
       " (0.65, '0.7 - 0.8', 40),\n",
       " (0.5882352941176471, '0.8 - 0.9', 17),\n",
       " (nan, '0.9 - 1', 0)]"
      ]
     },
     "execution_count": 279,
     "metadata": {},
     "output_type": "execute_result"
    }
   ],
   "source": [
    "#check calibration of the test set\n",
    "\n",
    "check_calibration(res)"
   ]
  },
  {
   "cell_type": "code",
   "execution_count": 280,
   "metadata": {},
   "outputs": [
    {
     "name": "stdout",
     "output_type": "stream",
     "text": [
      "              precision    recall  f1-score   support\n",
      "\n",
      "           0       0.52      0.97      0.68      2657\n",
      "           1       0.78      0.10      0.18      2656\n",
      "\n",
      "    accuracy                           0.54      5313\n",
      "   macro avg       0.65      0.54      0.43      5313\n",
      "weighted avg       0.65      0.54      0.43      5313\n",
      "\n"
     ]
    }
   ],
   "source": [
    "#check calibration on train test:\n",
    "\n",
    "res = predict_probability_and_class(lr4, new_X_train_upsampled_scaled, new_y_train_upsampled, 0.25)"
   ]
  },
  {
   "cell_type": "code",
   "execution_count": 281,
   "metadata": {},
   "outputs": [
    {
     "data": {
      "text/plain": [
       "[(0.9578947368421052, '0 - 0.1', 95),\n",
       " (0.7697841726618705, '0.1 - 0.2', 139),\n",
       " (0.7490774907749077, '0.2 - 0.3', 271),\n",
       " (0.6598837209302325, '0.3 -0.4', 688),\n",
       " (0.5444444444444444, '0.4 - 0.5', 1440),\n",
       " (0.4617100371747212, '0.5 - 0,6', 1345),\n",
       " (0.3547589616810878, '0.6 - 0.7', 809),\n",
       " (0.20941176470588235, '0.7 - 0.8', 425),\n",
       " (0.19148936170212766, '0.8 - 0.9', 94),\n",
       " (0.2857142857142857, '0.9 - 1', 7)]"
      ]
     },
     "execution_count": 281,
     "metadata": {},
     "output_type": "execute_result"
    }
   ],
   "source": [
    "check_calibration(res)"
   ]
  },
  {
   "cell_type": "markdown",
   "metadata": {},
   "source": [
    "### Cross-validate calibration of lr4 model"
   ]
  },
  {
   "cell_type": "code",
   "execution_count": 282,
   "metadata": {},
   "outputs": [],
   "source": [
    "#put back together test and train data\n",
    "new_X_train_upsampled_scaled, new_X_test_upsampled_scaled, new_y_train_upsampled, y_test\n",
    "X_n = pd.concat((new_X_train_upsampled_scaled, new_X_test_upsampled_scaled), join='inner')\n",
    "y_n = pd.concat((new_y_train_upsampled, y_test), join='inner')"
   ]
  },
  {
   "cell_type": "code",
   "execution_count": 283,
   "metadata": {},
   "outputs": [
    {
     "name": "stdout",
     "output_type": "stream",
     "text": [
      "[1229 1230 1231 ... 6139 6140 6141]\n",
      "[   0    1    2 ... 1226 1227 1228]\n",
      "              precision    recall  f1-score   support\n",
      "\n",
      "           0       0.21      0.98      0.35       243\n",
      "           1       0.94      0.10      0.17       986\n",
      "\n",
      "    accuracy                           0.27      1229\n",
      "   macro avg       0.58      0.54      0.26      1229\n",
      "weighted avg       0.80      0.27      0.21      1229\n",
      "\n",
      "[   0    1    2 ... 6139 6140 6141]\n",
      "[1229 1230 1231 ... 2455 2456 2457]\n",
      "              precision    recall  f1-score   support\n",
      "\n",
      "           0       0.22      0.98      0.36       249\n",
      "           1       0.94      0.11      0.19       980\n",
      "\n",
      "    accuracy                           0.28      1229\n",
      "   macro avg       0.58      0.54      0.27      1229\n",
      "weighted avg       0.80      0.28      0.22      1229\n",
      "\n",
      "[   0    1    2 ... 6139 6140 6141]\n",
      "[2458 2459 2460 ... 3683 3684 3685]\n",
      "              precision    recall  f1-score   support\n",
      "\n",
      "           0       0.46      0.96      0.62       538\n",
      "           1       0.79      0.11      0.20       690\n",
      "\n",
      "    accuracy                           0.48      1228\n",
      "   macro avg       0.63      0.54      0.41      1228\n",
      "weighted avg       0.65      0.48      0.38      1228\n",
      "\n",
      "[   0    1    2 ... 6139 6140 6141]\n",
      "[3686 3687 3688 ... 4911 4912 4913]\n"
     ]
    },
    {
     "name": "stderr",
     "output_type": "stream",
     "text": [
      "/anaconda3/lib/python3.7/site-packages/sklearn/metrics/classification.py:1439: UndefinedMetricWarning: Recall and F-score are ill-defined and being set to 0.0 in labels with no true samples.\n",
      "  'recall', 'true', average, warn_for)\n",
      "/anaconda3/lib/python3.7/site-packages/sklearn/metrics/classification.py:1439: UndefinedMetricWarning: Recall and F-score are ill-defined and being set to 0.0 in labels with no true samples.\n",
      "  'recall', 'true', average, warn_for)\n",
      "/anaconda3/lib/python3.7/site-packages/sklearn/metrics/classification.py:1439: UndefinedMetricWarning: Recall and F-score are ill-defined and being set to 0.0 in labels with no true samples.\n",
      "  'recall', 'true', average, warn_for)\n"
     ]
    },
    {
     "name": "stdout",
     "output_type": "stream",
     "text": [
      "              precision    recall  f1-score   support\n",
      "\n",
      "           0       1.00      0.87      0.93      1228\n",
      "           1       0.00      0.00      0.00         0\n",
      "\n",
      "    accuracy                           0.87      1228\n",
      "   macro avg       0.50      0.43      0.46      1228\n",
      "weighted avg       1.00      0.87      0.93      1228\n",
      "\n",
      "[   0    1    2 ... 4911 4912 4913]\n",
      "[4914 4915 4916 ... 6139 6140 6141]\n",
      "              precision    recall  f1-score   support\n",
      "\n",
      "           0       0.49      0.95      0.64       569\n",
      "           1       0.77      0.13      0.22       659\n",
      "\n",
      "    accuracy                           0.51      1228\n",
      "   macro avg       0.63      0.54      0.43      1228\n",
      "weighted avg       0.64      0.51      0.42      1228\n",
      "\n"
     ]
    }
   ],
   "source": [
    "#split data into 5 splits, train model\n",
    "\n",
    "kf = KFold(n_splits=5)\n",
    "calibrations = []\n",
    "for train_index, test_index in kf.split(X_n):\n",
    "    print(train_index)\n",
    "    print(test_index)\n",
    "\n",
    "    new_X_train_upsampled_scaled, new_X_test_upsampled_scaled = X_n.iloc[train_index, :], X_n.iloc[test_index, :]\n",
    "    \n",
    "    y_train, y_test = y_n.iloc[train_index], y_n.iloc[test_index]\n",
    "    lr5 = LogisticRegression(solver='lbfgs', fit_intercept = False, n_jobs=-1,  C = 1e12, random_state=113)\n",
    "    lr5.fit(new_X_train_upsampled_scaled, y_train)\n",
    "    res = predict_probability_and_class(lr5, new_X_test_upsampled_scaled, y_test, 0.25)\n",
    "    # now do your calibration calculation on X_test, y_test\n",
    "    calibrations.append(check_calibration(res))"
   ]
  },
  {
   "cell_type": "code",
   "execution_count": 284,
   "metadata": {},
   "outputs": [
    {
     "data": {
      "text/plain": [
       "[[(1.0, '0 - 0.1', 32),\n",
       "  (0.8717948717948718, '0.1 - 0.2', 39),\n",
       "  (0.9428571428571428, '0.2 - 0.3', 70),\n",
       "  (0.9102564102564102, '0.3 -0.4', 156),\n",
       "  (0.84, '0.4 - 0.5', 325),\n",
       "  (0.7709677419354839, '0.5 - 0,6', 310),\n",
       "  (0.7405405405405405, '0.6 - 0.7', 185),\n",
       "  (0.5647058823529412, '0.7 - 0.8', 85),\n",
       "  (0.5217391304347826, '0.8 - 0.9', 23),\n",
       "  (0.75, '0.9 - 1', 4)],\n",
       " [(0.9666666666666667, '0 - 0.1', 30),\n",
       "  (0.9714285714285714, '0.1 - 0.2', 35),\n",
       "  (0.8941176470588236, '0.2 - 0.3', 85),\n",
       "  (0.875, '0.3 -0.4', 152),\n",
       "  (0.8236914600550964, '0.4 - 0.5', 363),\n",
       "  (0.7935483870967742, '0.5 - 0,6', 310),\n",
       "  (0.6518987341772152, '0.6 - 0.7', 158),\n",
       "  (0.6533333333333333, '0.7 - 0.8', 75),\n",
       "  (0.5294117647058824, '0.8 - 0.9', 17),\n",
       "  (0.5, '0.9 - 1', 4)],\n",
       " [(0.9428571428571428, '0 - 0.1', 35),\n",
       "  (0.6666666666666666, '0.1 - 0.2', 33),\n",
       "  (0.6071428571428571, '0.2 - 0.3', 84),\n",
       "  (0.7336683417085427, '0.3 -0.4', 199),\n",
       "  (0.5755813953488372, '0.4 - 0.5', 344),\n",
       "  (0.5345911949685535, '0.5 - 0,6', 318),\n",
       "  (0.36129032258064514, '0.6 - 0.7', 155),\n",
       "  (0.30434782608695654, '0.7 - 0.8', 46),\n",
       "  (0.0, '0.8 - 0.9', 13),\n",
       "  (0.0, '0.9 - 1', 1)],\n",
       " [(0.0, '0 - 0.1', 1),\n",
       "  (0.0, '0.1 - 0.2', 70),\n",
       "  (0.0, '0.2 - 0.3', 224),\n",
       "  (0.0, '0.3 -0.4', 287),\n",
       "  (0.0, '0.4 - 0.5', 297),\n",
       "  (0.0, '0.5 - 0,6', 210),\n",
       "  (0.0, '0.6 - 0.7', 102),\n",
       "  (0.0, '0.7 - 0.8', 28),\n",
       "  (0.0, '0.8 - 0.9', 9),\n",
       "  (nan, '0.9 - 1', 0)],\n",
       " [(0.9583333333333334, '0 - 0.1', 24),\n",
       "  (0.7755102040816326, '0.1 - 0.2', 49),\n",
       "  (0.6862745098039216, '0.2 - 0.3', 102),\n",
       "  (0.6372093023255814, '0.3 -0.4', 215),\n",
       "  (0.55, '0.4 - 0.5', 340),\n",
       "  (0.4659498207885305, '0.5 - 0,6', 279),\n",
       "  (0.328, '0.6 - 0.7', 125),\n",
       "  (0.3424657534246575, '0.7 - 0.8', 73),\n",
       "  (0.3684210526315789, '0.8 - 0.9', 19),\n",
       "  (0.5, '0.9 - 1', 2)]]"
      ]
     },
     "execution_count": 284,
     "metadata": {},
     "output_type": "execute_result"
    }
   ],
   "source": [
    "calibrations"
   ]
  },
  {
   "cell_type": "code",
   "execution_count": 285,
   "metadata": {},
   "outputs": [],
   "source": [
    "ranges_0 = []\n",
    "ranges_1 = []\n",
    "ranges_2 = []\n",
    "ranges_3 = []\n",
    "ranges_4 = []\n",
    "ranges_5 = []\n",
    "ranges_6 = []\n",
    "ranges_7 = []\n",
    "ranges_8 = []\n",
    "ranges_9 = []\n",
    "\n",
    "for item in calibrations:\n",
    "    for n, i in enumerate(item):\n",
    "        if n == 0:\n",
    "            ranges_0.append(i[0])\n",
    "        elif n == 1:\n",
    "            ranges_1.append(i[0])\n",
    "        elif n == 2:\n",
    "            ranges_2.append(i[0])\n",
    "        elif n == 3:\n",
    "            ranges_3.append(i[0])\n",
    "        elif n == 4:\n",
    "            ranges_4.append(i[0])\n",
    "        elif n == 5:\n",
    "            ranges_5.append(i[0])\n",
    "        elif n == 6:\n",
    "            ranges_6.append(i[0])\n",
    "        elif n == 7:\n",
    "            ranges_7.append(i[0])\n",
    "        elif n == 8:\n",
    "            ranges_8.append(i[0])\n",
    "        elif n == 9:\n",
    "            ranges_9.append(i[0])"
   ]
  },
  {
   "cell_type": "code",
   "execution_count": 286,
   "metadata": {},
   "outputs": [
    {
     "data": {
      "text/plain": [
       "0.7735714285714287"
      ]
     },
     "execution_count": 286,
     "metadata": {},
     "output_type": "execute_result"
    }
   ],
   "source": [
    "#cross-validated average class label for P of default 0 - 0.1\n",
    "avg_0 = np.array(ranges_0).mean()\n",
    "avg_0"
   ]
  },
  {
   "cell_type": "code",
   "execution_count": 287,
   "metadata": {},
   "outputs": [
    {
     "data": {
      "text/plain": [
       "0.6570800627943485"
      ]
     },
     "execution_count": 287,
     "metadata": {},
     "output_type": "execute_result"
    }
   ],
   "source": [
    "#cross-validated average class label for P of default 0.1 - 0.2\n",
    "avg_1 = np.array(ranges_1).mean()\n",
    "avg_1"
   ]
  },
  {
   "cell_type": "code",
   "execution_count": 288,
   "metadata": {},
   "outputs": [
    {
     "data": {
      "text/plain": [
       "0.6260784313725491"
      ]
     },
     "execution_count": 288,
     "metadata": {},
     "output_type": "execute_result"
    }
   ],
   "source": [
    "#cross-validated average class label for P of default 0.2 - 0.3\n",
    "avg_2 = np.array(ranges_2).mean()\n",
    "avg_2"
   ]
  },
  {
   "cell_type": "code",
   "execution_count": 289,
   "metadata": {},
   "outputs": [
    {
     "data": {
      "text/plain": [
       "0.6312268108581068"
      ]
     },
     "execution_count": 289,
     "metadata": {},
     "output_type": "execute_result"
    }
   ],
   "source": [
    "#cross-validated average class label for P of default 0.3 - 0.4\n",
    "avg_3 = np.array(ranges_3).mean()\n",
    "avg_3"
   ]
  },
  {
   "cell_type": "code",
   "execution_count": 290,
   "metadata": {},
   "outputs": [
    {
     "data": {
      "text/plain": [
       "0.5578545710807867"
      ]
     },
     "execution_count": 290,
     "metadata": {},
     "output_type": "execute_result"
    }
   ],
   "source": [
    "#cross-validated average class label for P of default 0.4 - 0.5\n",
    "avg_4 = np.array(ranges_4).mean()\n",
    "avg_4"
   ]
  },
  {
   "cell_type": "code",
   "execution_count": 291,
   "metadata": {},
   "outputs": [
    {
     "data": {
      "text/plain": [
       "0.5130114289578684"
      ]
     },
     "execution_count": 291,
     "metadata": {},
     "output_type": "execute_result"
    }
   ],
   "source": [
    "#cross-validated average class label for P of default 0.5 - 0.6\n",
    "avg_5 = np.array(ranges_5).mean()\n",
    "avg_5"
   ]
  },
  {
   "cell_type": "code",
   "execution_count": 292,
   "metadata": {},
   "outputs": [
    {
     "data": {
      "text/plain": [
       "0.41634591945968014"
      ]
     },
     "execution_count": 292,
     "metadata": {},
     "output_type": "execute_result"
    }
   ],
   "source": [
    "#cross-validated average class label for P of default 0.6 - 0.7\n",
    "avg_6 = np.array(ranges_6).mean()\n",
    "avg_6"
   ]
  },
  {
   "cell_type": "code",
   "execution_count": 293,
   "metadata": {},
   "outputs": [
    {
     "data": {
      "text/plain": [
       "0.3729705590395777"
      ]
     },
     "execution_count": 293,
     "metadata": {},
     "output_type": "execute_result"
    }
   ],
   "source": [
    "#cross-validated average class label for P of default 0.7 - 0.8\n",
    "avg_7 = np.array(ranges_7).mean()\n",
    "avg_7"
   ]
  },
  {
   "cell_type": "code",
   "execution_count": 294,
   "metadata": {},
   "outputs": [
    {
     "data": {
      "text/plain": [
       "0.2839143895544488"
      ]
     },
     "execution_count": 294,
     "metadata": {},
     "output_type": "execute_result"
    }
   ],
   "source": [
    "#cross-validated average class label for P of default 0.8 - 0.9\n",
    "avg_8 = np.array(ranges_8).mean()\n",
    "avg_8"
   ]
  },
  {
   "cell_type": "code",
   "execution_count": 295,
   "metadata": {},
   "outputs": [
    {
     "data": {
      "text/plain": [
       "nan"
      ]
     },
     "execution_count": 295,
     "metadata": {},
     "output_type": "execute_result"
    }
   ],
   "source": [
    "#cross-validated average class label for P of default 0.9 - 1\n",
    "avg_9 = np.array(ranges_9).mean()\n",
    "avg_9"
   ]
  },
  {
   "cell_type": "code",
   "execution_count": null,
   "metadata": {},
   "outputs": [],
   "source": []
  },
  {
   "cell_type": "markdown",
   "metadata": {},
   "source": [
    "### Plot cross-validated calibration"
   ]
  },
  {
   "cell_type": "code",
   "execution_count": 296,
   "metadata": {},
   "outputs": [
    {
     "data": {
      "image/png": "[encoded data removed]",
      "text/plain": [
       "<Figure size 1080x504 with 1 Axes>"
      ]
     },
     "metadata": {},
     "output_type": "display_data"
    },
    {
     "data": {
      "text/plain": [
       "<Figure size 1152x1152 with 0 Axes>"
      ]
     },
     "metadata": {},
     "output_type": "display_data"
    }
   ],
   "source": [
    "ranges = ['0 - 0.1', '0.1 - 0.2', '0.2 - 0.3', '0.3 -0.4', '0.4 - 0.5', '0.5 - 0,6',\n",
    "           '0.6 - 0.7', '0.7 - 0.8', '0.8 - 0.9', '0.9 - 1']\n",
    "avg_ranges = [0.05, 0.15, 0.25, 0.35, 0.45, 0.55, 0.65, 0.75, 0.85, 0.95]\n",
    "means = [(1-avg_0), (1-avg_1), (1-avg_2), (1-avg_3), (1-avg_4), (1-avg_5), \n",
    "         (1-avg_6), (1-avg_7), (1-avg_8), (1-avg_9)]\n",
    "plt.figure(figsize=(15, 7))\n",
    "plt.bar(ranges, avg_ranges, align='center', alpha=0.5)\n",
    "plt.plot(means, 'r', marker='o')\n",
    "plt.legend(['Actual default rate'])\n",
    "plt.ylabel('Predicted probability')\n",
    "plt.xlabel('Ranges of predicted probability')\n",
    "plt.title('Calibration check')\n",
    "\n",
    "plt.show()\n",
    "plt.savefig('graphs/calibration_check.png')"
   ]
  },
  {
   "cell_type": "markdown",
   "metadata": {},
   "source": [
    "#### There are not a lot of observations in 0.9 - 1 range comparing to the other ranges, that might explain that predicted and actual probability don't match"
   ]
  },
  {
   "cell_type": "code",
   "execution_count": null,
   "metadata": {},
   "outputs": [],
   "source": []
  }
 ],
 "metadata": {
  "kernelspec": {
   "display_name": "Python 3",
   "language": "python",
   "name": "python3"
  },
  "language_info": {
   "codemirror_mode": {
    "name": "ipython",
    "version": 3
   },
   "file_extension": ".py",
   "mimetype": "text/x-python",
   "name": "python",
   "nbconvert_exporter": "python",
   "pygments_lexer": "ipython3",
   "version": "3.7.1"
  }
 },
 "nbformat": 4,
 "nbformat_minor": 2
}
