{
 "cells": [
  {
   "cell_type": "markdown",
   "metadata": {},
   "source": [
    "<a name=\"TOC\"></a>\n",
    "## Table of contents\n",
    "\n",
    "### <a href=\"#EDA\">1. EDA</a>\n",
    "\n",
    " - <a href=\"#MCC\">Multicollinearity and correlations</a>\n",
    " - <a href=\"#data_dist\">Check data distribuitions</a>\n",
    "\n",
    "### <a href=\"#prep\">2. Preprocessing</a>\n",
    "\n",
    " - <a href=\"#TTS\">Train test split</a>\n",
    " - <a href=\"#OHE\">One-hot-encoding</a>\n",
    " - <a href=\"#scaling\">Scaling</a>\n",
    " - <a href=\"#list_mod\">Craete lists to add models and reports</a>\n",
    " \n",
    "###  <a href=\"#apl_models\">3. Applying different models</a>\n",
    "\n",
    " - <a href=\"#baseline\">Baseline: guessing majority class</a>\n",
    " - <a href=\"#lr_all\">LR on all features</a>\n",
    " - <a href=\"#sm\">Compare with StatsModels</a>\n",
    " - <a href=\"#lr_limited\">LR with the coefficients that have p-values < 0.05</a>\n",
    " - <a href=\"#rf1\">Random Forests</a>\n",
    " - <a href=\"#xgb1\">XGBoost</a>\n",
    " - <a href=\"#gb1\">Gradient Boosting</a>\n",
    " \n",
    "### <a href=\"#c_imb_rej\">4. Correcting class imbalance with rejected dataset</a>\n",
    "\n",
    " - <a href=\"#rf2\">Random Forests</a>\n",
    " - <a href=\"#lr_rej\">LR</a> \n",
    " - <a href=\"#gb2\">Gradient Boosting</a>\n",
    " - <a href=\"#xgb2\">XGBoost</a>\n",
    " \n",
    "### <a href=\"#c_imb_res\">5. Correcting class imbalance through resampling</a>\n",
    "\n",
    " - <a href=\"#rf3\">Random Forests</a>\n",
    " - <a href=\"#gb3\">Gradient Boosting</a>\n",
    " - <a href=\"#xgb3\">XGBoost</a>\n",
    " - <a href=\"#lr_res\">LR</a> \n",
    " \n",
    "### <a href=\"#comparison\">6. Models comparison</a>\n",
    " \n",
    "### <a href=\"#explore\">7. Further exploration of the selected Logistic Regression model (lr4)</a>\n",
    " \n",
    " - <a href=\"#metrics\">Cross-validated log loss and AUC</a>\n",
    " - <a href=\"#thres_val\">Threshold variation</a>\n",
    " - <a href=\"#roc_vis\">ROC-AUC visualization</a>\n",
    " - <a href=\"#coef\">Model coefficients</a>\n",
    "  \n",
    "### <a href=\"#pred\">8. Making predictions with lr4 model</a>\n",
    " \n",
    "### <a href=\"#check_calib\">9. Checking lr4 model's calibation</a>\n",
    " - <a href=\"#calib\">Check model's calibration of training and testing set</a>\n",
    " - <a href=\"#cv_calib\">Cross-validate calibration</a>\n",
    " - <a href=\"#plot_calib\">Plot cross-validated calibration</a>"
   ]
  },
  {
   "cell_type": "code",
   "execution_count": 241,
   "metadata": {},
   "outputs": [
    {
     "name": "stdout",
     "output_type": "stream",
     "text": [
      "The autoreload extension is already loaded. To reload it, use:\n",
      "  %reload_ext autoreload\n"
     ]
    }
   ],
   "source": [
    "import pandas as pd\n",
    "import matplotlib.pyplot as plt\n",
    "from pandas.plotting import scatter_matrix\n",
    "import numpy as np\n",
    "from sklearn.model_selection import train_test_split\n",
    "from sklearn.metrics import classification_report\n",
    "from sklearn.model_selection import cross_val_score, KFold\n",
    "from sklearn.metrics import confusion_matrix\n",
    "from sklearn.svm import SVC\n",
    "from sklearn.tree import DecisionTreeClassifier\n",
    "from sklearn.pipeline import make_pipeline, FeatureUnion, Pipeline\n",
    "from sklearn.preprocessing import OneHotEncoder, Imputer, StandardScaler\n",
    "import random\n",
    "import seaborn as sns\n",
    "from sklearn_pandas.pipeline import Pipeline\n",
    "from sklearn_pandas import DataFrameMapper\n",
    "from sklearn.preprocessing import FunctionTransformer\n",
    "from sklearn.linear_model import LogisticRegression\n",
    "import statsmodels.api as sm\n",
    "from functions import (ohe, logireg, gb, xgb, rf, predict_probability_and_class, check_calibration,\n",
    "                       keep_states_drop, preprocess, scale_columns, parse_reports, get_df_coef,\n",
    "                      cv_calibration, guess_maj_class_cv_auc)\n",
    "from sklearn.metrics import (roc_curve, auc, precision_recall_curve, make_scorer, \n",
    "recall_score, accuracy_score, precision_score, confusion_matrix)\n",
    "\n",
    "from sklearn.ensemble import GradientBoostingClassifier, RandomForestClassifier\n",
    "from xgboost import XGBClassifier\n",
    "from sklearn.utils import resample\n",
    "import pickle\n",
    "import scikitplot as skplt\n",
    "from plr.predict import predict_p\n",
    "\n",
    "%matplotlib inline\n",
    "%load_ext autoreload\n",
    "%autoreload 2"
   ]
  },
  {
   "cell_type": "code",
   "execution_count": 111,
   "metadata": {},
   "outputs": [],
   "source": [
    "#had to install xgboost\n",
    "#!pip install xgboost"
   ]
  },
  {
   "cell_type": "markdown",
   "metadata": {},
   "source": [
    "### Load data"
   ]
  },
  {
   "cell_type": "code",
   "execution_count": 112,
   "metadata": {},
   "outputs": [],
   "source": [
    "df_approved = pd.read_csv('data/pf_approved_loan_data_nov.csv', index_col=False)\n",
    "df_rejected = pd.read_csv('data/pf_rejected_loan_data_nov.csv', index_col=False)"
   ]
  },
  {
   "cell_type": "markdown",
   "metadata": {},
   "source": [
    "<div style=\"float:left\"><a href=\"#TOC\">Table of contents</a></div>\n",
    "<a name=\"EDA\"></a>\n",
    "\n",
    "# 1. EDA"
   ]
  },
  {
   "cell_type": "code",
   "execution_count": 113,
   "metadata": {},
   "outputs": [
    {
     "data": {
      "text/plain": [
       "4145"
      ]
     },
     "execution_count": 113,
     "metadata": {},
     "output_type": "execute_result"
    }
   ],
   "source": [
    "len(df_approved)"
   ]
  },
  {
   "cell_type": "code",
   "execution_count": 114,
   "metadata": {},
   "outputs": [
    {
     "data": {
      "text/plain": [
       "2927"
      ]
     },
     "execution_count": 114,
     "metadata": {},
     "output_type": "execute_result"
    }
   ],
   "source": [
    "len(df_rejected)"
   ]
  },
  {
   "cell_type": "code",
   "execution_count": 115,
   "metadata": {
    "scrolled": true
   },
   "outputs": [
    {
     "data": {
      "text/plain": [
       "1    3317\n",
       "0     828\n",
       "Name: status, dtype: int64"
      ]
     },
     "execution_count": 115,
     "metadata": {},
     "output_type": "execute_result"
    }
   ],
   "source": [
    "#How many loans were returned?\n",
    "\n",
    "df_approved['status'].value_counts()"
   ]
  },
  {
   "cell_type": "markdown",
   "metadata": {},
   "source": [
    "### 75% of application from the approved set were paid pack"
   ]
  },
  {
   "cell_type": "code",
   "execution_count": 116,
   "metadata": {
    "scrolled": true
   },
   "outputs": [
    {
     "data": {
      "text/plain": [
       "array([ True,  True,  True,  True,  True,  True,  True,  True,  True,\n",
       "        True,  True,  True,  True,  True,  True,  True,  True,  True,\n",
       "        True,  True,  True,  True,  True,  True,  True,  True,  True,\n",
       "        True,  True,  True,  True,  True,  True,  True,  True,  True,\n",
       "        True,  True])"
      ]
     },
     "execution_count": 116,
     "metadata": {},
     "output_type": "execute_result"
    }
   ],
   "source": [
    "#Are the 2 dataframes's columns similar?\n",
    "\n",
    "df_rejected.columns == df_approved.columns"
   ]
  },
  {
   "cell_type": "code",
   "execution_count": 117,
   "metadata": {},
   "outputs": [
    {
     "data": {
      "text/plain": [
       "Index(['Unnamed: 0', 'monthly_income', 'gig_economy_weekly_income',\n",
       "       'atm_check_deposits_weekly_income', 'direct_deposit_weekly_income',\n",
       "       'government_aid_weekly_income', 'frequency_heuristic_weekly_income',\n",
       "       'large_deposits_weekly_income', 'income_length', 'payrolls_per_month',\n",
       "       'income_sources', 'days_since_most_recent_payroll',\n",
       "       'days_until_next_payroll', 'bank_balance', 'overdraft_transactions',\n",
       "       'nsf_transactions', 'return_transactions', 'reverse_transactions',\n",
       "       'length_of_transaction_history', 'mortgage', 'auto_loan',\n",
       "       'student_loan', 'traditional_single_payment', 'installment_loan',\n",
       "       'predatory_installment_loan', 'title_loan', 'pay_advances',\n",
       "       'total_loan_payments', 'no_of_other_active_loans',\n",
       "       'traditional_single_payment_mean', 'traditional_single_payment_trend',\n",
       "       'loan_amount', 'loan_requested', 'loan_borrowed_inc',\n",
       "       'loan_outstanding_inc', 'state', 'loan_id', 'status'],\n",
       "      dtype='object')"
      ]
     },
     "execution_count": 117,
     "metadata": {},
     "output_type": "execute_result"
    }
   ],
   "source": [
    "#What are the columns in the dataframes?\n",
    "df_approved.columns"
   ]
  },
  {
   "cell_type": "code",
   "execution_count": 118,
   "metadata": {},
   "outputs": [
    {
     "data": {
      "text/plain": [
       "(4145, 38)"
      ]
     },
     "execution_count": 118,
     "metadata": {},
     "output_type": "execute_result"
    }
   ],
   "source": [
    "df_approved.shape"
   ]
  },
  {
   "cell_type": "code",
   "execution_count": 119,
   "metadata": {
    "scrolled": true
   },
   "outputs": [
    {
     "name": "stdout",
     "output_type": "stream",
     "text": [
      "<class 'pandas.core.frame.DataFrame'>\n",
      "RangeIndex: 4145 entries, 0 to 4144\n",
      "Data columns (total 38 columns):\n",
      "Unnamed: 0                           4145 non-null int64\n",
      "monthly_income                       4145 non-null float64\n",
      "gig_economy_weekly_income            4145 non-null float64\n",
      "atm_check_deposits_weekly_income     4145 non-null float64\n",
      "direct_deposit_weekly_income         4145 non-null float64\n",
      "government_aid_weekly_income         4145 non-null float64\n",
      "frequency_heuristic_weekly_income    4145 non-null float64\n",
      "large_deposits_weekly_income         4145 non-null float64\n",
      "income_length                        4145 non-null int64\n",
      "payrolls_per_month                   4145 non-null float64\n",
      "income_sources                       4145 non-null int64\n",
      "days_since_most_recent_payroll       4145 non-null int64\n",
      "days_until_next_payroll              4145 non-null int64\n",
      "bank_balance                         4145 non-null float64\n",
      "overdraft_transactions               4145 non-null int64\n",
      "nsf_transactions                     4145 non-null int64\n",
      "return_transactions                  4145 non-null int64\n",
      "reverse_transactions                 4145 non-null int64\n",
      "length_of_transaction_history        4145 non-null int64\n",
      "mortgage                             4145 non-null float64\n",
      "auto_loan                            4145 non-null float64\n",
      "student_loan                         4145 non-null float64\n",
      "traditional_single_payment           4145 non-null float64\n",
      "installment_loan                     4145 non-null float64\n",
      "predatory_installment_loan           4145 non-null float64\n",
      "title_loan                           4145 non-null float64\n",
      "pay_advances                         4145 non-null float64\n",
      "total_loan_payments                  4145 non-null float64\n",
      "no_of_other_active_loans             4145 non-null int64\n",
      "traditional_single_payment_mean      4145 non-null float64\n",
      "traditional_single_payment_trend     4145 non-null float64\n",
      "loan_amount                          4145 non-null float64\n",
      "loan_requested                       4145 non-null float64\n",
      "loan_borrowed_inc                    4145 non-null float64\n",
      "loan_outstanding_inc                 4145 non-null float64\n",
      "state                                4145 non-null object\n",
      "loan_id                              4145 non-null object\n",
      "status                               4145 non-null int64\n",
      "dtypes: float64(24), int64(12), object(2)\n",
      "memory usage: 1.2+ MB\n"
     ]
    }
   ],
   "source": [
    "df_approved.info()"
   ]
  },
  {
   "cell_type": "markdown",
   "metadata": {},
   "source": [
    "There are no null values and all essential data is numeric, which helps a lot with the analysis process."
   ]
  },
  {
   "cell_type": "code",
   "execution_count": 120,
   "metadata": {},
   "outputs": [
    {
     "name": "stdout",
     "output_type": "stream",
     "text": [
      "<class 'pandas.core.frame.DataFrame'>\n",
      "RangeIndex: 2927 entries, 0 to 2926\n",
      "Data columns (total 38 columns):\n",
      "Unnamed: 0                           2927 non-null int64\n",
      "monthly_income                       2927 non-null float64\n",
      "gig_economy_weekly_income            2927 non-null float64\n",
      "atm_check_deposits_weekly_income     2927 non-null float64\n",
      "direct_deposit_weekly_income         2927 non-null float64\n",
      "government_aid_weekly_income         2927 non-null float64\n",
      "frequency_heuristic_weekly_income    2927 non-null float64\n",
      "large_deposits_weekly_income         2927 non-null float64\n",
      "income_length                        2927 non-null int64\n",
      "payrolls_per_month                   2927 non-null float64\n",
      "income_sources                       2927 non-null int64\n",
      "days_since_most_recent_payroll       2927 non-null int64\n",
      "days_until_next_payroll              2927 non-null int64\n",
      "bank_balance                         2927 non-null float64\n",
      "overdraft_transactions               2927 non-null int64\n",
      "nsf_transactions                     2927 non-null int64\n",
      "return_transactions                  2927 non-null int64\n",
      "reverse_transactions                 2927 non-null int64\n",
      "length_of_transaction_history        2927 non-null int64\n",
      "mortgage                             2927 non-null float64\n",
      "auto_loan                            2927 non-null float64\n",
      "student_loan                         2927 non-null float64\n",
      "traditional_single_payment           2927 non-null float64\n",
      "installment_loan                     2927 non-null float64\n",
      "predatory_installment_loan           2927 non-null float64\n",
      "title_loan                           2927 non-null float64\n",
      "pay_advances                         2927 non-null float64\n",
      "total_loan_payments                  2927 non-null float64\n",
      "no_of_other_active_loans             2927 non-null int64\n",
      "traditional_single_payment_mean      2927 non-null float64\n",
      "traditional_single_payment_trend     2927 non-null float64\n",
      "loan_amount                          2927 non-null float64\n",
      "loan_requested                       2927 non-null float64\n",
      "loan_borrowed_inc                    2927 non-null float64\n",
      "loan_outstanding_inc                 2927 non-null float64\n",
      "state                                2835 non-null object\n",
      "loan_id                              2927 non-null object\n",
      "status                               2927 non-null int64\n",
      "dtypes: float64(24), int64(12), object(2)\n",
      "memory usage: 869.0+ KB\n"
     ]
    }
   ],
   "source": [
    "df_rejected.info()"
   ]
  },
  {
   "cell_type": "markdown",
   "metadata": {},
   "source": [
    "There are null values only in 'state' column. Essential data is numeric"
   ]
  },
  {
   "cell_type": "markdown",
   "metadata": {},
   "source": [
    "I decided to drop states that do not apperar in approved datasets and rejected dataset together. The idea is to be able to test the rejected dataset on the model created with approved application. I will also frop rows in rejected application where state is not specified."
   ]
  },
  {
   "cell_type": "markdown",
   "metadata": {},
   "source": [
    "<div style=\"float:left\"><a href=\"#TOC\">Table of contents</a></div>\n",
    "<a name=\"MCC\"></a>\n",
    "\n",
    "### Multicollinearity and correlations"
   ]
  },
  {
   "cell_type": "code",
   "execution_count": 124,
   "metadata": {},
   "outputs": [
    {
     "data": {
      "image/png": "[encoded data removed]",
      "text/plain": [
       "<Figure size 1152x1152 with 2 Axes>"
      ]
     },
     "metadata": {},
     "output_type": "display_data"
    }
   ],
   "source": [
    "sns.set(rc={'figure.figsize':(16,16)})\n",
    "sns.heatmap(df_approved.corr(), center=0);"
   ]
  },
  {
   "cell_type": "markdown",
   "metadata": {},
   "source": [
    "It is clear that there is some data that reflects event after granting the loan ('loan_amount', 'loan_borrowed', etc.).\n",
    "\n",
    "There is also hight correlations between length of income and length of transaction history, which asre clearly connected."
   ]
  },
  {
   "cell_type": "code",
   "execution_count": 125,
   "metadata": {},
   "outputs": [
    {
     "data": {
      "text/html": [
       "<div>\n",
       "<style scoped>\n",
       "    .dataframe tbody tr th:only-of-type {\n",
       "        vertical-align: middle;\n",
       "    }\n",
       "\n",
       "    .dataframe tbody tr th {\n",
       "        vertical-align: top;\n",
       "    }\n",
       "\n",
       "    .dataframe thead th {\n",
       "        text-align: right;\n",
       "    }\n",
       "</style>\n",
       "<table border=\"1\" class=\"dataframe\">\n",
       "  <thead>\n",
       "    <tr style=\"text-align: right;\">\n",
       "      <th></th>\n",
       "      <th>loan_outstanding_inc</th>\n",
       "      <th>status</th>\n",
       "    </tr>\n",
       "  </thead>\n",
       "  <tbody>\n",
       "    <tr>\n",
       "      <th>Unnamed: 0</th>\n",
       "      <td>0.00410053</td>\n",
       "      <td>-0.00551489</td>\n",
       "    </tr>\n",
       "    <tr>\n",
       "      <th>monthly_income</th>\n",
       "      <td>-0.0433074</td>\n",
       "      <td>0.0808281</td>\n",
       "    </tr>\n",
       "    <tr>\n",
       "      <th>gig_economy_weekly_income</th>\n",
       "      <td>0.00774372</td>\n",
       "      <td>0.00616934</td>\n",
       "    </tr>\n",
       "    <tr>\n",
       "      <th>atm_check_deposits_weekly_income</th>\n",
       "      <td>-0.0450395</td>\n",
       "      <td>0.0376887</td>\n",
       "    </tr>\n",
       "    <tr>\n",
       "      <th>direct_deposit_weekly_income</th>\n",
       "      <td>-0.0320597</td>\n",
       "      <td>0.071408</td>\n",
       "    </tr>\n",
       "    <tr>\n",
       "      <th>government_aid_weekly_income</th>\n",
       "      <td>0.0116768</td>\n",
       "      <td>0.0034434</td>\n",
       "    </tr>\n",
       "    <tr>\n",
       "      <th>frequency_heuristic_weekly_income</th>\n",
       "      <td>-0.0185993</td>\n",
       "      <td>0.0277338</td>\n",
       "    </tr>\n",
       "    <tr>\n",
       "      <th>large_deposits_weekly_income</th>\n",
       "      <td>0.00704523</td>\n",
       "      <td>-0.000496234</td>\n",
       "    </tr>\n",
       "    <tr>\n",
       "      <th>income_length</th>\n",
       "      <td>-0.0255188</td>\n",
       "      <td>0.0355449</td>\n",
       "    </tr>\n",
       "    <tr>\n",
       "      <th>payrolls_per_month</th>\n",
       "      <td>0.0246747</td>\n",
       "      <td>-0.00298115</td>\n",
       "    </tr>\n",
       "    <tr>\n",
       "      <th>income_sources</th>\n",
       "      <td>-0.0222341</td>\n",
       "      <td>0.027264</td>\n",
       "    </tr>\n",
       "    <tr>\n",
       "      <th>days_since_most_recent_payroll</th>\n",
       "      <td>-0.00997959</td>\n",
       "      <td>0.00421161</td>\n",
       "    </tr>\n",
       "    <tr>\n",
       "      <th>days_until_next_payroll</th>\n",
       "      <td>-0.0295599</td>\n",
       "      <td>0.0247329</td>\n",
       "    </tr>\n",
       "    <tr>\n",
       "      <th>bank_balance</th>\n",
       "      <td>-0.0426791</td>\n",
       "      <td>0.0497219</td>\n",
       "    </tr>\n",
       "    <tr>\n",
       "      <th>overdraft_transactions</th>\n",
       "      <td>0.0118529</td>\n",
       "      <td>-0.0141686</td>\n",
       "    </tr>\n",
       "    <tr>\n",
       "      <th>nsf_transactions</th>\n",
       "      <td>0.0330488</td>\n",
       "      <td>-0.0121432</td>\n",
       "    </tr>\n",
       "    <tr>\n",
       "      <th>return_transactions</th>\n",
       "      <td>0.0566737</td>\n",
       "      <td>-0.0539477</td>\n",
       "    </tr>\n",
       "    <tr>\n",
       "      <th>reverse_transactions</th>\n",
       "      <td>0.00305808</td>\n",
       "      <td>-0.0142823</td>\n",
       "    </tr>\n",
       "    <tr>\n",
       "      <th>length_of_transaction_history</th>\n",
       "      <td>0.0246679</td>\n",
       "      <td>-0.0135484</td>\n",
       "    </tr>\n",
       "    <tr>\n",
       "      <th>mortgage</th>\n",
       "      <td>-0.0323208</td>\n",
       "      <td>0.0343214</td>\n",
       "    </tr>\n",
       "    <tr>\n",
       "      <th>auto_loan</th>\n",
       "      <td>-0.0310063</td>\n",
       "      <td>0.0538611</td>\n",
       "    </tr>\n",
       "    <tr>\n",
       "      <th>student_loan</th>\n",
       "      <td>-0.046959</td>\n",
       "      <td>0.0575302</td>\n",
       "    </tr>\n",
       "    <tr>\n",
       "      <th>traditional_single_payment</th>\n",
       "      <td>0.00527235</td>\n",
       "      <td>-0.0083818</td>\n",
       "    </tr>\n",
       "    <tr>\n",
       "      <th>installment_loan</th>\n",
       "      <td>-0.0330466</td>\n",
       "      <td>0.0463877</td>\n",
       "    </tr>\n",
       "    <tr>\n",
       "      <th>predatory_installment_loan</th>\n",
       "      <td>0.0689215</td>\n",
       "      <td>-0.0554524</td>\n",
       "    </tr>\n",
       "    <tr>\n",
       "      <th>title_loan</th>\n",
       "      <td>-0.00247397</td>\n",
       "      <td>-0.00162832</td>\n",
       "    </tr>\n",
       "    <tr>\n",
       "      <th>pay_advances</th>\n",
       "      <td>-0.0104506</td>\n",
       "      <td>0.0159917</td>\n",
       "    </tr>\n",
       "    <tr>\n",
       "      <th>total_loan_payments</th>\n",
       "      <td>-0.0140887</td>\n",
       "      <td>0.0273614</td>\n",
       "    </tr>\n",
       "    <tr>\n",
       "      <th>no_of_other_active_loans</th>\n",
       "      <td>0.0207702</td>\n",
       "      <td>-0.026419</td>\n",
       "    </tr>\n",
       "    <tr>\n",
       "      <th>traditional_single_payment_mean</th>\n",
       "      <td>-0.018955</td>\n",
       "      <td>0.0196293</td>\n",
       "    </tr>\n",
       "    <tr>\n",
       "      <th>traditional_single_payment_trend</th>\n",
       "      <td>-0.0307507</td>\n",
       "      <td>0.0276193</td>\n",
       "    </tr>\n",
       "    <tr>\n",
       "      <th>loan_amount</th>\n",
       "      <td>0.152364</td>\n",
       "      <td>-0.00151966</td>\n",
       "    </tr>\n",
       "    <tr>\n",
       "      <th>loan_requested</th>\n",
       "      <td>0.12383</td>\n",
       "      <td>-0.0590812</td>\n",
       "    </tr>\n",
       "    <tr>\n",
       "      <th>loan_borrowed_inc</th>\n",
       "      <td>0.153807</td>\n",
       "      <td>-0.00319252</td>\n",
       "    </tr>\n",
       "    <tr>\n",
       "      <th>loan_outstanding_inc</th>\n",
       "      <td>yes</td>\n",
       "      <td>yes</td>\n",
       "    </tr>\n",
       "    <tr>\n",
       "      <th>status</th>\n",
       "      <td>yes</td>\n",
       "      <td>yes</td>\n",
       "    </tr>\n",
       "  </tbody>\n",
       "</table>\n",
       "</div>"
      ],
      "text/plain": [
       "                                  loan_outstanding_inc       status\n",
       "Unnamed: 0                                  0.00410053  -0.00551489\n",
       "monthly_income                              -0.0433074    0.0808281\n",
       "gig_economy_weekly_income                   0.00774372   0.00616934\n",
       "atm_check_deposits_weekly_income            -0.0450395    0.0376887\n",
       "direct_deposit_weekly_income                -0.0320597     0.071408\n",
       "government_aid_weekly_income                 0.0116768    0.0034434\n",
       "frequency_heuristic_weekly_income           -0.0185993    0.0277338\n",
       "large_deposits_weekly_income                0.00704523 -0.000496234\n",
       "income_length                               -0.0255188    0.0355449\n",
       "payrolls_per_month                           0.0246747  -0.00298115\n",
       "income_sources                              -0.0222341     0.027264\n",
       "days_since_most_recent_payroll             -0.00997959   0.00421161\n",
       "days_until_next_payroll                     -0.0295599    0.0247329\n",
       "bank_balance                                -0.0426791    0.0497219\n",
       "overdraft_transactions                       0.0118529   -0.0141686\n",
       "nsf_transactions                             0.0330488   -0.0121432\n",
       "return_transactions                          0.0566737   -0.0539477\n",
       "reverse_transactions                        0.00305808   -0.0142823\n",
       "length_of_transaction_history                0.0246679   -0.0135484\n",
       "mortgage                                    -0.0323208    0.0343214\n",
       "auto_loan                                   -0.0310063    0.0538611\n",
       "student_loan                                 -0.046959    0.0575302\n",
       "traditional_single_payment                  0.00527235   -0.0083818\n",
       "installment_loan                            -0.0330466    0.0463877\n",
       "predatory_installment_loan                   0.0689215   -0.0554524\n",
       "title_loan                                 -0.00247397  -0.00162832\n",
       "pay_advances                                -0.0104506    0.0159917\n",
       "total_loan_payments                         -0.0140887    0.0273614\n",
       "no_of_other_active_loans                     0.0207702    -0.026419\n",
       "traditional_single_payment_mean              -0.018955    0.0196293\n",
       "traditional_single_payment_trend            -0.0307507    0.0276193\n",
       "loan_amount                                   0.152364  -0.00151966\n",
       "loan_requested                                 0.12383   -0.0590812\n",
       "loan_borrowed_inc                             0.153807  -0.00319252\n",
       "loan_outstanding_inc                               yes          yes\n",
       "status                                             yes          yes"
      ]
     },
     "execution_count": 125,
     "metadata": {},
     "output_type": "execute_result"
    }
   ],
   "source": [
    "#search where correlation is greater than 0.7\n",
    "correlations = df_approved.corr().applymap(lambda x: 'yes' if (abs(x) > 0.7) else x)\n",
    "dfs = []\n",
    "for name in correlations.columns:\n",
    "    if len(correlations.loc[correlations[name]=='yes']) > 1:\n",
    "        dfs.append(correlations.loc[correlations[name]=='yes'])\n",
    "len(dfs)  #6      \n",
    "# I checked all dfs to see where are the correlations\n",
    "dfs[5].T"
   ]
  },
  {
   "cell_type": "markdown",
   "metadata": {},
   "source": [
    "Apart from obvious correlation between features that describe loan after it was granted, the high correlation between `income_length` and `length_of_transaction_history` was confirmed."
   ]
  },
  {
   "cell_type": "markdown",
   "metadata": {},
   "source": [
    "<div style=\"float:left\"><a href=\"#TOC\">Table of contents</a></div>\n",
    "<a name=\"data_dist\"></a>\n",
    "\n",
    "### Check data distributions"
   ]
  },
  {
   "cell_type": "code",
   "execution_count": 253,
   "metadata": {},
   "outputs": [],
   "source": [
    "#Cannot print out the result for the reasons of confidentiality\n",
    "\n",
    "#df_approved.hist();"
   ]
  },
  {
   "cell_type": "markdown",
   "metadata": {},
   "source": [
    "Distribution is a bit confusing because of the scale of many variables. Some seem to have only 0 values, but it is not the case, as small values are not seen in the histograms."
   ]
  },
  {
   "cell_type": "markdown",
   "metadata": {},
   "source": [
    "<div style=\"float:left\"><a href=\"#TOC\">Table of contents</a></div>\n",
    "<a name=\"prep\"></a>\n",
    "\n",
    "# 2. Preprocessing\n",
    "\n",
    "1. Drop `Unnamed: 0`, `loan_id` columns\n",
    "2. Drop columns asocciated with granting the loan: `loan_amount`, `loan_borrowed_inc`, `loan_outstanding_inc`\n",
    "3. Drop `length_of_transaction_history` because of correlation with `income_length`\n",
    "2. Leave only states: 'WA', 'CA', 'UT', 'ID'"
   ]
  },
  {
   "cell_type": "code",
   "execution_count": 127,
   "metadata": {},
   "outputs": [],
   "source": [
    "df_approved = preprocess(df_approved)\n",
    "df_rejected = preprocess(df_rejected)"
   ]
  },
  {
   "cell_type": "markdown",
   "metadata": {},
   "source": [
    "<div style=\"float:left\"><a href=\"#TOC\">Table of contents</a></div>\n",
    "<a name=\"TTS\"></a>\n",
    "\n",
    "### Train test split\n",
    "I will work mainly with approved loans dataset"
   ]
  },
  {
   "cell_type": "code",
   "execution_count": 128,
   "metadata": {},
   "outputs": [],
   "source": [
    "random.seed(113)\n",
    "y = df_approved['status']\n",
    "X = df_approved.drop(['status'], axis=1)\n",
    "\n",
    "#to maintain time order of the appointment date, shuffle is set to False\n",
    "X_train, X_test, y_train, y_test = train_test_split(X, y, test_size=0.2, random_state=113)"
   ]
  },
  {
   "cell_type": "markdown",
   "metadata": {},
   "source": [
    "<div style=\"float:left\"><a href=\"#TOC\">Table of contents</a></div>\n",
    "<a name=\"OHE\"></a>\n",
    "\n",
    "### One-hot-encoding"
   ]
  },
  {
   "cell_type": "code",
   "execution_count": 129,
   "metadata": {},
   "outputs": [],
   "source": [
    "X_train = ohe(X_train, 'state')\n",
    "X_test = ohe(X_test, 'state')"
   ]
  },
  {
   "cell_type": "code",
   "execution_count": 130,
   "metadata": {},
   "outputs": [],
   "source": [
    "#reset indexes of y-values too (Xs were reset during ohe)\n",
    "y_train = y_train.reset_index(drop=True)\n",
    "y_test = y_test.reset_index(drop=True)"
   ]
  },
  {
   "cell_type": "code",
   "execution_count": 131,
   "metadata": {},
   "outputs": [],
   "source": [
    "#rejected dataset one-hot-encoding\n",
    "df_rejected = ohe(df_rejected, 'state')"
   ]
  },
  {
   "cell_type": "markdown",
   "metadata": {},
   "source": [
    "<div style=\"float:left\"><a href=\"#TOC\">Table of contents</a></div>\n",
    "<a name=\"scaling\"></a>\n",
    "\n",
    "### Scaling"
   ]
  },
  {
   "cell_type": "markdown",
   "metadata": {},
   "source": [
    "Without scaling I could not get consistent coefficient among Logistic Regression model from Sklearn and StatsModels."
   ]
  },
  {
   "cell_type": "code",
   "execution_count": 132,
   "metadata": {},
   "outputs": [],
   "source": [
    "#scale X_train\n",
    "X_train_scaled, ss = scale_columns(X_train)"
   ]
  },
  {
   "cell_type": "code",
   "execution_count": 133,
   "metadata": {},
   "outputs": [],
   "source": [
    "#scale X_test\n",
    "X_test_scaled, ss = scale_columns(X_test, ss)"
   ]
  },
  {
   "cell_type": "markdown",
   "metadata": {},
   "source": [
    "<div style=\"float:left\"><a href=\"#TOC\">Table of contents</a></div>\n",
    "<a name=\"list_mod\"></a>\n",
    "\n",
    "### Create lists to add models and reports"
   ]
  },
  {
   "cell_type": "code",
   "execution_count": 134,
   "metadata": {},
   "outputs": [],
   "source": [
    "models = []\n",
    "reports = []"
   ]
  },
  {
   "cell_type": "markdown",
   "metadata": {},
   "source": [
    "<div style=\"float:left\"><a href=\"#TOC\">Table of contents</a></div>\n",
    "<a name=\"apl_models\"></a>\n",
    "\n",
    "# 3. Trying different models"
   ]
  },
  {
   "cell_type": "markdown",
   "metadata": {},
   "source": [
    "<div style=\"float:left\"><a href=\"#TOC\">Table of contents</a></div>\n",
    "<a name=\"baseline\"></a>\n",
    "\n",
    "### Baseline: guessing majority class"
   ]
  },
  {
   "cell_type": "code",
   "execution_count": 242,
   "metadata": {},
   "outputs": [
    {
     "data": {
      "text/plain": [
       "0.5"
      ]
     },
     "execution_count": 242,
     "metadata": {},
     "output_type": "execute_result"
    }
   ],
   "source": [
    "guess_maj_class_cv_auc(X_train, X_test, y_train, y_test)"
   ]
  },
  {
   "cell_type": "markdown",
   "metadata": {},
   "source": [
    "**Baseline AUC is 0.5**"
   ]
  },
  {
   "cell_type": "markdown",
   "metadata": {},
   "source": [
    "<div style=\"float:left\"><a href=\"#TOC\">Table of contents</a></div>\n",
    "<a name=\"lr_all\"></a>\n",
    "\n",
    "### Logistic Regression on all the features"
   ]
  },
  {
   "cell_type": "code",
   "execution_count": 135,
   "metadata": {},
   "outputs": [
    {
     "name": "stdout",
     "output_type": "stream",
     "text": [
      "Report:\n",
      "              precision    recall  f1-score   support\n",
      "\n",
      "           0       0.40      0.16      0.23       185\n",
      "           1       0.79      0.93      0.86       644\n",
      "\n",
      "    accuracy                           0.76       829\n",
      "   macro avg       0.60      0.54      0.54       829\n",
      "weighted avg       0.71      0.76      0.72       829\n",
      " CV AUC score: 0.6213050623297717\n",
      "\n",
      "Each Cross Validated AUC: \n",
      " [0.62225016 0.68007542 0.66520008 0.58642363 0.55257601]\n",
      "\n",
      "Overall Classifier AUC: 0.62 (+/- 0.10)\n",
      "\n"
     ]
    }
   ],
   "source": [
    "lr1, report_lr1 = logireg(X_train_scaled, X_test_scaled, y_train, y_test)"
   ]
  },
  {
   "cell_type": "code",
   "execution_count": 136,
   "metadata": {},
   "outputs": [],
   "source": [
    "models.append(lr1)\n",
    "reports.append(report_lr1)"
   ]
  },
  {
   "cell_type": "code",
   "execution_count": 137,
   "metadata": {},
   "outputs": [
    {
     "data": {
      "text/html": [
       "<div>\n",
       "<style scoped>\n",
       "    .dataframe tbody tr th:only-of-type {\n",
       "        vertical-align: middle;\n",
       "    }\n",
       "\n",
       "    .dataframe tbody tr th {\n",
       "        vertical-align: top;\n",
       "    }\n",
       "\n",
       "    .dataframe thead th {\n",
       "        text-align: right;\n",
       "    }\n",
       "</style>\n",
       "<table border=\"1\" class=\"dataframe\">\n",
       "  <thead>\n",
       "    <tr style=\"text-align: right;\">\n",
       "      <th></th>\n",
       "      <th>name</th>\n",
       "      <th>coef</th>\n",
       "      <th>abs_coef</th>\n",
       "    </tr>\n",
       "  </thead>\n",
       "  <tbody>\n",
       "    <tr>\n",
       "      <th>13</th>\n",
       "      <td>overdraft_transactions</td>\n",
       "      <td>-0.000054</td>\n",
       "      <td>0.000054</td>\n",
       "    </tr>\n",
       "    <tr>\n",
       "      <th>16</th>\n",
       "      <td>reverse_transactions</td>\n",
       "      <td>-0.003216</td>\n",
       "      <td>0.003216</td>\n",
       "    </tr>\n",
       "    <tr>\n",
       "      <th>14</th>\n",
       "      <td>nsf_transactions</td>\n",
       "      <td>0.011015</td>\n",
       "      <td>0.011015</td>\n",
       "    </tr>\n",
       "    <tr>\n",
       "      <th>23</th>\n",
       "      <td>title_loan</td>\n",
       "      <td>0.014618</td>\n",
       "      <td>0.014618</td>\n",
       "    </tr>\n",
       "    <tr>\n",
       "      <th>10</th>\n",
       "      <td>days_since_most_recent_payroll</td>\n",
       "      <td>0.016942</td>\n",
       "      <td>0.016942</td>\n",
       "    </tr>\n",
       "    <tr>\n",
       "      <th>11</th>\n",
       "      <td>days_until_next_payroll</td>\n",
       "      <td>0.025216</td>\n",
       "      <td>0.025216</td>\n",
       "    </tr>\n",
       "    <tr>\n",
       "      <th>4</th>\n",
       "      <td>government_aid_weekly_income</td>\n",
       "      <td>0.040477</td>\n",
       "      <td>0.040477</td>\n",
       "    </tr>\n",
       "    <tr>\n",
       "      <th>5</th>\n",
       "      <td>frequency_heuristic_weekly_income</td>\n",
       "      <td>0.051204</td>\n",
       "      <td>0.051204</td>\n",
       "    </tr>\n",
       "    <tr>\n",
       "      <th>7</th>\n",
       "      <td>income_length</td>\n",
       "      <td>-0.063422</td>\n",
       "      <td>0.063422</td>\n",
       "    </tr>\n",
       "    <tr>\n",
       "      <th>20</th>\n",
       "      <td>traditional_single_payment</td>\n",
       "      <td>-0.069041</td>\n",
       "      <td>0.069041</td>\n",
       "    </tr>\n",
       "    <tr>\n",
       "      <th>6</th>\n",
       "      <td>large_deposits_weekly_income</td>\n",
       "      <td>-0.075700</td>\n",
       "      <td>0.075700</td>\n",
       "    </tr>\n",
       "    <tr>\n",
       "      <th>8</th>\n",
       "      <td>payrolls_per_month</td>\n",
       "      <td>-0.076286</td>\n",
       "      <td>0.076286</td>\n",
       "    </tr>\n",
       "    <tr>\n",
       "      <th>26</th>\n",
       "      <td>no_of_other_active_loans</td>\n",
       "      <td>0.076999</td>\n",
       "      <td>0.076999</td>\n",
       "    </tr>\n",
       "    <tr>\n",
       "      <th>2</th>\n",
       "      <td>atm_check_deposits_weekly_income</td>\n",
       "      <td>0.081983</td>\n",
       "      <td>0.081983</td>\n",
       "    </tr>\n",
       "    <tr>\n",
       "      <th>15</th>\n",
       "      <td>return_transactions</td>\n",
       "      <td>-0.086026</td>\n",
       "      <td>0.086026</td>\n",
       "    </tr>\n",
       "    <tr>\n",
       "      <th>17</th>\n",
       "      <td>mortgage</td>\n",
       "      <td>0.088708</td>\n",
       "      <td>0.088708</td>\n",
       "    </tr>\n",
       "    <tr>\n",
       "      <th>28</th>\n",
       "      <td>traditional_single_payment_trend</td>\n",
       "      <td>0.093870</td>\n",
       "      <td>0.093870</td>\n",
       "    </tr>\n",
       "    <tr>\n",
       "      <th>1</th>\n",
       "      <td>gig_economy_weekly_income</td>\n",
       "      <td>0.111227</td>\n",
       "      <td>0.111227</td>\n",
       "    </tr>\n",
       "    <tr>\n",
       "      <th>21</th>\n",
       "      <td>installment_loan</td>\n",
       "      <td>0.113137</td>\n",
       "      <td>0.113137</td>\n",
       "    </tr>\n",
       "    <tr>\n",
       "      <th>22</th>\n",
       "      <td>predatory_installment_loan</td>\n",
       "      <td>-0.117734</td>\n",
       "      <td>0.117734</td>\n",
       "    </tr>\n",
       "    <tr>\n",
       "      <th>9</th>\n",
       "      <td>income_sources</td>\n",
       "      <td>0.122674</td>\n",
       "      <td>0.122674</td>\n",
       "    </tr>\n",
       "    <tr>\n",
       "      <th>3</th>\n",
       "      <td>direct_deposit_weekly_income</td>\n",
       "      <td>0.127576</td>\n",
       "      <td>0.127576</td>\n",
       "    </tr>\n",
       "    <tr>\n",
       "      <th>0</th>\n",
       "      <td>monthly_income</td>\n",
       "      <td>0.128198</td>\n",
       "      <td>0.128198</td>\n",
       "    </tr>\n",
       "    <tr>\n",
       "      <th>18</th>\n",
       "      <td>auto_loan</td>\n",
       "      <td>0.146302</td>\n",
       "      <td>0.146302</td>\n",
       "    </tr>\n",
       "    <tr>\n",
       "      <th>19</th>\n",
       "      <td>student_loan</td>\n",
       "      <td>0.173384</td>\n",
       "      <td>0.173384</td>\n",
       "    </tr>\n",
       "    <tr>\n",
       "      <th>25</th>\n",
       "      <td>total_loan_payments</td>\n",
       "      <td>-0.183159</td>\n",
       "      <td>0.183159</td>\n",
       "    </tr>\n",
       "    <tr>\n",
       "      <th>24</th>\n",
       "      <td>pay_advances</td>\n",
       "      <td>0.218768</td>\n",
       "      <td>0.218768</td>\n",
       "    </tr>\n",
       "    <tr>\n",
       "      <th>27</th>\n",
       "      <td>traditional_single_payment_mean</td>\n",
       "      <td>0.255778</td>\n",
       "      <td>0.255778</td>\n",
       "    </tr>\n",
       "    <tr>\n",
       "      <th>29</th>\n",
       "      <td>loan_requested</td>\n",
       "      <td>-0.546738</td>\n",
       "      <td>0.546738</td>\n",
       "    </tr>\n",
       "    <tr>\n",
       "      <th>12</th>\n",
       "      <td>bank_balance</td>\n",
       "      <td>1.050115</td>\n",
       "      <td>1.050115</td>\n",
       "    </tr>\n",
       "    <tr>\n",
       "      <th>31</th>\n",
       "      <td>state_\"UT\"</td>\n",
       "      <td>1.196043</td>\n",
       "      <td>1.196043</td>\n",
       "    </tr>\n",
       "    <tr>\n",
       "      <th>30</th>\n",
       "      <td>state_\"ID\"</td>\n",
       "      <td>1.401002</td>\n",
       "      <td>1.401002</td>\n",
       "    </tr>\n",
       "    <tr>\n",
       "      <th>32</th>\n",
       "      <td>state_\"WA\"</td>\n",
       "      <td>2.048109</td>\n",
       "      <td>2.048109</td>\n",
       "    </tr>\n",
       "  </tbody>\n",
       "</table>\n",
       "</div>"
      ],
      "text/plain": [
       "                                 name      coef  abs_coef\n",
       "13             overdraft_transactions -0.000054  0.000054\n",
       "16               reverse_transactions -0.003216  0.003216\n",
       "14                   nsf_transactions  0.011015  0.011015\n",
       "23                         title_loan  0.014618  0.014618\n",
       "10     days_since_most_recent_payroll  0.016942  0.016942\n",
       "11            days_until_next_payroll  0.025216  0.025216\n",
       "4        government_aid_weekly_income  0.040477  0.040477\n",
       "5   frequency_heuristic_weekly_income  0.051204  0.051204\n",
       "7                       income_length -0.063422  0.063422\n",
       "20         traditional_single_payment -0.069041  0.069041\n",
       "6        large_deposits_weekly_income -0.075700  0.075700\n",
       "8                  payrolls_per_month -0.076286  0.076286\n",
       "26           no_of_other_active_loans  0.076999  0.076999\n",
       "2    atm_check_deposits_weekly_income  0.081983  0.081983\n",
       "15                return_transactions -0.086026  0.086026\n",
       "17                           mortgage  0.088708  0.088708\n",
       "28   traditional_single_payment_trend  0.093870  0.093870\n",
       "1           gig_economy_weekly_income  0.111227  0.111227\n",
       "21                   installment_loan  0.113137  0.113137\n",
       "22         predatory_installment_loan -0.117734  0.117734\n",
       "9                      income_sources  0.122674  0.122674\n",
       "3        direct_deposit_weekly_income  0.127576  0.127576\n",
       "0                      monthly_income  0.128198  0.128198\n",
       "18                          auto_loan  0.146302  0.146302\n",
       "19                       student_loan  0.173384  0.173384\n",
       "25                total_loan_payments -0.183159  0.183159\n",
       "24                       pay_advances  0.218768  0.218768\n",
       "27    traditional_single_payment_mean  0.255778  0.255778\n",
       "29                     loan_requested -0.546738  0.546738\n",
       "12                       bank_balance  1.050115  1.050115\n",
       "31                         state_\"UT\"  1.196043  1.196043\n",
       "30                         state_\"ID\"  1.401002  1.401002\n",
       "32                         state_\"WA\"  2.048109  2.048109"
      ]
     },
     "execution_count": 137,
     "metadata": {},
     "output_type": "execute_result"
    }
   ],
   "source": [
    "#extract coefficients\n",
    "features = get_df_coef(lr1, X_test)\n",
    "features"
   ]
  },
  {
   "cell_type": "markdown",
   "metadata": {},
   "source": [
    "<div style=\"float:left\"><a href=\"#TOC\">Table of contents</a></div>\n",
    "<a name=\"sm\"></a>\n",
    "\n",
    "### Compare with StatsModels model"
   ]
  },
  {
   "cell_type": "code",
   "execution_count": 216,
   "metadata": {},
   "outputs": [
    {
     "name": "stdout",
     "output_type": "stream",
     "text": [
      "<class 'pandas.core.frame.DataFrame'>\n",
      "RangeIndex: 3313 entries, 0 to 3312\n",
      "Data columns (total 33 columns):\n",
      "monthly_income                       3313 non-null float64\n",
      "gig_economy_weekly_income            3313 non-null float64\n",
      "atm_check_deposits_weekly_income     3313 non-null float64\n",
      "direct_deposit_weekly_income         3313 non-null float64\n",
      "government_aid_weekly_income         3313 non-null float64\n",
      "frequency_heuristic_weekly_income    3313 non-null float64\n",
      "large_deposits_weekly_income         3313 non-null float64\n",
      "income_length                        3313 non-null float64\n",
      "payrolls_per_month                   3313 non-null float64\n",
      "income_sources                       3313 non-null float64\n",
      "days_since_most_recent_payroll       3313 non-null float64\n",
      "days_until_next_payroll              3313 non-null float64\n",
      "bank_balance                         3313 non-null float64\n",
      "overdraft_transactions               3313 non-null float64\n",
      "nsf_transactions                     3313 non-null float64\n",
      "return_transactions                  3313 non-null float64\n",
      "reverse_transactions                 3313 non-null float64\n",
      "mortgage                             3313 non-null float64\n",
      "auto_loan                            3313 non-null float64\n",
      "student_loan                         3313 non-null float64\n",
      "traditional_single_payment           3313 non-null float64\n",
      "installment_loan                     3313 non-null float64\n",
      "predatory_installment_loan           3313 non-null float64\n",
      "title_loan                           3313 non-null float64\n",
      "pay_advances                         3313 non-null float64\n",
      "total_loan_payments                  3313 non-null float64\n",
      "no_of_other_active_loans             3313 non-null float64\n",
      "traditional_single_payment_mean      3313 non-null float64\n",
      "traditional_single_payment_trend     3313 non-null float64\n",
      "loan_requested                       3313 non-null float64\n",
      "state_\"ID\"                           3313 non-null float64\n",
      "state_\"UT\"                           3313 non-null float64\n",
      "state_\"WA\"                           3313 non-null float64\n",
      "dtypes: float64(33)\n",
      "memory usage: 854.2 KB\n"
     ]
    }
   ],
   "source": [
    "X_train_scaled.info()\n"
   ]
  },
  {
   "cell_type": "code",
   "execution_count": 138,
   "metadata": {},
   "outputs": [
    {
     "name": "stdout",
     "output_type": "stream",
     "text": [
      "Optimization terminated successfully.\n",
      "         Current function value: 0.497015\n",
      "         Iterations 7\n",
      "                           Logit Regression Results                           \n",
      "==============================================================================\n",
      "Dep. Variable:                 status   No. Observations:                 3313\n",
      "Model:                          Logit   Df Residuals:                     3281\n",
      "Method:                           MLE   Df Model:                           31\n",
      "Date:                Sun, 07 Jul 2019   Pseudo R-squ.:                -0.01089\n",
      "Time:                        15:38:01   Log-Likelihood:                -1646.6\n",
      "converged:                       True   LL-Null:                       -1628.9\n",
      "                                        LLR p-value:                     1.000\n",
      "=====================================================================================================\n",
      "                                        coef    std err          z      P>|z|      [0.025      0.975]\n",
      "-----------------------------------------------------------------------------------------------------\n",
      "monthly_income                        0.1282        nan        nan        nan         nan         nan\n",
      "gig_economy_weekly_income             0.1112        nan        nan        nan         nan         nan\n",
      "atm_check_deposits_weekly_income      0.0820        nan        nan        nan         nan         nan\n",
      "direct_deposit_weekly_income          0.1276        nan        nan        nan         nan         nan\n",
      "government_aid_weekly_income          0.0405        nan        nan        nan         nan         nan\n",
      "frequency_heuristic_weekly_income     0.0512        nan        nan        nan         nan         nan\n",
      "large_deposits_weekly_income         -0.0757        nan        nan        nan         nan         nan\n",
      "income_length                        -0.0634      0.049     -1.294      0.196      -0.159       0.033\n",
      "payrolls_per_month                   -0.0762      0.067     -1.138      0.255      -0.208       0.055\n",
      "income_sources                        0.1226      0.065      1.898      0.058      -0.004       0.249\n",
      "days_since_most_recent_payroll        0.0169      0.043      0.390      0.696      -0.068       0.102\n",
      "days_until_next_payroll               0.0253      0.047      0.537      0.591      -0.067       0.117\n",
      "bank_balance                          1.0497      0.200      5.251      0.000       0.658       1.442\n",
      "overdraft_transactions             -6.41e-05      0.043     -0.001      0.999      -0.085       0.085\n",
      "nsf_transactions                      0.0110      0.044      0.250      0.802      -0.075       0.097\n",
      "return_transactions                  -0.0860      0.042     -2.033      0.042      -0.169      -0.003\n",
      "reverse_transactions                 -0.0032      0.042     -0.077      0.939      -0.086       0.079\n",
      "mortgage                              0.0887      0.066      1.345      0.179      -0.041       0.218\n",
      "auto_loan                             0.1463      0.057      2.547      0.011       0.034       0.259\n",
      "student_loan                          0.1733      0.075      2.324      0.020       0.027       0.320\n",
      "traditional_single_payment           -0.0691      0.071     -0.978      0.328      -0.208       0.069\n",
      "installment_loan                      0.1131      0.061      1.848      0.065      -0.007       0.233\n",
      "predatory_installment_loan           -0.1178      0.050     -2.363      0.018      -0.215      -0.020\n",
      "title_loan                            0.0146      0.041      0.356      0.722      -0.066       0.095\n",
      "pay_advances                          0.2188      0.054      4.016      0.000       0.112       0.325\n",
      "total_loan_payments                  -0.1831      0.107     -1.708      0.088      -0.393       0.027\n",
      "no_of_other_active_loans              0.0770      0.068      1.124      0.261      -0.057       0.211\n",
      "traditional_single_payment_mean       0.2558      0.071      3.579      0.000       0.116       0.396\n",
      "traditional_single_payment_trend      0.0939      0.051      1.832      0.067      -0.007       0.194\n",
      "loan_requested                       -0.5467      0.050    -10.858      0.000      -0.645      -0.448\n",
      "state_\"ID\"                            1.4003      0.261      5.369      0.000       0.889       1.911\n",
      "state_\"UT\"                            1.1961      0.114     10.487      0.000       0.973       1.420\n",
      "state_\"WA\"                            2.0481      0.076     26.866      0.000       1.899       2.197\n",
      "=====================================================================================================\n"
     ]
    },
    {
     "name": "stderr",
     "output_type": "stream",
     "text": [
      "/anaconda3/lib/python3.7/site-packages/statsmodels/base/model.py:1092: RuntimeWarning: invalid value encountered in sqrt\n",
      "  bse_ = np.sqrt(np.diag(self.cov_params()))\n",
      "/anaconda3/lib/python3.7/site-packages/scipy/stats/_distn_infrastructure.py:879: RuntimeWarning: invalid value encountered in greater\n",
      "  return (self.a < x) & (x < self.b)\n",
      "/anaconda3/lib/python3.7/site-packages/scipy/stats/_distn_infrastructure.py:879: RuntimeWarning: invalid value encountered in less\n",
      "  return (self.a < x) & (x < self.b)\n",
      "/anaconda3/lib/python3.7/site-packages/scipy/stats/_distn_infrastructure.py:1821: RuntimeWarning: invalid value encountered in less_equal\n",
      "  cond2 = cond0 & (x <= self.a)\n"
     ]
    }
   ],
   "source": [
    "logit_model=sm.Logit(y_train, X_train_scaled, random_state=113)\n",
    "result=logit_model.fit(maxiter=100)\n",
    "print(result.summary())"
   ]
  },
  {
   "cell_type": "code",
   "execution_count": 218,
   "metadata": {},
   "outputs": [],
   "source": [
    "# TODO(AnnaZubova):  troubleshoot warning"
   ]
  },
  {
   "cell_type": "markdown",
   "metadata": {},
   "source": [
    "<div style=\"float:left\"><a href=\"#TOC\">Table of contents</a></div>\n",
    "<a name=\"lr_limited\"></a>\n",
    "\n",
    "### Logistic Regression with the coefficients that have p-values < 0.05"
   ]
  },
  {
   "cell_type": "code",
   "execution_count": 139,
   "metadata": {},
   "outputs": [],
   "source": [
    "X_train_mod = X_train[['bank_balance', 'auto_loan', 'student_loan',\n",
    "                                     'installment_loan', 'pay_advances', 'traditional_single_payment_mean', \n",
    "                                    'loan_requested', 'state_\\\"ID\\\"', 'state_\\\"UT\\\"', 'state_\\\"WA\\\"']]\n",
    "X_test_mod = X_test[['bank_balance', 'auto_loan', 'student_loan',\n",
    "                                     'installment_loan', 'pay_advances', 'traditional_single_payment_mean', \n",
    "                                    'loan_requested', 'state_\\\"ID\\\"', 'state_\\\"UT\\\"', 'state_\\\"WA\\\"']]"
   ]
  },
  {
   "cell_type": "code",
   "execution_count": 140,
   "metadata": {},
   "outputs": [],
   "source": [
    "#fit and transform train\n",
    "X_train_mod_scaled, ss = scale_columns(X_train_mod)"
   ]
  },
  {
   "cell_type": "code",
   "execution_count": 141,
   "metadata": {},
   "outputs": [],
   "source": [
    "#transform test set\n",
    "X_test_mod_scaled, ss = scale_columns(X_test_mod, ss)"
   ]
  },
  {
   "cell_type": "code",
   "execution_count": 142,
   "metadata": {},
   "outputs": [
    {
     "name": "stdout",
     "output_type": "stream",
     "text": [
      "Report:\n",
      "              precision    recall  f1-score   support\n",
      "\n",
      "           0       0.40      0.12      0.19       185\n",
      "           1       0.79      0.95      0.86       644\n",
      "\n",
      "    accuracy                           0.76       829\n",
      "   macro avg       0.59      0.53      0.53       829\n",
      "weighted avg       0.70      0.76      0.71       829\n",
      " CV AUC score: 0.6352181214644876\n",
      "\n",
      "Each Cross Validated AUC: \n",
      " [0.60025141 0.69432223 0.69893149 0.61554578 0.5670397 ]\n",
      "\n",
      "Overall Classifier AUC: 0.64 (+/- 0.11)\n",
      "\n"
     ]
    }
   ],
   "source": [
    "lr2, report_lr2 = logireg(X_train_mod_scaled, X_test_mod_scaled, y_train, y_test)"
   ]
  },
  {
   "cell_type": "code",
   "execution_count": 143,
   "metadata": {},
   "outputs": [],
   "source": [
    "models.append(lr2)\n",
    "reports.append(report_lr2)"
   ]
  },
  {
   "cell_type": "code",
   "execution_count": 144,
   "metadata": {},
   "outputs": [
    {
     "data": {
      "text/html": [
       "<div>\n",
       "<style scoped>\n",
       "    .dataframe tbody tr th:only-of-type {\n",
       "        vertical-align: middle;\n",
       "    }\n",
       "\n",
       "    .dataframe tbody tr th {\n",
       "        vertical-align: top;\n",
       "    }\n",
       "\n",
       "    .dataframe thead th {\n",
       "        text-align: right;\n",
       "    }\n",
       "</style>\n",
       "<table border=\"1\" class=\"dataframe\">\n",
       "  <thead>\n",
       "    <tr style=\"text-align: right;\">\n",
       "      <th></th>\n",
       "      <th>name</th>\n",
       "      <th>coef</th>\n",
       "      <th>abs_coef</th>\n",
       "    </tr>\n",
       "  </thead>\n",
       "  <tbody>\n",
       "    <tr>\n",
       "      <th>3</th>\n",
       "      <td>installment_loan</td>\n",
       "      <td>0.089651</td>\n",
       "      <td>0.089651</td>\n",
       "    </tr>\n",
       "    <tr>\n",
       "      <th>1</th>\n",
       "      <td>auto_loan</td>\n",
       "      <td>0.130119</td>\n",
       "      <td>0.130119</td>\n",
       "    </tr>\n",
       "    <tr>\n",
       "      <th>2</th>\n",
       "      <td>student_loan</td>\n",
       "      <td>0.183853</td>\n",
       "      <td>0.183853</td>\n",
       "    </tr>\n",
       "    <tr>\n",
       "      <th>4</th>\n",
       "      <td>pay_advances</td>\n",
       "      <td>0.184015</td>\n",
       "      <td>0.184015</td>\n",
       "    </tr>\n",
       "    <tr>\n",
       "      <th>5</th>\n",
       "      <td>traditional_single_payment_mean</td>\n",
       "      <td>0.205818</td>\n",
       "      <td>0.205818</td>\n",
       "    </tr>\n",
       "    <tr>\n",
       "      <th>6</th>\n",
       "      <td>loan_requested</td>\n",
       "      <td>-0.546930</td>\n",
       "      <td>0.546930</td>\n",
       "    </tr>\n",
       "    <tr>\n",
       "      <th>8</th>\n",
       "      <td>state_\"UT\"</td>\n",
       "      <td>1.144878</td>\n",
       "      <td>1.144878</td>\n",
       "    </tr>\n",
       "    <tr>\n",
       "      <th>0</th>\n",
       "      <td>bank_balance</td>\n",
       "      <td>1.167500</td>\n",
       "      <td>1.167500</td>\n",
       "    </tr>\n",
       "    <tr>\n",
       "      <th>7</th>\n",
       "      <td>state_\"ID\"</td>\n",
       "      <td>1.369547</td>\n",
       "      <td>1.369547</td>\n",
       "    </tr>\n",
       "    <tr>\n",
       "      <th>9</th>\n",
       "      <td>state_\"WA\"</td>\n",
       "      <td>2.001236</td>\n",
       "      <td>2.001236</td>\n",
       "    </tr>\n",
       "  </tbody>\n",
       "</table>\n",
       "</div>"
      ],
      "text/plain": [
       "                              name      coef  abs_coef\n",
       "3                 installment_loan  0.089651  0.089651\n",
       "1                        auto_loan  0.130119  0.130119\n",
       "2                     student_loan  0.183853  0.183853\n",
       "4                     pay_advances  0.184015  0.184015\n",
       "5  traditional_single_payment_mean  0.205818  0.205818\n",
       "6                   loan_requested -0.546930  0.546930\n",
       "8                       state_\"UT\"  1.144878  1.144878\n",
       "0                     bank_balance  1.167500  1.167500\n",
       "7                       state_\"ID\"  1.369547  1.369547\n",
       "9                       state_\"WA\"  2.001236  2.001236"
      ]
     },
     "execution_count": 144,
     "metadata": {},
     "output_type": "execute_result"
    }
   ],
   "source": [
    "#extract coefficients\n",
    "features = get_df_coef(lr2, X_test_mod)\n",
    "features"
   ]
  },
  {
   "cell_type": "code",
   "execution_count": 145,
   "metadata": {},
   "outputs": [
    {
     "name": "stdout",
     "output_type": "stream",
     "text": [
      "Optimization terminated successfully.\n",
      "         Current function value: 0.505684\n",
      "         Iterations 7\n",
      "                           Logit Regression Results                           \n",
      "==============================================================================\n",
      "Dep. Variable:                 status   No. Observations:                 3313\n",
      "Model:                          Logit   Df Residuals:                     3303\n",
      "Method:                           MLE   Df Model:                            9\n",
      "Date:                Sun, 07 Jul 2019   Pseudo R-squ.:                -0.02852\n",
      "Time:                        15:38:02   Log-Likelihood:                -1675.3\n",
      "converged:                       True   LL-Null:                       -1628.9\n",
      "                                        LLR p-value:                     1.000\n",
      "===================================================================================================\n",
      "                                      coef    std err          z      P>|z|      [0.025      0.975]\n",
      "---------------------------------------------------------------------------------------------------\n",
      "bank_balance                        1.1674      0.191      6.125      0.000       0.794       1.541\n",
      "auto_loan                           0.1301      0.048      2.728      0.006       0.037       0.224\n",
      "student_loan                        0.1838      0.073      2.531      0.011       0.041       0.326\n",
      "installment_loan                    0.0897      0.049      1.813      0.070      -0.007       0.187\n",
      "pay_advances                        0.1840      0.048      3.861      0.000       0.091       0.277\n",
      "traditional_single_payment_mean     0.2058      0.051      4.022      0.000       0.106       0.306\n",
      "loan_requested                     -0.5469      0.049    -11.156      0.000      -0.643      -0.451\n",
      "state_\"ID\"                          1.3695      0.258      5.314      0.000       0.864       1.875\n",
      "state_\"UT\"                          1.1448      0.112     10.264      0.000       0.926       1.363\n",
      "state_\"WA\"                          2.0012      0.074     26.862      0.000       1.855       2.147\n",
      "===================================================================================================\n"
     ]
    }
   ],
   "source": [
    "logit_model=sm.Logit(y_train, X_train_mod_scaled, random_state=113)\n",
    "result=logit_model.fit(maxiter=100)\n",
    "print(result.summary())"
   ]
  },
  {
   "cell_type": "markdown",
   "metadata": {},
   "source": [
    "<div style=\"float:left\"><a href=\"#TOC\">Table of contents</a></div>\n",
    "<a name=\"rf1\"></a>\n",
    "\n",
    "### Random forests"
   ]
  },
  {
   "cell_type": "code",
   "execution_count": 146,
   "metadata": {},
   "outputs": [
    {
     "name": "stdout",
     "output_type": "stream",
     "text": [
      "RandomForestClassifier(bootstrap=True, class_weight=None, criterion='gini',\n",
      "                       max_depth=None, max_features='auto', max_leaf_nodes=None,\n",
      "                       min_impurity_decrease=0.0, min_impurity_split=None,\n",
      "                       min_samples_leaf=1, min_samples_split=2,\n",
      "                       min_weight_fraction_leaf=0.0, n_estimators=100,\n",
      "                       n_jobs=None, oob_score=False, random_state=113,\n",
      "                       verbose=0, warm_start=False)\n",
      "Report:\n",
      "              precision    recall  f1-score   support\n",
      "\n",
      "           0       0.57      0.04      0.08       185\n",
      "           1       0.78      0.99      0.87       644\n",
      "\n",
      "    accuracy                           0.78       829\n",
      "   macro avg       0.68      0.52      0.48       829\n",
      "weighted avg       0.74      0.78      0.70       829\n",
      " CV AUC score: 0.6576383432851456\n",
      "\n",
      "Each Cross Validated AUC: \n",
      " [0.77100356 0.62623088 0.6292688  0.65252462 0.60916385]\n",
      "\n",
      "Overall Classifier AUC: 0.66 (+/- 0.12)\n",
      "\n"
     ]
    }
   ],
   "source": [
    "rfc1, report_rfc1 = rf(X_train, X_test, y_train, y_test)"
   ]
  },
  {
   "cell_type": "code",
   "execution_count": 147,
   "metadata": {},
   "outputs": [],
   "source": [
    "models.append(rfc1)\n",
    "reports.append(report_rfc1)"
   ]
  },
  {
   "cell_type": "markdown",
   "metadata": {},
   "source": [
    "<div style=\"float:left\"><a href=\"#TOC\">Table of contents</a></div>\n",
    "<a name=\"xgb1\"></a>\n",
    "\n",
    "### XG Boost"
   ]
  },
  {
   "cell_type": "code",
   "execution_count": 148,
   "metadata": {},
   "outputs": [
    {
     "name": "stdout",
     "output_type": "stream",
     "text": [
      "Report:\n",
      "              precision    recall  f1-score   support\n",
      "\n",
      "           0       0.47      0.05      0.09       185\n",
      "           1       0.78      0.98      0.87       644\n",
      "\n",
      "    accuracy                           0.78       829\n",
      "   macro avg       0.63      0.52      0.48       829\n",
      "weighted avg       0.71      0.78      0.70       829\n",
      " CV AUC score: 0.6520826786088414\n",
      "\n",
      "Each Cross Validated AUC: \n",
      " [0.70165514 0.63293526 0.68782736 0.64466792 0.5933277 ]\n",
      "\n",
      "Overall Classifier AUC: 0.65 (+/- 0.08)\n",
      "\n"
     ]
    }
   ],
   "source": [
    "xgb1, report_xgb1= xgb(X_train, X_test, y_train, y_test)"
   ]
  },
  {
   "cell_type": "code",
   "execution_count": 149,
   "metadata": {},
   "outputs": [],
   "source": [
    "models.append(xgb1)\n",
    "reports.append(report_xgb1)"
   ]
  },
  {
   "cell_type": "markdown",
   "metadata": {},
   "source": [
    "<div style=\"float:left\"><a href=\"#TOC\">Table of contents</a></div>\n",
    "<a name=\"gb1\"></a>\n",
    "\n",
    "### Gradient Boosting"
   ]
  },
  {
   "cell_type": "code",
   "execution_count": 150,
   "metadata": {},
   "outputs": [
    {
     "name": "stdout",
     "output_type": "stream",
     "text": [
      "Report:\n",
      "              precision    recall  f1-score   support\n",
      "\n",
      "           0       0.43      0.03      0.06       185\n",
      "           1       0.78      0.99      0.87       644\n",
      "\n",
      "    accuracy                           0.77       829\n",
      "   macro avg       0.60      0.51      0.47       829\n",
      "weighted avg       0.70      0.77      0.69       829\n",
      " CV AUC score: 0.661460624869055\n",
      "\n",
      "Each Cross Validated AUC: \n",
      " [0.71778755 0.63984915 0.68238005 0.65221035 0.61507601]\n",
      "\n",
      "Overall Classifier AUC: 0.66 (+/- 0.07)\n",
      "\n"
     ]
    }
   ],
   "source": [
    "gb1, report_gb1 = gb(X_train, X_test, y_train, y_test)"
   ]
  },
  {
   "cell_type": "code",
   "execution_count": 151,
   "metadata": {},
   "outputs": [],
   "source": [
    "models.append(gb1)\n",
    "reports.append(report_gb1)"
   ]
  },
  {
   "cell_type": "markdown",
   "metadata": {},
   "source": [
    "### Conclusion after trying different models: it seems that all models fail to perform on 0 class because of the class imbalance. Next step: correct class imbalance. Best model so far: random forests"
   ]
  },
  {
   "cell_type": "markdown",
   "metadata": {},
   "source": [
    "<div style=\"float:left\"><a href=\"#TOC\">Table of contents</a></div>\n",
    "<a name=\"c_imb_rej\"></a>\n",
    "\n",
    "# 4. Correcting class imbalance with rejected dataset"
   ]
  },
  {
   "cell_type": "markdown",
   "metadata": {},
   "source": [
    "The current training set has 2649 class 1 values and 664 class 0 values. To correct class imbalance I will treat the rejected applications subset as class 0. I will randomly pick 2000 rejected applications and add them to the training set. I will then test the new model (random forest as it seems to have the best performance) on the original testing set that has true labels."
   ]
  },
  {
   "cell_type": "code",
   "execution_count": 152,
   "metadata": {},
   "outputs": [],
   "source": [
    "# Get random 2000 values from rejected dataset \n",
    "\n",
    "rejected_subset = df_rejected.sample(n=2000)"
   ]
  },
  {
   "cell_type": "code",
   "execution_count": 153,
   "metadata": {},
   "outputs": [],
   "source": [
    "# Isolate target column\n",
    "\n",
    "y_subset_0 = rejected_subset['status']\n",
    "X_subset_0 = rejected_subset.drop('status', axis=1)"
   ]
  },
  {
   "cell_type": "code",
   "execution_count": 154,
   "metadata": {},
   "outputs": [
    {
     "data": {
      "text/plain": [
       "array([ True,  True,  True,  True,  True,  True,  True,  True,  True,\n",
       "        True,  True,  True,  True,  True,  True,  True,  True,  True,\n",
       "        True,  True,  True,  True,  True,  True,  True,  True,  True,\n",
       "        True,  True,  True,  True,  True,  True])"
      ]
     },
     "execution_count": 154,
     "metadata": {},
     "output_type": "execute_result"
    }
   ],
   "source": [
    "# Doublecheck if the columns correspond\n",
    "X_train.columns == X_subset_0.columns"
   ]
  },
  {
   "cell_type": "code",
   "execution_count": 155,
   "metadata": {},
   "outputs": [],
   "source": [
    "new_X_train = X_train.append(X_subset_0)\n",
    "new_X_train = new_X_train.reset_index(drop=True)"
   ]
  },
  {
   "cell_type": "code",
   "execution_count": 156,
   "metadata": {},
   "outputs": [],
   "source": [
    "new_y_train = y_train.append(y_subset_0)\n",
    "new_y_train = new_y_train.reset_index(drop=True)"
   ]
  },
  {
   "cell_type": "markdown",
   "metadata": {},
   "source": [
    "<div style=\"float:left\"><a href=\"#TOC\">Table of contents</a></div>\n",
    "<a name=\"rf2\"></a>\n",
    "\n",
    "### Train random forests on the new training set"
   ]
  },
  {
   "cell_type": "code",
   "execution_count": 157,
   "metadata": {},
   "outputs": [
    {
     "name": "stdout",
     "output_type": "stream",
     "text": [
      "RandomForestClassifier(bootstrap=True, class_weight=None, criterion='gini',\n",
      "                       max_depth=None, max_features='auto', max_leaf_nodes=None,\n",
      "                       min_impurity_decrease=0.0, min_impurity_split=None,\n",
      "                       min_samples_leaf=1, min_samples_split=2,\n",
      "                       min_weight_fraction_leaf=0.0, n_estimators=100,\n",
      "                       n_jobs=None, oob_score=False, random_state=113,\n",
      "                       verbose=0, warm_start=False)\n",
      "Report:\n",
      "              precision    recall  f1-score   support\n",
      "\n",
      "           0       0.33      0.44      0.38       185\n",
      "           1       0.82      0.74      0.78       644\n",
      "\n",
      "    accuracy                           0.68       829\n",
      "   macro avg       0.58      0.59      0.58       829\n",
      "weighted avg       0.71      0.68      0.69       829\n",
      " CV AUC score: 0.6576383432851456\n",
      "\n",
      "Each Cross Validated AUC: \n",
      " [0.77100356 0.62623088 0.6292688  0.65252462 0.60916385]\n",
      "\n",
      "Overall Classifier AUC: 0.66 (+/- 0.12)\n",
      "\n"
     ]
    }
   ],
   "source": [
    "rfc2, report_rfc2 = rf(new_X_train, X_test, new_y_train, y_test)"
   ]
  },
  {
   "cell_type": "code",
   "execution_count": 158,
   "metadata": {},
   "outputs": [],
   "source": [
    "models.append(rfc2)\n",
    "reports.append(report_rfc2)"
   ]
  },
  {
   "cell_type": "markdown",
   "metadata": {},
   "source": [
    "<div style=\"float:left\"><a href=\"#TOC\">Table of contents</a></div>\n",
    "<a name=\"lr_rej\"></a>\n",
    "\n",
    "### Try logistic regression on my new training set"
   ]
  },
  {
   "cell_type": "code",
   "execution_count": 159,
   "metadata": {},
   "outputs": [],
   "source": [
    "#scale the new dataset\n",
    "new_X_train_scaled, ss2 = scale_columns(new_X_train)\n",
    "new_X_test_scaled, ss2 = scale_columns(X_test, ss2)"
   ]
  },
  {
   "cell_type": "code",
   "execution_count": 160,
   "metadata": {},
   "outputs": [
    {
     "name": "stdout",
     "output_type": "stream",
     "text": [
      "Report:\n",
      "              precision    recall  f1-score   support\n",
      "\n",
      "           0       0.30      0.44      0.35       185\n",
      "           1       0.81      0.70      0.75       644\n",
      "\n",
      "    accuracy                           0.64       829\n",
      "   macro avg       0.55      0.57      0.55       829\n",
      "weighted avg       0.70      0.64      0.66       829\n",
      " CV AUC score: 0.6221352529855437\n",
      "\n",
      "Each Cross Validated AUC: \n",
      " [0.63209721 0.66771423 0.68300859 0.58034779 0.54750845]\n",
      "\n",
      "Overall Classifier AUC: 0.62 (+/- 0.10)\n",
      "\n"
     ]
    }
   ],
   "source": [
    "#apply logistic regression\n",
    "\n",
    "lr3, report_lr3 = logireg(new_X_train_scaled, new_X_test_scaled, new_y_train, y_test)"
   ]
  },
  {
   "cell_type": "code",
   "execution_count": 161,
   "metadata": {},
   "outputs": [],
   "source": [
    "models.append(lr3)\n",
    "reports.append(report_lr3)"
   ]
  },
  {
   "cell_type": "markdown",
   "metadata": {},
   "source": [
    "<div style=\"float:left\"><a href=\"#TOC\">Table of contents</a></div>\n",
    "<a name=\"gb2\"></a>\n",
    "\n",
    "### Try Gradient Boosting on my new training set"
   ]
  },
  {
   "cell_type": "code",
   "execution_count": 162,
   "metadata": {},
   "outputs": [
    {
     "name": "stdout",
     "output_type": "stream",
     "text": [
      "Report:\n",
      "              precision    recall  f1-score   support\n",
      "\n",
      "           0       0.32      0.37      0.34       185\n",
      "           1       0.81      0.77      0.79       644\n",
      "\n",
      "    accuracy                           0.68       829\n",
      "   macro avg       0.56      0.57      0.56       829\n",
      "weighted avg       0.70      0.68      0.69       829\n",
      " CV AUC score: 0.661460624869055\n",
      "\n",
      "Each Cross Validated AUC: \n",
      " [0.71778755 0.63984915 0.68238005 0.65221035 0.61507601]\n",
      "\n",
      "Overall Classifier AUC: 0.66 (+/- 0.07)\n",
      "\n"
     ]
    }
   ],
   "source": [
    "gb2, report_gb2 = gb(new_X_train, X_test, new_y_train, y_test)"
   ]
  },
  {
   "cell_type": "code",
   "execution_count": 163,
   "metadata": {},
   "outputs": [],
   "source": [
    "models.append(gb2)\n",
    "reports.append(report_gb2)"
   ]
  },
  {
   "cell_type": "markdown",
   "metadata": {},
   "source": [
    "<div style=\"float:left\"><a href=\"#TOC\">Table of contents</a></div>\n",
    "<a name=\"xgb2\"></a>\n",
    "\n",
    "### Try XGBoost  regression on my new training set"
   ]
  },
  {
   "cell_type": "code",
   "execution_count": 164,
   "metadata": {},
   "outputs": [
    {
     "name": "stdout",
     "output_type": "stream",
     "text": [
      "Report:\n",
      "              precision    recall  f1-score   support\n",
      "\n",
      "           0       0.32      0.39      0.35       185\n",
      "           1       0.81      0.76      0.78       644\n",
      "\n",
      "    accuracy                           0.68       829\n",
      "   macro avg       0.56      0.57      0.57       829\n",
      "weighted avg       0.70      0.68      0.69       829\n",
      " CV AUC score: 0.6520826786088414\n",
      "\n",
      "Each Cross Validated AUC: \n",
      " [0.70165514 0.63293526 0.68782736 0.64466792 0.5933277 ]\n",
      "\n",
      "Overall Classifier AUC: 0.65 (+/- 0.08)\n",
      "\n"
     ]
    }
   ],
   "source": [
    "xgb2, report_xgb2 = xgb(new_X_train, X_test, new_y_train, y_test)"
   ]
  },
  {
   "cell_type": "code",
   "execution_count": 165,
   "metadata": {},
   "outputs": [],
   "source": [
    "models.append(xgb2)\n",
    "reports.append(report_xgb2)"
   ]
  },
  {
   "cell_type": "markdown",
   "metadata": {},
   "source": [
    "<div style=\"float:left\"><a href=\"#TOC\">Table of contents</a></div>\n",
    "<a name=\"c_imb_res\"></a>\n",
    "\n",
    "# 5. Correcting class imbalance with Sklearn resample"
   ]
  },
  {
   "cell_type": "code",
   "execution_count": 166,
   "metadata": {},
   "outputs": [],
   "source": [
    "training_set = X_train.copy()"
   ]
  },
  {
   "cell_type": "code",
   "execution_count": 167,
   "metadata": {},
   "outputs": [],
   "source": [
    "training_set['status'] = y_train"
   ]
  },
  {
   "cell_type": "code",
   "execution_count": 168,
   "metadata": {},
   "outputs": [],
   "source": [
    "training_set_0 = training_set.loc[training_set.status == 0]"
   ]
  },
  {
   "cell_type": "code",
   "execution_count": 170,
   "metadata": {},
   "outputs": [],
   "source": [
    "training_set_0_upsampled = resample(training_set_0, replace=True, n_samples=2000, random_state=113)"
   ]
  },
  {
   "cell_type": "code",
   "execution_count": 172,
   "metadata": {},
   "outputs": [],
   "source": [
    "y_training_set_0_upsampled = training_set_0_upsampled['status']\n",
    "X_training_set_0_upsampled = training_set_0_upsampled.drop('status', axis=1)"
   ]
  },
  {
   "cell_type": "code",
   "execution_count": 173,
   "metadata": {},
   "outputs": [],
   "source": [
    "new_X_train_upsampled = X_train.append(X_training_set_0_upsampled)\n",
    "new_y_train_upsampled = y_train.append(y_training_set_0_upsampled)"
   ]
  },
  {
   "cell_type": "code",
   "execution_count": 174,
   "metadata": {},
   "outputs": [],
   "source": [
    "new_X_train_upsampled = new_X_train_upsampled.reset_index(drop=True)\n",
    "new_y_train_upsampled = new_y_train_upsampled.reset_index(drop=True)"
   ]
  },
  {
   "cell_type": "markdown",
   "metadata": {},
   "source": [
    "<div style=\"float:left\"><a href=\"#TOC\">Table of contents</a></div>\n",
    "<a name=\"rf3\"></a>\n",
    "\n",
    "### Apply random forest"
   ]
  },
  {
   "cell_type": "code",
   "execution_count": 175,
   "metadata": {},
   "outputs": [
    {
     "name": "stdout",
     "output_type": "stream",
     "text": [
      "RandomForestClassifier(bootstrap=True, class_weight=None, criterion='gini',\n",
      "                       max_depth=None, max_features='auto', max_leaf_nodes=None,\n",
      "                       min_impurity_decrease=0.0, min_impurity_split=None,\n",
      "                       min_samples_leaf=1, min_samples_split=2,\n",
      "                       min_weight_fraction_leaf=0.0, n_estimators=100,\n",
      "                       n_jobs=None, oob_score=False, random_state=113,\n",
      "                       verbose=0, warm_start=False)\n",
      "Report:\n",
      "              precision    recall  f1-score   support\n",
      "\n",
      "           0       0.42      0.15      0.22       185\n",
      "           1       0.79      0.94      0.86       644\n",
      "\n",
      "    accuracy                           0.76       829\n",
      "   macro avg       0.61      0.54      0.54       829\n",
      "weighted avg       0.71      0.76      0.72       829\n",
      " CV AUC score: 0.6576383432851456\n",
      "\n",
      "Each Cross Validated AUC: \n",
      " [0.77100356 0.62623088 0.6292688  0.65252462 0.60916385]\n",
      "\n",
      "Overall Classifier AUC: 0.66 (+/- 0.12)\n",
      "\n"
     ]
    }
   ],
   "source": [
    "rf3, report_rf3 = rf(new_X_train_upsampled, X_test, new_y_train_upsampled, y_test)"
   ]
  },
  {
   "cell_type": "markdown",
   "metadata": {},
   "source": [
    "<div style=\"float:left\"><a href=\"#TOC\">Table of contents</a></div>\n",
    "<a name=\"gb3\"></a>\n",
    "\n",
    "### Gradient boosting"
   ]
  },
  {
   "cell_type": "code",
   "execution_count": 176,
   "metadata": {},
   "outputs": [
    {
     "name": "stdout",
     "output_type": "stream",
     "text": [
      "Report:\n",
      "              precision    recall  f1-score   support\n",
      "\n",
      "           0       0.31      0.46      0.37       185\n",
      "           1       0.82      0.70      0.76       644\n",
      "\n",
      "    accuracy                           0.65       829\n",
      "   macro avg       0.57      0.58      0.57       829\n",
      "weighted avg       0.71      0.65      0.67       829\n",
      " CV AUC score: 0.661460624869055\n",
      "\n",
      "Each Cross Validated AUC: \n",
      " [0.71778755 0.63984915 0.68238005 0.65221035 0.61507601]\n",
      "\n",
      "Overall Classifier AUC: 0.66 (+/- 0.07)\n",
      "\n"
     ]
    }
   ],
   "source": [
    "gb3, report_gb3 = gb(new_X_train_upsampled, X_test, new_y_train_upsampled, y_test)"
   ]
  },
  {
   "cell_type": "markdown",
   "metadata": {},
   "source": [
    "<div style=\"float:left\"><a href=\"#TOC\">Table of contents</a></div>\n",
    "<a name=\"xgb3\"></a>\n",
    "\n",
    "### XGBoost"
   ]
  },
  {
   "cell_type": "code",
   "execution_count": 177,
   "metadata": {},
   "outputs": [
    {
     "name": "stdout",
     "output_type": "stream",
     "text": [
      "Report:\n",
      "              precision    recall  f1-score   support\n",
      "\n",
      "           0       0.32      0.49      0.39       185\n",
      "           1       0.83      0.71      0.76       644\n",
      "\n",
      "    accuracy                           0.66       829\n",
      "   macro avg       0.58      0.60      0.58       829\n",
      "weighted avg       0.72      0.66      0.68       829\n",
      " CV AUC score: 0.6520826786088414\n",
      "\n",
      "Each Cross Validated AUC: \n",
      " [0.70165514 0.63293526 0.68782736 0.64466792 0.5933277 ]\n",
      "\n",
      "Overall Classifier AUC: 0.65 (+/- 0.08)\n",
      "\n"
     ]
    }
   ],
   "source": [
    "xgb3, report_xgb3 = xgb(new_X_train_upsampled, X_test, new_y_train_upsampled, y_test)"
   ]
  },
  {
   "cell_type": "markdown",
   "metadata": {},
   "source": [
    "<div style=\"float:left\"><a href=\"#TOC\">Table of contents</a></div>\n",
    "<a name=\"lr_res\"></a>\n",
    "\n",
    "### Logistic regression"
   ]
  },
  {
   "cell_type": "code",
   "execution_count": 178,
   "metadata": {},
   "outputs": [],
   "source": [
    "# Scaling\n",
    "#train set\n",
    "new_X_train_upsampled_scaled, ss3 = scale_columns(new_X_train_upsampled)\n",
    "new_X_test_upsampled_scaled, ss3 = scale_columns(X_test, ss3)"
   ]
  },
  {
   "cell_type": "code",
   "execution_count": 179,
   "metadata": {},
   "outputs": [
    {
     "name": "stdout",
     "output_type": "stream",
     "text": [
      "Report:\n",
      "              precision    recall  f1-score   support\n",
      "\n",
      "           0       0.34      0.65      0.44       185\n",
      "           1       0.86      0.63      0.73       644\n",
      "\n",
      "    accuracy                           0.63       829\n",
      "   macro avg       0.60      0.64      0.59       829\n",
      "weighted avg       0.75      0.63      0.66       829\n",
      " CV AUC score: 0.6257503142677561\n",
      "\n",
      "Each Cross Validated AUC: \n",
      " [0.63398282 0.67651372 0.67798031 0.58537607 0.55489865]\n",
      "\n",
      "Overall Classifier AUC: 0.63 (+/- 0.10)\n",
      "\n"
     ]
    }
   ],
   "source": [
    "lr4, report_lr4 = logireg(new_X_train_upsampled_scaled, new_X_test_upsampled_scaled, new_y_train_upsampled, y_test)"
   ]
  },
  {
   "cell_type": "code",
   "execution_count": 180,
   "metadata": {},
   "outputs": [],
   "source": [
    "models.append(rf3)\n",
    "models.append(gb3)\n",
    "models.append(xgb3)\n",
    "models.append(lr4)\n",
    "\n",
    "reports.append(report_rf3)\n",
    "reports.append(report_gb3)\n",
    "reports.append(report_xgb3)\n",
    "reports.append(report_lr4)"
   ]
  },
  {
   "cell_type": "markdown",
   "metadata": {},
   "source": [
    "<div style=\"float:left\"><a href=\"#TOC\">Table of contents</a></div>\n",
    "<a name=\"comparison\"></a>\n",
    "\n",
    "# 6. Models comparison"
   ]
  },
  {
   "cell_type": "code",
   "execution_count": 181,
   "metadata": {},
   "outputs": [],
   "source": [
    "df_reports = parse_reports(reports)"
   ]
  },
  {
   "cell_type": "code",
   "execution_count": 182,
   "metadata": {},
   "outputs": [],
   "source": [
    "df_reports['model'] = ['Logistic regression',\n",
    "                      'Logistic Regression limited features',\n",
    "                      'Random forest',\n",
    "                      'XGBoost',\n",
    "                      'Gradient boosting',\n",
    "                      'Random forest with data from rejected dataset',\n",
    "                      'Logistic regression with data from rejected dataset',\n",
    "                      'Gradient Boosting with data from rejected dataset',\n",
    "                      'XG Boost with data from rejected dataset',\n",
    "                      'Random forest with resampled data',\n",
    "                      'Gradient Boosting with resampled data',\n",
    "                      'XG Boost with resampled data',\n",
    "                      'Logistic regression with resampled data']"
   ]
  },
  {
   "cell_type": "code",
   "execution_count": 183,
   "metadata": {},
   "outputs": [
    {
     "data": {
      "text/html": [
       "<div>\n",
       "<style scoped>\n",
       "    .dataframe tbody tr th:only-of-type {\n",
       "        vertical-align: middle;\n",
       "    }\n",
       "\n",
       "    .dataframe tbody tr th {\n",
       "        vertical-align: top;\n",
       "    }\n",
       "\n",
       "    .dataframe thead th {\n",
       "        text-align: right;\n",
       "    }\n",
       "</style>\n",
       "<table border=\"1\" class=\"dataframe\">\n",
       "  <thead>\n",
       "    <tr style=\"text-align: right;\">\n",
       "      <th></th>\n",
       "      <th>0.0</th>\n",
       "      <th>1.0</th>\n",
       "      <th>accuracy</th>\n",
       "      <th>CV_AUC_score</th>\n",
       "      <th>model</th>\n",
       "    </tr>\n",
       "  </thead>\n",
       "  <tbody>\n",
       "    <tr>\n",
       "      <th>0</th>\n",
       "      <td>{'precision': 0.4, 'recall': 0.16, 'f1': 0.23}</td>\n",
       "      <td>{'precision': 0.79, 'recall': 0.93, 'f1': 0.86}</td>\n",
       "      <td>0.76</td>\n",
       "      <td>0.621305</td>\n",
       "      <td>Logistic regression</td>\n",
       "    </tr>\n",
       "    <tr>\n",
       "      <th>1</th>\n",
       "      <td>{'precision': 0.4, 'recall': 0.12, 'f1': 0.19}</td>\n",
       "      <td>{'precision': 0.79, 'recall': 0.95, 'f1': 0.86}</td>\n",
       "      <td>0.76</td>\n",
       "      <td>0.635218</td>\n",
       "      <td>Logistic Regression limited features</td>\n",
       "    </tr>\n",
       "    <tr>\n",
       "      <th>2</th>\n",
       "      <td>{'precision': 0.57, 'recall': 0.04, 'f1': 0.08}</td>\n",
       "      <td>{'precision': 0.78, 'recall': 0.99, 'f1': 0.87}</td>\n",
       "      <td>0.78</td>\n",
       "      <td>0.657638</td>\n",
       "      <td>Random forest</td>\n",
       "    </tr>\n",
       "    <tr>\n",
       "      <th>3</th>\n",
       "      <td>{'precision': 0.47, 'recall': 0.05, 'f1': 0.09}</td>\n",
       "      <td>{'precision': 0.78, 'recall': 0.98, 'f1': 0.87}</td>\n",
       "      <td>0.78</td>\n",
       "      <td>0.652083</td>\n",
       "      <td>XGBoost</td>\n",
       "    </tr>\n",
       "    <tr>\n",
       "      <th>4</th>\n",
       "      <td>{'precision': 0.43, 'recall': 0.03, 'f1': 0.06}</td>\n",
       "      <td>{'precision': 0.78, 'recall': 0.99, 'f1': 0.87}</td>\n",
       "      <td>0.77</td>\n",
       "      <td>0.661461</td>\n",
       "      <td>Gradient boosting</td>\n",
       "    </tr>\n",
       "    <tr>\n",
       "      <th>5</th>\n",
       "      <td>{'precision': 0.33, 'recall': 0.44, 'f1': 0.38}</td>\n",
       "      <td>{'precision': 0.82, 'recall': 0.74, 'f1': 0.78}</td>\n",
       "      <td>0.68</td>\n",
       "      <td>0.657638</td>\n",
       "      <td>Random forest with data from rejected dataset</td>\n",
       "    </tr>\n",
       "    <tr>\n",
       "      <th>6</th>\n",
       "      <td>{'precision': 0.3, 'recall': 0.44, 'f1': 0.35}</td>\n",
       "      <td>{'precision': 0.81, 'recall': 0.7, 'f1': 0.75}</td>\n",
       "      <td>0.64</td>\n",
       "      <td>0.622135</td>\n",
       "      <td>Logistic regression with data from rejected da...</td>\n",
       "    </tr>\n",
       "    <tr>\n",
       "      <th>7</th>\n",
       "      <td>{'precision': 0.32, 'recall': 0.37, 'f1': 0.34}</td>\n",
       "      <td>{'precision': 0.81, 'recall': 0.77, 'f1': 0.79}</td>\n",
       "      <td>0.68</td>\n",
       "      <td>0.661461</td>\n",
       "      <td>Gradient Boosting with data from rejected dataset</td>\n",
       "    </tr>\n",
       "    <tr>\n",
       "      <th>8</th>\n",
       "      <td>{'precision': 0.32, 'recall': 0.39, 'f1': 0.35}</td>\n",
       "      <td>{'precision': 0.81, 'recall': 0.76, 'f1': 0.78}</td>\n",
       "      <td>0.68</td>\n",
       "      <td>0.652083</td>\n",
       "      <td>XG Boost with data from rejected dataset</td>\n",
       "    </tr>\n",
       "    <tr>\n",
       "      <th>9</th>\n",
       "      <td>{'precision': 0.42, 'recall': 0.15, 'f1': 0.22}</td>\n",
       "      <td>{'precision': 0.79, 'recall': 0.94, 'f1': 0.86}</td>\n",
       "      <td>0.76</td>\n",
       "      <td>0.657638</td>\n",
       "      <td>Random forest with resampled data</td>\n",
       "    </tr>\n",
       "    <tr>\n",
       "      <th>10</th>\n",
       "      <td>{'precision': 0.31, 'recall': 0.46, 'f1': 0.37}</td>\n",
       "      <td>{'precision': 0.82, 'recall': 0.7, 'f1': 0.76}</td>\n",
       "      <td>0.65</td>\n",
       "      <td>0.661461</td>\n",
       "      <td>Gradient Boosting with resampled data</td>\n",
       "    </tr>\n",
       "    <tr>\n",
       "      <th>11</th>\n",
       "      <td>{'precision': 0.32, 'recall': 0.49, 'f1': 0.39}</td>\n",
       "      <td>{'precision': 0.83, 'recall': 0.71, 'f1': 0.76}</td>\n",
       "      <td>0.66</td>\n",
       "      <td>0.652083</td>\n",
       "      <td>XG Boost with resampled data</td>\n",
       "    </tr>\n",
       "    <tr>\n",
       "      <th>12</th>\n",
       "      <td>{'precision': 0.34, 'recall': 0.65, 'f1': 0.44}</td>\n",
       "      <td>{'precision': 0.86, 'recall': 0.63, 'f1': 0.73}</td>\n",
       "      <td>0.63</td>\n",
       "      <td>0.625750</td>\n",
       "      <td>Logistic regression with resampled data</td>\n",
       "    </tr>\n",
       "  </tbody>\n",
       "</table>\n",
       "</div>"
      ],
      "text/plain": [
       "                                                0.0  \\\n",
       "0    {'precision': 0.4, 'recall': 0.16, 'f1': 0.23}   \n",
       "1    {'precision': 0.4, 'recall': 0.12, 'f1': 0.19}   \n",
       "2   {'precision': 0.57, 'recall': 0.04, 'f1': 0.08}   \n",
       "3   {'precision': 0.47, 'recall': 0.05, 'f1': 0.09}   \n",
       "4   {'precision': 0.43, 'recall': 0.03, 'f1': 0.06}   \n",
       "5   {'precision': 0.33, 'recall': 0.44, 'f1': 0.38}   \n",
       "6    {'precision': 0.3, 'recall': 0.44, 'f1': 0.35}   \n",
       "7   {'precision': 0.32, 'recall': 0.37, 'f1': 0.34}   \n",
       "8   {'precision': 0.32, 'recall': 0.39, 'f1': 0.35}   \n",
       "9   {'precision': 0.42, 'recall': 0.15, 'f1': 0.22}   \n",
       "10  {'precision': 0.31, 'recall': 0.46, 'f1': 0.37}   \n",
       "11  {'precision': 0.32, 'recall': 0.49, 'f1': 0.39}   \n",
       "12  {'precision': 0.34, 'recall': 0.65, 'f1': 0.44}   \n",
       "\n",
       "                                                1.0  accuracy  CV_AUC_score  \\\n",
       "0   {'precision': 0.79, 'recall': 0.93, 'f1': 0.86}      0.76      0.621305   \n",
       "1   {'precision': 0.79, 'recall': 0.95, 'f1': 0.86}      0.76      0.635218   \n",
       "2   {'precision': 0.78, 'recall': 0.99, 'f1': 0.87}      0.78      0.657638   \n",
       "3   {'precision': 0.78, 'recall': 0.98, 'f1': 0.87}      0.78      0.652083   \n",
       "4   {'precision': 0.78, 'recall': 0.99, 'f1': 0.87}      0.77      0.661461   \n",
       "5   {'precision': 0.82, 'recall': 0.74, 'f1': 0.78}      0.68      0.657638   \n",
       "6    {'precision': 0.81, 'recall': 0.7, 'f1': 0.75}      0.64      0.622135   \n",
       "7   {'precision': 0.81, 'recall': 0.77, 'f1': 0.79}      0.68      0.661461   \n",
       "8   {'precision': 0.81, 'recall': 0.76, 'f1': 0.78}      0.68      0.652083   \n",
       "9   {'precision': 0.79, 'recall': 0.94, 'f1': 0.86}      0.76      0.657638   \n",
       "10   {'precision': 0.82, 'recall': 0.7, 'f1': 0.76}      0.65      0.661461   \n",
       "11  {'precision': 0.83, 'recall': 0.71, 'f1': 0.76}      0.66      0.652083   \n",
       "12  {'precision': 0.86, 'recall': 0.63, 'f1': 0.73}      0.63      0.625750   \n",
       "\n",
       "                                                model  \n",
       "0                                 Logistic regression  \n",
       "1                Logistic Regression limited features  \n",
       "2                                       Random forest  \n",
       "3                                             XGBoost  \n",
       "4                                   Gradient boosting  \n",
       "5       Random forest with data from rejected dataset  \n",
       "6   Logistic regression with data from rejected da...  \n",
       "7   Gradient Boosting with data from rejected dataset  \n",
       "8            XG Boost with data from rejected dataset  \n",
       "9                   Random forest with resampled data  \n",
       "10              Gradient Boosting with resampled data  \n",
       "11                       XG Boost with resampled data  \n",
       "12            Logistic regression with resampled data  "
      ]
     },
     "execution_count": 183,
     "metadata": {},
     "output_type": "execute_result"
    }
   ],
   "source": [
    "df_reports"
   ]
  },
  {
   "cell_type": "markdown",
   "metadata": {},
   "source": [
    "Conclusion:\n",
    "\n",
    "Baseline AUC was 0.5\n",
    "\n",
    "The models have quite similar AUC score, which in this case is the most important metric. Desicion tree based models have slightly better AUC, but they tend to overfit and are not calibrated as is logistic regression. For this reason the selected model has to be a logistic regression one. \n",
    "\n",
    "There are several logistic regression models. The ones with blanced classes seem to have better balanced predictive power for classes 0 and 1. There is no much difference betweer logistic regression upsampled from rejected daraset and the one upsampled using sklearn resample. I selected the last logistic regression upsampled with sklearn resample as a final model."
   ]
  },
  {
   "cell_type": "code",
   "execution_count": 184,
   "metadata": {},
   "outputs": [],
   "source": [
    "#pickle model\n",
    "filename = 'lr_model.sav'\n",
    "pickle.dump(lr4, open(filename, 'wb'))\n",
    "\n",
    "#pickle standard scaler\n",
    "filename = 'scaler.pkl'\n",
    "pickle.dump(ss3, open(filename, 'wb'))"
   ]
  },
  {
   "cell_type": "markdown",
   "metadata": {},
   "source": [
    "<div style=\"float:left\"><a href=\"#TOC\">Table of contents</a></div>\n",
    "<a name=\"explore\"></a>\n",
    "\n",
    "# 7. Further exploration of the selected Logistic Regression model (lr4)"
   ]
  },
  {
   "cell_type": "markdown",
   "metadata": {},
   "source": [
    "<div style=\"float:left\"><a href=\"#TOC\">Table of contents</a></div>\n",
    "<a name=\"metrics\"></a>\n",
    "\n",
    "### Cross-validated log loss and AUC"
   ]
  },
  {
   "cell_type": "code",
   "execution_count": 185,
   "metadata": {},
   "outputs": [
    {
     "name": "stdout",
     "output_type": "stream",
     "text": [
      "Cross-validated log loss:  -0.5735120475103352\n"
     ]
    }
   ],
   "source": [
    "cv_log_loss = cross_val_score(lr4, new_X_test_upsampled_scaled, y_test, cv=5, scoring='neg_log_loss')\n",
    "print('Cross-validated log loss: ', cv_log_loss.mean())"
   ]
  },
  {
   "cell_type": "code",
   "execution_count": 186,
   "metadata": {},
   "outputs": [
    {
     "name": "stdout",
     "output_type": "stream",
     "text": [
      "Average probability of labeling the class correctly:  -0.6348782724359695\n"
     ]
    }
   ],
   "source": [
    "#interpretation: on average, the probability attributed to the right class across samples 𝑝≈0.63 \n",
    "print('Average probability of labeling the class correctly: ', np.log(0.53))"
   ]
  },
  {
   "cell_type": "code",
   "execution_count": 187,
   "metadata": {},
   "outputs": [
    {
     "name": "stdout",
     "output_type": "stream",
     "text": [
      "Cross-validated AUC score:  0.6257503142677561\n"
     ]
    }
   ],
   "source": [
    "cv_roc_auc = cross_val_score(lr4, new_X_test_upsampled_scaled, y_test, cv=5, scoring='roc_auc')\n",
    "print('Cross-validated AUC score: ', cv_roc_auc.mean())"
   ]
  },
  {
   "cell_type": "markdown",
   "metadata": {},
   "source": [
    "<div style=\"float:left\"><a href=\"#TOC\">Table of contents</a></div>\n",
    "<a name=\"thres_val\"></a>\n",
    "\n",
    "### Threshold variation"
   ]
  },
  {
   "cell_type": "code",
   "execution_count": 249,
   "metadata": {},
   "outputs": [
    {
     "name": "stdout",
     "output_type": "stream",
     "text": [
      "              precision    recall  f1-score   support\n",
      "\n",
      "           0       0.24      0.98      0.38       185\n",
      "           1       0.93      0.09      0.16       644\n",
      "\n",
      "    accuracy                           0.28       829\n",
      "   macro avg       0.58      0.53      0.27       829\n",
      "weighted avg       0.78      0.28      0.21       829\n",
      "\n"
     ]
    }
   ],
   "source": [
    "#this function allows to see predictions metrics with different thresholds for 0 class\n",
    "res = predict_probability_and_class(lr4, new_X_test_upsampled_scaled, y_test, 0.20)"
   ]
  },
  {
   "cell_type": "code",
   "execution_count": 189,
   "metadata": {},
   "outputs": [
    {
     "data": {
      "text/html": [
       "<div>\n",
       "<style scoped>\n",
       "    .dataframe tbody tr th:only-of-type {\n",
       "        vertical-align: middle;\n",
       "    }\n",
       "\n",
       "    .dataframe tbody tr th {\n",
       "        vertical-align: top;\n",
       "    }\n",
       "\n",
       "    .dataframe thead th {\n",
       "        text-align: right;\n",
       "    }\n",
       "</style>\n",
       "<table border=\"1\" class=\"dataframe\">\n",
       "  <thead>\n",
       "    <tr style=\"text-align: right;\">\n",
       "      <th></th>\n",
       "      <th>status</th>\n",
       "      <th>0</th>\n",
       "      <th>1</th>\n",
       "      <th>pred_status</th>\n",
       "    </tr>\n",
       "  </thead>\n",
       "  <tbody>\n",
       "    <tr>\n",
       "      <th>0</th>\n",
       "      <td>0</td>\n",
       "      <td>0.467625</td>\n",
       "      <td>0.532375</td>\n",
       "      <td>0</td>\n",
       "    </tr>\n",
       "    <tr>\n",
       "      <th>1</th>\n",
       "      <td>1</td>\n",
       "      <td>0.430367</td>\n",
       "      <td>0.569633</td>\n",
       "      <td>0</td>\n",
       "    </tr>\n",
       "    <tr>\n",
       "      <th>2</th>\n",
       "      <td>1</td>\n",
       "      <td>0.498650</td>\n",
       "      <td>0.501350</td>\n",
       "      <td>0</td>\n",
       "    </tr>\n",
       "    <tr>\n",
       "      <th>3</th>\n",
       "      <td>1</td>\n",
       "      <td>0.546685</td>\n",
       "      <td>0.453315</td>\n",
       "      <td>0</td>\n",
       "    </tr>\n",
       "    <tr>\n",
       "      <th>4</th>\n",
       "      <td>1</td>\n",
       "      <td>0.790720</td>\n",
       "      <td>0.209280</td>\n",
       "      <td>0</td>\n",
       "    </tr>\n",
       "  </tbody>\n",
       "</table>\n",
       "</div>"
      ],
      "text/plain": [
       "   status         0         1  pred_status\n",
       "0       0  0.467625  0.532375            0\n",
       "1       1  0.430367  0.569633            0\n",
       "2       1  0.498650  0.501350            0\n",
       "3       1  0.546685  0.453315            0\n",
       "4       1  0.790720  0.209280            0"
      ]
     },
     "execution_count": 189,
     "metadata": {},
     "output_type": "execute_result"
    }
   ],
   "source": [
    "res.head()"
   ]
  },
  {
   "cell_type": "markdown",
   "metadata": {},
   "source": [
    "<div style=\"float:left\"><a href=\"#TOC\">Table of contents</a></div>\n",
    "<a name=\"roc_vis\"></a>\n",
    "\n",
    "### ROC-AUC visualization"
   ]
  },
  {
   "cell_type": "code",
   "execution_count": 190,
   "metadata": {},
   "outputs": [
    {
     "data": {
      "image/png": "[encoded data removed]",
      "text/plain": [
       "<Figure size 720x720 with 1 Axes>"
      ]
     },
     "metadata": {},
     "output_type": "display_data"
    },
    {
     "data": {
      "text/plain": [
       "<Figure size 1152x1152 with 0 Axes>"
      ]
     },
     "metadata": {},
     "output_type": "display_data"
    }
   ],
   "source": [
    "y_true = res['status']\n",
    "y_probas = lr4.predict_proba(new_X_test_upsampled_scaled)\n",
    "skplt.metrics.plot_roc(y_true, y_probas, figsize=(10,10))\n",
    "plt.show();\n",
    "plt.savefig('graphs/roc_auc.png')"
   ]
  },
  {
   "cell_type": "markdown",
   "metadata": {},
   "source": [
    "<div style=\"float:left\"><a href=\"#TOC\">Table of contents</a></div>\n",
    "<a name=\"coef\"></a>\n",
    "\n",
    "### Model's coefficients"
   ]
  },
  {
   "cell_type": "code",
   "execution_count": 191,
   "metadata": {},
   "outputs": [],
   "source": [
    "features = get_df_coef(lr4, new_X_test_upsampled_scaled)"
   ]
  },
  {
   "cell_type": "code",
   "execution_count": 192,
   "metadata": {},
   "outputs": [
    {
     "data": {
      "text/html": [
       "<div>\n",
       "<style scoped>\n",
       "    .dataframe tbody tr th:only-of-type {\n",
       "        vertical-align: middle;\n",
       "    }\n",
       "\n",
       "    .dataframe tbody tr th {\n",
       "        vertical-align: top;\n",
       "    }\n",
       "\n",
       "    .dataframe thead th {\n",
       "        text-align: right;\n",
       "    }\n",
       "</style>\n",
       "<table border=\"1\" class=\"dataframe\">\n",
       "  <thead>\n",
       "    <tr style=\"text-align: right;\">\n",
       "      <th></th>\n",
       "      <th>name</th>\n",
       "      <th>coef</th>\n",
       "      <th>abs_coef</th>\n",
       "    </tr>\n",
       "  </thead>\n",
       "  <tbody>\n",
       "    <tr>\n",
       "      <th>13</th>\n",
       "      <td>overdraft_transactions</td>\n",
       "      <td>-0.001101</td>\n",
       "      <td>0.001101</td>\n",
       "    </tr>\n",
       "    <tr>\n",
       "      <th>23</th>\n",
       "      <td>title_loan</td>\n",
       "      <td>0.016818</td>\n",
       "      <td>0.016818</td>\n",
       "    </tr>\n",
       "    <tr>\n",
       "      <th>11</th>\n",
       "      <td>days_until_next_payroll</td>\n",
       "      <td>0.019830</td>\n",
       "      <td>0.019830</td>\n",
       "    </tr>\n",
       "    <tr>\n",
       "      <th>7</th>\n",
       "      <td>income_length</td>\n",
       "      <td>0.021374</td>\n",
       "      <td>0.021374</td>\n",
       "    </tr>\n",
       "    <tr>\n",
       "      <th>16</th>\n",
       "      <td>reverse_transactions</td>\n",
       "      <td>-0.022118</td>\n",
       "      <td>0.022118</td>\n",
       "    </tr>\n",
       "    <tr>\n",
       "      <th>4</th>\n",
       "      <td>government_aid_weekly_income</td>\n",
       "      <td>0.029202</td>\n",
       "      <td>0.029202</td>\n",
       "    </tr>\n",
       "    <tr>\n",
       "      <th>14</th>\n",
       "      <td>nsf_transactions</td>\n",
       "      <td>-0.032830</td>\n",
       "      <td>0.032830</td>\n",
       "    </tr>\n",
       "    <tr>\n",
       "      <th>6</th>\n",
       "      <td>large_deposits_weekly_income</td>\n",
       "      <td>-0.038264</td>\n",
       "      <td>0.038264</td>\n",
       "    </tr>\n",
       "    <tr>\n",
       "      <th>2</th>\n",
       "      <td>atm_check_deposits_weekly_income</td>\n",
       "      <td>0.045153</td>\n",
       "      <td>0.045153</td>\n",
       "    </tr>\n",
       "    <tr>\n",
       "      <th>5</th>\n",
       "      <td>frequency_heuristic_weekly_income</td>\n",
       "      <td>0.050154</td>\n",
       "      <td>0.050154</td>\n",
       "    </tr>\n",
       "    <tr>\n",
       "      <th>28</th>\n",
       "      <td>traditional_single_payment_trend</td>\n",
       "      <td>0.061396</td>\n",
       "      <td>0.061396</td>\n",
       "    </tr>\n",
       "    <tr>\n",
       "      <th>10</th>\n",
       "      <td>days_since_most_recent_payroll</td>\n",
       "      <td>0.061933</td>\n",
       "      <td>0.061933</td>\n",
       "    </tr>\n",
       "    <tr>\n",
       "      <th>25</th>\n",
       "      <td>total_loan_payments</td>\n",
       "      <td>0.069569</td>\n",
       "      <td>0.069569</td>\n",
       "    </tr>\n",
       "    <tr>\n",
       "      <th>1</th>\n",
       "      <td>gig_economy_weekly_income</td>\n",
       "      <td>0.078553</td>\n",
       "      <td>0.078553</td>\n",
       "    </tr>\n",
       "    <tr>\n",
       "      <th>17</th>\n",
       "      <td>mortgage</td>\n",
       "      <td>0.099125</td>\n",
       "      <td>0.099125</td>\n",
       "    </tr>\n",
       "    <tr>\n",
       "      <th>24</th>\n",
       "      <td>pay_advances</td>\n",
       "      <td>0.099992</td>\n",
       "      <td>0.099992</td>\n",
       "    </tr>\n",
       "    <tr>\n",
       "      <th>3</th>\n",
       "      <td>direct_deposit_weekly_income</td>\n",
       "      <td>0.114921</td>\n",
       "      <td>0.114921</td>\n",
       "    </tr>\n",
       "    <tr>\n",
       "      <th>8</th>\n",
       "      <td>payrolls_per_month</td>\n",
       "      <td>-0.116787</td>\n",
       "      <td>0.116787</td>\n",
       "    </tr>\n",
       "    <tr>\n",
       "      <th>9</th>\n",
       "      <td>income_sources</td>\n",
       "      <td>0.122759</td>\n",
       "      <td>0.122759</td>\n",
       "    </tr>\n",
       "    <tr>\n",
       "      <th>20</th>\n",
       "      <td>traditional_single_payment</td>\n",
       "      <td>-0.123672</td>\n",
       "      <td>0.123672</td>\n",
       "    </tr>\n",
       "    <tr>\n",
       "      <th>18</th>\n",
       "      <td>auto_loan</td>\n",
       "      <td>0.124470</td>\n",
       "      <td>0.124470</td>\n",
       "    </tr>\n",
       "    <tr>\n",
       "      <th>0</th>\n",
       "      <td>monthly_income</td>\n",
       "      <td>0.125480</td>\n",
       "      <td>0.125480</td>\n",
       "    </tr>\n",
       "    <tr>\n",
       "      <th>22</th>\n",
       "      <td>predatory_installment_loan</td>\n",
       "      <td>-0.127339</td>\n",
       "      <td>0.127339</td>\n",
       "    </tr>\n",
       "    <tr>\n",
       "      <th>21</th>\n",
       "      <td>installment_loan</td>\n",
       "      <td>0.129285</td>\n",
       "      <td>0.129285</td>\n",
       "    </tr>\n",
       "    <tr>\n",
       "      <th>15</th>\n",
       "      <td>return_transactions</td>\n",
       "      <td>-0.139818</td>\n",
       "      <td>0.139818</td>\n",
       "    </tr>\n",
       "    <tr>\n",
       "      <th>29</th>\n",
       "      <td>loan_requested</td>\n",
       "      <td>-0.220692</td>\n",
       "      <td>0.220692</td>\n",
       "    </tr>\n",
       "    <tr>\n",
       "      <th>27</th>\n",
       "      <td>traditional_single_payment_mean</td>\n",
       "      <td>0.225526</td>\n",
       "      <td>0.225526</td>\n",
       "    </tr>\n",
       "    <tr>\n",
       "      <th>26</th>\n",
       "      <td>no_of_other_active_loans</td>\n",
       "      <td>-0.261785</td>\n",
       "      <td>0.261785</td>\n",
       "    </tr>\n",
       "    <tr>\n",
       "      <th>30</th>\n",
       "      <td>state_\"ID\"</td>\n",
       "      <td>-0.272510</td>\n",
       "      <td>0.272510</td>\n",
       "    </tr>\n",
       "    <tr>\n",
       "      <th>32</th>\n",
       "      <td>state_\"WA\"</td>\n",
       "      <td>0.315252</td>\n",
       "      <td>0.315252</td>\n",
       "    </tr>\n",
       "    <tr>\n",
       "      <th>19</th>\n",
       "      <td>student_loan</td>\n",
       "      <td>0.329505</td>\n",
       "      <td>0.329505</td>\n",
       "    </tr>\n",
       "    <tr>\n",
       "      <th>31</th>\n",
       "      <td>state_\"UT\"</td>\n",
       "      <td>-0.415632</td>\n",
       "      <td>0.415632</td>\n",
       "    </tr>\n",
       "    <tr>\n",
       "      <th>12</th>\n",
       "      <td>bank_balance</td>\n",
       "      <td>1.260006</td>\n",
       "      <td>1.260006</td>\n",
       "    </tr>\n",
       "  </tbody>\n",
       "</table>\n",
       "</div>"
      ],
      "text/plain": [
       "                                 name      coef  abs_coef\n",
       "13             overdraft_transactions -0.001101  0.001101\n",
       "23                         title_loan  0.016818  0.016818\n",
       "11            days_until_next_payroll  0.019830  0.019830\n",
       "7                       income_length  0.021374  0.021374\n",
       "16               reverse_transactions -0.022118  0.022118\n",
       "4        government_aid_weekly_income  0.029202  0.029202\n",
       "14                   nsf_transactions -0.032830  0.032830\n",
       "6        large_deposits_weekly_income -0.038264  0.038264\n",
       "2    atm_check_deposits_weekly_income  0.045153  0.045153\n",
       "5   frequency_heuristic_weekly_income  0.050154  0.050154\n",
       "28   traditional_single_payment_trend  0.061396  0.061396\n",
       "10     days_since_most_recent_payroll  0.061933  0.061933\n",
       "25                total_loan_payments  0.069569  0.069569\n",
       "1           gig_economy_weekly_income  0.078553  0.078553\n",
       "17                           mortgage  0.099125  0.099125\n",
       "24                       pay_advances  0.099992  0.099992\n",
       "3        direct_deposit_weekly_income  0.114921  0.114921\n",
       "8                  payrolls_per_month -0.116787  0.116787\n",
       "9                      income_sources  0.122759  0.122759\n",
       "20         traditional_single_payment -0.123672  0.123672\n",
       "18                          auto_loan  0.124470  0.124470\n",
       "0                      monthly_income  0.125480  0.125480\n",
       "22         predatory_installment_loan -0.127339  0.127339\n",
       "21                   installment_loan  0.129285  0.129285\n",
       "15                return_transactions -0.139818  0.139818\n",
       "29                     loan_requested -0.220692  0.220692\n",
       "27    traditional_single_payment_mean  0.225526  0.225526\n",
       "26           no_of_other_active_loans -0.261785  0.261785\n",
       "30                         state_\"ID\" -0.272510  0.272510\n",
       "32                         state_\"WA\"  0.315252  0.315252\n",
       "19                       student_loan  0.329505  0.329505\n",
       "31                         state_\"UT\" -0.415632  0.415632\n",
       "12                       bank_balance  1.260006  1.260006"
      ]
     },
     "execution_count": 192,
     "metadata": {},
     "output_type": "execute_result"
    }
   ],
   "source": [
    "features"
   ]
  },
  {
   "cell_type": "markdown",
   "metadata": {},
   "source": [
    "<div style=\"float:left\"><a href=\"#TOC\">Table of contents</a></div>\n",
    "<a name=\"pred\"></a>\n",
    "\n",
    "# 8. Making predictions with lr4 model"
   ]
  },
  {
   "cell_type": "code",
   "execution_count": 193,
   "metadata": {},
   "outputs": [],
   "source": [
    "test_application = (0, 0, 0, 0, 0, 0, 0, 0, 0, 2, 3, 20, 1000, 5, 0, 1, 0, 1, 500, 100, 300,\n",
    "                    3, 100, 0, 300, 2000, 4, 1, 1, 500, 0, 0, 0)"
   ]
  },
  {
   "cell_type": "code",
   "execution_count": 194,
   "metadata": {},
   "outputs": [],
   "source": [
    "with open('lr_model.sav', 'rb') as f:\n",
    "    model = pickle.load(f)\n",
    "\n",
    "with open('scaler.pkl', 'rb') as f:\n",
    "    scaler = pickle.load(f)"
   ]
  },
  {
   "cell_type": "code",
   "execution_count": 195,
   "metadata": {},
   "outputs": [
    {
     "name": "stdout",
     "output_type": "stream",
     "text": [
      "[[0.06250378 0.93749622]]\n"
     ]
    }
   ],
   "source": [
    "prediction = predict_p(test_application, model, scaler)\n",
    "print(prediction)"
   ]
  },
  {
   "cell_type": "markdown",
   "metadata": {},
   "source": [
    "<div style=\"float:left\"><a href=\"#TOC\">Table of contents</a></div>\n",
    "<a name=\"check_calib\"></a>\n",
    "\n",
    "# 9. Checking lr4 model's calibation"
   ]
  },
  {
   "cell_type": "markdown",
   "metadata": {},
   "source": [
    "<div style=\"float:left\"><a href=\"#TOC\">Table of contents</a></div>\n",
    "<a name=\"calib\"></a>\n",
    "\n",
    "### Check model's calibration of training and testing set"
   ]
  },
  {
   "cell_type": "code",
   "execution_count": 196,
   "metadata": {},
   "outputs": [
    {
     "name": "stdout",
     "output_type": "stream",
     "text": [
      "              precision    recall  f1-score   support\n",
      "\n",
      "           0       0.23      0.92      0.37       185\n",
      "           1       0.85      0.12      0.21       644\n",
      "\n",
      "    accuracy                           0.30       829\n",
      "   macro avg       0.54      0.52      0.29       829\n",
      "weighted avg       0.71      0.30      0.25       829\n",
      "\n"
     ]
    },
    {
     "data": {
      "text/plain": [
       "[(0.96, '0 - 0.1', 25),\n",
       " (0.9117647058823529, '0.1 - 0.2', 34),\n",
       " (0.8, '0.2 - 0.3', 70),\n",
       " (0.8984375, '0.3 -0.4', 128),\n",
       " (0.8443396226415094, '0.4 - 0.5', 212),\n",
       " (0.7452830188679245, '0.5 - 0,6', 212),\n",
       " (0.5757575757575758, '0.6 - 0.7', 99),\n",
       " (0.5238095238095238, '0.7 - 0.8', 42),\n",
       " (0.16666666666666666, '0.8 - 0.9', 6),\n",
       " (1.0, '0.9 - 1', 1)]"
      ]
     },
     "execution_count": 196,
     "metadata": {},
     "output_type": "execute_result"
    }
   ],
   "source": [
    "#check calibration of the test set\n",
    "res = predict_probability_and_class(lr4, new_X_test_upsampled_scaled, y_test, 0.25)\n",
    "check_calibration(res)"
   ]
  },
  {
   "cell_type": "code",
   "execution_count": 197,
   "metadata": {},
   "outputs": [
    {
     "name": "stdout",
     "output_type": "stream",
     "text": [
      "              precision    recall  f1-score   support\n",
      "\n",
      "           0       0.53      0.97      0.68      2642\n",
      "           1       0.83      0.13      0.23      2671\n",
      "\n",
      "    accuracy                           0.55      5313\n",
      "   macro avg       0.68      0.55      0.46      5313\n",
      "weighted avg       0.68      0.55      0.45      5313\n",
      "\n"
     ]
    },
    {
     "data": {
      "text/plain": [
       "[(0.9552238805970149, '0 - 0.1', 134),\n",
       " (0.8164556962025317, '0.1 - 0.2', 158),\n",
       " (0.7138047138047138, '0.2 - 0.3', 297),\n",
       " (0.6635514018691588, '0.3 -0.4', 642),\n",
       " (0.5443037974683544, '0.4 - 0.5', 1343),\n",
       " (0.4416382252559727, '0.5 - 0,6', 1465),\n",
       " (0.35903614457831323, '0.6 - 0.7', 830),\n",
       " (0.2443820224719101, '0.7 - 0.8', 356),\n",
       " (0.15789473684210525, '0.8 - 0.9', 76),\n",
       " (0.08333333333333333, '0.9 - 1', 12)]"
      ]
     },
     "execution_count": 197,
     "metadata": {},
     "output_type": "execute_result"
    }
   ],
   "source": [
    "#check calibration on train test:\n",
    "res = predict_probability_and_class(lr4, new_X_train_upsampled_scaled, new_y_train_upsampled, 0.25)\n",
    "check_calibration(res)"
   ]
  },
  {
   "cell_type": "markdown",
   "metadata": {},
   "source": [
    "<div style=\"float:left\"><a href=\"#TOC\">Table of contents</a></div>\n",
    "<a name=\"cv_calib\"></a>\n",
    "\n",
    "### Cross-validate calibration of lr4 model"
   ]
  },
  {
   "cell_type": "code",
   "execution_count": 246,
   "metadata": {},
   "outputs": [
    {
     "name": "stdout",
     "output_type": "stream",
     "text": [
      "              precision    recall  f1-score   support\n",
      "\n",
      "           0       0.22      0.96      0.36       250\n",
      "           1       0.92      0.12      0.21       979\n",
      "\n",
      "    accuracy                           0.29      1229\n",
      "   macro avg       0.57      0.54      0.28      1229\n",
      "weighted avg       0.78      0.29      0.24      1229\n",
      "\n",
      "              precision    recall  f1-score   support\n",
      "\n",
      "           0       0.20      0.98      0.34       227\n",
      "           1       0.96      0.13      0.24      1002\n",
      "\n",
      "    accuracy                           0.29      1229\n",
      "   macro avg       0.58      0.56      0.29      1229\n",
      "weighted avg       0.82      0.29      0.26      1229\n",
      "\n",
      "              precision    recall  f1-score   support\n",
      "\n",
      "           0       0.47      0.96      0.63       538\n",
      "           1       0.82      0.14      0.24       690\n",
      "\n",
      "    accuracy                           0.50      1228\n",
      "   macro avg       0.64      0.55      0.43      1228\n",
      "weighted avg       0.66      0.50      0.41      1228\n",
      "\n"
     ]
    },
    {
     "name": "stderr",
     "output_type": "stream",
     "text": [
      "/anaconda3/lib/python3.7/site-packages/sklearn/metrics/classification.py:1439: UndefinedMetricWarning: Recall and F-score are ill-defined and being set to 0.0 in labels with no true samples.\n",
      "  'recall', 'true', average, warn_for)\n",
      "/anaconda3/lib/python3.7/site-packages/sklearn/metrics/classification.py:1439: UndefinedMetricWarning: Recall and F-score are ill-defined and being set to 0.0 in labels with no true samples.\n",
      "  'recall', 'true', average, warn_for)\n",
      "/anaconda3/lib/python3.7/site-packages/sklearn/metrics/classification.py:1439: UndefinedMetricWarning: Recall and F-score are ill-defined and being set to 0.0 in labels with no true samples.\n",
      "  'recall', 'true', average, warn_for)\n"
     ]
    },
    {
     "name": "stdout",
     "output_type": "stream",
     "text": [
      "              precision    recall  f1-score   support\n",
      "\n",
      "           0       1.00      0.86      0.92      1228\n",
      "           1       0.00      0.00      0.00         0\n",
      "\n",
      "    accuracy                           0.86      1228\n",
      "   macro avg       0.50      0.43      0.46      1228\n",
      "weighted avg       1.00      0.86      0.92      1228\n",
      "\n",
      "              precision    recall  f1-score   support\n",
      "\n",
      "           0       0.50      0.96      0.66       584\n",
      "           1       0.78      0.14      0.23       644\n",
      "\n",
      "    accuracy                           0.53      1228\n",
      "   macro avg       0.64      0.55      0.45      1228\n",
      "weighted avg       0.65      0.53      0.44      1228\n",
      "\n"
     ]
    }
   ],
   "source": [
    "avgs = cv_calibration(new_X_train_upsampled_scaled, new_X_test_upsampled_scaled, new_y_train_upsampled, y_test)"
   ]
  },
  {
   "cell_type": "code",
   "execution_count": 244,
   "metadata": {},
   "outputs": [],
   "source": [
    "# Warning explanation: for some ranges of probability there are no applications, \n",
    "# so this is why the above warning appeared."
   ]
  },
  {
   "cell_type": "code",
   "execution_count": 247,
   "metadata": {},
   "outputs": [
    {
     "name": "stdout",
     "output_type": "stream",
     "text": [
      "[0.752952658059041, 0.7085423634336678, 0.6711211706066268, 0.6341543659077601, 0.55366193654046, 0.499346450863736, 0.4069969540335573, 0.36240601503759395, 0.2643732611474547, nan]\n"
     ]
    }
   ],
   "source": [
    "#Averages true classes for predicted P ranges 0-0.1 to 0.9-1\n",
    "print(avgs)"
   ]
  },
  {
   "cell_type": "markdown",
   "metadata": {},
   "source": [
    "<div style=\"float:left\"><a href=\"#TOC\">Table of contents</a></div>\n",
    "<a name=\"plot_calib\"></a>\n",
    "\n",
    "### Plot cross-validated calibration"
   ]
  },
  {
   "cell_type": "code",
   "execution_count": 248,
   "metadata": {},
   "outputs": [
    {
     "data": {
      "image/png": "[encoded data removed]",
      "text/plain": [
       "<Figure size 1080x504 with 1 Axes>"
      ]
     },
     "metadata": {
      "needs_background": "light"
     },
     "output_type": "display_data"
    },
    {
     "data": {
      "text/plain": [
       "<Figure size 432x288 with 0 Axes>"
      ]
     },
     "metadata": {},
     "output_type": "display_data"
    }
   ],
   "source": [
    "ranges = ['0 - 0.1', '0.1 - 0.2', '0.2 - 0.3', '0.3 -0.4', '0.4 - 0.5', '0.5 - 0,6',\n",
    "           '0.6 - 0.7', '0.7 - 0.8', '0.8 - 0.9', '0.9 - 1']\n",
    "avg_ranges = [0.05, 0.15, 0.25, 0.35, 0.45, 0.55, 0.65, 0.75, 0.85, 0.95]\n",
    "means = [(1-avgs[0]), (1-avgs[1]), (1-avgs[2]), (1-avgs[3]), (1-avgs[4]), (1-avgs[5]), \n",
    "         (1-avgs[6]), (1-avgs[7]), (1-avgs[8]), (1-avgs[9])]\n",
    "plt.figure(figsize=(15, 7))\n",
    "plt.bar(ranges, avg_ranges, align='center', alpha=0.5)\n",
    "plt.plot(means, 'r', marker='o')\n",
    "plt.legend(['Actual default rate'])\n",
    "plt.ylabel('Predicted probability')\n",
    "plt.xlabel('Ranges of predicted probability')\n",
    "plt.title('Calibration check')\n",
    "\n",
    "plt.show()\n",
    "plt.savefig('graphs/calibration_check.png')"
   ]
  },
  {
   "cell_type": "markdown",
   "metadata": {},
   "source": [
    "#### There are not a lot of observations in 0.9 - 1 range comparing to the other ranges, that might explain that predicted and actual probability don't match"
   ]
  },
  {
   "cell_type": "code",
   "execution_count": null,
   "metadata": {},
   "outputs": [],
   "source": []
  }
 ],
 "metadata": {
  "kernelspec": {
   "display_name": "Python 3",
   "language": "python",
   "name": "python3"
  },
  "language_info": {
   "codemirror_mode": {
    "name": "ipython",
    "version": 3
   },
   "file_extension": ".py",
   "mimetype": "text/x-python",
   "name": "python",
   "nbconvert_exporter": "python",
   "pygments_lexer": "ipython3",
   "version": "3.7.1"
  }
 },
 "nbformat": 4,
 "nbformat_minor": 2
}
